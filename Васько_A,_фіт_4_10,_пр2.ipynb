{
  "cells": [
    {
      "cell_type": "markdown",
      "metadata": {
        "id": "view-in-github",
        "colab_type": "text"
      },
      "source": [
        "<a href=\"https://colab.research.google.com/github/anastasiia-vsk/Start-into-ML/blob/main/%D0%92%D0%B0%D1%81%D1%8C%D0%BA%D0%BE_A%2C_%D1%84%D1%96%D1%82_4_10%2C_%D0%BF%D1%802.ipynb\" target=\"_parent\"><img src=\"https://colab.research.google.com/assets/colab-badge.svg\" alt=\"Open In Colab\"/></a>"
      ]
    },
    {
      "cell_type": "markdown",
      "source": [
        "## Лабораторна робота 2.\n",
        "### Аналіз даних. Бібліотека Pandas"
      ],
      "metadata": {
        "id": "FFpNmiCDoudO"
      },
      "id": "FFpNmiCDoudO"
    },
    {
      "cell_type": "code",
      "execution_count": 3,
      "id": "c73d3d82-948b-4236-b7b7-64d0d701a42f",
      "metadata": {
        "id": "c73d3d82-948b-4236-b7b7-64d0d701a42f"
      },
      "outputs": [],
      "source": [
        "import pandas as pd\n",
        "import numpy as np\n",
        "import seaborn as sns\n",
        "import plotly.express as px\n",
        "import matplotlib.pyplot as plt"
      ]
    },
    {
      "cell_type": "markdown",
      "id": "0a97ddfa-b501-47bd-ac4f-35e18e922502",
      "metadata": {
        "id": "0a97ddfa-b501-47bd-ac4f-35e18e922502"
      },
      "source": [
        "### Завдання 1\n"
      ]
    },
    {
      "cell_type": "code",
      "execution_count": 4,
      "id": "a7fa3c9e-059c-4f36-85e8-43322e2515c2",
      "metadata": {
        "id": "a7fa3c9e-059c-4f36-85e8-43322e2515c2"
      },
      "outputs": [],
      "source": [
        "url = 'https://en.wikipedia.org/wiki/List_of_countries_by_GDP_(nominal)'"
      ]
    },
    {
      "cell_type": "code",
      "execution_count": 5,
      "id": "7061677d-aeda-4fd1-8641-27323129f4ac",
      "metadata": {
        "id": "7061677d-aeda-4fd1-8641-27323129f4ac"
      },
      "outputs": [],
      "source": [
        "tables = pd.read_html(url)\n",
        "df = tables[2]"
      ]
    },
    {
      "cell_type": "markdown",
      "id": "7b7f8112-4f22-45d2-b082-e84e443f5e46",
      "metadata": {
        "id": "7b7f8112-4f22-45d2-b082-e84e443f5e46"
      },
      "source": [
        "1. Вивести 5 перших рядків\n"
      ]
    },
    {
      "cell_type": "code",
      "execution_count": 6,
      "id": "f3f65841-f326-47b7-97cb-712202277ab6",
      "metadata": {
        "colab": {
          "base_uri": "https://localhost:8080/",
          "height": 235
        },
        "id": "f3f65841-f326-47b7-97cb-712202277ab6",
        "outputId": "4e656b72-b966-4e30-cfc9-36432aa0c8aa"
      },
      "outputs": [
        {
          "output_type": "execute_result",
          "data": {
            "text/plain": [
              "  Country/Territory IMF[1][13]            World Bank[14]             \\\n",
              "  Country/Territory   Forecast       Year       Estimate       Year   \n",
              "0             World  109529216       2024      105435540       2023   \n",
              "1     United States   28781083       2024       27360935       2023   \n",
              "2             China   18532633  [n 1]2024       17794782  [n 3]2023   \n",
              "3           Germany    4591100       2024        4456081       2023   \n",
              "4             Japan    4110452       2024        4212945       2023   \n",
              "\n",
              "  United Nations[15]             \n",
              "            Estimate       Year  \n",
              "0          100834796       2022  \n",
              "1           25744100       2022  \n",
              "2           17963170  [n 1]2022  \n",
              "3            4076923       2022  \n",
              "4            4232173       2022  "
            ],
            "text/html": [
              "\n",
              "  <div id=\"df-40f9be29-2715-4b7f-9a66-a84c2e8dd242\" class=\"colab-df-container\">\n",
              "    <div>\n",
              "<style scoped>\n",
              "    .dataframe tbody tr th:only-of-type {\n",
              "        vertical-align: middle;\n",
              "    }\n",
              "\n",
              "    .dataframe tbody tr th {\n",
              "        vertical-align: top;\n",
              "    }\n",
              "\n",
              "    .dataframe thead tr th {\n",
              "        text-align: left;\n",
              "    }\n",
              "</style>\n",
              "<table border=\"1\" class=\"dataframe\">\n",
              "  <thead>\n",
              "    <tr>\n",
              "      <th></th>\n",
              "      <th>Country/Territory</th>\n",
              "      <th colspan=\"2\" halign=\"left\">IMF[1][13]</th>\n",
              "      <th colspan=\"2\" halign=\"left\">World Bank[14]</th>\n",
              "      <th colspan=\"2\" halign=\"left\">United Nations[15]</th>\n",
              "    </tr>\n",
              "    <tr>\n",
              "      <th></th>\n",
              "      <th>Country/Territory</th>\n",
              "      <th>Forecast</th>\n",
              "      <th>Year</th>\n",
              "      <th>Estimate</th>\n",
              "      <th>Year</th>\n",
              "      <th>Estimate</th>\n",
              "      <th>Year</th>\n",
              "    </tr>\n",
              "  </thead>\n",
              "  <tbody>\n",
              "    <tr>\n",
              "      <th>0</th>\n",
              "      <td>World</td>\n",
              "      <td>109529216</td>\n",
              "      <td>2024</td>\n",
              "      <td>105435540</td>\n",
              "      <td>2023</td>\n",
              "      <td>100834796</td>\n",
              "      <td>2022</td>\n",
              "    </tr>\n",
              "    <tr>\n",
              "      <th>1</th>\n",
              "      <td>United States</td>\n",
              "      <td>28781083</td>\n",
              "      <td>2024</td>\n",
              "      <td>27360935</td>\n",
              "      <td>2023</td>\n",
              "      <td>25744100</td>\n",
              "      <td>2022</td>\n",
              "    </tr>\n",
              "    <tr>\n",
              "      <th>2</th>\n",
              "      <td>China</td>\n",
              "      <td>18532633</td>\n",
              "      <td>[n 1]2024</td>\n",
              "      <td>17794782</td>\n",
              "      <td>[n 3]2023</td>\n",
              "      <td>17963170</td>\n",
              "      <td>[n 1]2022</td>\n",
              "    </tr>\n",
              "    <tr>\n",
              "      <th>3</th>\n",
              "      <td>Germany</td>\n",
              "      <td>4591100</td>\n",
              "      <td>2024</td>\n",
              "      <td>4456081</td>\n",
              "      <td>2023</td>\n",
              "      <td>4076923</td>\n",
              "      <td>2022</td>\n",
              "    </tr>\n",
              "    <tr>\n",
              "      <th>4</th>\n",
              "      <td>Japan</td>\n",
              "      <td>4110452</td>\n",
              "      <td>2024</td>\n",
              "      <td>4212945</td>\n",
              "      <td>2023</td>\n",
              "      <td>4232173</td>\n",
              "      <td>2022</td>\n",
              "    </tr>\n",
              "  </tbody>\n",
              "</table>\n",
              "</div>\n",
              "    <div class=\"colab-df-buttons\">\n",
              "\n",
              "  <div class=\"colab-df-container\">\n",
              "    <button class=\"colab-df-convert\" onclick=\"convertToInteractive('df-40f9be29-2715-4b7f-9a66-a84c2e8dd242')\"\n",
              "            title=\"Convert this dataframe to an interactive table.\"\n",
              "            style=\"display:none;\">\n",
              "\n",
              "  <svg xmlns=\"http://www.w3.org/2000/svg\" height=\"24px\" viewBox=\"0 -960 960 960\">\n",
              "    <path d=\"M120-120v-720h720v720H120Zm60-500h600v-160H180v160Zm220 220h160v-160H400v160Zm0 220h160v-160H400v160ZM180-400h160v-160H180v160Zm440 0h160v-160H620v160ZM180-180h160v-160H180v160Zm440 0h160v-160H620v160Z\"/>\n",
              "  </svg>\n",
              "    </button>\n",
              "\n",
              "  <style>\n",
              "    .colab-df-container {\n",
              "      display:flex;\n",
              "      gap: 12px;\n",
              "    }\n",
              "\n",
              "    .colab-df-convert {\n",
              "      background-color: #E8F0FE;\n",
              "      border: none;\n",
              "      border-radius: 50%;\n",
              "      cursor: pointer;\n",
              "      display: none;\n",
              "      fill: #1967D2;\n",
              "      height: 32px;\n",
              "      padding: 0 0 0 0;\n",
              "      width: 32px;\n",
              "    }\n",
              "\n",
              "    .colab-df-convert:hover {\n",
              "      background-color: #E2EBFA;\n",
              "      box-shadow: 0px 1px 2px rgba(60, 64, 67, 0.3), 0px 1px 3px 1px rgba(60, 64, 67, 0.15);\n",
              "      fill: #174EA6;\n",
              "    }\n",
              "\n",
              "    .colab-df-buttons div {\n",
              "      margin-bottom: 4px;\n",
              "    }\n",
              "\n",
              "    [theme=dark] .colab-df-convert {\n",
              "      background-color: #3B4455;\n",
              "      fill: #D2E3FC;\n",
              "    }\n",
              "\n",
              "    [theme=dark] .colab-df-convert:hover {\n",
              "      background-color: #434B5C;\n",
              "      box-shadow: 0px 1px 3px 1px rgba(0, 0, 0, 0.15);\n",
              "      filter: drop-shadow(0px 1px 2px rgba(0, 0, 0, 0.3));\n",
              "      fill: #FFFFFF;\n",
              "    }\n",
              "  </style>\n",
              "\n",
              "    <script>\n",
              "      const buttonEl =\n",
              "        document.querySelector('#df-40f9be29-2715-4b7f-9a66-a84c2e8dd242 button.colab-df-convert');\n",
              "      buttonEl.style.display =\n",
              "        google.colab.kernel.accessAllowed ? 'block' : 'none';\n",
              "\n",
              "      async function convertToInteractive(key) {\n",
              "        const element = document.querySelector('#df-40f9be29-2715-4b7f-9a66-a84c2e8dd242');\n",
              "        const dataTable =\n",
              "          await google.colab.kernel.invokeFunction('convertToInteractive',\n",
              "                                                    [key], {});\n",
              "        if (!dataTable) return;\n",
              "\n",
              "        const docLinkHtml = 'Like what you see? Visit the ' +\n",
              "          '<a target=\"_blank\" href=https://colab.research.google.com/notebooks/data_table.ipynb>data table notebook</a>'\n",
              "          + ' to learn more about interactive tables.';\n",
              "        element.innerHTML = '';\n",
              "        dataTable['output_type'] = 'display_data';\n",
              "        await google.colab.output.renderOutput(dataTable, element);\n",
              "        const docLink = document.createElement('div');\n",
              "        docLink.innerHTML = docLinkHtml;\n",
              "        element.appendChild(docLink);\n",
              "      }\n",
              "    </script>\n",
              "  </div>\n",
              "\n",
              "\n",
              "<div id=\"df-21d23441-482c-4cfd-b0d6-4136eb4d16bc\">\n",
              "  <button class=\"colab-df-quickchart\" onclick=\"quickchart('df-21d23441-482c-4cfd-b0d6-4136eb4d16bc')\"\n",
              "            title=\"Suggest charts\"\n",
              "            style=\"display:none;\">\n",
              "\n",
              "<svg xmlns=\"http://www.w3.org/2000/svg\" height=\"24px\"viewBox=\"0 0 24 24\"\n",
              "     width=\"24px\">\n",
              "    <g>\n",
              "        <path d=\"M19 3H5c-1.1 0-2 .9-2 2v14c0 1.1.9 2 2 2h14c1.1 0 2-.9 2-2V5c0-1.1-.9-2-2-2zM9 17H7v-7h2v7zm4 0h-2V7h2v10zm4 0h-2v-4h2v4z\"/>\n",
              "    </g>\n",
              "</svg>\n",
              "  </button>\n",
              "\n",
              "<style>\n",
              "  .colab-df-quickchart {\n",
              "      --bg-color: #E8F0FE;\n",
              "      --fill-color: #1967D2;\n",
              "      --hover-bg-color: #E2EBFA;\n",
              "      --hover-fill-color: #174EA6;\n",
              "      --disabled-fill-color: #AAA;\n",
              "      --disabled-bg-color: #DDD;\n",
              "  }\n",
              "\n",
              "  [theme=dark] .colab-df-quickchart {\n",
              "      --bg-color: #3B4455;\n",
              "      --fill-color: #D2E3FC;\n",
              "      --hover-bg-color: #434B5C;\n",
              "      --hover-fill-color: #FFFFFF;\n",
              "      --disabled-bg-color: #3B4455;\n",
              "      --disabled-fill-color: #666;\n",
              "  }\n",
              "\n",
              "  .colab-df-quickchart {\n",
              "    background-color: var(--bg-color);\n",
              "    border: none;\n",
              "    border-radius: 50%;\n",
              "    cursor: pointer;\n",
              "    display: none;\n",
              "    fill: var(--fill-color);\n",
              "    height: 32px;\n",
              "    padding: 0;\n",
              "    width: 32px;\n",
              "  }\n",
              "\n",
              "  .colab-df-quickchart:hover {\n",
              "    background-color: var(--hover-bg-color);\n",
              "    box-shadow: 0 1px 2px rgba(60, 64, 67, 0.3), 0 1px 3px 1px rgba(60, 64, 67, 0.15);\n",
              "    fill: var(--button-hover-fill-color);\n",
              "  }\n",
              "\n",
              "  .colab-df-quickchart-complete:disabled,\n",
              "  .colab-df-quickchart-complete:disabled:hover {\n",
              "    background-color: var(--disabled-bg-color);\n",
              "    fill: var(--disabled-fill-color);\n",
              "    box-shadow: none;\n",
              "  }\n",
              "\n",
              "  .colab-df-spinner {\n",
              "    border: 2px solid var(--fill-color);\n",
              "    border-color: transparent;\n",
              "    border-bottom-color: var(--fill-color);\n",
              "    animation:\n",
              "      spin 1s steps(1) infinite;\n",
              "  }\n",
              "\n",
              "  @keyframes spin {\n",
              "    0% {\n",
              "      border-color: transparent;\n",
              "      border-bottom-color: var(--fill-color);\n",
              "      border-left-color: var(--fill-color);\n",
              "    }\n",
              "    20% {\n",
              "      border-color: transparent;\n",
              "      border-left-color: var(--fill-color);\n",
              "      border-top-color: var(--fill-color);\n",
              "    }\n",
              "    30% {\n",
              "      border-color: transparent;\n",
              "      border-left-color: var(--fill-color);\n",
              "      border-top-color: var(--fill-color);\n",
              "      border-right-color: var(--fill-color);\n",
              "    }\n",
              "    40% {\n",
              "      border-color: transparent;\n",
              "      border-right-color: var(--fill-color);\n",
              "      border-top-color: var(--fill-color);\n",
              "    }\n",
              "    60% {\n",
              "      border-color: transparent;\n",
              "      border-right-color: var(--fill-color);\n",
              "    }\n",
              "    80% {\n",
              "      border-color: transparent;\n",
              "      border-right-color: var(--fill-color);\n",
              "      border-bottom-color: var(--fill-color);\n",
              "    }\n",
              "    90% {\n",
              "      border-color: transparent;\n",
              "      border-bottom-color: var(--fill-color);\n",
              "    }\n",
              "  }\n",
              "</style>\n",
              "\n",
              "  <script>\n",
              "    async function quickchart(key) {\n",
              "      const quickchartButtonEl =\n",
              "        document.querySelector('#' + key + ' button');\n",
              "      quickchartButtonEl.disabled = true;  // To prevent multiple clicks.\n",
              "      quickchartButtonEl.classList.add('colab-df-spinner');\n",
              "      try {\n",
              "        const charts = await google.colab.kernel.invokeFunction(\n",
              "            'suggestCharts', [key], {});\n",
              "      } catch (error) {\n",
              "        console.error('Error during call to suggestCharts:', error);\n",
              "      }\n",
              "      quickchartButtonEl.classList.remove('colab-df-spinner');\n",
              "      quickchartButtonEl.classList.add('colab-df-quickchart-complete');\n",
              "    }\n",
              "    (() => {\n",
              "      let quickchartButtonEl =\n",
              "        document.querySelector('#df-21d23441-482c-4cfd-b0d6-4136eb4d16bc button');\n",
              "      quickchartButtonEl.style.display =\n",
              "        google.colab.kernel.accessAllowed ? 'block' : 'none';\n",
              "    })();\n",
              "  </script>\n",
              "</div>\n",
              "    </div>\n",
              "  </div>\n"
            ],
            "application/vnd.google.colaboratory.intrinsic+json": {
              "type": "dataframe",
              "variable_name": "df",
              "summary": "{\n  \"name\": \"df\",\n  \"rows\": 210,\n  \"fields\": [\n    {\n      \"column\": [\n        \"Country/Territory\",\n        \"Country/Territory\"\n      ],\n      \"properties\": {\n        \"dtype\": \"string\",\n        \"num_unique_values\": 210,\n        \"samples\": [\n          \"United Arab Emirates\",\n          \"Suriname\",\n          \"Azerbaijan\"\n        ],\n        \"semantic_type\": \"\",\n        \"description\": \"\"\n      }\n    },\n    {\n      \"column\": [\n        \"IMF[1][13]\",\n        \"Forecast\"\n      ],\n      \"properties\": {\n        \"dtype\": \"string\",\n        \"num_unique_values\": 196,\n        \"samples\": [\n          \"15873\",\n          \"29078\",\n          \"1475690\"\n        ],\n        \"semantic_type\": \"\",\n        \"description\": \"\"\n      }\n    },\n    {\n      \"column\": [\n        \"IMF[1][13]\",\n        \"Year\"\n      ],\n      \"properties\": {\n        \"dtype\": \"category\",\n        \"num_unique_values\": 13,\n        \"samples\": [\n          \"[n 12]2023\",\n          \"[n 10]2024\",\n          \"2024\"\n        ],\n        \"semantic_type\": \"\",\n        \"description\": \"\"\n      }\n    },\n    {\n      \"column\": [\n        \"World Bank[14]\",\n        \"Estimate\"\n      ],\n      \"properties\": {\n        \"dtype\": \"string\",\n        \"num_unique_values\": 203,\n        \"samples\": [\n          \"1580695\",\n          \"2254851\",\n          \"22978\"\n        ],\n        \"semantic_type\": \"\",\n        \"description\": \"\"\n      }\n    },\n    {\n      \"column\": [\n        \"World Bank[14]\",\n        \"Year\"\n      ],\n      \"properties\": {\n        \"dtype\": \"category\",\n        \"num_unique_values\": 10,\n        \"samples\": [\n          \"[n 14]2023\",\n          \"[n 3]2023\",\n          \"[n 10]2023\"\n        ],\n        \"semantic_type\": \"\",\n        \"description\": \"\"\n      }\n    },\n    {\n      \"column\": [\n        \"United Nations[15]\",\n        \"Estimate\"\n      ],\n      \"properties\": {\n        \"dtype\": \"string\",\n        \"num_unique_values\": 210,\n        \"samples\": [\n          \"507063\",\n          \"3620\",\n          \"78721\"\n        ],\n        \"semantic_type\": \"\",\n        \"description\": \"\"\n      }\n    },\n    {\n      \"column\": [\n        \"United Nations[15]\",\n        \"Year\"\n      ],\n      \"properties\": {\n        \"dtype\": \"category\",\n        \"num_unique_values\": 10,\n        \"samples\": [\n          \"[n 13]2022\",\n          \"[n 1]2022\",\n          \"[n 8]2022\"\n        ],\n        \"semantic_type\": \"\",\n        \"description\": \"\"\n      }\n    }\n  ]\n}"
            }
          },
          "metadata": {},
          "execution_count": 6
        }
      ],
      "source": [
        "df.head(5)"
      ]
    },
    {
      "cell_type": "markdown",
      "id": "9eb7aaf9-41dd-4e9e-932a-e5094a391fac",
      "metadata": {
        "id": "9eb7aaf9-41dd-4e9e-932a-e5094a391fac"
      },
      "source": [
        "2. Визначити розмір датасета"
      ]
    },
    {
      "cell_type": "code",
      "execution_count": 7,
      "id": "81230b05-f869-46ae-a857-34744a39e302",
      "metadata": {
        "colab": {
          "base_uri": "https://localhost:8080/"
        },
        "id": "81230b05-f869-46ae-a857-34744a39e302",
        "outputId": "eebf4bc0-2b07-47a6-c272-2f3bf1c07a5c"
      },
      "outputs": [
        {
          "output_type": "execute_result",
          "data": {
            "text/plain": [
              "(210, 7)"
            ]
          },
          "metadata": {},
          "execution_count": 7
        }
      ],
      "source": [
        "df.shape"
      ]
    },
    {
      "cell_type": "markdown",
      "id": "46e99f7a-99ab-48b7-a21a-9b1a067beeae",
      "metadata": {
        "id": "46e99f7a-99ab-48b7-a21a-9b1a067beeae"
      },
      "source": [
        "3. Визначити оптимальну кількість стовпців датасета"
      ]
    },
    {
      "cell_type": "code",
      "execution_count": 8,
      "id": "a99bba6d-70c0-4ad7-96d2-502c5ca5a7e6",
      "metadata": {
        "colab": {
          "base_uri": "https://localhost:8080/"
        },
        "id": "a99bba6d-70c0-4ad7-96d2-502c5ca5a7e6",
        "outputId": "20485450-664b-4fc5-b433-b12f46286130"
      },
      "outputs": [
        {
          "output_type": "execute_result",
          "data": {
            "text/plain": [
              "MultiIndex([( 'Country/Territory', 'Country/Territory'),\n",
              "            (        'IMF[1][13]',          'Forecast'),\n",
              "            (        'IMF[1][13]',              'Year'),\n",
              "            (    'World Bank[14]',          'Estimate'),\n",
              "            (    'World Bank[14]',              'Year'),\n",
              "            ('United Nations[15]',          'Estimate'),\n",
              "            ('United Nations[15]',              'Year')],\n",
              "           )"
            ]
          },
          "metadata": {},
          "execution_count": 8
        }
      ],
      "source": [
        "df.columns"
      ]
    },
    {
      "cell_type": "code",
      "execution_count": 9,
      "id": "233bd415-b0fc-46e1-92a3-3d48cee08bca",
      "metadata": {
        "colab": {
          "base_uri": "https://localhost:8080/"
        },
        "id": "233bd415-b0fc-46e1-92a3-3d48cee08bca",
        "outputId": "939fdc7c-53a0-4340-aaec-2f00aa508d50"
      },
      "outputs": [
        {
          "output_type": "execute_result",
          "data": {
            "text/plain": [
              "7"
            ]
          },
          "metadata": {},
          "execution_count": 9
        }
      ],
      "source": [
        "len(df.columns)"
      ]
    },
    {
      "cell_type": "markdown",
      "id": "2784ddd0-24a1-4600-8dc4-425f65c4b760",
      "metadata": {
        "id": "2784ddd0-24a1-4600-8dc4-425f65c4b760"
      },
      "source": [
        "4. Змінити назви стовпців на більш зручні"
      ]
    },
    {
      "cell_type": "code",
      "execution_count": 10,
      "id": "e11025b8-72ad-42d5-b2a3-3671bcd70f03",
      "metadata": {
        "colab": {
          "base_uri": "https://localhost:8080/",
          "height": 204
        },
        "id": "e11025b8-72ad-42d5-b2a3-3671bcd70f03",
        "outputId": "498edab9-083b-4b99-f360-0c1357795b57"
      },
      "outputs": [
        {
          "output_type": "execute_result",
          "data": {
            "text/plain": [
              "         Country IMF_Forecast   IMF_Year WorldBank_Estimate WorldBank_Year  \\\n",
              "0          World    109529216       2024          105435540           2023   \n",
              "1  United States     28781083       2024           27360935           2023   \n",
              "2          China     18532633  [n 1]2024           17794782      [n 3]2023   \n",
              "3        Germany      4591100       2024            4456081           2023   \n",
              "4          Japan      4110452       2024            4212945           2023   \n",
              "\n",
              "  UN_Estimate    UN_Year  \n",
              "0   100834796       2022  \n",
              "1    25744100       2022  \n",
              "2    17963170  [n 1]2022  \n",
              "3     4076923       2022  \n",
              "4     4232173       2022  "
            ],
            "text/html": [
              "\n",
              "  <div id=\"df-a7346c0c-41eb-4879-bd39-573a4f4db00a\" class=\"colab-df-container\">\n",
              "    <div>\n",
              "<style scoped>\n",
              "    .dataframe tbody tr th:only-of-type {\n",
              "        vertical-align: middle;\n",
              "    }\n",
              "\n",
              "    .dataframe tbody tr th {\n",
              "        vertical-align: top;\n",
              "    }\n",
              "\n",
              "    .dataframe thead th {\n",
              "        text-align: right;\n",
              "    }\n",
              "</style>\n",
              "<table border=\"1\" class=\"dataframe\">\n",
              "  <thead>\n",
              "    <tr style=\"text-align: right;\">\n",
              "      <th></th>\n",
              "      <th>Country</th>\n",
              "      <th>IMF_Forecast</th>\n",
              "      <th>IMF_Year</th>\n",
              "      <th>WorldBank_Estimate</th>\n",
              "      <th>WorldBank_Year</th>\n",
              "      <th>UN_Estimate</th>\n",
              "      <th>UN_Year</th>\n",
              "    </tr>\n",
              "  </thead>\n",
              "  <tbody>\n",
              "    <tr>\n",
              "      <th>0</th>\n",
              "      <td>World</td>\n",
              "      <td>109529216</td>\n",
              "      <td>2024</td>\n",
              "      <td>105435540</td>\n",
              "      <td>2023</td>\n",
              "      <td>100834796</td>\n",
              "      <td>2022</td>\n",
              "    </tr>\n",
              "    <tr>\n",
              "      <th>1</th>\n",
              "      <td>United States</td>\n",
              "      <td>28781083</td>\n",
              "      <td>2024</td>\n",
              "      <td>27360935</td>\n",
              "      <td>2023</td>\n",
              "      <td>25744100</td>\n",
              "      <td>2022</td>\n",
              "    </tr>\n",
              "    <tr>\n",
              "      <th>2</th>\n",
              "      <td>China</td>\n",
              "      <td>18532633</td>\n",
              "      <td>[n 1]2024</td>\n",
              "      <td>17794782</td>\n",
              "      <td>[n 3]2023</td>\n",
              "      <td>17963170</td>\n",
              "      <td>[n 1]2022</td>\n",
              "    </tr>\n",
              "    <tr>\n",
              "      <th>3</th>\n",
              "      <td>Germany</td>\n",
              "      <td>4591100</td>\n",
              "      <td>2024</td>\n",
              "      <td>4456081</td>\n",
              "      <td>2023</td>\n",
              "      <td>4076923</td>\n",
              "      <td>2022</td>\n",
              "    </tr>\n",
              "    <tr>\n",
              "      <th>4</th>\n",
              "      <td>Japan</td>\n",
              "      <td>4110452</td>\n",
              "      <td>2024</td>\n",
              "      <td>4212945</td>\n",
              "      <td>2023</td>\n",
              "      <td>4232173</td>\n",
              "      <td>2022</td>\n",
              "    </tr>\n",
              "  </tbody>\n",
              "</table>\n",
              "</div>\n",
              "    <div class=\"colab-df-buttons\">\n",
              "\n",
              "  <div class=\"colab-df-container\">\n",
              "    <button class=\"colab-df-convert\" onclick=\"convertToInteractive('df-a7346c0c-41eb-4879-bd39-573a4f4db00a')\"\n",
              "            title=\"Convert this dataframe to an interactive table.\"\n",
              "            style=\"display:none;\">\n",
              "\n",
              "  <svg xmlns=\"http://www.w3.org/2000/svg\" height=\"24px\" viewBox=\"0 -960 960 960\">\n",
              "    <path d=\"M120-120v-720h720v720H120Zm60-500h600v-160H180v160Zm220 220h160v-160H400v160Zm0 220h160v-160H400v160ZM180-400h160v-160H180v160Zm440 0h160v-160H620v160ZM180-180h160v-160H180v160Zm440 0h160v-160H620v160Z\"/>\n",
              "  </svg>\n",
              "    </button>\n",
              "\n",
              "  <style>\n",
              "    .colab-df-container {\n",
              "      display:flex;\n",
              "      gap: 12px;\n",
              "    }\n",
              "\n",
              "    .colab-df-convert {\n",
              "      background-color: #E8F0FE;\n",
              "      border: none;\n",
              "      border-radius: 50%;\n",
              "      cursor: pointer;\n",
              "      display: none;\n",
              "      fill: #1967D2;\n",
              "      height: 32px;\n",
              "      padding: 0 0 0 0;\n",
              "      width: 32px;\n",
              "    }\n",
              "\n",
              "    .colab-df-convert:hover {\n",
              "      background-color: #E2EBFA;\n",
              "      box-shadow: 0px 1px 2px rgba(60, 64, 67, 0.3), 0px 1px 3px 1px rgba(60, 64, 67, 0.15);\n",
              "      fill: #174EA6;\n",
              "    }\n",
              "\n",
              "    .colab-df-buttons div {\n",
              "      margin-bottom: 4px;\n",
              "    }\n",
              "\n",
              "    [theme=dark] .colab-df-convert {\n",
              "      background-color: #3B4455;\n",
              "      fill: #D2E3FC;\n",
              "    }\n",
              "\n",
              "    [theme=dark] .colab-df-convert:hover {\n",
              "      background-color: #434B5C;\n",
              "      box-shadow: 0px 1px 3px 1px rgba(0, 0, 0, 0.15);\n",
              "      filter: drop-shadow(0px 1px 2px rgba(0, 0, 0, 0.3));\n",
              "      fill: #FFFFFF;\n",
              "    }\n",
              "  </style>\n",
              "\n",
              "    <script>\n",
              "      const buttonEl =\n",
              "        document.querySelector('#df-a7346c0c-41eb-4879-bd39-573a4f4db00a button.colab-df-convert');\n",
              "      buttonEl.style.display =\n",
              "        google.colab.kernel.accessAllowed ? 'block' : 'none';\n",
              "\n",
              "      async function convertToInteractive(key) {\n",
              "        const element = document.querySelector('#df-a7346c0c-41eb-4879-bd39-573a4f4db00a');\n",
              "        const dataTable =\n",
              "          await google.colab.kernel.invokeFunction('convertToInteractive',\n",
              "                                                    [key], {});\n",
              "        if (!dataTable) return;\n",
              "\n",
              "        const docLinkHtml = 'Like what you see? Visit the ' +\n",
              "          '<a target=\"_blank\" href=https://colab.research.google.com/notebooks/data_table.ipynb>data table notebook</a>'\n",
              "          + ' to learn more about interactive tables.';\n",
              "        element.innerHTML = '';\n",
              "        dataTable['output_type'] = 'display_data';\n",
              "        await google.colab.output.renderOutput(dataTable, element);\n",
              "        const docLink = document.createElement('div');\n",
              "        docLink.innerHTML = docLinkHtml;\n",
              "        element.appendChild(docLink);\n",
              "      }\n",
              "    </script>\n",
              "  </div>\n",
              "\n",
              "\n",
              "<div id=\"df-208528ff-46b9-427a-ac7a-29d544d9f390\">\n",
              "  <button class=\"colab-df-quickchart\" onclick=\"quickchart('df-208528ff-46b9-427a-ac7a-29d544d9f390')\"\n",
              "            title=\"Suggest charts\"\n",
              "            style=\"display:none;\">\n",
              "\n",
              "<svg xmlns=\"http://www.w3.org/2000/svg\" height=\"24px\"viewBox=\"0 0 24 24\"\n",
              "     width=\"24px\">\n",
              "    <g>\n",
              "        <path d=\"M19 3H5c-1.1 0-2 .9-2 2v14c0 1.1.9 2 2 2h14c1.1 0 2-.9 2-2V5c0-1.1-.9-2-2-2zM9 17H7v-7h2v7zm4 0h-2V7h2v10zm4 0h-2v-4h2v4z\"/>\n",
              "    </g>\n",
              "</svg>\n",
              "  </button>\n",
              "\n",
              "<style>\n",
              "  .colab-df-quickchart {\n",
              "      --bg-color: #E8F0FE;\n",
              "      --fill-color: #1967D2;\n",
              "      --hover-bg-color: #E2EBFA;\n",
              "      --hover-fill-color: #174EA6;\n",
              "      --disabled-fill-color: #AAA;\n",
              "      --disabled-bg-color: #DDD;\n",
              "  }\n",
              "\n",
              "  [theme=dark] .colab-df-quickchart {\n",
              "      --bg-color: #3B4455;\n",
              "      --fill-color: #D2E3FC;\n",
              "      --hover-bg-color: #434B5C;\n",
              "      --hover-fill-color: #FFFFFF;\n",
              "      --disabled-bg-color: #3B4455;\n",
              "      --disabled-fill-color: #666;\n",
              "  }\n",
              "\n",
              "  .colab-df-quickchart {\n",
              "    background-color: var(--bg-color);\n",
              "    border: none;\n",
              "    border-radius: 50%;\n",
              "    cursor: pointer;\n",
              "    display: none;\n",
              "    fill: var(--fill-color);\n",
              "    height: 32px;\n",
              "    padding: 0;\n",
              "    width: 32px;\n",
              "  }\n",
              "\n",
              "  .colab-df-quickchart:hover {\n",
              "    background-color: var(--hover-bg-color);\n",
              "    box-shadow: 0 1px 2px rgba(60, 64, 67, 0.3), 0 1px 3px 1px rgba(60, 64, 67, 0.15);\n",
              "    fill: var(--button-hover-fill-color);\n",
              "  }\n",
              "\n",
              "  .colab-df-quickchart-complete:disabled,\n",
              "  .colab-df-quickchart-complete:disabled:hover {\n",
              "    background-color: var(--disabled-bg-color);\n",
              "    fill: var(--disabled-fill-color);\n",
              "    box-shadow: none;\n",
              "  }\n",
              "\n",
              "  .colab-df-spinner {\n",
              "    border: 2px solid var(--fill-color);\n",
              "    border-color: transparent;\n",
              "    border-bottom-color: var(--fill-color);\n",
              "    animation:\n",
              "      spin 1s steps(1) infinite;\n",
              "  }\n",
              "\n",
              "  @keyframes spin {\n",
              "    0% {\n",
              "      border-color: transparent;\n",
              "      border-bottom-color: var(--fill-color);\n",
              "      border-left-color: var(--fill-color);\n",
              "    }\n",
              "    20% {\n",
              "      border-color: transparent;\n",
              "      border-left-color: var(--fill-color);\n",
              "      border-top-color: var(--fill-color);\n",
              "    }\n",
              "    30% {\n",
              "      border-color: transparent;\n",
              "      border-left-color: var(--fill-color);\n",
              "      border-top-color: var(--fill-color);\n",
              "      border-right-color: var(--fill-color);\n",
              "    }\n",
              "    40% {\n",
              "      border-color: transparent;\n",
              "      border-right-color: var(--fill-color);\n",
              "      border-top-color: var(--fill-color);\n",
              "    }\n",
              "    60% {\n",
              "      border-color: transparent;\n",
              "      border-right-color: var(--fill-color);\n",
              "    }\n",
              "    80% {\n",
              "      border-color: transparent;\n",
              "      border-right-color: var(--fill-color);\n",
              "      border-bottom-color: var(--fill-color);\n",
              "    }\n",
              "    90% {\n",
              "      border-color: transparent;\n",
              "      border-bottom-color: var(--fill-color);\n",
              "    }\n",
              "  }\n",
              "</style>\n",
              "\n",
              "  <script>\n",
              "    async function quickchart(key) {\n",
              "      const quickchartButtonEl =\n",
              "        document.querySelector('#' + key + ' button');\n",
              "      quickchartButtonEl.disabled = true;  // To prevent multiple clicks.\n",
              "      quickchartButtonEl.classList.add('colab-df-spinner');\n",
              "      try {\n",
              "        const charts = await google.colab.kernel.invokeFunction(\n",
              "            'suggestCharts', [key], {});\n",
              "      } catch (error) {\n",
              "        console.error('Error during call to suggestCharts:', error);\n",
              "      }\n",
              "      quickchartButtonEl.classList.remove('colab-df-spinner');\n",
              "      quickchartButtonEl.classList.add('colab-df-quickchart-complete');\n",
              "    }\n",
              "    (() => {\n",
              "      let quickchartButtonEl =\n",
              "        document.querySelector('#df-208528ff-46b9-427a-ac7a-29d544d9f390 button');\n",
              "      quickchartButtonEl.style.display =\n",
              "        google.colab.kernel.accessAllowed ? 'block' : 'none';\n",
              "    })();\n",
              "  </script>\n",
              "</div>\n",
              "    </div>\n",
              "  </div>\n"
            ],
            "application/vnd.google.colaboratory.intrinsic+json": {
              "type": "dataframe",
              "variable_name": "df",
              "summary": "{\n  \"name\": \"df\",\n  \"rows\": 210,\n  \"fields\": [\n    {\n      \"column\": \"Country\",\n      \"properties\": {\n        \"dtype\": \"string\",\n        \"num_unique_values\": 210,\n        \"samples\": [\n          \"United Arab Emirates\",\n          \"Suriname\",\n          \"Azerbaijan\"\n        ],\n        \"semantic_type\": \"\",\n        \"description\": \"\"\n      }\n    },\n    {\n      \"column\": \"IMF_Forecast\",\n      \"properties\": {\n        \"dtype\": \"string\",\n        \"num_unique_values\": 196,\n        \"samples\": [\n          \"15873\",\n          \"29078\",\n          \"1475690\"\n        ],\n        \"semantic_type\": \"\",\n        \"description\": \"\"\n      }\n    },\n    {\n      \"column\": \"IMF_Year\",\n      \"properties\": {\n        \"dtype\": \"category\",\n        \"num_unique_values\": 13,\n        \"samples\": [\n          \"[n 12]2023\",\n          \"[n 10]2024\",\n          \"2024\"\n        ],\n        \"semantic_type\": \"\",\n        \"description\": \"\"\n      }\n    },\n    {\n      \"column\": \"WorldBank_Estimate\",\n      \"properties\": {\n        \"dtype\": \"string\",\n        \"num_unique_values\": 203,\n        \"samples\": [\n          \"1580695\",\n          \"2254851\",\n          \"22978\"\n        ],\n        \"semantic_type\": \"\",\n        \"description\": \"\"\n      }\n    },\n    {\n      \"column\": \"WorldBank_Year\",\n      \"properties\": {\n        \"dtype\": \"category\",\n        \"num_unique_values\": 10,\n        \"samples\": [\n          \"[n 14]2023\",\n          \"[n 3]2023\",\n          \"[n 10]2023\"\n        ],\n        \"semantic_type\": \"\",\n        \"description\": \"\"\n      }\n    },\n    {\n      \"column\": \"UN_Estimate\",\n      \"properties\": {\n        \"dtype\": \"string\",\n        \"num_unique_values\": 210,\n        \"samples\": [\n          \"507063\",\n          \"3620\",\n          \"78721\"\n        ],\n        \"semantic_type\": \"\",\n        \"description\": \"\"\n      }\n    },\n    {\n      \"column\": \"UN_Year\",\n      \"properties\": {\n        \"dtype\": \"category\",\n        \"num_unique_values\": 10,\n        \"samples\": [\n          \"[n 13]2022\",\n          \"[n 1]2022\",\n          \"[n 8]2022\"\n        ],\n        \"semantic_type\": \"\",\n        \"description\": \"\"\n      }\n    }\n  ]\n}"
            }
          },
          "metadata": {},
          "execution_count": 10
        }
      ],
      "source": [
        "new_col = ['Country', 'IMF_Forecast', 'IMF_Year', 'WorldBank_Estimate', 'WorldBank_Year', 'UN_Estimate', 'UN_Year']\n",
        "df.columns = new_col\n",
        "df.head()"
      ]
    },
    {
      "cell_type": "code",
      "execution_count": 11,
      "id": "c6333bb3-797f-4281-a31d-dbc65f69d919",
      "metadata": {
        "colab": {
          "base_uri": "https://localhost:8080/",
          "height": 204
        },
        "id": "c6333bb3-797f-4281-a31d-dbc65f69d919",
        "outputId": "2b3fbb26-2758-4d47-c5d4-04ed5e56bbba"
      },
      "outputs": [
        {
          "output_type": "execute_result",
          "data": {
            "text/plain": [
              "         Country   MVF_2024 WorldBank_2023   OON_2022\n",
              "0          World  109529216      105435540  100834796\n",
              "1  United States   28781083       27360935   25744100\n",
              "2          China   18532633       17794782   17963170\n",
              "3        Germany    4591100        4456081    4076923\n",
              "4          Japan    4110452        4212945    4232173"
            ],
            "text/html": [
              "\n",
              "  <div id=\"df-6fad819f-e622-45b3-8871-eb86865013f4\" class=\"colab-df-container\">\n",
              "    <div>\n",
              "<style scoped>\n",
              "    .dataframe tbody tr th:only-of-type {\n",
              "        vertical-align: middle;\n",
              "    }\n",
              "\n",
              "    .dataframe tbody tr th {\n",
              "        vertical-align: top;\n",
              "    }\n",
              "\n",
              "    .dataframe thead th {\n",
              "        text-align: right;\n",
              "    }\n",
              "</style>\n",
              "<table border=\"1\" class=\"dataframe\">\n",
              "  <thead>\n",
              "    <tr style=\"text-align: right;\">\n",
              "      <th></th>\n",
              "      <th>Country</th>\n",
              "      <th>MVF_2024</th>\n",
              "      <th>WorldBank_2023</th>\n",
              "      <th>OON_2022</th>\n",
              "    </tr>\n",
              "  </thead>\n",
              "  <tbody>\n",
              "    <tr>\n",
              "      <th>0</th>\n",
              "      <td>World</td>\n",
              "      <td>109529216</td>\n",
              "      <td>105435540</td>\n",
              "      <td>100834796</td>\n",
              "    </tr>\n",
              "    <tr>\n",
              "      <th>1</th>\n",
              "      <td>United States</td>\n",
              "      <td>28781083</td>\n",
              "      <td>27360935</td>\n",
              "      <td>25744100</td>\n",
              "    </tr>\n",
              "    <tr>\n",
              "      <th>2</th>\n",
              "      <td>China</td>\n",
              "      <td>18532633</td>\n",
              "      <td>17794782</td>\n",
              "      <td>17963170</td>\n",
              "    </tr>\n",
              "    <tr>\n",
              "      <th>3</th>\n",
              "      <td>Germany</td>\n",
              "      <td>4591100</td>\n",
              "      <td>4456081</td>\n",
              "      <td>4076923</td>\n",
              "    </tr>\n",
              "    <tr>\n",
              "      <th>4</th>\n",
              "      <td>Japan</td>\n",
              "      <td>4110452</td>\n",
              "      <td>4212945</td>\n",
              "      <td>4232173</td>\n",
              "    </tr>\n",
              "  </tbody>\n",
              "</table>\n",
              "</div>\n",
              "    <div class=\"colab-df-buttons\">\n",
              "\n",
              "  <div class=\"colab-df-container\">\n",
              "    <button class=\"colab-df-convert\" onclick=\"convertToInteractive('df-6fad819f-e622-45b3-8871-eb86865013f4')\"\n",
              "            title=\"Convert this dataframe to an interactive table.\"\n",
              "            style=\"display:none;\">\n",
              "\n",
              "  <svg xmlns=\"http://www.w3.org/2000/svg\" height=\"24px\" viewBox=\"0 -960 960 960\">\n",
              "    <path d=\"M120-120v-720h720v720H120Zm60-500h600v-160H180v160Zm220 220h160v-160H400v160Zm0 220h160v-160H400v160ZM180-400h160v-160H180v160Zm440 0h160v-160H620v160ZM180-180h160v-160H180v160Zm440 0h160v-160H620v160Z\"/>\n",
              "  </svg>\n",
              "    </button>\n",
              "\n",
              "  <style>\n",
              "    .colab-df-container {\n",
              "      display:flex;\n",
              "      gap: 12px;\n",
              "    }\n",
              "\n",
              "    .colab-df-convert {\n",
              "      background-color: #E8F0FE;\n",
              "      border: none;\n",
              "      border-radius: 50%;\n",
              "      cursor: pointer;\n",
              "      display: none;\n",
              "      fill: #1967D2;\n",
              "      height: 32px;\n",
              "      padding: 0 0 0 0;\n",
              "      width: 32px;\n",
              "    }\n",
              "\n",
              "    .colab-df-convert:hover {\n",
              "      background-color: #E2EBFA;\n",
              "      box-shadow: 0px 1px 2px rgba(60, 64, 67, 0.3), 0px 1px 3px 1px rgba(60, 64, 67, 0.15);\n",
              "      fill: #174EA6;\n",
              "    }\n",
              "\n",
              "    .colab-df-buttons div {\n",
              "      margin-bottom: 4px;\n",
              "    }\n",
              "\n",
              "    [theme=dark] .colab-df-convert {\n",
              "      background-color: #3B4455;\n",
              "      fill: #D2E3FC;\n",
              "    }\n",
              "\n",
              "    [theme=dark] .colab-df-convert:hover {\n",
              "      background-color: #434B5C;\n",
              "      box-shadow: 0px 1px 3px 1px rgba(0, 0, 0, 0.15);\n",
              "      filter: drop-shadow(0px 1px 2px rgba(0, 0, 0, 0.3));\n",
              "      fill: #FFFFFF;\n",
              "    }\n",
              "  </style>\n",
              "\n",
              "    <script>\n",
              "      const buttonEl =\n",
              "        document.querySelector('#df-6fad819f-e622-45b3-8871-eb86865013f4 button.colab-df-convert');\n",
              "      buttonEl.style.display =\n",
              "        google.colab.kernel.accessAllowed ? 'block' : 'none';\n",
              "\n",
              "      async function convertToInteractive(key) {\n",
              "        const element = document.querySelector('#df-6fad819f-e622-45b3-8871-eb86865013f4');\n",
              "        const dataTable =\n",
              "          await google.colab.kernel.invokeFunction('convertToInteractive',\n",
              "                                                    [key], {});\n",
              "        if (!dataTable) return;\n",
              "\n",
              "        const docLinkHtml = 'Like what you see? Visit the ' +\n",
              "          '<a target=\"_blank\" href=https://colab.research.google.com/notebooks/data_table.ipynb>data table notebook</a>'\n",
              "          + ' to learn more about interactive tables.';\n",
              "        element.innerHTML = '';\n",
              "        dataTable['output_type'] = 'display_data';\n",
              "        await google.colab.output.renderOutput(dataTable, element);\n",
              "        const docLink = document.createElement('div');\n",
              "        docLink.innerHTML = docLinkHtml;\n",
              "        element.appendChild(docLink);\n",
              "      }\n",
              "    </script>\n",
              "  </div>\n",
              "\n",
              "\n",
              "<div id=\"df-5dce258f-ea4c-4a39-ac6c-ba6351f9030b\">\n",
              "  <button class=\"colab-df-quickchart\" onclick=\"quickchart('df-5dce258f-ea4c-4a39-ac6c-ba6351f9030b')\"\n",
              "            title=\"Suggest charts\"\n",
              "            style=\"display:none;\">\n",
              "\n",
              "<svg xmlns=\"http://www.w3.org/2000/svg\" height=\"24px\"viewBox=\"0 0 24 24\"\n",
              "     width=\"24px\">\n",
              "    <g>\n",
              "        <path d=\"M19 3H5c-1.1 0-2 .9-2 2v14c0 1.1.9 2 2 2h14c1.1 0 2-.9 2-2V5c0-1.1-.9-2-2-2zM9 17H7v-7h2v7zm4 0h-2V7h2v10zm4 0h-2v-4h2v4z\"/>\n",
              "    </g>\n",
              "</svg>\n",
              "  </button>\n",
              "\n",
              "<style>\n",
              "  .colab-df-quickchart {\n",
              "      --bg-color: #E8F0FE;\n",
              "      --fill-color: #1967D2;\n",
              "      --hover-bg-color: #E2EBFA;\n",
              "      --hover-fill-color: #174EA6;\n",
              "      --disabled-fill-color: #AAA;\n",
              "      --disabled-bg-color: #DDD;\n",
              "  }\n",
              "\n",
              "  [theme=dark] .colab-df-quickchart {\n",
              "      --bg-color: #3B4455;\n",
              "      --fill-color: #D2E3FC;\n",
              "      --hover-bg-color: #434B5C;\n",
              "      --hover-fill-color: #FFFFFF;\n",
              "      --disabled-bg-color: #3B4455;\n",
              "      --disabled-fill-color: #666;\n",
              "  }\n",
              "\n",
              "  .colab-df-quickchart {\n",
              "    background-color: var(--bg-color);\n",
              "    border: none;\n",
              "    border-radius: 50%;\n",
              "    cursor: pointer;\n",
              "    display: none;\n",
              "    fill: var(--fill-color);\n",
              "    height: 32px;\n",
              "    padding: 0;\n",
              "    width: 32px;\n",
              "  }\n",
              "\n",
              "  .colab-df-quickchart:hover {\n",
              "    background-color: var(--hover-bg-color);\n",
              "    box-shadow: 0 1px 2px rgba(60, 64, 67, 0.3), 0 1px 3px 1px rgba(60, 64, 67, 0.15);\n",
              "    fill: var(--button-hover-fill-color);\n",
              "  }\n",
              "\n",
              "  .colab-df-quickchart-complete:disabled,\n",
              "  .colab-df-quickchart-complete:disabled:hover {\n",
              "    background-color: var(--disabled-bg-color);\n",
              "    fill: var(--disabled-fill-color);\n",
              "    box-shadow: none;\n",
              "  }\n",
              "\n",
              "  .colab-df-spinner {\n",
              "    border: 2px solid var(--fill-color);\n",
              "    border-color: transparent;\n",
              "    border-bottom-color: var(--fill-color);\n",
              "    animation:\n",
              "      spin 1s steps(1) infinite;\n",
              "  }\n",
              "\n",
              "  @keyframes spin {\n",
              "    0% {\n",
              "      border-color: transparent;\n",
              "      border-bottom-color: var(--fill-color);\n",
              "      border-left-color: var(--fill-color);\n",
              "    }\n",
              "    20% {\n",
              "      border-color: transparent;\n",
              "      border-left-color: var(--fill-color);\n",
              "      border-top-color: var(--fill-color);\n",
              "    }\n",
              "    30% {\n",
              "      border-color: transparent;\n",
              "      border-left-color: var(--fill-color);\n",
              "      border-top-color: var(--fill-color);\n",
              "      border-right-color: var(--fill-color);\n",
              "    }\n",
              "    40% {\n",
              "      border-color: transparent;\n",
              "      border-right-color: var(--fill-color);\n",
              "      border-top-color: var(--fill-color);\n",
              "    }\n",
              "    60% {\n",
              "      border-color: transparent;\n",
              "      border-right-color: var(--fill-color);\n",
              "    }\n",
              "    80% {\n",
              "      border-color: transparent;\n",
              "      border-right-color: var(--fill-color);\n",
              "      border-bottom-color: var(--fill-color);\n",
              "    }\n",
              "    90% {\n",
              "      border-color: transparent;\n",
              "      border-bottom-color: var(--fill-color);\n",
              "    }\n",
              "  }\n",
              "</style>\n",
              "\n",
              "  <script>\n",
              "    async function quickchart(key) {\n",
              "      const quickchartButtonEl =\n",
              "        document.querySelector('#' + key + ' button');\n",
              "      quickchartButtonEl.disabled = true;  // To prevent multiple clicks.\n",
              "      quickchartButtonEl.classList.add('colab-df-spinner');\n",
              "      try {\n",
              "        const charts = await google.colab.kernel.invokeFunction(\n",
              "            'suggestCharts', [key], {});\n",
              "      } catch (error) {\n",
              "        console.error('Error during call to suggestCharts:', error);\n",
              "      }\n",
              "      quickchartButtonEl.classList.remove('colab-df-spinner');\n",
              "      quickchartButtonEl.classList.add('colab-df-quickchart-complete');\n",
              "    }\n",
              "    (() => {\n",
              "      let quickchartButtonEl =\n",
              "        document.querySelector('#df-5dce258f-ea4c-4a39-ac6c-ba6351f9030b button');\n",
              "      quickchartButtonEl.style.display =\n",
              "        google.colab.kernel.accessAllowed ? 'block' : 'none';\n",
              "    })();\n",
              "  </script>\n",
              "</div>\n",
              "    </div>\n",
              "  </div>\n"
            ],
            "application/vnd.google.colaboratory.intrinsic+json": {
              "type": "dataframe",
              "variable_name": "df",
              "summary": "{\n  \"name\": \"df\",\n  \"rows\": 210,\n  \"fields\": [\n    {\n      \"column\": \"Country\",\n      \"properties\": {\n        \"dtype\": \"string\",\n        \"num_unique_values\": 210,\n        \"samples\": [\n          \"United Arab Emirates\",\n          \"Suriname\",\n          \"Azerbaijan\"\n        ],\n        \"semantic_type\": \"\",\n        \"description\": \"\"\n      }\n    },\n    {\n      \"column\": \"MVF_2024\",\n      \"properties\": {\n        \"dtype\": \"string\",\n        \"num_unique_values\": 196,\n        \"samples\": [\n          \"15873\",\n          \"29078\",\n          \"1475690\"\n        ],\n        \"semantic_type\": \"\",\n        \"description\": \"\"\n      }\n    },\n    {\n      \"column\": \"WorldBank_2023\",\n      \"properties\": {\n        \"dtype\": \"string\",\n        \"num_unique_values\": 203,\n        \"samples\": [\n          \"1580695\",\n          \"2254851\",\n          \"22978\"\n        ],\n        \"semantic_type\": \"\",\n        \"description\": \"\"\n      }\n    },\n    {\n      \"column\": \"OON_2022\",\n      \"properties\": {\n        \"dtype\": \"string\",\n        \"num_unique_values\": 210,\n        \"samples\": [\n          \"507063\",\n          \"3620\",\n          \"78721\"\n        ],\n        \"semantic_type\": \"\",\n        \"description\": \"\"\n      }\n    }\n  ]\n}"
            }
          },
          "metadata": {},
          "execution_count": 11
        }
      ],
      "source": [
        "df = df.rename(columns = {\n",
        "    'IMF_Forecast' : 'MVF_2024',\n",
        "    'WorldBank_Estimate' : 'WorldBank_2023',\n",
        "    'UN_Estimate' : 'OON_2022'\n",
        "})\n",
        "\n",
        "df.drop(columns = ['IMF_Year', 'WorldBank_Year', 'UN_Year'], inplace = True)\n",
        "df.head()"
      ]
    },
    {
      "cell_type": "markdown",
      "id": "29b7a18a-c4d8-4b8a-8bcb-608c212589b4",
      "metadata": {
        "id": "29b7a18a-c4d8-4b8a-8bcb-608c212589b4"
      },
      "source": [
        "5. Визначити тип даних датасета"
      ]
    },
    {
      "cell_type": "code",
      "execution_count": 12,
      "id": "770bb49c-ced2-4529-959d-32f5666091da",
      "metadata": {
        "colab": {
          "base_uri": "https://localhost:8080/"
        },
        "id": "770bb49c-ced2-4529-959d-32f5666091da",
        "outputId": "aa8caa64-f714-44f7-ea91-ddc7d1d03db7"
      },
      "outputs": [
        {
          "output_type": "stream",
          "name": "stdout",
          "text": [
            "<class 'pandas.core.frame.DataFrame'>\n",
            "RangeIndex: 210 entries, 0 to 209\n",
            "Data columns (total 4 columns):\n",
            " #   Column          Non-Null Count  Dtype \n",
            "---  ------          --------------  ----- \n",
            " 0   Country         210 non-null    object\n",
            " 1   MVF_2024        210 non-null    object\n",
            " 2   WorldBank_2023  210 non-null    object\n",
            " 3   OON_2022        210 non-null    object\n",
            "dtypes: object(4)\n",
            "memory usage: 6.7+ KB\n"
          ]
        }
      ],
      "source": [
        "df.info()"
      ]
    },
    {
      "cell_type": "markdown",
      "id": "9d6cc0bd-ad53-453f-8b06-3b10d412a5bd",
      "metadata": {
        "id": "9d6cc0bd-ad53-453f-8b06-3b10d412a5bd"
      },
      "source": [
        "У датасеті маємо числові дані, окрім стовпця Country, але типи даних object, тому потрібно змінити на числові \"float64\""
      ]
    },
    {
      "cell_type": "code",
      "execution_count": 21,
      "id": "332ab9c0-ca06-48b6-b970-0a63f36222fe",
      "metadata": {
        "id": "332ab9c0-ca06-48b6-b970-0a63f36222fe"
      },
      "outputs": [],
      "source": [
        "df['MVF_2024'] = pd.to_numeric(df['MVF_2024'], errors = 'coerce')\n",
        "\n",
        "df['OON_2022'] = pd.to_numeric(df['OON_2022'], errors = 'coerce')\n",
        "\n",
        "df['WorldBank_2023'] = pd.to_numeric(df['WorldBank_2023'], errors = 'coerce')"
      ]
    },
    {
      "cell_type": "code",
      "execution_count": 14,
      "id": "823cff67-1fc5-4865-b117-fce778a008f1",
      "metadata": {
        "colab": {
          "base_uri": "https://localhost:8080/"
        },
        "id": "823cff67-1fc5-4865-b117-fce778a008f1",
        "outputId": "bbbd152c-e1f0-4d41-9499-9265f8980ad7"
      },
      "outputs": [
        {
          "output_type": "stream",
          "name": "stdout",
          "text": [
            "<class 'pandas.core.frame.DataFrame'>\n",
            "RangeIndex: 210 entries, 0 to 209\n",
            "Data columns (total 4 columns):\n",
            " #   Column          Non-Null Count  Dtype  \n",
            "---  ------          --------------  -----  \n",
            " 0   Country         210 non-null    object \n",
            " 1   MVF_2024        195 non-null    float64\n",
            " 2   WorldBank_2023  202 non-null    float64\n",
            " 3   OON_2022        209 non-null    float64\n",
            "dtypes: float64(3), object(1)\n",
            "memory usage: 6.7+ KB\n"
          ]
        }
      ],
      "source": [
        "df.info()"
      ]
    },
    {
      "cell_type": "markdown",
      "id": "dabe587a-1209-4c18-a288-d75ffc4aecc8",
      "metadata": {
        "id": "dabe587a-1209-4c18-a288-d75ffc4aecc8"
      },
      "source": [
        "6. Замініть у таблиці значення \"—\" на значення NaN. Перевірити наявність пропущених значень. При наявності, замінити пропущені значення на середнє значення."
      ]
    },
    {
      "cell_type": "code",
      "execution_count": 15,
      "id": "f7e22896-7b3e-45cb-b034-7ce28fca6016",
      "metadata": {
        "colab": {
          "base_uri": "https://localhost:8080/",
          "height": 207
        },
        "id": "f7e22896-7b3e-45cb-b034-7ce28fca6016",
        "outputId": "a732a22f-3a89-4bc8-e78f-f54d3d9e5e93"
      },
      "outputs": [
        {
          "output_type": "execute_result",
          "data": {
            "text/plain": [
              "Country            0\n",
              "MVF_2024          15\n",
              "WorldBank_2023     8\n",
              "OON_2022           1\n",
              "dtype: int64"
            ],
            "text/html": [
              "<div>\n",
              "<style scoped>\n",
              "    .dataframe tbody tr th:only-of-type {\n",
              "        vertical-align: middle;\n",
              "    }\n",
              "\n",
              "    .dataframe tbody tr th {\n",
              "        vertical-align: top;\n",
              "    }\n",
              "\n",
              "    .dataframe thead th {\n",
              "        text-align: right;\n",
              "    }\n",
              "</style>\n",
              "<table border=\"1\" class=\"dataframe\">\n",
              "  <thead>\n",
              "    <tr style=\"text-align: right;\">\n",
              "      <th></th>\n",
              "      <th>0</th>\n",
              "    </tr>\n",
              "  </thead>\n",
              "  <tbody>\n",
              "    <tr>\n",
              "      <th>Country</th>\n",
              "      <td>0</td>\n",
              "    </tr>\n",
              "    <tr>\n",
              "      <th>MVF_2024</th>\n",
              "      <td>15</td>\n",
              "    </tr>\n",
              "    <tr>\n",
              "      <th>WorldBank_2023</th>\n",
              "      <td>8</td>\n",
              "    </tr>\n",
              "    <tr>\n",
              "      <th>OON_2022</th>\n",
              "      <td>1</td>\n",
              "    </tr>\n",
              "  </tbody>\n",
              "</table>\n",
              "</div><br><label><b>dtype:</b> int64</label>"
            ]
          },
          "metadata": {},
          "execution_count": 15
        }
      ],
      "source": [
        "df.replace('—', np.nan, inplace = True)\n",
        "\n",
        "df.isna().sum()"
      ]
    },
    {
      "cell_type": "code",
      "execution_count": 16,
      "id": "2e953de9-b932-427b-b4a4-3dc5021b12b2",
      "metadata": {
        "id": "2e953de9-b932-427b-b4a4-3dc5021b12b2"
      },
      "outputs": [],
      "source": [
        "df = df.fillna(df.mean(numeric_only = True), axis = 0)"
      ]
    },
    {
      "cell_type": "markdown",
      "id": "c371912f-3a2b-45aa-9871-20cf1cb990b7",
      "metadata": {
        "id": "c371912f-3a2b-45aa-9871-20cf1cb990b7"
      },
      "source": [
        "7. Ще раз перевірити\n"
      ]
    },
    {
      "cell_type": "code",
      "execution_count": 22,
      "id": "03b4b54c-d940-4c12-a7aa-aee36c5d4bd7",
      "metadata": {
        "colab": {
          "base_uri": "https://localhost:8080/",
          "height": 207
        },
        "id": "03b4b54c-d940-4c12-a7aa-aee36c5d4bd7",
        "outputId": "29d99d01-2605-46b5-f12e-66c803717a36"
      },
      "outputs": [
        {
          "output_type": "execute_result",
          "data": {
            "text/plain": [
              "Country           0\n",
              "MVF_2024          0\n",
              "WorldBank_2023    0\n",
              "OON_2022          0\n",
              "dtype: int64"
            ],
            "text/html": [
              "<div>\n",
              "<style scoped>\n",
              "    .dataframe tbody tr th:only-of-type {\n",
              "        vertical-align: middle;\n",
              "    }\n",
              "\n",
              "    .dataframe tbody tr th {\n",
              "        vertical-align: top;\n",
              "    }\n",
              "\n",
              "    .dataframe thead th {\n",
              "        text-align: right;\n",
              "    }\n",
              "</style>\n",
              "<table border=\"1\" class=\"dataframe\">\n",
              "  <thead>\n",
              "    <tr style=\"text-align: right;\">\n",
              "      <th></th>\n",
              "      <th>0</th>\n",
              "    </tr>\n",
              "  </thead>\n",
              "  <tbody>\n",
              "    <tr>\n",
              "      <th>Country</th>\n",
              "      <td>0</td>\n",
              "    </tr>\n",
              "    <tr>\n",
              "      <th>MVF_2024</th>\n",
              "      <td>0</td>\n",
              "    </tr>\n",
              "    <tr>\n",
              "      <th>WorldBank_2023</th>\n",
              "      <td>0</td>\n",
              "    </tr>\n",
              "    <tr>\n",
              "      <th>OON_2022</th>\n",
              "      <td>0</td>\n",
              "    </tr>\n",
              "  </tbody>\n",
              "</table>\n",
              "</div><br><label><b>dtype:</b> int64</label>"
            ]
          },
          "metadata": {},
          "execution_count": 22
        }
      ],
      "source": [
        "df.isna().sum()"
      ]
    },
    {
      "cell_type": "markdown",
      "id": "31e80fd9-8a89-44dc-b117-8139f33ffc68",
      "metadata": {
        "id": "31e80fd9-8a89-44dc-b117-8139f33ffc68"
      },
      "source": [
        "8. Перевірити наявність дублікатів. При наявності видалити дублікати."
      ]
    },
    {
      "cell_type": "code",
      "execution_count": 18,
      "id": "bb933d34-1052-4d7a-a388-146bf8140672",
      "metadata": {
        "colab": {
          "base_uri": "https://localhost:8080/"
        },
        "id": "bb933d34-1052-4d7a-a388-146bf8140672",
        "outputId": "335ba1af-2ddc-4f4b-9507-bdba668342c1"
      },
      "outputs": [
        {
          "output_type": "execute_result",
          "data": {
            "text/plain": [
              "0"
            ]
          },
          "metadata": {},
          "execution_count": 18
        }
      ],
      "source": [
        "df.duplicated().sum()"
      ]
    },
    {
      "cell_type": "markdown",
      "id": "5693dd90-c958-4263-abb4-6560d805c0dc",
      "metadata": {
        "id": "5693dd90-c958-4263-abb4-6560d805c0dc"
      },
      "source": [
        "9. Вивести описову статистику датасету describe()"
      ]
    },
    {
      "cell_type": "code",
      "execution_count": 20,
      "id": "cec2a1df-1eb8-44d3-8a7b-44998b747bcb",
      "metadata": {
        "colab": {
          "base_uri": "https://localhost:8080/",
          "height": 297
        },
        "id": "cec2a1df-1eb8-44d3-8a7b-44998b747bcb",
        "outputId": "9458b5da-92a5-4839-fb04-f686cc2659bc"
      },
      "outputs": [
        {
          "output_type": "execute_result",
          "data": {
            "text/plain": [
              "          MVF_2024  WorldBank_2023     OON_2022\n",
              "count        210.0           210.0        210.0\n",
              "mean     1123228.0       1037206.0     961270.0\n",
              "std      7900707.0       7602076.0    7275608.0\n",
              "min           66.0            62.0         59.0\n",
              "25%        14648.0         10442.0       8928.0\n",
              "50%        62158.0         43416.0      32102.0\n",
              "75%       436636.0        337659.0     241248.0\n",
              "max    109529216.0     105435540.0  100834796.0"
            ],
            "text/html": [
              "\n",
              "  <div id=\"df-77c29995-2e55-4f52-9dd7-53a2f02b88ac\" class=\"colab-df-container\">\n",
              "    <div>\n",
              "<style scoped>\n",
              "    .dataframe tbody tr th:only-of-type {\n",
              "        vertical-align: middle;\n",
              "    }\n",
              "\n",
              "    .dataframe tbody tr th {\n",
              "        vertical-align: top;\n",
              "    }\n",
              "\n",
              "    .dataframe thead th {\n",
              "        text-align: right;\n",
              "    }\n",
              "</style>\n",
              "<table border=\"1\" class=\"dataframe\">\n",
              "  <thead>\n",
              "    <tr style=\"text-align: right;\">\n",
              "      <th></th>\n",
              "      <th>MVF_2024</th>\n",
              "      <th>WorldBank_2023</th>\n",
              "      <th>OON_2022</th>\n",
              "    </tr>\n",
              "  </thead>\n",
              "  <tbody>\n",
              "    <tr>\n",
              "      <th>count</th>\n",
              "      <td>210.0</td>\n",
              "      <td>210.0</td>\n",
              "      <td>210.0</td>\n",
              "    </tr>\n",
              "    <tr>\n",
              "      <th>mean</th>\n",
              "      <td>1123228.0</td>\n",
              "      <td>1037206.0</td>\n",
              "      <td>961270.0</td>\n",
              "    </tr>\n",
              "    <tr>\n",
              "      <th>std</th>\n",
              "      <td>7900707.0</td>\n",
              "      <td>7602076.0</td>\n",
              "      <td>7275608.0</td>\n",
              "    </tr>\n",
              "    <tr>\n",
              "      <th>min</th>\n",
              "      <td>66.0</td>\n",
              "      <td>62.0</td>\n",
              "      <td>59.0</td>\n",
              "    </tr>\n",
              "    <tr>\n",
              "      <th>25%</th>\n",
              "      <td>14648.0</td>\n",
              "      <td>10442.0</td>\n",
              "      <td>8928.0</td>\n",
              "    </tr>\n",
              "    <tr>\n",
              "      <th>50%</th>\n",
              "      <td>62158.0</td>\n",
              "      <td>43416.0</td>\n",
              "      <td>32102.0</td>\n",
              "    </tr>\n",
              "    <tr>\n",
              "      <th>75%</th>\n",
              "      <td>436636.0</td>\n",
              "      <td>337659.0</td>\n",
              "      <td>241248.0</td>\n",
              "    </tr>\n",
              "    <tr>\n",
              "      <th>max</th>\n",
              "      <td>109529216.0</td>\n",
              "      <td>105435540.0</td>\n",
              "      <td>100834796.0</td>\n",
              "    </tr>\n",
              "  </tbody>\n",
              "</table>\n",
              "</div>\n",
              "    <div class=\"colab-df-buttons\">\n",
              "\n",
              "  <div class=\"colab-df-container\">\n",
              "    <button class=\"colab-df-convert\" onclick=\"convertToInteractive('df-77c29995-2e55-4f52-9dd7-53a2f02b88ac')\"\n",
              "            title=\"Convert this dataframe to an interactive table.\"\n",
              "            style=\"display:none;\">\n",
              "\n",
              "  <svg xmlns=\"http://www.w3.org/2000/svg\" height=\"24px\" viewBox=\"0 -960 960 960\">\n",
              "    <path d=\"M120-120v-720h720v720H120Zm60-500h600v-160H180v160Zm220 220h160v-160H400v160Zm0 220h160v-160H400v160ZM180-400h160v-160H180v160Zm440 0h160v-160H620v160ZM180-180h160v-160H180v160Zm440 0h160v-160H620v160Z\"/>\n",
              "  </svg>\n",
              "    </button>\n",
              "\n",
              "  <style>\n",
              "    .colab-df-container {\n",
              "      display:flex;\n",
              "      gap: 12px;\n",
              "    }\n",
              "\n",
              "    .colab-df-convert {\n",
              "      background-color: #E8F0FE;\n",
              "      border: none;\n",
              "      border-radius: 50%;\n",
              "      cursor: pointer;\n",
              "      display: none;\n",
              "      fill: #1967D2;\n",
              "      height: 32px;\n",
              "      padding: 0 0 0 0;\n",
              "      width: 32px;\n",
              "    }\n",
              "\n",
              "    .colab-df-convert:hover {\n",
              "      background-color: #E2EBFA;\n",
              "      box-shadow: 0px 1px 2px rgba(60, 64, 67, 0.3), 0px 1px 3px 1px rgba(60, 64, 67, 0.15);\n",
              "      fill: #174EA6;\n",
              "    }\n",
              "\n",
              "    .colab-df-buttons div {\n",
              "      margin-bottom: 4px;\n",
              "    }\n",
              "\n",
              "    [theme=dark] .colab-df-convert {\n",
              "      background-color: #3B4455;\n",
              "      fill: #D2E3FC;\n",
              "    }\n",
              "\n",
              "    [theme=dark] .colab-df-convert:hover {\n",
              "      background-color: #434B5C;\n",
              "      box-shadow: 0px 1px 3px 1px rgba(0, 0, 0, 0.15);\n",
              "      filter: drop-shadow(0px 1px 2px rgba(0, 0, 0, 0.3));\n",
              "      fill: #FFFFFF;\n",
              "    }\n",
              "  </style>\n",
              "\n",
              "    <script>\n",
              "      const buttonEl =\n",
              "        document.querySelector('#df-77c29995-2e55-4f52-9dd7-53a2f02b88ac button.colab-df-convert');\n",
              "      buttonEl.style.display =\n",
              "        google.colab.kernel.accessAllowed ? 'block' : 'none';\n",
              "\n",
              "      async function convertToInteractive(key) {\n",
              "        const element = document.querySelector('#df-77c29995-2e55-4f52-9dd7-53a2f02b88ac');\n",
              "        const dataTable =\n",
              "          await google.colab.kernel.invokeFunction('convertToInteractive',\n",
              "                                                    [key], {});\n",
              "        if (!dataTable) return;\n",
              "\n",
              "        const docLinkHtml = 'Like what you see? Visit the ' +\n",
              "          '<a target=\"_blank\" href=https://colab.research.google.com/notebooks/data_table.ipynb>data table notebook</a>'\n",
              "          + ' to learn more about interactive tables.';\n",
              "        element.innerHTML = '';\n",
              "        dataTable['output_type'] = 'display_data';\n",
              "        await google.colab.output.renderOutput(dataTable, element);\n",
              "        const docLink = document.createElement('div');\n",
              "        docLink.innerHTML = docLinkHtml;\n",
              "        element.appendChild(docLink);\n",
              "      }\n",
              "    </script>\n",
              "  </div>\n",
              "\n",
              "\n",
              "<div id=\"df-412299a0-8536-4baa-9b68-649faba264ed\">\n",
              "  <button class=\"colab-df-quickchart\" onclick=\"quickchart('df-412299a0-8536-4baa-9b68-649faba264ed')\"\n",
              "            title=\"Suggest charts\"\n",
              "            style=\"display:none;\">\n",
              "\n",
              "<svg xmlns=\"http://www.w3.org/2000/svg\" height=\"24px\"viewBox=\"0 0 24 24\"\n",
              "     width=\"24px\">\n",
              "    <g>\n",
              "        <path d=\"M19 3H5c-1.1 0-2 .9-2 2v14c0 1.1.9 2 2 2h14c1.1 0 2-.9 2-2V5c0-1.1-.9-2-2-2zM9 17H7v-7h2v7zm4 0h-2V7h2v10zm4 0h-2v-4h2v4z\"/>\n",
              "    </g>\n",
              "</svg>\n",
              "  </button>\n",
              "\n",
              "<style>\n",
              "  .colab-df-quickchart {\n",
              "      --bg-color: #E8F0FE;\n",
              "      --fill-color: #1967D2;\n",
              "      --hover-bg-color: #E2EBFA;\n",
              "      --hover-fill-color: #174EA6;\n",
              "      --disabled-fill-color: #AAA;\n",
              "      --disabled-bg-color: #DDD;\n",
              "  }\n",
              "\n",
              "  [theme=dark] .colab-df-quickchart {\n",
              "      --bg-color: #3B4455;\n",
              "      --fill-color: #D2E3FC;\n",
              "      --hover-bg-color: #434B5C;\n",
              "      --hover-fill-color: #FFFFFF;\n",
              "      --disabled-bg-color: #3B4455;\n",
              "      --disabled-fill-color: #666;\n",
              "  }\n",
              "\n",
              "  .colab-df-quickchart {\n",
              "    background-color: var(--bg-color);\n",
              "    border: none;\n",
              "    border-radius: 50%;\n",
              "    cursor: pointer;\n",
              "    display: none;\n",
              "    fill: var(--fill-color);\n",
              "    height: 32px;\n",
              "    padding: 0;\n",
              "    width: 32px;\n",
              "  }\n",
              "\n",
              "  .colab-df-quickchart:hover {\n",
              "    background-color: var(--hover-bg-color);\n",
              "    box-shadow: 0 1px 2px rgba(60, 64, 67, 0.3), 0 1px 3px 1px rgba(60, 64, 67, 0.15);\n",
              "    fill: var(--button-hover-fill-color);\n",
              "  }\n",
              "\n",
              "  .colab-df-quickchart-complete:disabled,\n",
              "  .colab-df-quickchart-complete:disabled:hover {\n",
              "    background-color: var(--disabled-bg-color);\n",
              "    fill: var(--disabled-fill-color);\n",
              "    box-shadow: none;\n",
              "  }\n",
              "\n",
              "  .colab-df-spinner {\n",
              "    border: 2px solid var(--fill-color);\n",
              "    border-color: transparent;\n",
              "    border-bottom-color: var(--fill-color);\n",
              "    animation:\n",
              "      spin 1s steps(1) infinite;\n",
              "  }\n",
              "\n",
              "  @keyframes spin {\n",
              "    0% {\n",
              "      border-color: transparent;\n",
              "      border-bottom-color: var(--fill-color);\n",
              "      border-left-color: var(--fill-color);\n",
              "    }\n",
              "    20% {\n",
              "      border-color: transparent;\n",
              "      border-left-color: var(--fill-color);\n",
              "      border-top-color: var(--fill-color);\n",
              "    }\n",
              "    30% {\n",
              "      border-color: transparent;\n",
              "      border-left-color: var(--fill-color);\n",
              "      border-top-color: var(--fill-color);\n",
              "      border-right-color: var(--fill-color);\n",
              "    }\n",
              "    40% {\n",
              "      border-color: transparent;\n",
              "      border-right-color: var(--fill-color);\n",
              "      border-top-color: var(--fill-color);\n",
              "    }\n",
              "    60% {\n",
              "      border-color: transparent;\n",
              "      border-right-color: var(--fill-color);\n",
              "    }\n",
              "    80% {\n",
              "      border-color: transparent;\n",
              "      border-right-color: var(--fill-color);\n",
              "      border-bottom-color: var(--fill-color);\n",
              "    }\n",
              "    90% {\n",
              "      border-color: transparent;\n",
              "      border-bottom-color: var(--fill-color);\n",
              "    }\n",
              "  }\n",
              "</style>\n",
              "\n",
              "  <script>\n",
              "    async function quickchart(key) {\n",
              "      const quickchartButtonEl =\n",
              "        document.querySelector('#' + key + ' button');\n",
              "      quickchartButtonEl.disabled = true;  // To prevent multiple clicks.\n",
              "      quickchartButtonEl.classList.add('colab-df-spinner');\n",
              "      try {\n",
              "        const charts = await google.colab.kernel.invokeFunction(\n",
              "            'suggestCharts', [key], {});\n",
              "      } catch (error) {\n",
              "        console.error('Error during call to suggestCharts:', error);\n",
              "      }\n",
              "      quickchartButtonEl.classList.remove('colab-df-spinner');\n",
              "      quickchartButtonEl.classList.add('colab-df-quickchart-complete');\n",
              "    }\n",
              "    (() => {\n",
              "      let quickchartButtonEl =\n",
              "        document.querySelector('#df-412299a0-8536-4baa-9b68-649faba264ed button');\n",
              "      quickchartButtonEl.style.display =\n",
              "        google.colab.kernel.accessAllowed ? 'block' : 'none';\n",
              "    })();\n",
              "  </script>\n",
              "</div>\n",
              "    </div>\n",
              "  </div>\n"
            ],
            "application/vnd.google.colaboratory.intrinsic+json": {
              "type": "dataframe",
              "summary": "{\n  \"name\": \"df\",\n  \"rows\": 8,\n  \"fields\": [\n    {\n      \"column\": \"MVF_2024\",\n      \"properties\": {\n        \"dtype\": \"number\",\n        \"std\": 38337620.06801713,\n        \"min\": 66.0,\n        \"max\": 109529216.0,\n        \"num_unique_values\": 8,\n        \"samples\": [\n          1123228.0,\n          62158.0,\n          210.0\n        ],\n        \"semantic_type\": \"\",\n        \"description\": \"\"\n      }\n    },\n    {\n      \"column\": \"WorldBank_2023\",\n      \"properties\": {\n        \"dtype\": \"number\",\n        \"std\": 36912659.131856285,\n        \"min\": 62.0,\n        \"max\": 105435540.0,\n        \"num_unique_values\": 8,\n        \"samples\": [\n          1037206.0,\n          43416.0,\n          210.0\n        ],\n        \"semantic_type\": \"\",\n        \"description\": \"\"\n      }\n    },\n    {\n      \"column\": \"OON_2022\",\n      \"properties\": {\n        \"dtype\": \"number\",\n        \"std\": 35308397.82893066,\n        \"min\": 59.0,\n        \"max\": 100834796.0,\n        \"num_unique_values\": 8,\n        \"samples\": [\n          961270.0,\n          32102.0,\n          210.0\n        ],\n        \"semantic_type\": \"\",\n        \"description\": \"\"\n      }\n    }\n  ]\n}"
            }
          },
          "metadata": {},
          "execution_count": 20
        }
      ],
      "source": [
        "df.describe().round()"
      ]
    },
    {
      "cell_type": "markdown",
      "id": "e6cc54f3-cf30-48fa-9f47-5f2c165aa089",
      "metadata": {
        "id": "e6cc54f3-cf30-48fa-9f47-5f2c165aa089"
      },
      "source": [
        "10. Визначте відхилення (різницю) між показниками MVF_2024 та WorldBank_2023 для кожної країни. У яких країнах ці показники найбільше відрізняються (дати відповіді)?\n",
        "\n"
      ]
    },
    {
      "cell_type": "code",
      "execution_count": null,
      "id": "9eec08e8-7156-4f57-817b-3d951e629d5e",
      "metadata": {
        "id": "9eec08e8-7156-4f57-817b-3d951e629d5e"
      },
      "outputs": [],
      "source": [
        "df['Difference_2024_2023'] = (df['MVF_2024'] - df['WorldBank_2023']).round()"
      ]
    },
    {
      "cell_type": "code",
      "execution_count": null,
      "id": "85bb8ebb-8a44-4e02-93a5-71851fe8ef5d",
      "metadata": {
        "id": "85bb8ebb-8a44-4e02-93a5-71851fe8ef5d",
        "outputId": "fac6eb39-9db2-4e78-e735-64266e8a1185"
      },
      "outputs": [
        {
          "data": {
            "text/html": [
              "<div>\n",
              "<style scoped>\n",
              "    .dataframe tbody tr th:only-of-type {\n",
              "        vertical-align: middle;\n",
              "    }\n",
              "\n",
              "    .dataframe tbody tr th {\n",
              "        vertical-align: top;\n",
              "    }\n",
              "\n",
              "    .dataframe thead th {\n",
              "        text-align: right;\n",
              "    }\n",
              "</style>\n",
              "<table border=\"1\" class=\"dataframe\">\n",
              "  <thead>\n",
              "    <tr style=\"text-align: right;\">\n",
              "      <th></th>\n",
              "      <th>Country</th>\n",
              "      <th>MVF_2024</th>\n",
              "      <th>WorldBank_2023</th>\n",
              "      <th>OON_2022</th>\n",
              "      <th>Difference_2024_2023</th>\n",
              "    </tr>\n",
              "  </thead>\n",
              "  <tbody>\n",
              "    <tr>\n",
              "      <th>0</th>\n",
              "      <td>World</td>\n",
              "      <td>109529216.0</td>\n",
              "      <td>105435540.0</td>\n",
              "      <td>100834796.0</td>\n",
              "      <td>4093676.0</td>\n",
              "    </tr>\n",
              "    <tr>\n",
              "      <th>1</th>\n",
              "      <td>United States</td>\n",
              "      <td>28781083.0</td>\n",
              "      <td>27360935.0</td>\n",
              "      <td>25744100.0</td>\n",
              "      <td>1420148.0</td>\n",
              "    </tr>\n",
              "    <tr>\n",
              "      <th>2</th>\n",
              "      <td>China</td>\n",
              "      <td>18532633.0</td>\n",
              "      <td>17794782.0</td>\n",
              "      <td>17963170.0</td>\n",
              "      <td>737851.0</td>\n",
              "    </tr>\n",
              "    <tr>\n",
              "      <th>3</th>\n",
              "      <td>Germany</td>\n",
              "      <td>4591100.0</td>\n",
              "      <td>4456081.0</td>\n",
              "      <td>4076923.0</td>\n",
              "      <td>135019.0</td>\n",
              "    </tr>\n",
              "    <tr>\n",
              "      <th>4</th>\n",
              "      <td>Japan</td>\n",
              "      <td>4110452.0</td>\n",
              "      <td>4212945.0</td>\n",
              "      <td>4232173.0</td>\n",
              "      <td>-102493.0</td>\n",
              "    </tr>\n",
              "  </tbody>\n",
              "</table>\n",
              "</div>"
            ],
            "text/plain": [
              "         Country     MVF_2024  WorldBank_2023     OON_2022  \\\n",
              "0          World  109529216.0     105435540.0  100834796.0   \n",
              "1  United States   28781083.0      27360935.0   25744100.0   \n",
              "2          China   18532633.0      17794782.0   17963170.0   \n",
              "3        Germany    4591100.0       4456081.0    4076923.0   \n",
              "4          Japan    4110452.0       4212945.0    4232173.0   \n",
              "\n",
              "   Difference_2024_2023  \n",
              "0             4093676.0  \n",
              "1             1420148.0  \n",
              "2              737851.0  \n",
              "3              135019.0  \n",
              "4             -102493.0  "
            ]
          },
          "execution_count": 26,
          "metadata": {},
          "output_type": "execute_result"
        }
      ],
      "source": [
        "\n",
        "df.head()"
      ]
    },
    {
      "cell_type": "code",
      "execution_count": null,
      "id": "819e7fb8-8bc1-4cd6-b0dc-cde37d8e3e44",
      "metadata": {
        "id": "819e7fb8-8bc1-4cd6-b0dc-cde37d8e3e44",
        "outputId": "166394bf-05f2-42dd-a7a6-76cab940a6a2"
      },
      "outputs": [
        {
          "data": {
            "text/html": [
              "<div>\n",
              "<style scoped>\n",
              "    .dataframe tbody tr th:only-of-type {\n",
              "        vertical-align: middle;\n",
              "    }\n",
              "\n",
              "    .dataframe tbody tr th {\n",
              "        vertical-align: top;\n",
              "    }\n",
              "\n",
              "    .dataframe thead th {\n",
              "        text-align: right;\n",
              "    }\n",
              "</style>\n",
              "<table border=\"1\" class=\"dataframe\">\n",
              "  <thead>\n",
              "    <tr style=\"text-align: right;\">\n",
              "      <th></th>\n",
              "      <th>Country</th>\n",
              "      <th>MVF_2024</th>\n",
              "      <th>WorldBank_2023</th>\n",
              "      <th>OON_2022</th>\n",
              "      <th>Difference_2024_2023</th>\n",
              "    </tr>\n",
              "  </thead>\n",
              "  <tbody>\n",
              "    <tr>\n",
              "      <th>0</th>\n",
              "      <td>World</td>\n",
              "      <td>1.095292e+08</td>\n",
              "      <td>105435540.0</td>\n",
              "      <td>100834796.0</td>\n",
              "      <td>4093676.0</td>\n",
              "    </tr>\n",
              "    <tr>\n",
              "      <th>1</th>\n",
              "      <td>United States</td>\n",
              "      <td>2.878108e+07</td>\n",
              "      <td>27360935.0</td>\n",
              "      <td>25744100.0</td>\n",
              "      <td>1420148.0</td>\n",
              "    </tr>\n",
              "    <tr>\n",
              "      <th>196</th>\n",
              "      <td>Turks and Caicos Islands</td>\n",
              "      <td>1.123228e+06</td>\n",
              "      <td>1402.0</td>\n",
              "      <td>1138.0</td>\n",
              "      <td>1121826.0</td>\n",
              "    </tr>\n",
              "    <tr>\n",
              "      <th>193</th>\n",
              "      <td>Sint Maarten</td>\n",
              "      <td>1.123228e+06</td>\n",
              "      <td>1623.0</td>\n",
              "      <td>1572.0</td>\n",
              "      <td>1121605.0</td>\n",
              "    </tr>\n",
              "    <tr>\n",
              "      <th>178</th>\n",
              "      <td>Curaçao</td>\n",
              "      <td>1.123228e+06</td>\n",
              "      <td>3074.0</td>\n",
              "      <td>3075.0</td>\n",
              "      <td>1120154.0</td>\n",
              "    </tr>\n",
              "  </tbody>\n",
              "</table>\n",
              "</div>"
            ],
            "text/plain": [
              "                      Country      MVF_2024  WorldBank_2023     OON_2022  \\\n",
              "0                       World  1.095292e+08     105435540.0  100834796.0   \n",
              "1               United States  2.878108e+07      27360935.0   25744100.0   \n",
              "196  Turks and Caicos Islands  1.123228e+06          1402.0       1138.0   \n",
              "193              Sint Maarten  1.123228e+06          1623.0       1572.0   \n",
              "178                   Curaçao  1.123228e+06          3074.0       3075.0   \n",
              "\n",
              "     Difference_2024_2023  \n",
              "0               4093676.0  \n",
              "1               1420148.0  \n",
              "196             1121826.0  \n",
              "193             1121605.0  \n",
              "178             1120154.0  "
            ]
          },
          "execution_count": 28,
          "metadata": {},
          "output_type": "execute_result"
        }
      ],
      "source": [
        "largest_diff = df.nlargest(5, 'Difference_2024_2023')\n",
        "largest_diff"
      ]
    },
    {
      "cell_type": "markdown",
      "id": "0e576280-2dab-42d6-a118-9d570539d6f3",
      "metadata": {
        "id": "0e576280-2dab-42d6-a118-9d570539d6f3"
      },
      "source": [
        "Країни, для яких відрізняються показники: United States, Turks and Caicos Islands, Sint Maarten, Curaçao"
      ]
    },
    {
      "cell_type": "markdown",
      "id": "f513d0ef-d03e-400d-9819-48b548f36397",
      "metadata": {
        "id": "f513d0ef-d03e-400d-9819-48b548f36397"
      },
      "source": [
        "11. Обчисліть кореляцію між показниками MVF_2024, WorldBank_2023 та OON_2022. Які пари змінних мають найвищу кореляцію?\n"
      ]
    },
    {
      "cell_type": "code",
      "execution_count": 24,
      "id": "81f2e967-f646-4a00-afe8-da49cc415381",
      "metadata": {
        "id": "81f2e967-f646-4a00-afe8-da49cc415381"
      },
      "outputs": [],
      "source": [
        "selected_cols = ['MVF_2024', 'WorldBank_2023', 'OON_2022']"
      ]
    },
    {
      "cell_type": "code",
      "execution_count": 26,
      "id": "0a46b65b-4d71-4974-a0ca-046f86391a25",
      "metadata": {
        "colab": {
          "base_uri": "https://localhost:8080/",
          "height": 451
        },
        "id": "0a46b65b-4d71-4974-a0ca-046f86391a25",
        "outputId": "5ed8d009-2dbc-4cf9-8e0c-625617a6b2e2"
      },
      "outputs": [
        {
          "output_type": "display_data",
          "data": {
            "text/plain": [
              "<Figure size 1000x500 with 2 Axes>"
            ],
            "image/png": "[encoded data removed]"
          },
          "metadata": {}
        }
      ],
      "source": [
        "corr_data = df[selected_cols].corr()\n",
        "\n",
        "plt.figure(figsize = (10, 5))\n",
        "sns.heatmap(data = corr_data, annot = True, cbar = True, fmt='.4f')\n",
        "plt.show()"
      ]
    },
    {
      "cell_type": "code",
      "execution_count": 27,
      "id": "02304cb4-7ef5-43b1-98c2-748280a19c07",
      "metadata": {
        "colab": {
          "base_uri": "https://localhost:8080/"
        },
        "id": "02304cb4-7ef5-43b1-98c2-748280a19c07",
        "outputId": "3447fda3-b28c-41a0-c1f2-5248e02d8af7"
      },
      "outputs": [
        {
          "output_type": "stream",
          "name": "stdout",
          "text": [
            "Пара з найвищою кореляцією:\n",
            "WorldBank_2023  OON_2022    0.999656\n",
            "dtype: float64\n"
          ]
        }
      ],
      "source": [
        "highest_cor = corr_data.unstack().sort_values(ascending = False)\n",
        "highest_cor = highest_cor[highest_cor < 1].head(1)\n",
        "\n",
        "print(f\"Пара з найвищою кореляцією:\\n{highest_cor}\")"
      ]
    },
    {
      "cell_type": "markdown",
      "id": "8e72e43a-947f-4f72-8df3-aeb093f31019",
      "metadata": {
        "id": "8e72e43a-947f-4f72-8df3-aeb093f31019"
      },
      "source": [
        "12. Обчисліть середнє значення для кожного стовпця (MVF_2024, WorldBank_2023, OON_2022). Як це середнє значення змінюється між роками?"
      ]
    },
    {
      "cell_type": "code",
      "execution_count": 28,
      "id": "8535be2b-2c77-445c-a64b-737d734265ce",
      "metadata": {
        "colab": {
          "base_uri": "https://localhost:8080/"
        },
        "id": "8535be2b-2c77-445c-a64b-737d734265ce",
        "outputId": "36ed4bc1-28a6-48ab-b30d-db3b5b74e44d"
      },
      "outputs": [
        {
          "output_type": "stream",
          "name": "stdout",
          "text": [
            "З кожним роком середнє значення збільшується: \n",
            "MVF_2024          1123228.0\n",
            "WorldBank_2023    1037206.0\n",
            "OON_2022           961270.0\n",
            "dtype: float64\n"
          ]
        }
      ],
      "source": [
        "print(f\"З кожним роком середнє значення збільшується: \\n{df[selected_cols].mean().round()}\")"
      ]
    },
    {
      "cell_type": "markdown",
      "id": "18f389fe-00ec-46ee-ac0c-872e03d451e3",
      "metadata": {
        "id": "18f389fe-00ec-46ee-ac0c-872e03d451e3"
      },
      "source": [
        "13. Обчисліть стандартне відхилення показників для кожної країни. Яка країна має найвищу варіативність у показниках між роками?"
      ]
    },
    {
      "cell_type": "code",
      "execution_count": 29,
      "id": "e0c18cca-3a67-49e8-8d81-8819cef3cf6f",
      "metadata": {
        "colab": {
          "base_uri": "https://localhost:8080/",
          "height": 359
        },
        "id": "e0c18cca-3a67-49e8-8d81-8819cef3cf6f",
        "outputId": "b1b330c4-8890-4e84-8023-6412391b521f"
      },
      "outputs": [
        {
          "output_type": "execute_result",
          "data": {
            "text/plain": [
              "                      Country      MVF_2024  WorldBank_2023     OON_2022  \\\n",
              "0                       World  1.095292e+08     105435540.0  100834796.0   \n",
              "1               United States  2.878108e+07      27360935.0   25744100.0   \n",
              "196  Turks and Caicos Islands  1.123228e+06          1402.0       1138.0   \n",
              "193              Sint Maarten  1.123228e+06          1623.0       1572.0   \n",
              "178                   Curaçao  1.123228e+06          3074.0       3075.0   \n",
              "176                 Greenland  1.123228e+06          3236.0       2926.0   \n",
              "166          French Polynesia  1.123228e+06          5815.0       5814.0   \n",
              "164            Cayman Islands  1.123228e+06          6601.0       6281.0   \n",
              "160             Liechtenstein  1.123228e+06          7365.0       7757.0   \n",
              "161                   Bermuda  1.123228e+06          7828.0       7546.0   \n",
              "\n",
              "       std_dev  \n",
              "0    4349674.0  \n",
              "1    1519553.0  \n",
              "196   647763.0  \n",
              "193   647573.0  \n",
              "178   646721.0  \n",
              "176   646717.0  \n",
              "166   645139.0  \n",
              "164   644777.0  \n",
              "160   644130.0  \n",
              "161   644058.0  "
            ],
            "text/html": [
              "\n",
              "  <div id=\"df-c626df48-e189-4d12-8878-658e9fca3f3c\" class=\"colab-df-container\">\n",
              "    <div>\n",
              "<style scoped>\n",
              "    .dataframe tbody tr th:only-of-type {\n",
              "        vertical-align: middle;\n",
              "    }\n",
              "\n",
              "    .dataframe tbody tr th {\n",
              "        vertical-align: top;\n",
              "    }\n",
              "\n",
              "    .dataframe thead th {\n",
              "        text-align: right;\n",
              "    }\n",
              "</style>\n",
              "<table border=\"1\" class=\"dataframe\">\n",
              "  <thead>\n",
              "    <tr style=\"text-align: right;\">\n",
              "      <th></th>\n",
              "      <th>Country</th>\n",
              "      <th>MVF_2024</th>\n",
              "      <th>WorldBank_2023</th>\n",
              "      <th>OON_2022</th>\n",
              "      <th>std_dev</th>\n",
              "    </tr>\n",
              "  </thead>\n",
              "  <tbody>\n",
              "    <tr>\n",
              "      <th>0</th>\n",
              "      <td>World</td>\n",
              "      <td>1.095292e+08</td>\n",
              "      <td>105435540.0</td>\n",
              "      <td>100834796.0</td>\n",
              "      <td>4349674.0</td>\n",
              "    </tr>\n",
              "    <tr>\n",
              "      <th>1</th>\n",
              "      <td>United States</td>\n",
              "      <td>2.878108e+07</td>\n",
              "      <td>27360935.0</td>\n",
              "      <td>25744100.0</td>\n",
              "      <td>1519553.0</td>\n",
              "    </tr>\n",
              "    <tr>\n",
              "      <th>196</th>\n",
              "      <td>Turks and Caicos Islands</td>\n",
              "      <td>1.123228e+06</td>\n",
              "      <td>1402.0</td>\n",
              "      <td>1138.0</td>\n",
              "      <td>647763.0</td>\n",
              "    </tr>\n",
              "    <tr>\n",
              "      <th>193</th>\n",
              "      <td>Sint Maarten</td>\n",
              "      <td>1.123228e+06</td>\n",
              "      <td>1623.0</td>\n",
              "      <td>1572.0</td>\n",
              "      <td>647573.0</td>\n",
              "    </tr>\n",
              "    <tr>\n",
              "      <th>178</th>\n",
              "      <td>Curaçao</td>\n",
              "      <td>1.123228e+06</td>\n",
              "      <td>3074.0</td>\n",
              "      <td>3075.0</td>\n",
              "      <td>646721.0</td>\n",
              "    </tr>\n",
              "    <tr>\n",
              "      <th>176</th>\n",
              "      <td>Greenland</td>\n",
              "      <td>1.123228e+06</td>\n",
              "      <td>3236.0</td>\n",
              "      <td>2926.0</td>\n",
              "      <td>646717.0</td>\n",
              "    </tr>\n",
              "    <tr>\n",
              "      <th>166</th>\n",
              "      <td>French Polynesia</td>\n",
              "      <td>1.123228e+06</td>\n",
              "      <td>5815.0</td>\n",
              "      <td>5814.0</td>\n",
              "      <td>645139.0</td>\n",
              "    </tr>\n",
              "    <tr>\n",
              "      <th>164</th>\n",
              "      <td>Cayman Islands</td>\n",
              "      <td>1.123228e+06</td>\n",
              "      <td>6601.0</td>\n",
              "      <td>6281.0</td>\n",
              "      <td>644777.0</td>\n",
              "    </tr>\n",
              "    <tr>\n",
              "      <th>160</th>\n",
              "      <td>Liechtenstein</td>\n",
              "      <td>1.123228e+06</td>\n",
              "      <td>7365.0</td>\n",
              "      <td>7757.0</td>\n",
              "      <td>644130.0</td>\n",
              "    </tr>\n",
              "    <tr>\n",
              "      <th>161</th>\n",
              "      <td>Bermuda</td>\n",
              "      <td>1.123228e+06</td>\n",
              "      <td>7828.0</td>\n",
              "      <td>7546.0</td>\n",
              "      <td>644058.0</td>\n",
              "    </tr>\n",
              "  </tbody>\n",
              "</table>\n",
              "</div>\n",
              "    <div class=\"colab-df-buttons\">\n",
              "\n",
              "  <div class=\"colab-df-container\">\n",
              "    <button class=\"colab-df-convert\" onclick=\"convertToInteractive('df-c626df48-e189-4d12-8878-658e9fca3f3c')\"\n",
              "            title=\"Convert this dataframe to an interactive table.\"\n",
              "            style=\"display:none;\">\n",
              "\n",
              "  <svg xmlns=\"http://www.w3.org/2000/svg\" height=\"24px\" viewBox=\"0 -960 960 960\">\n",
              "    <path d=\"M120-120v-720h720v720H120Zm60-500h600v-160H180v160Zm220 220h160v-160H400v160Zm0 220h160v-160H400v160ZM180-400h160v-160H180v160Zm440 0h160v-160H620v160ZM180-180h160v-160H180v160Zm440 0h160v-160H620v160Z\"/>\n",
              "  </svg>\n",
              "    </button>\n",
              "\n",
              "  <style>\n",
              "    .colab-df-container {\n",
              "      display:flex;\n",
              "      gap: 12px;\n",
              "    }\n",
              "\n",
              "    .colab-df-convert {\n",
              "      background-color: #E8F0FE;\n",
              "      border: none;\n",
              "      border-radius: 50%;\n",
              "      cursor: pointer;\n",
              "      display: none;\n",
              "      fill: #1967D2;\n",
              "      height: 32px;\n",
              "      padding: 0 0 0 0;\n",
              "      width: 32px;\n",
              "    }\n",
              "\n",
              "    .colab-df-convert:hover {\n",
              "      background-color: #E2EBFA;\n",
              "      box-shadow: 0px 1px 2px rgba(60, 64, 67, 0.3), 0px 1px 3px 1px rgba(60, 64, 67, 0.15);\n",
              "      fill: #174EA6;\n",
              "    }\n",
              "\n",
              "    .colab-df-buttons div {\n",
              "      margin-bottom: 4px;\n",
              "    }\n",
              "\n",
              "    [theme=dark] .colab-df-convert {\n",
              "      background-color: #3B4455;\n",
              "      fill: #D2E3FC;\n",
              "    }\n",
              "\n",
              "    [theme=dark] .colab-df-convert:hover {\n",
              "      background-color: #434B5C;\n",
              "      box-shadow: 0px 1px 3px 1px rgba(0, 0, 0, 0.15);\n",
              "      filter: drop-shadow(0px 1px 2px rgba(0, 0, 0, 0.3));\n",
              "      fill: #FFFFFF;\n",
              "    }\n",
              "  </style>\n",
              "\n",
              "    <script>\n",
              "      const buttonEl =\n",
              "        document.querySelector('#df-c626df48-e189-4d12-8878-658e9fca3f3c button.colab-df-convert');\n",
              "      buttonEl.style.display =\n",
              "        google.colab.kernel.accessAllowed ? 'block' : 'none';\n",
              "\n",
              "      async function convertToInteractive(key) {\n",
              "        const element = document.querySelector('#df-c626df48-e189-4d12-8878-658e9fca3f3c');\n",
              "        const dataTable =\n",
              "          await google.colab.kernel.invokeFunction('convertToInteractive',\n",
              "                                                    [key], {});\n",
              "        if (!dataTable) return;\n",
              "\n",
              "        const docLinkHtml = 'Like what you see? Visit the ' +\n",
              "          '<a target=\"_blank\" href=https://colab.research.google.com/notebooks/data_table.ipynb>data table notebook</a>'\n",
              "          + ' to learn more about interactive tables.';\n",
              "        element.innerHTML = '';\n",
              "        dataTable['output_type'] = 'display_data';\n",
              "        await google.colab.output.renderOutput(dataTable, element);\n",
              "        const docLink = document.createElement('div');\n",
              "        docLink.innerHTML = docLinkHtml;\n",
              "        element.appendChild(docLink);\n",
              "      }\n",
              "    </script>\n",
              "  </div>\n",
              "\n",
              "\n",
              "<div id=\"df-b7e0d2cf-5286-4ba8-b9a3-fded17b32418\">\n",
              "  <button class=\"colab-df-quickchart\" onclick=\"quickchart('df-b7e0d2cf-5286-4ba8-b9a3-fded17b32418')\"\n",
              "            title=\"Suggest charts\"\n",
              "            style=\"display:none;\">\n",
              "\n",
              "<svg xmlns=\"http://www.w3.org/2000/svg\" height=\"24px\"viewBox=\"0 0 24 24\"\n",
              "     width=\"24px\">\n",
              "    <g>\n",
              "        <path d=\"M19 3H5c-1.1 0-2 .9-2 2v14c0 1.1.9 2 2 2h14c1.1 0 2-.9 2-2V5c0-1.1-.9-2-2-2zM9 17H7v-7h2v7zm4 0h-2V7h2v10zm4 0h-2v-4h2v4z\"/>\n",
              "    </g>\n",
              "</svg>\n",
              "  </button>\n",
              "\n",
              "<style>\n",
              "  .colab-df-quickchart {\n",
              "      --bg-color: #E8F0FE;\n",
              "      --fill-color: #1967D2;\n",
              "      --hover-bg-color: #E2EBFA;\n",
              "      --hover-fill-color: #174EA6;\n",
              "      --disabled-fill-color: #AAA;\n",
              "      --disabled-bg-color: #DDD;\n",
              "  }\n",
              "\n",
              "  [theme=dark] .colab-df-quickchart {\n",
              "      --bg-color: #3B4455;\n",
              "      --fill-color: #D2E3FC;\n",
              "      --hover-bg-color: #434B5C;\n",
              "      --hover-fill-color: #FFFFFF;\n",
              "      --disabled-bg-color: #3B4455;\n",
              "      --disabled-fill-color: #666;\n",
              "  }\n",
              "\n",
              "  .colab-df-quickchart {\n",
              "    background-color: var(--bg-color);\n",
              "    border: none;\n",
              "    border-radius: 50%;\n",
              "    cursor: pointer;\n",
              "    display: none;\n",
              "    fill: var(--fill-color);\n",
              "    height: 32px;\n",
              "    padding: 0;\n",
              "    width: 32px;\n",
              "  }\n",
              "\n",
              "  .colab-df-quickchart:hover {\n",
              "    background-color: var(--hover-bg-color);\n",
              "    box-shadow: 0 1px 2px rgba(60, 64, 67, 0.3), 0 1px 3px 1px rgba(60, 64, 67, 0.15);\n",
              "    fill: var(--button-hover-fill-color);\n",
              "  }\n",
              "\n",
              "  .colab-df-quickchart-complete:disabled,\n",
              "  .colab-df-quickchart-complete:disabled:hover {\n",
              "    background-color: var(--disabled-bg-color);\n",
              "    fill: var(--disabled-fill-color);\n",
              "    box-shadow: none;\n",
              "  }\n",
              "\n",
              "  .colab-df-spinner {\n",
              "    border: 2px solid var(--fill-color);\n",
              "    border-color: transparent;\n",
              "    border-bottom-color: var(--fill-color);\n",
              "    animation:\n",
              "      spin 1s steps(1) infinite;\n",
              "  }\n",
              "\n",
              "  @keyframes spin {\n",
              "    0% {\n",
              "      border-color: transparent;\n",
              "      border-bottom-color: var(--fill-color);\n",
              "      border-left-color: var(--fill-color);\n",
              "    }\n",
              "    20% {\n",
              "      border-color: transparent;\n",
              "      border-left-color: var(--fill-color);\n",
              "      border-top-color: var(--fill-color);\n",
              "    }\n",
              "    30% {\n",
              "      border-color: transparent;\n",
              "      border-left-color: var(--fill-color);\n",
              "      border-top-color: var(--fill-color);\n",
              "      border-right-color: var(--fill-color);\n",
              "    }\n",
              "    40% {\n",
              "      border-color: transparent;\n",
              "      border-right-color: var(--fill-color);\n",
              "      border-top-color: var(--fill-color);\n",
              "    }\n",
              "    60% {\n",
              "      border-color: transparent;\n",
              "      border-right-color: var(--fill-color);\n",
              "    }\n",
              "    80% {\n",
              "      border-color: transparent;\n",
              "      border-right-color: var(--fill-color);\n",
              "      border-bottom-color: var(--fill-color);\n",
              "    }\n",
              "    90% {\n",
              "      border-color: transparent;\n",
              "      border-bottom-color: var(--fill-color);\n",
              "    }\n",
              "  }\n",
              "</style>\n",
              "\n",
              "  <script>\n",
              "    async function quickchart(key) {\n",
              "      const quickchartButtonEl =\n",
              "        document.querySelector('#' + key + ' button');\n",
              "      quickchartButtonEl.disabled = true;  // To prevent multiple clicks.\n",
              "      quickchartButtonEl.classList.add('colab-df-spinner');\n",
              "      try {\n",
              "        const charts = await google.colab.kernel.invokeFunction(\n",
              "            'suggestCharts', [key], {});\n",
              "      } catch (error) {\n",
              "        console.error('Error during call to suggestCharts:', error);\n",
              "      }\n",
              "      quickchartButtonEl.classList.remove('colab-df-spinner');\n",
              "      quickchartButtonEl.classList.add('colab-df-quickchart-complete');\n",
              "    }\n",
              "    (() => {\n",
              "      let quickchartButtonEl =\n",
              "        document.querySelector('#df-b7e0d2cf-5286-4ba8-b9a3-fded17b32418 button');\n",
              "      quickchartButtonEl.style.display =\n",
              "        google.colab.kernel.accessAllowed ? 'block' : 'none';\n",
              "    })();\n",
              "  </script>\n",
              "</div>\n",
              "    </div>\n",
              "  </div>\n"
            ],
            "application/vnd.google.colaboratory.intrinsic+json": {
              "type": "dataframe",
              "variable_name": "df_sorted",
              "summary": "{\n  \"name\": \"df_sorted\",\n  \"rows\": 210,\n  \"fields\": [\n    {\n      \"column\": \"Country\",\n      \"properties\": {\n        \"dtype\": \"string\",\n        \"num_unique_values\": 210,\n        \"samples\": [\n          \"Turkey\",\n          \"Rwanda\",\n          \"Cambodia\"\n        ],\n        \"semantic_type\": \"\",\n        \"description\": \"\"\n      }\n    },\n    {\n      \"column\": \"MVF_2024\",\n      \"properties\": {\n        \"dtype\": \"number\",\n        \"std\": 7900706.896609233,\n        \"min\": 66.0,\n        \"max\": 109529216.0,\n        \"num_unique_values\": 196,\n        \"samples\": [\n          21418.0,\n          21943.0,\n          1113561.0\n        ],\n        \"semantic_type\": \"\",\n        \"description\": \"\"\n      }\n    },\n    {\n      \"column\": \"WorldBank_2023\",\n      \"properties\": {\n        \"dtype\": \"number\",\n        \"std\": 7602076.258094982,\n        \"min\": 62.0,\n        \"max\": 105435540.0,\n        \"num_unique_values\": 203,\n        \"samples\": [\n          1788887.0,\n          7828.0,\n          45850.0\n        ],\n        \"semantic_type\": \"\",\n        \"description\": \"\"\n      }\n    },\n    {\n      \"column\": \"OON_2022\",\n      \"properties\": {\n        \"dtype\": \"number\",\n        \"std\": 7275608.139100369,\n        \"min\": 59.0,\n        \"max\": 100834796.0,\n        \"num_unique_values\": 210,\n        \"samples\": [\n          907118.0,\n          13312.0,\n          29504.0\n        ],\n        \"semantic_type\": \"\",\n        \"description\": \"\"\n      }\n    },\n    {\n      \"column\": \"std_dev\",\n      \"properties\": {\n        \"dtype\": \"number\",\n        \"std\": 357447.450532219,\n        \"min\": 4.0,\n        \"max\": 4349674.0,\n        \"num_unique_values\": 206,\n        \"samples\": [\n          616404.0,\n          644058.0,\n          42.0\n        ],\n        \"semantic_type\": \"\",\n        \"description\": \"\"\n      }\n    }\n  ]\n}"
            }
          },
          "metadata": {},
          "execution_count": 29
        }
      ],
      "source": [
        "std_dev = df[selected_cols].std(axis=1).round()\n",
        "df['std_dev'] = std_dev\n",
        "df_sorted = df.sort_values(by='std_dev', ascending=False)\n",
        "df_sorted.head(10)"
      ]
    },
    {
      "cell_type": "markdown",
      "id": "c8a59c4c-78fd-4691-9098-0b4432710fc7",
      "metadata": {
        "id": "c8a59c4c-78fd-4691-9098-0b4432710fc7"
      },
      "source": [
        "CША має найвищу варіативність у показниках між роками"
      ]
    },
    {
      "cell_type": "markdown",
      "id": "8f52687e-47bb-4252-8074-47b4bb9f5d17",
      "metadata": {
        "id": "8f52687e-47bb-4252-8074-47b4bb9f5d17"
      },
      "source": [
        "14. Визначення країни з найвищим та найнижчим показниками: Знайдіть країну з найвищим та найнижчим показниками у кожному з років (MVF_2024, WorldBank_2023, OON_2022)."
      ]
    },
    {
      "cell_type": "code",
      "execution_count": 30,
      "id": "6920df63-a954-4253-a6cd-8670cf64c986",
      "metadata": {
        "colab": {
          "base_uri": "https://localhost:8080/"
        },
        "id": "6920df63-a954-4253-a6cd-8670cf64c986",
        "outputId": "4bc9dfde-63eb-4fc8-e861-bdefd98e5c87"
      },
      "outputs": [
        {
          "output_type": "stream",
          "name": "stdout",
          "text": [
            "Для MVF_2024:\n",
            "- Країна з максимальним показником: United States\n",
            "- Країна з мінімальним показником: Tuvalu\n",
            "Для WorldBank_2023:\n",
            "- Країна з максимальним показником: United States\n",
            "- Країна з мінімальним показником: Tuvalu\n",
            "Для OON_2022:\n",
            "- Країна з максимальним показником: United States\n",
            "- Країна з мінімальним показником: Tuvalu\n"
          ]
        }
      ],
      "source": [
        "df_filtered = df[df['Country'] != 'World']\n",
        "for year in ['MVF_2024', 'WorldBank_2023', 'OON_2022']:\n",
        "    max_country = df_filtered.loc[df_filtered[year].idxmax(), 'Country']\n",
        "    min_country = df_filtered.loc[df_filtered[year].idxmin(), 'Country']\n",
        "    print(f\"Для {year}:\")\n",
        "    print(f\"- Країна з максимальним показником: {max_country}\")\n",
        "    print(f\"- Країна з мінімальним показником: {min_country}\")"
      ]
    },
    {
      "cell_type": "markdown",
      "id": "ad771a2e-71f9-4a7e-95b0-183f14d77d36",
      "metadata": {
        "id": "ad771a2e-71f9-4a7e-95b0-183f14d77d36"
      },
      "source": [
        "15. Побудуйте гістограму для розподілу показників MVF_2024 серед всіх країн. Який вигляд має розподіл? Чи є країни, що виділяються?"
      ]
    },
    {
      "cell_type": "code",
      "execution_count": 31,
      "id": "959d8fe0-930b-4a97-8e2b-ccf8473d3062",
      "metadata": {
        "colab": {
          "base_uri": "https://localhost:8080/",
          "height": 472
        },
        "id": "959d8fe0-930b-4a97-8e2b-ccf8473d3062",
        "outputId": "8ae2d4a0-7489-4dbc-98da-5de89526b776"
      },
      "outputs": [
        {
          "output_type": "display_data",
          "data": {
            "text/plain": [
              "<Figure size 640x480 with 1 Axes>"
            ],
            "image/png": "[encoded data removed]"
          },
          "metadata": {}
        }
      ],
      "source": [
        "sns.kdeplot(data = df, x = 'MVF_2024', fill = False, linewidth=2)\n",
        "plt.xlabel('показник MVF_2024')\n",
        "plt.ylabel('щільність')\n",
        "plt.title('розподіл показника MVF_2024')\n",
        "\n",
        "plt.show()"
      ]
    },
    {
      "cell_type": "markdown",
      "id": "f6ab2f0e-4225-4145-94aa-cd38eea4aeee",
      "metadata": {
        "id": "f6ab2f0e-4225-4145-94aa-cd38eea4aeee"
      },
      "source": [
        "РОЗПОДІЛ СКОШЕНИЙ ВПРАВО\n",
        "\n",
        "Більшість країн мають значення показника MVF_2024 до 0.1. Розкид маємо від 0 до 1.2"
      ]
    },
    {
      "cell_type": "markdown",
      "id": "b0fdb914-867d-4df6-98f3-97916038dd7c",
      "metadata": {
        "id": "b0fdb914-867d-4df6-98f3-97916038dd7c"
      },
      "source": [
        "16. Розрахуйте частку кожної країни в загальному значенні для кожного року (MVF_2024, WorldBank_2023, OON_2022). Як змінюються частки країн з часом (дати відповідь)?"
      ]
    },
    {
      "cell_type": "code",
      "execution_count": 35,
      "id": "951a39a0-4763-4e35-823b-02fe18c05e61",
      "metadata": {
        "colab": {
          "base_uri": "https://localhost:8080/"
        },
        "id": "951a39a0-4763-4e35-823b-02fe18c05e61",
        "outputId": "f6708444-6105-42dc-b177-02748464a3d0"
      },
      "outputs": [
        {
          "output_type": "stream",
          "name": "stdout",
          "text": [
            "UNITED STATES\n",
            "частка у ВВП за МВФ 2024: 22.78%\n",
            "частка у ВВП за Світовим банком 2023: 24.35%\n",
            "частка у ВВП за ООН 2022: 25.48%\n",
            "\n",
            "\n",
            "CHINA\n",
            "частка у ВВП за МВФ 2024: 14.67%\n",
            "частка у ВВП за Світовим банком 2023: 15.83%\n",
            "частка у ВВП за ООН 2022: 17.78%\n",
            "\n",
            "\n",
            "GERMANY\n",
            "частка у ВВП за МВФ 2024: 3.63%\n",
            "частка у ВВП за Світовим банком 2023: 3.97%\n",
            "частка у ВВП за ООН 2022: 4.04%\n",
            "\n",
            "\n",
            "JAPAN\n",
            "частка у ВВП за МВФ 2024: 3.25%\n",
            "частка у ВВП за Світовим банком 2023: 3.75%\n",
            "частка у ВВП за ООН 2022: 4.19%\n",
            "\n",
            "\n",
            "INDIA\n",
            "частка у ВВП за МВФ 2024: 3.12%\n",
            "частка у ВВП за Світовим банком 2023: 3.16%\n",
            "частка у ВВП за ООН 2022: 3.43%\n",
            "\n",
            "\n",
            "UNITED KINGDOM\n",
            "частка у ВВП за МВФ 2024: 2.77%\n",
            "частка у ВВП за Світовим банком 2023: 2.97%\n",
            "частка у ВВП за ООН 2022: 3.06%\n",
            "\n",
            "\n",
            "FRANCE\n",
            "частка у ВВП за МВФ 2024: 2.48%\n",
            "частка у ВВП за Світовим банком 2023: 2.70%\n",
            "частка у ВВП за ООН 2022: 2.75%\n",
            "\n",
            "\n",
            "BRAZIL\n",
            "частка у ВВП за МВФ 2024: 1.85%\n",
            "частка у ВВП за Світовим банком 2023: 1.93%\n",
            "частка у ВВП за ООН 2022: 1.90%\n",
            "\n",
            "\n",
            "ITALY\n",
            "частка у ВВП за МВФ 2024: 1.84%\n",
            "частка у ВВП за Світовим банком 2023: 2.01%\n",
            "частка у ВВП за ООН 2022: 2.03%\n",
            "\n",
            "\n",
            "CANADA\n",
            "частка у ВВП за МВФ 2024: 1.77%\n",
            "частка у ВВП за Світовим банком 2023: 1.90%\n",
            "частка у ВВП за ООН 2022: 2.12%\n",
            "\n",
            "\n",
            "RUSSIA\n",
            "частка у ВВП за МВФ 2024: 1.63%\n",
            "частка у ВВП за Світовим банком 2023: 1.80%\n",
            "частка у ВВП за ООН 2022: 2.22%\n",
            "\n",
            "\n",
            "MEXICO\n",
            "частка у ВВП за МВФ 2024: 1.60%\n",
            "частка у ВВП за Світовим банком 2023: 1.59%\n",
            "частка у ВВП за ООН 2022: 1.45%\n",
            "\n",
            "\n",
            "AUSTRALIA\n",
            "частка у ВВП за МВФ 2024: 1.42%\n",
            "частка у ВВП за Світовим банком 2023: 1.53%\n",
            "частка у ВВП за ООН 2022: 1.76%\n",
            "\n",
            "\n",
            "SOUTH KOREA\n",
            "частка у ВВП за МВФ 2024: 1.39%\n",
            "частка у ВВП за Світовим банком 2023: 1.52%\n",
            "частка у ВВП за ООН 2022: 1.66%\n",
            "\n",
            "\n",
            "SPAIN\n",
            "частка у ВВП за МВФ 2024: 1.30%\n",
            "частка у ВВП за Світовим банком 2023: 1.41%\n",
            "частка у ВВП за ООН 2022: 1.40%\n",
            "\n",
            "\n",
            "INDONESIA\n",
            "частка у ВВП за МВФ 2024: 1.17%\n",
            "частка у ВВП за Світовим банком 2023: 1.22%\n",
            "частка у ВВП за ООН 2022: 1.31%\n",
            "\n",
            "\n",
            "NETHERLANDS\n",
            "частка у ВВП за МВФ 2024: 0.90%\n",
            "частка у ВВП за Світовим банком 2023: 0.99%\n",
            "частка у ВВП за ООН 2022: 1.00%\n",
            "\n",
            "\n",
            "TURKEY\n",
            "частка у ВВП за МВФ 2024: 0.88%\n",
            "частка у ВВП за Світовим банком 2023: 0.99%\n",
            "частка у ВВП за ООН 2022: 0.90%\n",
            "\n",
            "\n",
            "SAUDI ARABIA\n",
            "частка у ВВП за МВФ 2024: 0.88%\n",
            "частка у ВВП за Світовим банком 2023: 0.95%\n",
            "частка у ВВП за ООН 2022: 1.10%\n",
            "\n",
            "\n",
            "SWITZERLAND\n",
            "частка у ВВП за МВФ 2024: 0.74%\n",
            "частка у ВВП за Світовим банком 2023: 0.79%\n",
            "частка у ВВП за ООН 2022: 0.81%\n",
            "\n",
            "\n",
            "POLAND\n",
            "частка у ВВП за МВФ 2024: 0.67%\n",
            "частка у ВВП за Світовим банком 2023: 0.72%\n",
            "частка у ВВП за ООН 2022: 0.68%\n",
            "\n",
            "\n",
            "TAIWAN\n",
            "частка у ВВП за МВФ 2024: 0.64%\n",
            "частка у ВВП за Світовим банком 2023: 0.92%\n",
            "частка у ВВП за ООН 2022: 0.95%\n",
            "\n",
            "\n",
            "BELGIUM\n",
            "частка у ВВП за МВФ 2024: 0.52%\n",
            "частка у ВВП за Світовим банком 2023: 0.56%\n",
            "частка у ВВП за ООН 2022: 0.58%\n",
            "\n",
            "\n",
            "SWEDEN\n",
            "частка у ВВП за МВФ 2024: 0.49%\n",
            "частка у ВВП за Світовим банком 2023: 0.53%\n",
            "частка у ВВП за ООН 2022: 0.59%\n",
            "\n",
            "\n",
            "ARGENTINA\n",
            "частка у ВВП за МВФ 2024: 0.48%\n",
            "частка у ВВП за Світовим банком 2023: 0.57%\n",
            "частка у ВВП за ООН 2022: 0.62%\n",
            "\n",
            "\n",
            "IRELAND\n",
            "частка у ВВП за МВФ 2024: 0.45%\n",
            "частка у ВВП за Світовим банком 2023: 0.49%\n",
            "частка у ВВП за ООН 2022: 0.53%\n",
            "\n",
            "\n",
            "THAILAND\n",
            "частка у ВВП за МВФ 2024: 0.43%\n",
            "частка у ВВП за Світовим банком 2023: 0.46%\n",
            "частка у ВВП за ООН 2022: 0.49%\n",
            "\n",
            "\n",
            "AUSTRIA\n",
            "частка у ВВП за МВФ 2024: 0.43%\n",
            "частка у ВВП за Світовим банком 2023: 0.46%\n",
            "частка у ВВП за ООН 2022: 0.47%\n",
            "\n",
            "\n",
            "ISRAEL\n",
            "частка у ВВП за МВФ 2024: 0.42%\n",
            "частка у ВВП за Світовим банком 2023: 0.45%\n",
            "частка у ВВП за ООН 2022: 0.52%\n",
            "\n",
            "\n",
            "UNITED ARAB EMIRATES\n",
            "частка у ВВП за МВФ 2024: 0.42%\n",
            "частка у ВВП за Світовим банком 2023: 0.45%\n",
            "частка у ВВП за ООН 2022: 0.50%\n",
            "\n",
            "\n",
            "NORWAY\n",
            "частка у ВВП за МВФ 2024: 0.42%\n",
            "частка у ВВП за Світовим банком 2023: 0.43%\n",
            "частка у ВВП за ООН 2022: 0.57%\n",
            "\n",
            "\n",
            "SINGAPORE\n",
            "частка у ВВП за МВФ 2024: 0.42%\n",
            "частка у ВВП за Світовим банком 2023: 0.45%\n",
            "частка у ВВП за ООН 2022: 0.46%\n",
            "\n",
            "\n",
            "PHILIPPINES\n",
            "частка у ВВП за МВФ 2024: 0.37%\n",
            "частка у ВВП за Світовим банком 2023: 0.39%\n",
            "частка у ВВП за ООН 2022: 0.40%\n",
            "\n",
            "\n",
            "VIETNAM\n",
            "частка у ВВП за МВФ 2024: 0.37%\n",
            "частка у ВВП за Світовим банком 2023: 0.38%\n",
            "частка у ВВП за ООН 2022: 0.40%\n",
            "\n",
            "\n",
            "IRAN\n",
            "частка у ВВП за МВФ 2024: 0.37%\n",
            "частка у ВВП за Світовим банком 2023: 0.36%\n",
            "частка у ВВП за ООН 2022: 0.39%\n",
            "\n",
            "\n",
            "BANGLADESH\n",
            "частка у ВВП за МВФ 2024: 0.36%\n",
            "частка у ВВП за Світовим банком 2023: 0.39%\n",
            "частка у ВВП за ООН 2022: 0.43%\n",
            "\n",
            "\n",
            "MALAYSIA\n",
            "частка у ВВП за МВФ 2024: 0.35%\n",
            "частка у ВВП за Світовим банком 2023: 0.36%\n",
            "частка у ВВП за ООН 2022: 0.40%\n",
            "\n",
            "\n",
            "DENMARK\n",
            "частка у ВВП за МВФ 2024: 0.32%\n",
            "частка у ВВП за Світовим банком 2023: 0.36%\n",
            "частка у ВВП за ООН 2022: 0.40%\n",
            "\n",
            "\n",
            "HONG KONG\n",
            "частка у ВВП за МВФ 2024: 0.32%\n",
            "частка у ВВП за Світовим банком 2023: 0.34%\n",
            "частка у ВВП за ООН 2022: 0.36%\n",
            "\n",
            "\n",
            "COLOMBIA\n",
            "частка у ВВП за МВФ 2024: 0.31%\n",
            "частка у ВВП за Світовим банком 2023: 0.32%\n",
            "частка у ВВП за ООН 2022: 0.34%\n",
            "\n",
            "\n",
            "SOUTH AFRICA\n",
            "частка у ВВП за МВФ 2024: 0.30%\n",
            "частка у ВВП за Світовим банком 2023: 0.34%\n",
            "частка у ВВП за ООН 2022: 0.40%\n",
            "\n",
            "\n",
            "ROMANIA\n",
            "частка у ВВП за МВФ 2024: 0.29%\n",
            "частка у ВВП за Світовим банком 2023: 0.31%\n",
            "частка у ВВП за ООН 2022: 0.30%\n",
            "\n",
            "\n",
            "EGYPT\n",
            "частка у ВВП за МВФ 2024: 0.28%\n",
            "частка у ВВП за Світовим банком 2023: 0.35%\n",
            "частка у ВВП за ООН 2022: 0.41%\n",
            "\n",
            "\n",
            "PAKISTAN\n",
            "частка у ВВП за МВФ 2024: 0.27%\n",
            "частка у ВВП за Світовим банком 2023: 0.30%\n",
            "частка у ВВП за ООН 2022: 0.32%\n",
            "\n",
            "\n",
            "CHILE\n",
            "частка у ВВП за МВФ 2024: 0.26%\n",
            "частка у ВВП за Світовим банком 2023: 0.30%\n",
            "частка у ВВП за ООН 2022: 0.30%\n",
            "\n",
            "\n",
            "CZECH REPUBLIC\n",
            "частка у ВВП за МВФ 2024: 0.26%\n",
            "частка у ВВП за Світовим банком 2023: 0.29%\n",
            "частка у ВВП за ООН 2022: 0.29%\n",
            "\n",
            "\n",
            "FINLAND\n",
            "частка у ВВП за МВФ 2024: 0.24%\n",
            "частка у ВВП за Світовим банком 2023: 0.27%\n",
            "частка у ВВП за ООН 2022: 0.28%\n",
            "\n",
            "\n",
            "PORTUGAL\n",
            "частка у ВВП за МВФ 2024: 0.24%\n",
            "частка у ВВП за Світовим банком 2023: 0.26%\n",
            "частка у ВВП за ООН 2022: 0.25%\n",
            "\n",
            "\n",
            "KAZAKHSTAN\n",
            "частка у ВВП за МВФ 2024: 0.23%\n",
            "частка у ВВП за Світовим банком 2023: 0.23%\n",
            "частка у ВВП за ООН 2022: 0.22%\n",
            "\n",
            "\n",
            "PERU\n",
            "частка у ВВП за МВФ 2024: 0.22%\n",
            "частка у ВВП за Світовим банком 2023: 0.24%\n",
            "частка у ВВП за ООН 2022: 0.24%\n",
            "\n",
            "\n",
            "ALGERIA\n",
            "частка у ВВП за МВФ 2024: 0.21%\n",
            "частка у ВВП за Світовим банком 2023: 0.21%\n",
            "частка у ВВП за ООН 2022: 0.19%\n",
            "\n",
            "\n",
            "IRAQ\n",
            "частка у ВВП за МВФ 2024: 0.21%\n",
            "частка у ВВП за Світовим банком 2023: 0.22%\n",
            "частка у ВВП за ООН 2022: 0.26%\n",
            "\n",
            "\n",
            "NEW ZEALAND\n",
            "частка у ВВП за МВФ 2024: 0.20%\n",
            "частка у ВВП за Світовим банком 2023: 0.23%\n",
            "частка у ВВП за ООН 2022: 0.24%\n",
            "\n",
            "\n",
            "NIGERIA\n",
            "частка у ВВП за МВФ 2024: 0.20%\n",
            "частка у ВВП за Світовим банком 2023: 0.32%\n",
            "частка у ВВП за ООН 2022: 0.47%\n",
            "\n",
            "\n",
            "GREECE\n",
            "частка у ВВП за МВФ 2024: 0.20%\n",
            "частка у ВВП за Світовим банком 2023: 0.21%\n",
            "частка у ВВП за ООН 2022: 0.22%\n",
            "\n",
            "\n",
            "QATAR\n",
            "частка у ВВП за МВФ 2024: 0.19%\n",
            "частка у ВВП за Світовим банком 2023: 0.21%\n",
            "частка у ВВП за ООН 2022: 0.23%\n",
            "\n",
            "\n",
            "HUNGARY\n",
            "частка у ВВП за МВФ 2024: 0.18%\n",
            "частка у ВВП за Світовим банком 2023: 0.19%\n",
            "частка у ВВП за ООН 2022: 0.18%\n",
            "\n",
            "\n",
            "ETHIOPIA\n",
            "частка у ВВП за МВФ 2024: 0.16%\n",
            "частка у ВВП за Світовим банком 2023: 0.15%\n",
            "частка у ВВП за ООН 2022: 0.12%\n",
            "\n",
            "\n",
            "UKRAINE\n",
            "частка у ВВП за МВФ 2024: 0.15%\n",
            "частка у ВВП за Світовим банком 2023: 0.16%\n",
            "частка у ВВП за ООН 2022: 0.16%\n",
            "\n",
            "\n",
            "KUWAIT\n",
            "частка у ВВП за МВФ 2024: 0.13%\n",
            "частка у ВВП за Світовим банком 2023: 0.14%\n",
            "частка у ВВП за ООН 2022: 0.17%\n",
            "\n",
            "\n",
            "MOROCCO\n",
            "частка у ВВП за МВФ 2024: 0.12%\n",
            "частка у ВВП за Світовим банком 2023: 0.13%\n",
            "частка у ВВП за ООН 2022: 0.13%\n",
            "\n",
            "\n",
            "CUBA\n",
            "частка у ВВП за МВФ 2024: 0.89%\n",
            "частка у ВВП за Світовим банком 2023: 0.92%\n",
            "частка у ВВП за ООН 2022: 0.15%\n",
            "\n",
            "\n",
            "SLOVAKIA\n",
            "частка у ВВП за МВФ 2024: 0.11%\n",
            "частка у ВВП за Світовим банком 2023: 0.12%\n",
            "частка у ВВП за ООН 2022: 0.11%\n",
            "\n",
            "\n",
            "DOMINICAN REPUBLIC\n",
            "частка у ВВП за МВФ 2024: 0.10%\n",
            "частка у ВВП за Світовим банком 2023: 0.11%\n",
            "частка у ВВП за ООН 2022: 0.11%\n",
            "\n",
            "\n",
            "ECUADOR\n",
            "частка у ВВП за МВФ 2024: 0.10%\n",
            "частка у ВВП за Світовим банком 2023: 0.11%\n",
            "частка у ВВП за ООН 2022: 0.11%\n",
            "\n",
            "\n",
            "PUERTO RICO\n",
            "частка у ВВП за МВФ 2024: 0.09%\n",
            "частка у ВВП за Світовим банком 2023: 0.10%\n",
            "частка у ВВП за ООН 2022: 0.11%\n",
            "\n",
            "\n",
            "GUATEMALA\n",
            "частка у ВВП за МВФ 2024: 0.09%\n",
            "частка у ВВП за Світовим банком 2023: 0.09%\n",
            "частка у ВВП за ООН 2022: 0.09%\n",
            "\n",
            "\n",
            "OMAN\n",
            "частка у ВВП за МВФ 2024: 0.09%\n",
            "частка у ВВП за Світовим банком 2023: 0.10%\n",
            "частка у ВВП за ООН 2022: 0.11%\n",
            "\n",
            "\n",
            "BULGARIA\n",
            "частка у ВВП за МВФ 2024: 0.09%\n",
            "частка у ВВП за Світовим банком 2023: 0.09%\n",
            "частка у ВВП за ООН 2022: 0.09%\n",
            "\n",
            "\n",
            "KENYA\n",
            "частка у ВВП за МВФ 2024: 0.08%\n",
            "частка у ВВП за Світовим банком 2023: 0.10%\n",
            "частка у ВВП за ООН 2022: 0.11%\n",
            "\n",
            "\n",
            "VENEZUELA\n",
            "частка у ВВП за МВФ 2024: 0.08%\n",
            "частка у ВВП за Світовим банком 2023: 0.92%\n",
            "частка у ВВП за ООН 2022: 0.13%\n",
            "\n",
            "\n",
            "UZBEKISTAN\n",
            "частка у ВВП за МВФ 2024: 0.08%\n",
            "частка у ВВП за Світовим банком 2023: 0.08%\n",
            "частка у ВВП за ООН 2022: 0.08%\n",
            "\n",
            "\n",
            "COSTA RICA\n",
            "частка у ВВП за МВФ 2024: 0.08%\n",
            "частка у ВВП за Світовим банком 2023: 0.08%\n",
            "частка у ВВП за ООН 2022: 0.07%\n",
            "\n",
            "\n",
            "ANGOLA\n",
            "частка у ВВП за МВФ 2024: 0.07%\n",
            "частка у ВВП за Світовим банком 2023: 0.08%\n",
            "частка у ВВП за ООН 2022: 0.11%\n",
            "\n",
            "\n",
            "LUXEMBOURG\n",
            "частка у ВВП за МВФ 2024: 0.07%\n",
            "частка у ВВП за Світовим банком 2023: 0.08%\n",
            "частка у ВВП за ООН 2022: 0.08%\n",
            "\n",
            "\n",
            "CROATIA\n",
            "частка у ВВП за МВФ 2024: 0.07%\n",
            "частка у ВВП за Світовим банком 2023: 0.07%\n",
            "частка у ВВП за ООН 2022: 0.07%\n",
            "\n",
            "\n",
            "PANAMA\n",
            "частка у ВВП за МВФ 2024: 0.07%\n",
            "частка у ВВП за Світовим банком 2023: 0.07%\n",
            "частка у ВВП за ООН 2022: 0.08%\n",
            "\n",
            "\n",
            "IVORY COAST\n",
            "частка у ВВП за МВФ 2024: 0.07%\n",
            "частка у ВВП за Світовим банком 2023: 0.07%\n",
            "частка у ВВП за ООН 2022: 0.07%\n",
            "\n",
            "\n",
            "URUGUAY\n",
            "частка у ВВП за МВФ 2024: 0.07%\n",
            "частка у ВВП за Світовим банком 2023: 0.07%\n",
            "частка у ВВП за ООН 2022: 0.07%\n",
            "\n",
            "\n",
            "TURKMENISTAN\n",
            "частка у ВВП за МВФ 2024: 0.06%\n",
            "частка у ВВП за Світовим банком 2023: 0.05%\n",
            "частка у ВВП за ООН 2022: 0.07%\n",
            "\n",
            "\n",
            "SERBIA\n",
            "частка у ВВП за МВФ 2024: 0.06%\n",
            "частка у ВВП за Світовим банком 2023: 0.07%\n",
            "частка у ВВП за ООН 2022: 0.06%\n",
            "\n",
            "\n",
            "LITHUANIA\n",
            "частка у ВВП за МВФ 2024: 0.06%\n",
            "частка у ВВП за Світовим банком 2023: 0.07%\n",
            "частка у ВВП за ООН 2022: 0.07%\n",
            "\n",
            "\n",
            "TANZANIA\n",
            "частка у ВВП за МВФ 2024: 0.06%\n",
            "частка у ВВП за Світовим банком 2023: 0.07%\n",
            "частка у ВВП за ООН 2022: 0.07%\n",
            "\n",
            "\n",
            "AZERBAIJAN\n",
            "частка у ВВП за МВФ 2024: 0.06%\n",
            "частка у ВВП за Світовим банком 2023: 0.06%\n",
            "частка у ВВП за ООН 2022: 0.08%\n",
            "\n",
            "\n",
            "GHANA\n",
            "частка у ВВП за МВФ 2024: 0.06%\n",
            "частка у ВВП за Світовим банком 2023: 0.07%\n",
            "частка у ВВП за ООН 2022: 0.07%\n",
            "\n",
            "\n",
            "SRI LANKA\n",
            "частка у ВВП за МВФ 2024: 0.06%\n",
            "частка у ВВП за Світовим банком 2023: 0.08%\n",
            "частка у ВВП за ООН 2022: 0.08%\n",
            "\n",
            "\n",
            "DR CONGO\n",
            "частка у ВВП за МВФ 2024: 0.06%\n",
            "частка у ВВП за Світовим банком 2023: 0.06%\n",
            "частка у ВВП за ООН 2022: 0.06%\n",
            "\n",
            "\n",
            "SLOVENIA\n",
            "частка у ВВП за МВФ 2024: 0.06%\n",
            "частка у ВВП за Світовим банком 2023: 0.06%\n",
            "частка у ВВП за ООН 2022: 0.06%\n",
            "\n",
            "\n",
            "BELARUS\n",
            "частка у ВВП за МВФ 2024: 0.05%\n",
            "частка у ВВП за Світовим банком 2023: 0.06%\n",
            "частка у ВВП за ООН 2022: 0.07%\n",
            "\n",
            "\n",
            "MYANMAR\n",
            "частка у ВВП за МВФ 2024: 0.05%\n",
            "частка у ВВП за Світовим банком 2023: 0.06%\n",
            "частка у ВВП за ООН 2022: 0.06%\n",
            "\n",
            "\n",
            "UGANDA\n",
            "частка у ВВП за МВФ 2024: 0.04%\n",
            "частка у ВВП за Світовим банком 2023: 0.04%\n",
            "частка у ВВП за ООН 2022: 0.05%\n",
            "\n",
            "\n",
            "TUNISIA\n",
            "частка у ВВП за МВФ 2024: 0.04%\n",
            "частка у ВВП за Світовим банком 2023: 0.04%\n",
            "частка у ВВП за ООН 2022: 0.05%\n",
            "\n",
            "\n",
            "MACAU\n",
            "частка у ВВП за МВФ 2024: 0.04%\n",
            "частка у ВВП за Світовим банком 2023: 0.04%\n",
            "частка у ВВП за ООН 2022: 0.02%\n",
            "\n",
            "\n",
            "JORDAN\n",
            "частка у ВВП за МВФ 2024: 0.04%\n",
            "частка у ВВП за Світовим банком 2023: 0.05%\n",
            "частка у ВВП за ООН 2022: 0.05%\n",
            "\n",
            "\n",
            "CAMEROON\n",
            "частка у ВВП за МВФ 2024: 0.04%\n",
            "частка у ВВП за Світовим банком 2023: 0.04%\n",
            "частка у ВВП за ООН 2022: 0.04%\n",
            "\n",
            "\n",
            "BOLIVIA\n",
            "частка у ВВП за МВФ 2024: 0.04%\n",
            "частка у ВВП за Світовим банком 2023: 0.04%\n",
            "частка у ВВП за ООН 2022: 0.04%\n",
            "\n",
            "\n",
            "LIBYA\n",
            "частка у ВВП за МВФ 2024: 0.04%\n",
            "частка у ВВП за Світовим банком 2023: 0.04%\n",
            "частка у ВВП за ООН 2022: 0.04%\n",
            "\n",
            "\n",
            "BAHRAIN\n",
            "частка у ВВП за МВФ 2024: 0.04%\n",
            "частка у ВВП за Світовим банком 2023: 0.04%\n",
            "частка у ВВП за ООН 2022: 0.04%\n",
            "\n",
            "\n",
            "PARAGUAY\n",
            "частка у ВВП за МВФ 2024: 0.04%\n",
            "частка у ВВП за Світовим банком 2023: 0.04%\n",
            "частка у ВВП за ООН 2022: 0.04%\n",
            "\n",
            "\n",
            "LATVIA\n",
            "частка у ВВП за МВФ 2024: 0.04%\n",
            "частка у ВВП за Світовим банком 2023: 0.04%\n",
            "частка у ВВП за ООН 2022: 0.04%\n",
            "\n",
            "\n",
            "CAMBODIA\n",
            "частка у ВВП за МВФ 2024: 0.04%\n",
            "частка у ВВП за Світовим банком 2023: 0.03%\n",
            "частка у ВВП за ООН 2022: 0.03%\n",
            "\n",
            "\n",
            "NEPAL\n",
            "частка у ВВП за МВФ 2024: 0.03%\n",
            "частка у ВВП за Світовим банком 2023: 0.04%\n",
            "частка у ВВП за ООН 2022: 0.04%\n",
            "\n",
            "\n",
            "ESTONIA\n",
            "частка у ВВП за МВФ 2024: 0.03%\n",
            "частка у ВВП за Світовим банком 2023: 0.04%\n",
            "частка у ВВП за ООН 2022: 0.04%\n",
            "\n",
            "\n",
            "HONDURAS\n",
            "частка у ВВП за МВФ 2024: 0.03%\n",
            "частка у ВВП за Світовим банком 2023: 0.03%\n",
            "частка у ВВП за ООН 2022: 0.03%\n",
            "\n",
            "\n",
            "SENEGAL\n",
            "частка у ВВП за МВФ 2024: 0.03%\n",
            "частка у ВВП за Світовим банком 2023: 0.03%\n",
            "частка у ВВП за ООН 2022: 0.03%\n",
            "\n",
            "\n",
            "EL SALVADOR\n",
            "частка у ВВП за МВФ 2024: 0.03%\n",
            "частка у ВВП за Світовим банком 2023: 0.03%\n",
            "частка у ВВП за ООН 2022: 0.03%\n",
            "\n",
            "\n",
            "ZIMBABWE\n",
            "частка у ВВП за МВФ 2024: 0.03%\n",
            "частка у ВВП за Світовим банком 2023: 0.02%\n",
            "частка у ВВП за ООН 2022: 0.03%\n",
            "\n",
            "\n",
            "CYPRUS\n",
            "частка у ВВП за МВФ 2024: 0.03%\n",
            "частка у ВВП за Світовим банком 2023: 0.03%\n",
            "частка у ВВП за ООН 2022: 0.03%\n",
            "\n",
            "\n",
            "ICELAND\n",
            "частка у ВВП за МВФ 2024: 0.03%\n",
            "частка у ВВП за Світовим банком 2023: 0.03%\n",
            "частка у ВВП за ООН 2022: 0.03%\n",
            "\n",
            "\n",
            "GEORGIA\n",
            "частка у ВВП за МВФ 2024: 0.03%\n",
            "частка у ВВП за Світовим банком 2023: 0.03%\n",
            "частка у ВВП за ООН 2022: 0.02%\n",
            "\n",
            "\n",
            "PAPUA NEW GUINEA\n",
            "частка у ВВП за МВФ 2024: 0.03%\n",
            "частка у ВВП за Світовим банком 2023: 0.03%\n",
            "частка у ВВП за ООН 2022: 0.03%\n",
            "\n",
            "\n",
            "ZAMBIA\n",
            "частка у ВВП за МВФ 2024: 0.02%\n",
            "частка у ВВП за Світовим банком 2023: 0.03%\n",
            "частка у ВВП за ООН 2022: 0.03%\n",
            "\n",
            "\n",
            "BOSNIA AND HERZEGOVINA\n",
            "частка у ВВП за МВФ 2024: 0.02%\n",
            "частка у ВВП за Світовим банком 2023: 0.02%\n",
            "частка у ВВП за ООН 2022: 0.02%\n",
            "\n",
            "\n",
            "TRINIDAD AND TOBAGO\n",
            "частка у ВВП за МВФ 2024: 0.02%\n",
            "частка у ВВП за Світовим банком 2023: 0.03%\n",
            "частка у ВВП за ООН 2022: 0.03%\n",
            "\n",
            "\n",
            "SUDAN\n",
            "частка у ВВП за МВФ 2024: 0.02%\n",
            "частка у ВВП за Світовим банком 2023: 0.10%\n",
            "частка у ВВП за ООН 2022: 0.04%\n",
            "\n",
            "\n",
            "GUINEA\n",
            "частка у ВВП за МВФ 2024: 0.02%\n",
            "частка у ВВП за Світовим банком 2023: 0.02%\n",
            "частка у ВВП за ООН 2022: 0.02%\n",
            "\n",
            "\n",
            "ALBANIA\n",
            "частка у ВВП за МВФ 2024: 0.02%\n",
            "частка у ВВП за Світовим банком 2023: 0.02%\n",
            "частка у ВВП за ООН 2022: 0.02%\n",
            "\n",
            "\n",
            "ARMENIA\n",
            "частка у ВВП за МВФ 2024: 0.02%\n",
            "частка у ВВП за Світовим банком 2023: 0.02%\n",
            "частка у ВВП за ООН 2022: 0.02%\n",
            "\n",
            "\n",
            "HAITI\n",
            "частка у ВВП за МВФ 2024: 0.02%\n",
            "частка у ВВП за Світовим банком 2023: 0.02%\n",
            "частка у ВВП за ООН 2022: 0.02%\n",
            "\n",
            "\n",
            "MOZAMBIQUE\n",
            "частка у ВВП за МВФ 2024: 0.02%\n",
            "частка у ВВП за Світовим банком 2023: 0.02%\n",
            "частка у ВВП за ООН 2022: 0.02%\n",
            "\n",
            "\n",
            "MALTA\n",
            "частка у ВВП за МВФ 2024: 0.02%\n",
            "частка у ВВП за Світовим банком 2023: 0.02%\n",
            "частка у ВВП за ООН 2022: 0.02%\n",
            "\n",
            "\n",
            "MONGOLIA\n",
            "частка у ВВП за МВФ 2024: 0.02%\n",
            "частка у ВВП за Світовим банком 2023: 0.02%\n",
            "частка у ВВП за ООН 2022: 0.02%\n",
            "\n",
            "\n",
            "BURKINA FASO\n",
            "частка у ВВП за МВФ 2024: 0.02%\n",
            "частка у ВВП за Світовим банком 2023: 0.02%\n",
            "частка у ВВП за ООН 2022: 0.02%\n",
            "\n",
            "\n",
            "LEBANON\n",
            "частка у ВВП за МВФ 2024: 0.02%\n",
            "частка у ВВП за Світовим банком 2023: 0.02%\n",
            "частка у ВВП за ООН 2022: 0.04%\n",
            "\n",
            "\n",
            "MALI\n",
            "частка у ВВП за МВФ 2024: 0.02%\n",
            "частка у ВВП за Світовим банком 2023: 0.02%\n",
            "частка у ВВП за ООН 2022: 0.02%\n",
            "\n",
            "\n",
            "BOTSWANA\n",
            "частка у ВВП за МВФ 2024: 0.02%\n",
            "частка у ВВП за Світовим банком 2023: 0.02%\n",
            "частка у ВВП за ООН 2022: 0.02%\n",
            "\n",
            "\n",
            "BENIN\n",
            "частка у ВВП за МВФ 2024: 0.02%\n",
            "частка у ВВП за Світовим банком 2023: 0.02%\n",
            "частка у ВВП за ООН 2022: 0.02%\n",
            "\n",
            "\n",
            "GUYANA\n",
            "частка у ВВП за МВФ 2024: 0.02%\n",
            "частка у ВВП за Світовим банком 2023: 0.01%\n",
            "частка у ВВП за ООН 2022: 0.01%\n",
            "\n",
            "\n",
            "GABON\n",
            "частка у ВВП за МВФ 2024: 0.02%\n",
            "частка у ВВП за Світовим банком 2023: 0.02%\n",
            "частка у ВВП за ООН 2022: 0.02%\n",
            "\n",
            "\n",
            "JAMAICA\n",
            "частка у ВВП за МВФ 2024: 0.02%\n",
            "частка у ВВП за Світовим банком 2023: 0.02%\n",
            "частка у ВВП за ООН 2022: 0.02%\n",
            "\n",
            "\n",
            "NICARAGUA\n",
            "частка у ВВП за МВФ 2024: 0.01%\n",
            "частка у ВВП за Світовим банком 2023: 0.02%\n",
            "частка у ВВП за ООН 2022: 0.02%\n",
            "\n",
            "\n",
            "NIGER\n",
            "частка у ВВП за МВФ 2024: 0.01%\n",
            "частка у ВВП за Світовим банком 2023: 0.01%\n",
            "частка у ВВП за ООН 2022: 0.02%\n",
            "\n",
            "\n",
            "CHAD\n",
            "частка у ВВП за МВФ 2024: 0.01%\n",
            "частка у ВВП за Світовим банком 2023: 0.01%\n",
            "частка у ВВП за ООН 2022: 0.02%\n",
            "\n",
            "\n",
            "PALESTINE\n",
            "частка у ВВП за МВФ 2024: 0.01%\n",
            "частка у ВВП за Світовим банком 2023: 0.02%\n",
            "частка у ВВП за ООН 2022: 0.02%\n",
            "\n",
            "\n",
            "MOLDOVA\n",
            "частка у ВВП за МВФ 2024: 0.01%\n",
            "частка у ВВП за Світовим банком 2023: 0.01%\n",
            "частка у ВВП за ООН 2022: 0.01%\n",
            "\n",
            "\n",
            "YEMEN\n",
            "частка у ВВП за МВФ 2024: 0.01%\n",
            "частка у ВВП за Світовим банком 2023: 0.92%\n",
            "частка у ВВП за ООН 2022: 0.01%\n",
            "\n",
            "\n",
            "MADAGASCAR\n",
            "частка у ВВП за МВФ 2024: 0.01%\n",
            "частка у ВВП за Світовим банком 2023: 0.01%\n",
            "частка у ВВП за ООН 2022: 0.01%\n",
            "\n",
            "\n",
            "MAURITIUS\n",
            "частка у ВВП за МВФ 2024: 0.01%\n",
            "частка у ВВП за Світовим банком 2023: 0.01%\n",
            "частка у ВВП за ООН 2022: 0.01%\n",
            "\n",
            "\n",
            "NORTH MACEDONIA\n",
            "частка у ВВП за МВФ 2024: 0.01%\n",
            "частка у ВВП за Світовим банком 2023: 0.01%\n",
            "частка у ВВП за ООН 2022: 0.01%\n",
            "\n",
            "\n",
            "BRUNEI\n",
            "частка у ВВП за МВФ 2024: 0.01%\n",
            "частка у ВВП за Світовим банком 2023: 0.01%\n",
            "частка у ВВП за ООН 2022: 0.02%\n",
            "\n",
            "\n",
            "CONGO\n",
            "частка у ВВП за МВФ 2024: 0.01%\n",
            "частка у ВВП за Світовим банком 2023: 0.01%\n",
            "частка у ВВП за ООН 2022: 0.02%\n",
            "\n",
            "\n",
            "LAOS\n",
            "частка у ВВП за МВФ 2024: 0.01%\n",
            "частка у ВВП за Світовим банком 2023: 0.01%\n",
            "частка у ВВП за ООН 2022: 0.02%\n",
            "\n",
            "\n",
            "NORTH KOREA\n",
            "частка у ВВП за МВФ 2024: 0.89%\n",
            "частка у ВВП за Світовим банком 2023: 0.92%\n",
            "частка у ВВП за ООН 2022: 0.02%\n",
            "\n",
            "\n",
            "AFGHANISTAN\n",
            "частка у ВВП за МВФ 2024: 0.01%\n",
            "частка у ВВП за Світовим банком 2023: 0.01%\n",
            "частка у ВВП за ООН 2022: 0.01%\n",
            "\n",
            "\n",
            "BAHAMAS\n",
            "частка у ВВП за МВФ 2024: 0.01%\n",
            "частка у ВВП за Світовим банком 2023: 0.01%\n",
            "частка у ВВП за ООН 2022: 0.01%\n",
            "\n",
            "\n",
            "RWANDA\n",
            "частка у ВВП за МВФ 2024: 0.01%\n",
            "частка у ВВП за Світовим банком 2023: 0.01%\n",
            "частка у ВВП за ООН 2022: 0.01%\n",
            "\n",
            "\n",
            "KYRGYZSTAN\n",
            "частка у ВВП за МВФ 2024: 0.01%\n",
            "частка у ВВП за Світовим банком 2023: 0.01%\n",
            "частка у ВВП за ООН 2022: 0.01%\n",
            "\n",
            "\n",
            "TAJIKISTAN\n",
            "частка у ВВП за МВФ 2024: 0.01%\n",
            "частка у ВВП за Світовим банком 2023: 0.01%\n",
            "частка у ВВП за ООН 2022: 0.01%\n",
            "\n",
            "\n",
            "SOMALIA\n",
            "частка у ВВП за МВФ 2024: 0.01%\n",
            "частка у ВВП за Світовим банком 2023: 0.01%\n",
            "частка у ВВП за ООН 2022: 0.01%\n",
            "\n",
            "\n",
            "NAMIBIA\n",
            "частка у ВВП за МВФ 2024: 0.01%\n",
            "частка у ВВП за Світовим банком 2023: 0.01%\n",
            "частка у ВВП за ООН 2022: 0.01%\n",
            "\n",
            "\n",
            "KOSOVO\n",
            "частка у ВВП за МВФ 2024: 0.01%\n",
            "частка у ВВП за Світовим банком 2023: 0.01%\n",
            "частка у ВВП за ООН 2022: 0.01%\n",
            "\n",
            "\n",
            "MALAWI\n",
            "частка у ВВП за МВФ 2024: 0.01%\n",
            "частка у ВВП за Світовим банком 2023: 0.01%\n",
            "частка у ВВП за ООН 2022: 0.01%\n",
            "\n",
            "\n",
            "EQUATORIAL GUINEA\n",
            "частка у ВВП за МВФ 2024: 0.01%\n",
            "частка у ВВП за Світовим банком 2023: 0.01%\n",
            "частка у ВВП за ООН 2022: 0.01%\n",
            "\n",
            "\n",
            "MAURITANIA\n",
            "частка у ВВП за МВФ 2024: 0.01%\n",
            "частка у ВВП за Світовим банком 2023: 0.01%\n",
            "частка у ВВП за ООН 2022: 0.01%\n",
            "\n",
            "\n",
            "TOGO\n",
            "частка у ВВП за МВФ 2024: 0.01%\n",
            "частка у ВВП за Світовим банком 2023: 0.01%\n",
            "частка у ВВП за ООН 2022: 0.01%\n",
            "\n",
            "\n",
            "NEW CALEDONIA\n",
            "частка у ВВП за МВФ 2024: 0.89%\n",
            "частка у ВВП за Світовим банком 2023: 0.01%\n",
            "частка у ВВП за ООН 2022: 0.01%\n",
            "\n",
            "\n",
            "SYRIA\n",
            "частка у ВВП за МВФ 2024: 0.89%\n",
            "частка у ВВП за Світовим банком 2023: 0.01%\n",
            "частка у ВВП за ООН 2022: 0.02%\n",
            "\n",
            "\n",
            "MONACO\n",
            "частка у ВВП за МВФ 2024: 0.89%\n",
            "частка у ВВП за Світовим банком 2023: 0.01%\n",
            "частка у ВВП за ООН 2022: 0.01%\n",
            "\n",
            "\n",
            "MONTENEGRO\n",
            "частка у ВВП за МВФ 2024: 0.01%\n",
            "частка у ВВП за Світовим банком 2023: 0.01%\n",
            "частка у ВВП за ООН 2022: 0.01%\n",
            "\n",
            "\n",
            "LIECHTENSTEIN\n",
            "частка у ВВП за МВФ 2024: 0.89%\n",
            "частка у ВВП за Світовим банком 2023: 0.01%\n",
            "частка у ВВП за ООН 2022: 0.01%\n",
            "\n",
            "\n",
            "BERMUDA\n",
            "частка у ВВП за МВФ 2024: 0.89%\n",
            "частка у ВВП за Світовим банком 2023: 0.01%\n",
            "частка у ВВП за ООН 2022: 0.01%\n",
            "\n",
            "\n",
            "MALDIVES\n",
            "частка у ВВП за МВФ 2024: 0.01%\n",
            "частка у ВВП за Світовим банком 2023: 0.01%\n",
            "частка у ВВП за ООН 2022: 0.01%\n",
            "\n",
            "\n",
            "BARBADOS\n",
            "частка у ВВП за МВФ 2024: 0.01%\n",
            "частка у ВВП за Світовим банком 2023: 0.01%\n",
            "частка у ВВП за ООН 2022: 0.01%\n",
            "\n",
            "\n",
            "CAYMAN ISLANDS\n",
            "частка у ВВП за МВФ 2024: 0.89%\n",
            "частка у ВВП за Світовим банком 2023: 0.01%\n",
            "частка у ВВП за ООН 2022: 0.01%\n",
            "\n",
            "\n",
            "SOUTH SUDAN\n",
            "частка у ВВП за МВФ 2024: 0.01%\n",
            "частка у ВВП за Світовим банком 2023: 0.92%\n",
            "частка у ВВП за ООН 2022: 0.00%\n",
            "\n",
            "\n",
            "FRENCH POLYNESIA\n",
            "частка у ВВП за МВФ 2024: 0.89%\n",
            "частка у ВВП за Світовим банком 2023: 0.01%\n",
            "частка у ВВП за ООН 2022: 0.01%\n",
            "\n",
            "\n",
            "FIJI\n",
            "частка у ВВП за МВФ 2024: 0.00%\n",
            "частка у ВВП за Світовим банком 2023: 0.00%\n",
            "частка у ВВП за ООН 2022: 0.00%\n",
            "\n",
            "\n",
            "ESWATINI\n",
            "частка у ВВП за МВФ 2024: 0.00%\n",
            "частка у ВВП за Світовим банком 2023: 0.00%\n",
            "частка у ВВП за ООН 2022: 0.00%\n",
            "\n",
            "\n",
            "LIBERIA\n",
            "частка у ВВП за МВФ 2024: 0.00%\n",
            "частка у ВВП за Світовим банком 2023: 0.00%\n",
            "частка у ВВП за ООН 2022: 0.00%\n",
            "\n",
            "\n",
            "SIERRA LEONE\n",
            "частка у ВВП за МВФ 2024: 0.00%\n",
            "частка у ВВП за Світовим банком 2023: 0.00%\n",
            "частка у ВВП за ООН 2022: 0.00%\n",
            "\n",
            "\n",
            "DJIBOUTI\n",
            "частка у ВВП за МВФ 2024: 0.00%\n",
            "частка у ВВП за Світовим банком 2023: 0.00%\n",
            "частка у ВВП за ООН 2022: 0.00%\n",
            "\n",
            "\n",
            "SURINAME\n",
            "частка у ВВП за МВФ 2024: 0.00%\n",
            "частка у ВВП за Світовим банком 2023: 0.00%\n",
            "частка у ВВП за ООН 2022: 0.00%\n",
            "\n",
            "\n",
            "ARUBA\n",
            "частка у ВВП за МВФ 2024: 0.00%\n",
            "частка у ВВП за Світовим банком 2023: 0.00%\n",
            "частка у ВВП за ООН 2022: 0.00%\n",
            "\n",
            "\n",
            "ANDORRA\n",
            "частка у ВВП за МВФ 2024: 0.00%\n",
            "частка у ВВП за Світовим банком 2023: 0.00%\n",
            "частка у ВВП за ООН 2022: 0.00%\n",
            "\n",
            "\n",
            "BELIZE\n",
            "частка у ВВП за МВФ 2024: 0.00%\n",
            "частка у ВВП за Світовим банком 2023: 0.00%\n",
            "частка у ВВП за ООН 2022: 0.00%\n",
            "\n",
            "\n",
            "GREENLAND\n",
            "частка у ВВП за МВФ 2024: 0.89%\n",
            "частка у ВВП за Світовим банком 2023: 0.00%\n",
            "частка у ВВП за ООН 2022: 0.00%\n",
            "\n",
            "\n",
            "BHUTAN\n",
            "частка у ВВП за МВФ 2024: 0.00%\n",
            "частка у ВВП за Світовим банком 2023: 0.00%\n",
            "частка у ВВП за ООН 2022: 0.00%\n",
            "\n",
            "\n",
            "CURAÇAO\n",
            "частка у ВВП за МВФ 2024: 0.89%\n",
            "частка у ВВП за Світовим банком 2023: 0.00%\n",
            "частка у ВВП за ООН 2022: 0.00%\n",
            "\n",
            "\n",
            "BURUNDI\n",
            "частка у ВВП за МВФ 2024: 0.00%\n",
            "частка у ВВП за Світовим банком 2023: 0.00%\n",
            "частка у ВВП за ООН 2022: 0.00%\n",
            "\n",
            "\n",
            "CENTRAL AFRICAN REPUBLIC\n",
            "частка у ВВП за МВФ 2024: 0.00%\n",
            "частка у ВВП за Світовим банком 2023: 0.00%\n",
            "частка у ВВП за ООН 2022: 0.00%\n",
            "\n",
            "\n",
            "CAPE VERDE\n",
            "частка у ВВП за МВФ 2024: 0.00%\n",
            "частка у ВВП за Світовим банком 2023: 0.00%\n",
            "частка у ВВП за ООН 2022: 0.00%\n",
            "\n",
            "\n",
            "GAMBIA\n",
            "частка у ВВП за МВФ 2024: 0.00%\n",
            "частка у ВВП за Світовим банком 2023: 0.00%\n",
            "частка у ВВП за ООН 2022: 0.00%\n",
            "\n",
            "\n",
            "SAINT LUCIA\n",
            "частка у ВВП за МВФ 2024: 0.00%\n",
            "частка у ВВП за Світовим банком 2023: 0.00%\n",
            "частка у ВВП за ООН 2022: 0.00%\n",
            "\n",
            "\n",
            "LESOTHO\n",
            "частка у ВВП за МВФ 2024: 0.00%\n",
            "частка у ВВП за Світовим банком 2023: 0.00%\n",
            "частка у ВВП за ООН 2022: 0.00%\n",
            "\n",
            "\n",
            "ERITREA\n",
            "частка у ВВП за МВФ 2024: 0.89%\n",
            "частка у ВВП за Світовим банком 2023: 0.92%\n",
            "частка у ВВП за ООН 2022: 0.00%\n",
            "\n",
            "\n",
            "ZANZIBAR\n",
            "частка у ВВП за МВФ 2024: 0.89%\n",
            "частка у ВВП за Світовим банком 2023: 0.92%\n",
            "частка у ВВП за ООН 2022: 0.00%\n",
            "\n",
            "\n",
            "SEYCHELLES\n",
            "частка у ВВП за МВФ 2024: 0.00%\n",
            "частка у ВВП за Світовим банком 2023: 0.00%\n",
            "частка у ВВП за ООН 2022: 0.00%\n",
            "\n",
            "\n",
            "GUINEA-BISSAU\n",
            "частка у ВВП за МВФ 2024: 0.00%\n",
            "частка у ВВП за Світовим банком 2023: 0.00%\n",
            "частка у ВВП за ООН 2022: 0.00%\n",
            "\n",
            "\n",
            "ANTIGUA AND BARBUDA\n",
            "частка у ВВП за МВФ 2024: 0.00%\n",
            "частка у ВВП за Світовим банком 2023: 0.00%\n",
            "частка у ВВП за ООН 2022: 0.00%\n",
            "\n",
            "\n",
            "SAN MARINO\n",
            "частка у ВВП за МВФ 2024: 0.00%\n",
            "частка у ВВП за Світовим банком 2023: 0.00%\n",
            "частка у ВВП за ООН 2022: 0.00%\n",
            "\n",
            "\n",
            "EAST TIMOR\n",
            "частка у ВВП за МВФ 2024: 0.00%\n",
            "частка у ВВП за Світовим банком 2023: 0.00%\n",
            "частка у ВВП за ООН 2022: 0.00%\n",
            "\n",
            "\n",
            "SOLOMON ISLANDS\n",
            "частка у ВВП за МВФ 2024: 0.00%\n",
            "частка у ВВП за Світовим банком 2023: 0.00%\n",
            "частка у ВВП за ООН 2022: 0.00%\n",
            "\n",
            "\n",
            "SINT MAARTEN\n",
            "частка у ВВП за МВФ 2024: 0.89%\n",
            "частка у ВВП за Світовим банком 2023: 0.00%\n",
            "частка у ВВП за ООН 2022: 0.00%\n",
            "\n",
            "\n",
            "COMOROS\n",
            "частка у ВВП за МВФ 2024: 0.00%\n",
            "частка у ВВП за Світовим банком 2023: 0.00%\n",
            "частка у ВВП за ООН 2022: 0.00%\n",
            "\n",
            "\n",
            "GRENADA\n",
            "частка у ВВП за МВФ 2024: 0.00%\n",
            "частка у ВВП за Світовим банком 2023: 0.00%\n",
            "частка у ВВП за ООН 2022: 0.00%\n",
            "\n",
            "\n",
            "TURKS AND CAICOS ISLANDS\n",
            "частка у ВВП за МВФ 2024: 0.89%\n",
            "частка у ВВП за Світовим банком 2023: 0.00%\n",
            "частка у ВВП за ООН 2022: 0.00%\n",
            "\n",
            "\n",
            "VANUATU\n",
            "частка у ВВП за МВФ 2024: 0.00%\n",
            "частка у ВВП за Світовим банком 2023: 0.00%\n",
            "частка у ВВП за ООН 2022: 0.00%\n",
            "\n",
            "\n",
            "SAINT KITTS AND NEVIS\n",
            "частка у ВВП за МВФ 2024: 0.00%\n",
            "частка у ВВП за Світовим банком 2023: 0.00%\n",
            "частка у ВВП за ООН 2022: 0.00%\n",
            "\n",
            "\n",
            "SAINT VINCENT AND THE GRENADINES\n",
            "частка у ВВП за МВФ 2024: 0.00%\n",
            "частка у ВВП за Світовим банком 2023: 0.00%\n",
            "частка у ВВП за ООН 2022: 0.00%\n",
            "\n",
            "\n",
            "SAMOA\n",
            "частка у ВВП за МВФ 2024: 0.00%\n",
            "частка у ВВП за Світовим банком 2023: 0.00%\n",
            "частка у ВВП за ООН 2022: 0.00%\n",
            "\n",
            "\n",
            "SÃO TOMÉ AND PRÍNCIPE\n",
            "частка у ВВП за МВФ 2024: 0.00%\n",
            "частка у ВВП за Світовим банком 2023: 0.00%\n",
            "частка у ВВП за ООН 2022: 0.00%\n",
            "\n",
            "\n",
            "DOMINICA\n",
            "частка у ВВП за МВФ 2024: 0.00%\n",
            "частка у ВВП за Світовим банком 2023: 0.00%\n",
            "частка у ВВП за ООН 2022: 0.00%\n",
            "\n",
            "\n",
            "TONGA\n",
            "частка у ВВП за МВФ 2024: 0.00%\n",
            "частка у ВВП за Світовим банком 2023: 0.00%\n",
            "частка у ВВП за ООН 2022: 0.00%\n",
            "\n",
            "\n",
            "MICRONESIA\n",
            "частка у ВВП за МВФ 2024: 0.00%\n",
            "частка у ВВП за Світовим банком 2023: 0.00%\n",
            "частка у ВВП за ООН 2022: 0.00%\n",
            "\n",
            "\n",
            "KIRIBATI\n",
            "частка у ВВП за МВФ 2024: 0.00%\n",
            "частка у ВВП за Світовим банком 2023: 0.00%\n",
            "частка у ВВП за ООН 2022: 0.00%\n",
            "\n",
            "\n",
            "PALAU\n",
            "частка у ВВП за МВФ 2024: 0.00%\n",
            "частка у ВВП за Світовим банком 2023: 0.00%\n",
            "частка у ВВП за ООН 2022: 0.00%\n",
            "\n",
            "\n",
            "MARSHALL ISLANDS\n",
            "частка у ВВП за МВФ 2024: 0.00%\n",
            "частка у ВВП за Світовим банком 2023: 0.00%\n",
            "частка у ВВП за ООН 2022: 0.00%\n",
            "\n",
            "\n",
            "NAURU\n",
            "частка у ВВП за МВФ 2024: 0.00%\n",
            "частка у ВВП за Світовим банком 2023: 0.00%\n",
            "частка у ВВП за ООН 2022: 0.00%\n",
            "\n",
            "\n",
            "TUVALU\n",
            "частка у ВВП за МВФ 2024: 0.00%\n",
            "частка у ВВП за Світовим банком 2023: 0.00%\n",
            "частка у ВВП за ООН 2022: 0.00%\n",
            "\n",
            "\n"
          ]
        }
      ],
      "source": [
        "df = df[df['Country'] != 'World']\n",
        "\n",
        "total_mvf = df['MVF_2024'].sum()\n",
        "total_wb  = df['WorldBank_2023'].sum()\n",
        "total_oon = df['OON_2022'].sum()\n",
        "\n",
        "df['MVF_share'] = df['MVF_2024'] / total_mvf\n",
        "df['WB_share']  = df['WorldBank_2023'] / total_wb\n",
        "df['OON_share'] = df['OON_2022'] / total_oon\n",
        "\n",
        "for index, row in df.iterrows():\n",
        "    print(f\"{row['Country'].upper()}\")\n",
        "    print(f\"частка у ВВП за МВФ 2024: {row['MVF_share']:.2%}\")\n",
        "    print(f\"частка у ВВП за Світовим банком 2023: {row['WB_share']:.2%}\")\n",
        "    print(f\"частка у ВВП за ООН 2022: {row['OON_share']:.2%}\")\n",
        "    print(\"\\n\")"
      ]
    },
    {
      "cell_type": "markdown",
      "id": "68d189f3-3d44-47ae-87b7-b56279e16343",
      "metadata": {
        "id": "68d189f3-3d44-47ae-87b7-b56279e16343"
      },
      "source": [
        "17. Візуалізуйте зміни в показниках для кожної країни за три роки на графіку. Які країни показують стабільне зростання або спад (дати відповідь)?"
      ]
    },
    {
      "cell_type": "code",
      "execution_count": 36,
      "id": "a05502bf-3da1-48fc-9f48-1f230fb47941",
      "metadata": {
        "colab": {
          "base_uri": "https://localhost:8080/",
          "height": 204
        },
        "id": "a05502bf-3da1-48fc-9f48-1f230fb47941",
        "outputId": "3745b77e-1d75-441c-e3ff-0f2238888303"
      },
      "outputs": [
        {
          "output_type": "execute_result",
          "data": {
            "text/plain": [
              "         Country    MVF_2024  WorldBank_2023    OON_2022    std_dev  \\\n",
              "1  United States  28781083.0      27360935.0  25744100.0  1519553.0   \n",
              "2          China  18532633.0      17794782.0  17963170.0   386667.0   \n",
              "3        Germany   4591100.0       4456081.0   4076923.0   266574.0   \n",
              "4          Japan   4110452.0       4212945.0   4232173.0    65435.0   \n",
              "5          India   3937011.0       3549919.0   3465541.0   251411.0   \n",
              "\n",
              "   MVF_share  WB_share  OON_share  \n",
              "1   0.227791  0.243473   0.254812  \n",
              "2   0.146679  0.158348   0.177797  \n",
              "3   0.036337  0.039653   0.040353  \n",
              "4   0.032533  0.037489   0.041889  \n",
              "5   0.031160  0.031589   0.034301  "
            ],
            "text/html": [
              "\n",
              "  <div id=\"df-5e961cfa-2216-440f-b833-4a6ee6d70e46\" class=\"colab-df-container\">\n",
              "    <div>\n",
              "<style scoped>\n",
              "    .dataframe tbody tr th:only-of-type {\n",
              "        vertical-align: middle;\n",
              "    }\n",
              "\n",
              "    .dataframe tbody tr th {\n",
              "        vertical-align: top;\n",
              "    }\n",
              "\n",
              "    .dataframe thead th {\n",
              "        text-align: right;\n",
              "    }\n",
              "</style>\n",
              "<table border=\"1\" class=\"dataframe\">\n",
              "  <thead>\n",
              "    <tr style=\"text-align: right;\">\n",
              "      <th></th>\n",
              "      <th>Country</th>\n",
              "      <th>MVF_2024</th>\n",
              "      <th>WorldBank_2023</th>\n",
              "      <th>OON_2022</th>\n",
              "      <th>std_dev</th>\n",
              "      <th>MVF_share</th>\n",
              "      <th>WB_share</th>\n",
              "      <th>OON_share</th>\n",
              "    </tr>\n",
              "  </thead>\n",
              "  <tbody>\n",
              "    <tr>\n",
              "      <th>1</th>\n",
              "      <td>United States</td>\n",
              "      <td>28781083.0</td>\n",
              "      <td>27360935.0</td>\n",
              "      <td>25744100.0</td>\n",
              "      <td>1519553.0</td>\n",
              "      <td>0.227791</td>\n",
              "      <td>0.243473</td>\n",
              "      <td>0.254812</td>\n",
              "    </tr>\n",
              "    <tr>\n",
              "      <th>2</th>\n",
              "      <td>China</td>\n",
              "      <td>18532633.0</td>\n",
              "      <td>17794782.0</td>\n",
              "      <td>17963170.0</td>\n",
              "      <td>386667.0</td>\n",
              "      <td>0.146679</td>\n",
              "      <td>0.158348</td>\n",
              "      <td>0.177797</td>\n",
              "    </tr>\n",
              "    <tr>\n",
              "      <th>3</th>\n",
              "      <td>Germany</td>\n",
              "      <td>4591100.0</td>\n",
              "      <td>4456081.0</td>\n",
              "      <td>4076923.0</td>\n",
              "      <td>266574.0</td>\n",
              "      <td>0.036337</td>\n",
              "      <td>0.039653</td>\n",
              "      <td>0.040353</td>\n",
              "    </tr>\n",
              "    <tr>\n",
              "      <th>4</th>\n",
              "      <td>Japan</td>\n",
              "      <td>4110452.0</td>\n",
              "      <td>4212945.0</td>\n",
              "      <td>4232173.0</td>\n",
              "      <td>65435.0</td>\n",
              "      <td>0.032533</td>\n",
              "      <td>0.037489</td>\n",
              "      <td>0.041889</td>\n",
              "    </tr>\n",
              "    <tr>\n",
              "      <th>5</th>\n",
              "      <td>India</td>\n",
              "      <td>3937011.0</td>\n",
              "      <td>3549919.0</td>\n",
              "      <td>3465541.0</td>\n",
              "      <td>251411.0</td>\n",
              "      <td>0.031160</td>\n",
              "      <td>0.031589</td>\n",
              "      <td>0.034301</td>\n",
              "    </tr>\n",
              "  </tbody>\n",
              "</table>\n",
              "</div>\n",
              "    <div class=\"colab-df-buttons\">\n",
              "\n",
              "  <div class=\"colab-df-container\">\n",
              "    <button class=\"colab-df-convert\" onclick=\"convertToInteractive('df-5e961cfa-2216-440f-b833-4a6ee6d70e46')\"\n",
              "            title=\"Convert this dataframe to an interactive table.\"\n",
              "            style=\"display:none;\">\n",
              "\n",
              "  <svg xmlns=\"http://www.w3.org/2000/svg\" height=\"24px\" viewBox=\"0 -960 960 960\">\n",
              "    <path d=\"M120-120v-720h720v720H120Zm60-500h600v-160H180v160Zm220 220h160v-160H400v160Zm0 220h160v-160H400v160ZM180-400h160v-160H180v160Zm440 0h160v-160H620v160ZM180-180h160v-160H180v160Zm440 0h160v-160H620v160Z\"/>\n",
              "  </svg>\n",
              "    </button>\n",
              "\n",
              "  <style>\n",
              "    .colab-df-container {\n",
              "      display:flex;\n",
              "      gap: 12px;\n",
              "    }\n",
              "\n",
              "    .colab-df-convert {\n",
              "      background-color: #E8F0FE;\n",
              "      border: none;\n",
              "      border-radius: 50%;\n",
              "      cursor: pointer;\n",
              "      display: none;\n",
              "      fill: #1967D2;\n",
              "      height: 32px;\n",
              "      padding: 0 0 0 0;\n",
              "      width: 32px;\n",
              "    }\n",
              "\n",
              "    .colab-df-convert:hover {\n",
              "      background-color: #E2EBFA;\n",
              "      box-shadow: 0px 1px 2px rgba(60, 64, 67, 0.3), 0px 1px 3px 1px rgba(60, 64, 67, 0.15);\n",
              "      fill: #174EA6;\n",
              "    }\n",
              "\n",
              "    .colab-df-buttons div {\n",
              "      margin-bottom: 4px;\n",
              "    }\n",
              "\n",
              "    [theme=dark] .colab-df-convert {\n",
              "      background-color: #3B4455;\n",
              "      fill: #D2E3FC;\n",
              "    }\n",
              "\n",
              "    [theme=dark] .colab-df-convert:hover {\n",
              "      background-color: #434B5C;\n",
              "      box-shadow: 0px 1px 3px 1px rgba(0, 0, 0, 0.15);\n",
              "      filter: drop-shadow(0px 1px 2px rgba(0, 0, 0, 0.3));\n",
              "      fill: #FFFFFF;\n",
              "    }\n",
              "  </style>\n",
              "\n",
              "    <script>\n",
              "      const buttonEl =\n",
              "        document.querySelector('#df-5e961cfa-2216-440f-b833-4a6ee6d70e46 button.colab-df-convert');\n",
              "      buttonEl.style.display =\n",
              "        google.colab.kernel.accessAllowed ? 'block' : 'none';\n",
              "\n",
              "      async function convertToInteractive(key) {\n",
              "        const element = document.querySelector('#df-5e961cfa-2216-440f-b833-4a6ee6d70e46');\n",
              "        const dataTable =\n",
              "          await google.colab.kernel.invokeFunction('convertToInteractive',\n",
              "                                                    [key], {});\n",
              "        if (!dataTable) return;\n",
              "\n",
              "        const docLinkHtml = 'Like what you see? Visit the ' +\n",
              "          '<a target=\"_blank\" href=https://colab.research.google.com/notebooks/data_table.ipynb>data table notebook</a>'\n",
              "          + ' to learn more about interactive tables.';\n",
              "        element.innerHTML = '';\n",
              "        dataTable['output_type'] = 'display_data';\n",
              "        await google.colab.output.renderOutput(dataTable, element);\n",
              "        const docLink = document.createElement('div');\n",
              "        docLink.innerHTML = docLinkHtml;\n",
              "        element.appendChild(docLink);\n",
              "      }\n",
              "    </script>\n",
              "  </div>\n",
              "\n",
              "\n",
              "<div id=\"df-2e88e243-e1ff-4ca0-8752-2a421e0b7477\">\n",
              "  <button class=\"colab-df-quickchart\" onclick=\"quickchart('df-2e88e243-e1ff-4ca0-8752-2a421e0b7477')\"\n",
              "            title=\"Suggest charts\"\n",
              "            style=\"display:none;\">\n",
              "\n",
              "<svg xmlns=\"http://www.w3.org/2000/svg\" height=\"24px\"viewBox=\"0 0 24 24\"\n",
              "     width=\"24px\">\n",
              "    <g>\n",
              "        <path d=\"M19 3H5c-1.1 0-2 .9-2 2v14c0 1.1.9 2 2 2h14c1.1 0 2-.9 2-2V5c0-1.1-.9-2-2-2zM9 17H7v-7h2v7zm4 0h-2V7h2v10zm4 0h-2v-4h2v4z\"/>\n",
              "    </g>\n",
              "</svg>\n",
              "  </button>\n",
              "\n",
              "<style>\n",
              "  .colab-df-quickchart {\n",
              "      --bg-color: #E8F0FE;\n",
              "      --fill-color: #1967D2;\n",
              "      --hover-bg-color: #E2EBFA;\n",
              "      --hover-fill-color: #174EA6;\n",
              "      --disabled-fill-color: #AAA;\n",
              "      --disabled-bg-color: #DDD;\n",
              "  }\n",
              "\n",
              "  [theme=dark] .colab-df-quickchart {\n",
              "      --bg-color: #3B4455;\n",
              "      --fill-color: #D2E3FC;\n",
              "      --hover-bg-color: #434B5C;\n",
              "      --hover-fill-color: #FFFFFF;\n",
              "      --disabled-bg-color: #3B4455;\n",
              "      --disabled-fill-color: #666;\n",
              "  }\n",
              "\n",
              "  .colab-df-quickchart {\n",
              "    background-color: var(--bg-color);\n",
              "    border: none;\n",
              "    border-radius: 50%;\n",
              "    cursor: pointer;\n",
              "    display: none;\n",
              "    fill: var(--fill-color);\n",
              "    height: 32px;\n",
              "    padding: 0;\n",
              "    width: 32px;\n",
              "  }\n",
              "\n",
              "  .colab-df-quickchart:hover {\n",
              "    background-color: var(--hover-bg-color);\n",
              "    box-shadow: 0 1px 2px rgba(60, 64, 67, 0.3), 0 1px 3px 1px rgba(60, 64, 67, 0.15);\n",
              "    fill: var(--button-hover-fill-color);\n",
              "  }\n",
              "\n",
              "  .colab-df-quickchart-complete:disabled,\n",
              "  .colab-df-quickchart-complete:disabled:hover {\n",
              "    background-color: var(--disabled-bg-color);\n",
              "    fill: var(--disabled-fill-color);\n",
              "    box-shadow: none;\n",
              "  }\n",
              "\n",
              "  .colab-df-spinner {\n",
              "    border: 2px solid var(--fill-color);\n",
              "    border-color: transparent;\n",
              "    border-bottom-color: var(--fill-color);\n",
              "    animation:\n",
              "      spin 1s steps(1) infinite;\n",
              "  }\n",
              "\n",
              "  @keyframes spin {\n",
              "    0% {\n",
              "      border-color: transparent;\n",
              "      border-bottom-color: var(--fill-color);\n",
              "      border-left-color: var(--fill-color);\n",
              "    }\n",
              "    20% {\n",
              "      border-color: transparent;\n",
              "      border-left-color: var(--fill-color);\n",
              "      border-top-color: var(--fill-color);\n",
              "    }\n",
              "    30% {\n",
              "      border-color: transparent;\n",
              "      border-left-color: var(--fill-color);\n",
              "      border-top-color: var(--fill-color);\n",
              "      border-right-color: var(--fill-color);\n",
              "    }\n",
              "    40% {\n",
              "      border-color: transparent;\n",
              "      border-right-color: var(--fill-color);\n",
              "      border-top-color: var(--fill-color);\n",
              "    }\n",
              "    60% {\n",
              "      border-color: transparent;\n",
              "      border-right-color: var(--fill-color);\n",
              "    }\n",
              "    80% {\n",
              "      border-color: transparent;\n",
              "      border-right-color: var(--fill-color);\n",
              "      border-bottom-color: var(--fill-color);\n",
              "    }\n",
              "    90% {\n",
              "      border-color: transparent;\n",
              "      border-bottom-color: var(--fill-color);\n",
              "    }\n",
              "  }\n",
              "</style>\n",
              "\n",
              "  <script>\n",
              "    async function quickchart(key) {\n",
              "      const quickchartButtonEl =\n",
              "        document.querySelector('#' + key + ' button');\n",
              "      quickchartButtonEl.disabled = true;  // To prevent multiple clicks.\n",
              "      quickchartButtonEl.classList.add('colab-df-spinner');\n",
              "      try {\n",
              "        const charts = await google.colab.kernel.invokeFunction(\n",
              "            'suggestCharts', [key], {});\n",
              "      } catch (error) {\n",
              "        console.error('Error during call to suggestCharts:', error);\n",
              "      }\n",
              "      quickchartButtonEl.classList.remove('colab-df-spinner');\n",
              "      quickchartButtonEl.classList.add('colab-df-quickchart-complete');\n",
              "    }\n",
              "    (() => {\n",
              "      let quickchartButtonEl =\n",
              "        document.querySelector('#df-2e88e243-e1ff-4ca0-8752-2a421e0b7477 button');\n",
              "      quickchartButtonEl.style.display =\n",
              "        google.colab.kernel.accessAllowed ? 'block' : 'none';\n",
              "    })();\n",
              "  </script>\n",
              "</div>\n",
              "    </div>\n",
              "  </div>\n"
            ],
            "application/vnd.google.colaboratory.intrinsic+json": {
              "type": "dataframe",
              "variable_name": "df",
              "summary": "{\n  \"name\": \"df\",\n  \"rows\": 209,\n  \"fields\": [\n    {\n      \"column\": \"Country\",\n      \"properties\": {\n        \"dtype\": \"string\",\n        \"num_unique_values\": 209,\n        \"samples\": [\n          \"Norway\",\n          \"Suriname\",\n          \"Ghana\"\n        ],\n        \"semantic_type\": \"\",\n        \"description\": \"\"\n      }\n    },\n    {\n      \"column\": \"MVF_2024\",\n      \"properties\": {\n        \"dtype\": \"number\",\n        \"std\": 2439594.395325386,\n        \"min\": 66.0,\n        \"max\": 28781083.0,\n        \"num_unique_values\": 195,\n        \"samples\": [\n          15873.0,\n          1142513.0,\n          7199.0\n        ],\n        \"semantic_type\": \"\",\n        \"description\": \"\"\n      }\n    },\n    {\n      \"column\": \"WorldBank_2023\",\n      \"properties\": {\n        \"dtype\": \"number\",\n        \"std\": 2328002.886643094,\n        \"min\": 62.0,\n        \"max\": 27360935.0,\n        \"num_unique_values\": 202,\n        \"samples\": [\n          43205.0,\n          1371171.0,\n          485513.0\n        ],\n        \"semantic_type\": \"\",\n        \"description\": \"\"\n      }\n    },\n    {\n      \"column\": \"OON_2022\",\n      \"properties\": {\n        \"dtype\": \"number\",\n        \"std\": 2236990.014587165,\n        \"min\": 59.0,\n        \"max\": 25744100.0,\n        \"num_unique_values\": 209,\n        \"samples\": [\n          579422.0,\n          3620.0,\n          73766.0\n        ],\n        \"semantic_type\": \"\",\n        \"description\": \"\"\n      }\n    },\n    {\n      \"column\": \"std_dev\",\n      \"properties\": {\n        \"dtype\": \"number\",\n        \"std\": 202996.00349335332,\n        \"min\": 4.0,\n        \"max\": 1519553.0,\n        \"num_unique_values\": 205,\n        \"samples\": [\n          79745.0,\n          59575.0,\n          2441.0\n        ],\n        \"semantic_type\": \"\",\n        \"description\": \"\"\n      }\n    },\n    {\n      \"column\": \"MVF_share\",\n      \"properties\": {\n        \"dtype\": \"number\",\n        \"std\": 0.01930844052091759,\n        \"min\": 5.223643228654782e-07,\n        \"max\": 0.2277910747368201,\n        \"num_unique_values\": 195,\n        \"samples\": [\n          0.0001256286196491475,\n          0.00904254590318191,\n          5.697728424709966e-05\n        ],\n        \"semantic_type\": \"\",\n        \"description\": \"\"\n      }\n    },\n    {\n      \"column\": \"WB_share\",\n      \"properties\": {\n        \"dtype\": \"number\",\n        \"std\": 0.020715869252454167,\n        \"min\": 5.517106104211919e-07,\n        \"max\": 0.24347287339587992,\n        \"num_unique_values\": 202,\n        \"samples\": [\n          0.0003844622084394774,\n          0.012201444990352197,\n          0.0043203657031842604\n        ],\n        \"semantic_type\": \"\",\n        \"description\": \"\"\n      }\n    },\n    {\n      \"column\": \"OON_share\",\n      \"properties\": {\n        \"dtype\": \"number\",\n        \"std\": 0.02214142853338898,\n        \"min\": 5.83974123689164e-07,\n        \"max\": 0.25481166504519,\n        \"num_unique_values\": 209,\n        \"samples\": [\n          0.005735041605020725,\n          3.583027674160634e-05,\n          0.0007301260204755063\n        ],\n        \"semantic_type\": \"\",\n        \"description\": \"\"\n      }\n    }\n  ]\n}"
            }
          },
          "metadata": {},
          "execution_count": 36
        }
      ],
      "source": [
        "df.head()"
      ]
    },
    {
      "cell_type": "code",
      "execution_count": 39,
      "id": "e2adf633-9f2e-42c9-9951-7c5adf9b9f6a",
      "metadata": {
        "id": "e2adf633-9f2e-42c9-9951-7c5adf9b9f6a"
      },
      "outputs": [],
      "source": [
        "cols = ['MVF_2024', 'WorldBank_2023', 'OON_2022']\n",
        "df_to_use = df[['Country', 'MVF_2024', 'WorldBank_2023', 'OON_2022']]\n",
        "df_to_use = df_to_use.head(10)"
      ]
    },
    {
      "cell_type": "code",
      "execution_count": 42,
      "id": "09d00b5d-3b4e-456c-812e-ffc404e3a446",
      "metadata": {
        "colab": {
          "base_uri": "https://localhost:8080/",
          "height": 417
        },
        "id": "09d00b5d-3b4e-456c-812e-ffc404e3a446",
        "outputId": "e6163f03-a2ac-42ae-e9f2-a6df31cd7468"
      },
      "outputs": [
        {
          "output_type": "display_data",
          "data": {
            "text/html": [
              "<html>\n",
              "<head><meta charset=\"utf-8\" /></head>\n",
              "<body>\n",
              "    <div>            <script src=\"https://cdnjs.cloudflare.com/ajax/libs/mathjax/2.7.5/MathJax.js?config=TeX-AMS-MML_SVG\"></script><script type=\"text/javascript\">if (window.MathJax && window.MathJax.Hub && window.MathJax.Hub.Config) {window.MathJax.Hub.Config({SVG: {font: \"STIX-Web\"}});}</script>                <script type=\"text/javascript\">window.PlotlyConfig = {MathJaxConfig: 'local'};</script>\n",
              "        <script charset=\"utf-8\" src=\"https://cdn.plot.ly/plotly-2.24.1.min.js\"></script>                <div id=\"416ed5ef-8d90-4b4b-bfb4-769af83332d2\" class=\"plotly-graph-div\" style=\"height:400px; width:600px;\"></div>            <script type=\"text/javascript\">                                    window.PLOTLYENV=window.PLOTLYENV || {};                                    if (document.getElementById(\"416ed5ef-8d90-4b4b-bfb4-769af83332d2\")) {                    Plotly.newPlot(                        \"416ed5ef-8d90-4b4b-bfb4-769af83332d2\",                        [{\"alignmentgroup\":\"True\",\"hovertemplate\":\"Year=MVF_2024\\u003cbr\\u003eCountry=%{x}\\u003cbr\\u003eValue=%{y}\\u003cextra\\u003e\\u003c\\u002fextra\\u003e\",\"legendgroup\":\"MVF_2024\",\"marker\":{\"color\":\"#636efa\",\"pattern\":{\"shape\":\"\"}},\"name\":\"MVF_2024\",\"offsetgroup\":\"MVF_2024\",\"orientation\":\"v\",\"showlegend\":true,\"textposition\":\"auto\",\"x\":[\"United States\",\"China\",\"Germany\",\"Japan\",\"India\",\"United Kingdom\",\"France\",\"Brazil\",\"Italy\",\"Canada\"],\"xaxis\":\"x\",\"y\":[28781083.0,18532633.0,4591100.0,4110452.0,3937011.0,3495261.0,3130014.0,2331391.0,2328028.0,2242182.0],\"yaxis\":\"y\",\"type\":\"bar\"},{\"alignmentgroup\":\"True\",\"hovertemplate\":\"Year=WorldBank_2023\\u003cbr\\u003eCountry=%{x}\\u003cbr\\u003eValue=%{y}\\u003cextra\\u003e\\u003c\\u002fextra\\u003e\",\"legendgroup\":\"WorldBank_2023\",\"marker\":{\"color\":\"#EF553B\",\"pattern\":{\"shape\":\"\"}},\"name\":\"WorldBank_2023\",\"offsetgroup\":\"WorldBank_2023\",\"orientation\":\"v\",\"showlegend\":true,\"textposition\":\"auto\",\"x\":[\"United States\",\"China\",\"Germany\",\"Japan\",\"India\",\"United Kingdom\",\"France\",\"Brazil\",\"Italy\",\"Canada\"],\"xaxis\":\"x\",\"y\":[27360935.0,17794782.0,4456081.0,4212945.0,3549919.0,3340032.0,3030904.0,2173666.0,2254851.0,2140086.0],\"yaxis\":\"y\",\"type\":\"bar\"},{\"alignmentgroup\":\"True\",\"hovertemplate\":\"Year=OON_2022\\u003cbr\\u003eCountry=%{x}\\u003cbr\\u003eValue=%{y}\\u003cextra\\u003e\\u003c\\u002fextra\\u003e\",\"legendgroup\":\"OON_2022\",\"marker\":{\"color\":\"#00cc96\",\"pattern\":{\"shape\":\"\"}},\"name\":\"OON_2022\",\"offsetgroup\":\"OON_2022\",\"orientation\":\"v\",\"showlegend\":true,\"textposition\":\"auto\",\"x\":[\"United States\",\"China\",\"Germany\",\"Japan\",\"India\",\"United Kingdom\",\"France\",\"Brazil\",\"Italy\",\"Canada\"],\"xaxis\":\"x\",\"y\":[25744100.0,17963170.0,4076923.0,4232173.0,3465541.0,3089072.0,2775316.0,1920095.0,2046952.0,2137939.0],\"yaxis\":\"y\",\"type\":\"bar\"}],                        {\"template\":{\"data\":{\"histogram2dcontour\":[{\"type\":\"histogram2dcontour\",\"colorbar\":{\"outlinewidth\":0,\"ticks\":\"\"},\"colorscale\":[[0.0,\"#0d0887\"],[0.1111111111111111,\"#46039f\"],[0.2222222222222222,\"#7201a8\"],[0.3333333333333333,\"#9c179e\"],[0.4444444444444444,\"#bd3786\"],[0.5555555555555556,\"#d8576b\"],[0.6666666666666666,\"#ed7953\"],[0.7777777777777778,\"#fb9f3a\"],[0.8888888888888888,\"#fdca26\"],[1.0,\"#f0f921\"]]}],\"choropleth\":[{\"type\":\"choropleth\",\"colorbar\":{\"outlinewidth\":0,\"ticks\":\"\"}}],\"histogram2d\":[{\"type\":\"histogram2d\",\"colorbar\":{\"outlinewidth\":0,\"ticks\":\"\"},\"colorscale\":[[0.0,\"#0d0887\"],[0.1111111111111111,\"#46039f\"],[0.2222222222222222,\"#7201a8\"],[0.3333333333333333,\"#9c179e\"],[0.4444444444444444,\"#bd3786\"],[0.5555555555555556,\"#d8576b\"],[0.6666666666666666,\"#ed7953\"],[0.7777777777777778,\"#fb9f3a\"],[0.8888888888888888,\"#fdca26\"],[1.0,\"#f0f921\"]]}],\"heatmap\":[{\"type\":\"heatmap\",\"colorbar\":{\"outlinewidth\":0,\"ticks\":\"\"},\"colorscale\":[[0.0,\"#0d0887\"],[0.1111111111111111,\"#46039f\"],[0.2222222222222222,\"#7201a8\"],[0.3333333333333333,\"#9c179e\"],[0.4444444444444444,\"#bd3786\"],[0.5555555555555556,\"#d8576b\"],[0.6666666666666666,\"#ed7953\"],[0.7777777777777778,\"#fb9f3a\"],[0.8888888888888888,\"#fdca26\"],[1.0,\"#f0f921\"]]}],\"heatmapgl\":[{\"type\":\"heatmapgl\",\"colorbar\":{\"outlinewidth\":0,\"ticks\":\"\"},\"colorscale\":[[0.0,\"#0d0887\"],[0.1111111111111111,\"#46039f\"],[0.2222222222222222,\"#7201a8\"],[0.3333333333333333,\"#9c179e\"],[0.4444444444444444,\"#bd3786\"],[0.5555555555555556,\"#d8576b\"],[0.6666666666666666,\"#ed7953\"],[0.7777777777777778,\"#fb9f3a\"],[0.8888888888888888,\"#fdca26\"],[1.0,\"#f0f921\"]]}],\"contourcarpet\":[{\"type\":\"contourcarpet\",\"colorbar\":{\"outlinewidth\":0,\"ticks\":\"\"}}],\"contour\":[{\"type\":\"contour\",\"colorbar\":{\"outlinewidth\":0,\"ticks\":\"\"},\"colorscale\":[[0.0,\"#0d0887\"],[0.1111111111111111,\"#46039f\"],[0.2222222222222222,\"#7201a8\"],[0.3333333333333333,\"#9c179e\"],[0.4444444444444444,\"#bd3786\"],[0.5555555555555556,\"#d8576b\"],[0.6666666666666666,\"#ed7953\"],[0.7777777777777778,\"#fb9f3a\"],[0.8888888888888888,\"#fdca26\"],[1.0,\"#f0f921\"]]}],\"surface\":[{\"type\":\"surface\",\"colorbar\":{\"outlinewidth\":0,\"ticks\":\"\"},\"colorscale\":[[0.0,\"#0d0887\"],[0.1111111111111111,\"#46039f\"],[0.2222222222222222,\"#7201a8\"],[0.3333333333333333,\"#9c179e\"],[0.4444444444444444,\"#bd3786\"],[0.5555555555555556,\"#d8576b\"],[0.6666666666666666,\"#ed7953\"],[0.7777777777777778,\"#fb9f3a\"],[0.8888888888888888,\"#fdca26\"],[1.0,\"#f0f921\"]]}],\"mesh3d\":[{\"type\":\"mesh3d\",\"colorbar\":{\"outlinewidth\":0,\"ticks\":\"\"}}],\"scatter\":[{\"fillpattern\":{\"fillmode\":\"overlay\",\"size\":10,\"solidity\":0.2},\"type\":\"scatter\"}],\"parcoords\":[{\"type\":\"parcoords\",\"line\":{\"colorbar\":{\"outlinewidth\":0,\"ticks\":\"\"}}}],\"scatterpolargl\":[{\"type\":\"scatterpolargl\",\"marker\":{\"colorbar\":{\"outlinewidth\":0,\"ticks\":\"\"}}}],\"bar\":[{\"error_x\":{\"color\":\"#2a3f5f\"},\"error_y\":{\"color\":\"#2a3f5f\"},\"marker\":{\"line\":{\"color\":\"#E5ECF6\",\"width\":0.5},\"pattern\":{\"fillmode\":\"overlay\",\"size\":10,\"solidity\":0.2}},\"type\":\"bar\"}],\"scattergeo\":[{\"type\":\"scattergeo\",\"marker\":{\"colorbar\":{\"outlinewidth\":0,\"ticks\":\"\"}}}],\"scatterpolar\":[{\"type\":\"scatterpolar\",\"marker\":{\"colorbar\":{\"outlinewidth\":0,\"ticks\":\"\"}}}],\"histogram\":[{\"marker\":{\"pattern\":{\"fillmode\":\"overlay\",\"size\":10,\"solidity\":0.2}},\"type\":\"histogram\"}],\"scattergl\":[{\"type\":\"scattergl\",\"marker\":{\"colorbar\":{\"outlinewidth\":0,\"ticks\":\"\"}}}],\"scatter3d\":[{\"type\":\"scatter3d\",\"line\":{\"colorbar\":{\"outlinewidth\":0,\"ticks\":\"\"}},\"marker\":{\"colorbar\":{\"outlinewidth\":0,\"ticks\":\"\"}}}],\"scattermapbox\":[{\"type\":\"scattermapbox\",\"marker\":{\"colorbar\":{\"outlinewidth\":0,\"ticks\":\"\"}}}],\"scatterternary\":[{\"type\":\"scatterternary\",\"marker\":{\"colorbar\":{\"outlinewidth\":0,\"ticks\":\"\"}}}],\"scattercarpet\":[{\"type\":\"scattercarpet\",\"marker\":{\"colorbar\":{\"outlinewidth\":0,\"ticks\":\"\"}}}],\"carpet\":[{\"aaxis\":{\"endlinecolor\":\"#2a3f5f\",\"gridcolor\":\"white\",\"linecolor\":\"white\",\"minorgridcolor\":\"white\",\"startlinecolor\":\"#2a3f5f\"},\"baxis\":{\"endlinecolor\":\"#2a3f5f\",\"gridcolor\":\"white\",\"linecolor\":\"white\",\"minorgridcolor\":\"white\",\"startlinecolor\":\"#2a3f5f\"},\"type\":\"carpet\"}],\"table\":[{\"cells\":{\"fill\":{\"color\":\"#EBF0F8\"},\"line\":{\"color\":\"white\"}},\"header\":{\"fill\":{\"color\":\"#C8D4E3\"},\"line\":{\"color\":\"white\"}},\"type\":\"table\"}],\"barpolar\":[{\"marker\":{\"line\":{\"color\":\"#E5ECF6\",\"width\":0.5},\"pattern\":{\"fillmode\":\"overlay\",\"size\":10,\"solidity\":0.2}},\"type\":\"barpolar\"}],\"pie\":[{\"automargin\":true,\"type\":\"pie\"}]},\"layout\":{\"autotypenumbers\":\"strict\",\"colorway\":[\"#636efa\",\"#EF553B\",\"#00cc96\",\"#ab63fa\",\"#FFA15A\",\"#19d3f3\",\"#FF6692\",\"#B6E880\",\"#FF97FF\",\"#FECB52\"],\"font\":{\"color\":\"#2a3f5f\"},\"hovermode\":\"closest\",\"hoverlabel\":{\"align\":\"left\"},\"paper_bgcolor\":\"white\",\"plot_bgcolor\":\"#E5ECF6\",\"polar\":{\"bgcolor\":\"#E5ECF6\",\"angularaxis\":{\"gridcolor\":\"white\",\"linecolor\":\"white\",\"ticks\":\"\"},\"radialaxis\":{\"gridcolor\":\"white\",\"linecolor\":\"white\",\"ticks\":\"\"}},\"ternary\":{\"bgcolor\":\"#E5ECF6\",\"aaxis\":{\"gridcolor\":\"white\",\"linecolor\":\"white\",\"ticks\":\"\"},\"baxis\":{\"gridcolor\":\"white\",\"linecolor\":\"white\",\"ticks\":\"\"},\"caxis\":{\"gridcolor\":\"white\",\"linecolor\":\"white\",\"ticks\":\"\"}},\"coloraxis\":{\"colorbar\":{\"outlinewidth\":0,\"ticks\":\"\"}},\"colorscale\":{\"sequential\":[[0.0,\"#0d0887\"],[0.1111111111111111,\"#46039f\"],[0.2222222222222222,\"#7201a8\"],[0.3333333333333333,\"#9c179e\"],[0.4444444444444444,\"#bd3786\"],[0.5555555555555556,\"#d8576b\"],[0.6666666666666666,\"#ed7953\"],[0.7777777777777778,\"#fb9f3a\"],[0.8888888888888888,\"#fdca26\"],[1.0,\"#f0f921\"]],\"sequentialminus\":[[0.0,\"#0d0887\"],[0.1111111111111111,\"#46039f\"],[0.2222222222222222,\"#7201a8\"],[0.3333333333333333,\"#9c179e\"],[0.4444444444444444,\"#bd3786\"],[0.5555555555555556,\"#d8576b\"],[0.6666666666666666,\"#ed7953\"],[0.7777777777777778,\"#fb9f3a\"],[0.8888888888888888,\"#fdca26\"],[1.0,\"#f0f921\"]],\"diverging\":[[0,\"#8e0152\"],[0.1,\"#c51b7d\"],[0.2,\"#de77ae\"],[0.3,\"#f1b6da\"],[0.4,\"#fde0ef\"],[0.5,\"#f7f7f7\"],[0.6,\"#e6f5d0\"],[0.7,\"#b8e186\"],[0.8,\"#7fbc41\"],[0.9,\"#4d9221\"],[1,\"#276419\"]]},\"xaxis\":{\"gridcolor\":\"white\",\"linecolor\":\"white\",\"ticks\":\"\",\"title\":{\"standoff\":15},\"zerolinecolor\":\"white\",\"automargin\":true,\"zerolinewidth\":2},\"yaxis\":{\"gridcolor\":\"white\",\"linecolor\":\"white\",\"ticks\":\"\",\"title\":{\"standoff\":15},\"zerolinecolor\":\"white\",\"automargin\":true,\"zerolinewidth\":2},\"scene\":{\"xaxis\":{\"backgroundcolor\":\"#E5ECF6\",\"gridcolor\":\"white\",\"linecolor\":\"white\",\"showbackground\":true,\"ticks\":\"\",\"zerolinecolor\":\"white\",\"gridwidth\":2},\"yaxis\":{\"backgroundcolor\":\"#E5ECF6\",\"gridcolor\":\"white\",\"linecolor\":\"white\",\"showbackground\":true,\"ticks\":\"\",\"zerolinecolor\":\"white\",\"gridwidth\":2},\"zaxis\":{\"backgroundcolor\":\"#E5ECF6\",\"gridcolor\":\"white\",\"linecolor\":\"white\",\"showbackground\":true,\"ticks\":\"\",\"zerolinecolor\":\"white\",\"gridwidth\":2}},\"shapedefaults\":{\"line\":{\"color\":\"#2a3f5f\"}},\"annotationdefaults\":{\"arrowcolor\":\"#2a3f5f\",\"arrowhead\":0,\"arrowwidth\":1},\"geo\":{\"bgcolor\":\"white\",\"landcolor\":\"#E5ECF6\",\"subunitcolor\":\"white\",\"showland\":true,\"showlakes\":true,\"lakecolor\":\"white\"},\"title\":{\"x\":0.05},\"mapbox\":{\"style\":\"light\"}}},\"xaxis\":{\"anchor\":\"y\",\"domain\":[0.0,1.0],\"title\":{\"text\":\"Country\"}},\"yaxis\":{\"anchor\":\"x\",\"domain\":[0.0,1.0],\"title\":{\"text\":\"Value\"}},\"legend\":{\"title\":{\"text\":\"Year\"},\"tracegroupgap\":0},\"title\":{\"text\":\"\\u0417\\u043c\\u0456\\u043d\\u0438 \\u0432 \\u043f\\u043e\\u043a\\u0430\\u0437\\u043d\\u0438\\u043a\\u0430\\u0445 \\u0434\\u043b\\u044f \\u0422\\u041e\\u041f-10 \\u043a\\u0440\\u0430\\u0457\\u043d \\u0437\\u0430 \\u0442\\u0440\\u0438 \\u0440\\u043e\\u043a\\u0438\"},\"barmode\":\"group\",\"width\":600,\"height\":400},                        {\"responsive\": true}                    ).then(function(){\n",
              "                            \n",
              "var gd = document.getElementById('416ed5ef-8d90-4b4b-bfb4-769af83332d2');\n",
              "var x = new MutationObserver(function (mutations, observer) {{\n",
              "        var display = window.getComputedStyle(gd).display;\n",
              "        if (!display || display === 'none') {{\n",
              "            console.log([gd, 'removed!']);\n",
              "            Plotly.purge(gd);\n",
              "            observer.disconnect();\n",
              "        }}\n",
              "}});\n",
              "\n",
              "// Listen for the removal of the full notebook cells\n",
              "var notebookContainer = gd.closest('#notebook-container');\n",
              "if (notebookContainer) {{\n",
              "    x.observe(notebookContainer, {childList: true});\n",
              "}}\n",
              "\n",
              "// Listen for the clearing of the current output cell\n",
              "var outputEl = gd.closest('.output');\n",
              "if (outputEl) {{\n",
              "    x.observe(outputEl, {childList: true});\n",
              "}}\n",
              "\n",
              "                        })                };                            </script>        </div>\n",
              "</body>\n",
              "</html>"
            ]
          },
          "metadata": {}
        }
      ],
      "source": [
        "df_long = df_to_use.melt(id_vars = \"Country\", var_name = \"Year\", value_name = \"Value\")\n",
        "\n",
        "fig = px.bar(df_long, x = \"Country\", y = \"Value\",\n",
        "             color = \"Year\", barmode = \"group\",\n",
        "             title = \"Зміни в показниках для ТОП-10 країн за три роки\")\n",
        "\n",
        "fig.update_layout(width = 600, height = 400)\n",
        "\n",
        "fig.show()"
      ]
    },
    {
      "cell_type": "markdown",
      "id": "432435ef-06a2-45df-9172-616064d2eb36",
      "metadata": {
        "id": "432435ef-06a2-45df-9172-616064d2eb36"
      },
      "source": [
        "Показують стабільне зростання: USA, Germany, UK, France, Italy, Сanada"
      ]
    },
    {
      "cell_type": "markdown",
      "id": "9456b4ee-8352-4254-9c4c-1f1f7a32e9a9",
      "metadata": {
        "id": "9456b4ee-8352-4254-9c4c-1f1f7a32e9a9"
      },
      "source": [
        "Висновки:"
      ]
    },
    {
      "cell_type": "markdown",
      "id": "c68fd0d6-4ea5-437d-b499-372c0f676e2b",
      "metadata": {
        "id": "c68fd0d6-4ea5-437d-b499-372c0f676e2b"
      },
      "source": [
        "У лабораторній роботі я попрацювала із бібліотеками pandas, seaborn, plotly, пригадала як працювати з датафреймами, зчитувати таблиці з вебсайтів, аналізувати їх, робити візуалізації."
      ]
    },
    {
      "cell_type": "markdown",
      "id": "a813e06d-889b-4f7a-8e5d-7966fea5477c",
      "metadata": {
        "id": "a813e06d-889b-4f7a-8e5d-7966fea5477c"
      },
      "source": [
        "## Завдання 2"
      ]
    },
    {
      "cell_type": "markdown",
      "id": "0f88f6a3-4a76-4e13-b6ac-ec04cffa5776",
      "metadata": {
        "id": "0f88f6a3-4a76-4e13-b6ac-ec04cffa5776"
      },
      "source": [
        "1. Вивести перших 5 рядків"
      ]
    },
    {
      "cell_type": "code",
      "execution_count": null,
      "id": "ecd395ef-07f0-4a21-9a13-9be3202f6451",
      "metadata": {
        "id": "ecd395ef-07f0-4a21-9a13-9be3202f6451",
        "outputId": "c2470e5b-b91c-46ac-9d0d-9aa04ab5b39b"
      },
      "outputs": [
        {
          "data": {
            "text/html": [
              "<div>\n",
              "<style scoped>\n",
              "    .dataframe tbody tr th:only-of-type {\n",
              "        vertical-align: middle;\n",
              "    }\n",
              "\n",
              "    .dataframe tbody tr th {\n",
              "        vertical-align: top;\n",
              "    }\n",
              "\n",
              "    .dataframe thead th {\n",
              "        text-align: right;\n",
              "    }\n",
              "</style>\n",
              "<table border=\"1\" class=\"dataframe\">\n",
              "  <thead>\n",
              "    <tr style=\"text-align: right;\">\n",
              "      <th></th>\n",
              "      <th>PassengerId</th>\n",
              "      <th>Survived</th>\n",
              "      <th>Pclass</th>\n",
              "      <th>Name</th>\n",
              "      <th>Sex</th>\n",
              "      <th>Age</th>\n",
              "      <th>SibSp</th>\n",
              "      <th>Parch</th>\n",
              "      <th>Ticket</th>\n",
              "      <th>Fare</th>\n",
              "      <th>Cabin</th>\n",
              "      <th>Embarked</th>\n",
              "    </tr>\n",
              "  </thead>\n",
              "  <tbody>\n",
              "    <tr>\n",
              "      <th>0</th>\n",
              "      <td>892</td>\n",
              "      <td>0</td>\n",
              "      <td>3</td>\n",
              "      <td>Kelly, Mr. James</td>\n",
              "      <td>male</td>\n",
              "      <td>34.5</td>\n",
              "      <td>0</td>\n",
              "      <td>0</td>\n",
              "      <td>330911</td>\n",
              "      <td>7.8292</td>\n",
              "      <td>NaN</td>\n",
              "      <td>Q</td>\n",
              "    </tr>\n",
              "    <tr>\n",
              "      <th>1</th>\n",
              "      <td>893</td>\n",
              "      <td>1</td>\n",
              "      <td>3</td>\n",
              "      <td>Wilkes, Mrs. James (Ellen Needs)</td>\n",
              "      <td>female</td>\n",
              "      <td>47.0</td>\n",
              "      <td>1</td>\n",
              "      <td>0</td>\n",
              "      <td>363272</td>\n",
              "      <td>7.0000</td>\n",
              "      <td>NaN</td>\n",
              "      <td>S</td>\n",
              "    </tr>\n",
              "    <tr>\n",
              "      <th>2</th>\n",
              "      <td>894</td>\n",
              "      <td>0</td>\n",
              "      <td>2</td>\n",
              "      <td>Myles, Mr. Thomas Francis</td>\n",
              "      <td>male</td>\n",
              "      <td>62.0</td>\n",
              "      <td>0</td>\n",
              "      <td>0</td>\n",
              "      <td>240276</td>\n",
              "      <td>9.6875</td>\n",
              "      <td>NaN</td>\n",
              "      <td>Q</td>\n",
              "    </tr>\n",
              "    <tr>\n",
              "      <th>3</th>\n",
              "      <td>895</td>\n",
              "      <td>0</td>\n",
              "      <td>3</td>\n",
              "      <td>Wirz, Mr. Albert</td>\n",
              "      <td>male</td>\n",
              "      <td>27.0</td>\n",
              "      <td>0</td>\n",
              "      <td>0</td>\n",
              "      <td>315154</td>\n",
              "      <td>8.6625</td>\n",
              "      <td>NaN</td>\n",
              "      <td>S</td>\n",
              "    </tr>\n",
              "    <tr>\n",
              "      <th>4</th>\n",
              "      <td>896</td>\n",
              "      <td>1</td>\n",
              "      <td>3</td>\n",
              "      <td>Hirvonen, Mrs. Alexander (Helga E Lindqvist)</td>\n",
              "      <td>female</td>\n",
              "      <td>22.0</td>\n",
              "      <td>1</td>\n",
              "      <td>1</td>\n",
              "      <td>3101298</td>\n",
              "      <td>12.2875</td>\n",
              "      <td>NaN</td>\n",
              "      <td>S</td>\n",
              "    </tr>\n",
              "  </tbody>\n",
              "</table>\n",
              "</div>"
            ],
            "text/plain": [
              "   PassengerId  Survived  Pclass  \\\n",
              "0          892         0       3   \n",
              "1          893         1       3   \n",
              "2          894         0       2   \n",
              "3          895         0       3   \n",
              "4          896         1       3   \n",
              "\n",
              "                                           Name     Sex   Age  SibSp  Parch  \\\n",
              "0                              Kelly, Mr. James    male  34.5      0      0   \n",
              "1              Wilkes, Mrs. James (Ellen Needs)  female  47.0      1      0   \n",
              "2                     Myles, Mr. Thomas Francis    male  62.0      0      0   \n",
              "3                              Wirz, Mr. Albert    male  27.0      0      0   \n",
              "4  Hirvonen, Mrs. Alexander (Helga E Lindqvist)  female  22.0      1      1   \n",
              "\n",
              "    Ticket     Fare Cabin Embarked  \n",
              "0   330911   7.8292   NaN        Q  \n",
              "1   363272   7.0000   NaN        S  \n",
              "2   240276   9.6875   NaN        Q  \n",
              "3   315154   8.6625   NaN        S  \n",
              "4  3101298  12.2875   NaN        S  "
            ]
          },
          "execution_count": 52,
          "metadata": {},
          "output_type": "execute_result"
        }
      ],
      "source": [
        "df_titanic = pd.read_csv('titanic.csv')\n",
        "df_titanic.head()"
      ]
    },
    {
      "cell_type": "markdown",
      "id": "1cda8391-a160-44ae-9d18-4b2e6391921f",
      "metadata": {
        "id": "1cda8391-a160-44ae-9d18-4b2e6391921f"
      },
      "source": [
        "2. Визначити розмір датасета"
      ]
    },
    {
      "cell_type": "code",
      "execution_count": null,
      "id": "9af0ac91-ba82-42c3-9666-0222a98daef0",
      "metadata": {
        "id": "9af0ac91-ba82-42c3-9666-0222a98daef0",
        "outputId": "6b373d00-023c-4278-9fe9-67d70ff1b1a9"
      },
      "outputs": [
        {
          "data": {
            "text/plain": [
              "(418, 12)"
            ]
          },
          "execution_count": 53,
          "metadata": {},
          "output_type": "execute_result"
        }
      ],
      "source": [
        "df_titanic.shape"
      ]
    },
    {
      "cell_type": "markdown",
      "id": "4724e547-b8e6-496f-a414-df29778ea71d",
      "metadata": {
        "id": "4724e547-b8e6-496f-a414-df29778ea71d"
      },
      "source": [
        "3. Визначити тип даних"
      ]
    },
    {
      "cell_type": "code",
      "execution_count": null,
      "id": "5e0f8a88-5cd1-43c1-b9cc-bbd299e6c210",
      "metadata": {
        "id": "5e0f8a88-5cd1-43c1-b9cc-bbd299e6c210",
        "outputId": "42191de7-15d8-4fc5-f0c7-ade0028e7274"
      },
      "outputs": [
        {
          "name": "stdout",
          "output_type": "stream",
          "text": [
            "<class 'pandas.core.frame.DataFrame'>\n",
            "RangeIndex: 418 entries, 0 to 417\n",
            "Data columns (total 12 columns):\n",
            " #   Column       Non-Null Count  Dtype  \n",
            "---  ------       --------------  -----  \n",
            " 0   PassengerId  418 non-null    int64  \n",
            " 1   Survived     418 non-null    int64  \n",
            " 2   Pclass       418 non-null    int64  \n",
            " 3   Name         418 non-null    object \n",
            " 4   Sex          418 non-null    object \n",
            " 5   Age          332 non-null    float64\n",
            " 6   SibSp        418 non-null    int64  \n",
            " 7   Parch        418 non-null    int64  \n",
            " 8   Ticket       418 non-null    object \n",
            " 9   Fare         417 non-null    float64\n",
            " 10  Cabin        91 non-null     object \n",
            " 11  Embarked     418 non-null    object \n",
            "dtypes: float64(2), int64(5), object(5)\n",
            "memory usage: 39.3+ KB\n"
          ]
        }
      ],
      "source": [
        "df_titanic.info()"
      ]
    },
    {
      "cell_type": "code",
      "execution_count": null,
      "id": "3412f127-2190-41a5-8080-9641ef80cd75",
      "metadata": {
        "id": "3412f127-2190-41a5-8080-9641ef80cd75",
        "outputId": "92dac1d3-ff8c-4fcb-e0b3-e7d9c93fa04b"
      },
      "outputs": [
        {
          "data": {
            "text/plain": [
              "array(['330911', '363272', '240276', '315154', '3101298', '7538',\n",
              "       '330972', '248738', '2657', 'A/4 48871', '349220', '694', '21228',\n",
              "       '24065', 'W.E.P. 5734', 'SC/PARIS 2167', '233734', '2692',\n",
              "       'STON/O2. 3101270', '2696', 'PC 17603', 'C 17368', 'PC 17598',\n",
              "       'PC 17597', 'PC 17608', 'A/5. 3337', '113509', '2698', '113054',\n",
              "       '2662', 'SC/AH 3085', 'C.A. 31029', 'C.A. 2315', 'W./C. 6607',\n",
              "       '13236', '2682', '342712', '315087', '345768', '1601', '349256',\n",
              "       '113778', 'SOTON/O.Q. 3101263', '237249', '11753',\n",
              "       'STON/O 2. 3101291', 'PC 17594', '370374', '11813', 'C.A. 37671',\n",
              "       '13695', 'SC/PARIS 2168', '29105', '19950', 'SC/A.3 2861',\n",
              "       '382652', '349230', '348122', '386525', '349232', '237216',\n",
              "       '347090', '334914', 'F.C.C. 13534', '330963', '113796', '2543',\n",
              "       '382653', '349211', '3101297', 'PC 17562', '113503', '359306',\n",
              "       '11770', '248744', '368702', '2678', 'PC 17483', '19924', '349238',\n",
              "       '240261', '2660', '330844', 'A/4 31416', '364856', '29103',\n",
              "       '347072', '345498', 'F.C. 12750', '376563', '13905', '350033',\n",
              "       '19877', 'STON/O 2. 3101268', '347471', 'A./5. 3338', '11778',\n",
              "       '228414', '365235', '347070', '2625', 'C 4001', '330920', '383162',\n",
              "       '3410', '248734', '237734', '330968', 'PC 17531', '329944', '2680',\n",
              "       '2681', 'PP 9549', '13050', 'SC/AH 29037', 'C.A. 33595', '367227',\n",
              "       '392095', '368783', '371362', '350045', '367226', '211535',\n",
              "       '342441', 'STON/OQ. 369943', '113780', '4133', '2621', '349226',\n",
              "       '350409', '2656', '248659', 'SOTON/OQ 392083', 'CA 2144', '113781',\n",
              "       '244358', '17475', '345763', '17463', 'SC/A4 23568', '113791',\n",
              "       '250651', '11767', '349255', '3701', '350405', '347077',\n",
              "       'S.O./P.P. 752', '347469', '110489', 'SOTON/O.Q. 3101315',\n",
              "       '335432', '2650', '220844', '343271', '237393', '315153',\n",
              "       'PC 17591', 'W./C. 6608', '17770', '7548', 'S.O./P.P. 251', '2670',\n",
              "       '2673', '29750', 'C.A. 33112', '230136', 'PC 17756', '233478',\n",
              "       '113773', '7935', 'PC 17558', '239059', 'S.O./P.P. 2', 'A/4 48873',\n",
              "       'CA. 2343', '28221', '226875', '111163', 'A/5. 851', '235509',\n",
              "       '28220', '347465', '16966', '347066', 'C.A. 31030', '65305',\n",
              "       '36568', '347080', 'PC 17757', '26360', 'C.A. 34050', 'F.C. 12998',\n",
              "       '9232', '28034', 'PC 17613', '349250', 'SOTON/O.Q. 3101308',\n",
              "       'S.O.C. 14879', '347091', '113038', '330924', '36928', '32302',\n",
              "       'SC/PARIS 2148', '342684', 'W./C. 14266', '350053', 'PC 17606',\n",
              "       '2661', '350054', '370368', 'C.A. 6212', '242963', '220845',\n",
              "       '113795', '3101266', '330971', 'PC 17599', '350416', '110813',\n",
              "       '2679', '250650', 'PC 17761', '112377', '237789', '3470', '17464',\n",
              "       '26707', 'C.A. 34651', 'SOTON/O2 3101284', '13508', '7266',\n",
              "       '345775', 'C.A. 42795', 'AQ/4 3130', '363611', '28404', '345501',\n",
              "       '345572', '350410', 'C.A. 34644', '349235', '112051', 'C.A. 49867',\n",
              "       'A. 2. 39186', '315095', '368573', '370371', '2676', '236853',\n",
              "       'SC 14888', '2926', 'CA 31352', 'W./C. 14260', '315085', '364859',\n",
              "       '370129', 'A/5 21175', 'SOTON/O.Q. 3101314', '2655', 'A/5 1478',\n",
              "       'PC 17607', '382650', '2652', '33638', '345771', '349202',\n",
              "       'SC/Paris 2123', '113801', '347467', '347079', '237735', '315092',\n",
              "       '383123', '112901', '392091', '12749', '350026', '315091', '2658',\n",
              "       'LP 1588', '368364', 'PC 17760', 'AQ/3. 30631', 'PC 17569',\n",
              "       '28004', '350408', '347075', '2654', '244368', '113790', '24160',\n",
              "       'SOTON/O.Q. 3101309', 'PC 17585', '2003', '236854', 'PC 17580',\n",
              "       '2684', '2653', '349229', '110469', '244360', '2675', '2622',\n",
              "       'C.A. 15185', '350403', 'PC 17755', '348125', '237670', '2688',\n",
              "       '248726', 'F.C.C. 13528', 'PC 17759', 'F.C.C. 13540', '113044',\n",
              "       '11769', '1222', '368402', '349910', 'S.C./PARIS 2079', '315083',\n",
              "       '11765', '2689', '3101295', '112378', 'SC/PARIS 2147', '28133',\n",
              "       '112058', '248746', '315152', '29107', '680', '366713', '330910',\n",
              "       '364498', '376566', 'SC/PARIS 2159', '349911', '244346', '364858',\n",
              "       '349909', 'PC 17592', 'C.A. 2673', 'C.A. 30769', '371109', '13567',\n",
              "       '347065', '21332', '28664', '113059', '17765', 'SC/PARIS 2166',\n",
              "       '28666', '334915', '365237', '19928', '347086', 'A.5. 3236',\n",
              "       'PC 17758', 'SOTON/O.Q. 3101262', '359309', '2668'], dtype=object)"
            ]
          },
          "execution_count": 55,
          "metadata": {},
          "output_type": "execute_result"
        }
      ],
      "source": [
        "df_titanic.Ticket.unique()"
      ]
    },
    {
      "cell_type": "markdown",
      "id": "3ae78740-8814-4842-92cb-0554ba2cccc8",
      "metadata": {
        "id": "3ae78740-8814-4842-92cb-0554ba2cccc8"
      },
      "source": [
        "Типи даних всюди правильні."
      ]
    },
    {
      "cell_type": "markdown",
      "id": "fd22be13-a093-4fcb-aa34-fec0012de844",
      "metadata": {
        "id": "fd22be13-a093-4fcb-aa34-fec0012de844"
      },
      "source": [
        "4. Визначити наявність пропущених значень. При наявності, замінити пропущені значення на середнє значення"
      ]
    },
    {
      "cell_type": "code",
      "execution_count": null,
      "id": "5b6d1c05-b1fb-499f-89c3-36a5a0d891f4",
      "metadata": {
        "id": "5b6d1c05-b1fb-499f-89c3-36a5a0d891f4",
        "outputId": "b0e91493-8602-4c25-913f-6a80c355ac8a"
      },
      "outputs": [
        {
          "data": {
            "text/plain": [
              "PassengerId      0\n",
              "Survived         0\n",
              "Pclass           0\n",
              "Name             0\n",
              "Sex              0\n",
              "Age             86\n",
              "SibSp            0\n",
              "Parch            0\n",
              "Ticket           0\n",
              "Fare             1\n",
              "Cabin          327\n",
              "Embarked         0\n",
              "dtype: int64"
            ]
          },
          "execution_count": 56,
          "metadata": {},
          "output_type": "execute_result"
        }
      ],
      "source": [
        "df_titanic.isna().sum()"
      ]
    },
    {
      "cell_type": "markdown",
      "id": "aac709d5-bd69-4a2a-96d5-0975953dec46",
      "metadata": {
        "id": "aac709d5-bd69-4a2a-96d5-0975953dec46"
      },
      "source": [
        "##### Стовпці 'Age' та 'Fare' мають числовий тип даних тому пропущенні значення можна замінити просто на середнє, а стовпець 'Cabin' має майже 80% пропущених значень, тому я думаю треба видалити даний стовпець"
      ]
    },
    {
      "cell_type": "code",
      "execution_count": null,
      "id": "e4098ec9-93ef-4597-82c2-53bc765d208f",
      "metadata": {
        "id": "e4098ec9-93ef-4597-82c2-53bc765d208f"
      },
      "outputs": [],
      "source": [
        "df_titanic['Age'].fillna(df_titanic['Age'].mean(skipna = True), inplace = True)\n",
        "df_titanic['Fare'].fillna(df_titanic['Fare'].mean(skipna = True), inplace = True)\n",
        "df_titanic.drop('Cabin', axis = 1, inplace = True)"
      ]
    },
    {
      "cell_type": "markdown",
      "id": "860e16c6-3e28-4ad9-b938-5993e52c161a",
      "metadata": {
        "id": "860e16c6-3e28-4ad9-b938-5993e52c161a"
      },
      "source": [
        "5. Ще раз перевіряємо"
      ]
    },
    {
      "cell_type": "code",
      "execution_count": null,
      "id": "41b977a3-3cde-4d23-8917-af2b7cad9e10",
      "metadata": {
        "id": "41b977a3-3cde-4d23-8917-af2b7cad9e10",
        "outputId": "d838330c-33e3-4032-d4f4-ec952c1de8cb"
      },
      "outputs": [
        {
          "data": {
            "text/plain": [
              "PassengerId    0\n",
              "Survived       0\n",
              "Pclass         0\n",
              "Name           0\n",
              "Sex            0\n",
              "Age            0\n",
              "SibSp          0\n",
              "Parch          0\n",
              "Ticket         0\n",
              "Fare           0\n",
              "Embarked       0\n",
              "dtype: int64"
            ]
          },
          "execution_count": 58,
          "metadata": {},
          "output_type": "execute_result"
        }
      ],
      "source": [
        "df_titanic.isna().sum()"
      ]
    },
    {
      "cell_type": "markdown",
      "id": "cb934a0a-d4a9-4b4c-a6ef-8dd127c1fcff",
      "metadata": {
        "id": "cb934a0a-d4a9-4b4c-a6ef-8dd127c1fcff"
      },
      "source": [
        "6. Перевірити наявність дублікатів. При наявності видалити дублікати"
      ]
    },
    {
      "cell_type": "code",
      "execution_count": null,
      "id": "5d2abd17-d3ab-4125-acc8-23be40d5f1d6",
      "metadata": {
        "id": "5d2abd17-d3ab-4125-acc8-23be40d5f1d6",
        "outputId": "438ed403-17e1-439b-c32e-b6d075a4c958"
      },
      "outputs": [
        {
          "data": {
            "text/plain": [
              "0"
            ]
          },
          "execution_count": 59,
          "metadata": {},
          "output_type": "execute_result"
        }
      ],
      "source": [
        "df_titanic.duplicated().sum()"
      ]
    },
    {
      "cell_type": "markdown",
      "id": "85c0116d-0ce3-4a53-ba3b-af64198f3341",
      "metadata": {
        "id": "85c0116d-0ce3-4a53-ba3b-af64198f3341"
      },
      "source": [
        "Дублікатів немає"
      ]
    },
    {
      "cell_type": "markdown",
      "id": "1535a888-84ae-436b-b299-ee521cf9d9ec",
      "metadata": {
        "id": "1535a888-84ae-436b-b299-ee521cf9d9ec"
      },
      "source": [
        "7. Вивести описову статистику датасету describe()"
      ]
    },
    {
      "cell_type": "code",
      "execution_count": null,
      "id": "91c7ad45-4c57-48b6-925d-95ad862858dc",
      "metadata": {
        "id": "91c7ad45-4c57-48b6-925d-95ad862858dc",
        "outputId": "ae9b5bbf-ec3f-468f-e0f4-eac596b64baa"
      },
      "outputs": [
        {
          "data": {
            "text/html": [
              "<div>\n",
              "<style scoped>\n",
              "    .dataframe tbody tr th:only-of-type {\n",
              "        vertical-align: middle;\n",
              "    }\n",
              "\n",
              "    .dataframe tbody tr th {\n",
              "        vertical-align: top;\n",
              "    }\n",
              "\n",
              "    .dataframe thead th {\n",
              "        text-align: right;\n",
              "    }\n",
              "</style>\n",
              "<table border=\"1\" class=\"dataframe\">\n",
              "  <thead>\n",
              "    <tr style=\"text-align: right;\">\n",
              "      <th></th>\n",
              "      <th>PassengerId</th>\n",
              "      <th>Survived</th>\n",
              "      <th>Pclass</th>\n",
              "      <th>Age</th>\n",
              "      <th>SibSp</th>\n",
              "      <th>Parch</th>\n",
              "      <th>Fare</th>\n",
              "    </tr>\n",
              "  </thead>\n",
              "  <tbody>\n",
              "    <tr>\n",
              "      <th>count</th>\n",
              "      <td>418.000000</td>\n",
              "      <td>418.000000</td>\n",
              "      <td>418.000000</td>\n",
              "      <td>418.000000</td>\n",
              "      <td>418.000000</td>\n",
              "      <td>418.000000</td>\n",
              "      <td>418.000000</td>\n",
              "    </tr>\n",
              "    <tr>\n",
              "      <th>mean</th>\n",
              "      <td>1100.500000</td>\n",
              "      <td>0.363636</td>\n",
              "      <td>2.265550</td>\n",
              "      <td>30.272590</td>\n",
              "      <td>0.447368</td>\n",
              "      <td>0.392344</td>\n",
              "      <td>35.627188</td>\n",
              "    </tr>\n",
              "    <tr>\n",
              "      <th>std</th>\n",
              "      <td>120.810458</td>\n",
              "      <td>0.481622</td>\n",
              "      <td>0.841838</td>\n",
              "      <td>12.634534</td>\n",
              "      <td>0.896760</td>\n",
              "      <td>0.981429</td>\n",
              "      <td>55.840500</td>\n",
              "    </tr>\n",
              "    <tr>\n",
              "      <th>min</th>\n",
              "      <td>892.000000</td>\n",
              "      <td>0.000000</td>\n",
              "      <td>1.000000</td>\n",
              "      <td>0.170000</td>\n",
              "      <td>0.000000</td>\n",
              "      <td>0.000000</td>\n",
              "      <td>0.000000</td>\n",
              "    </tr>\n",
              "    <tr>\n",
              "      <th>25%</th>\n",
              "      <td>996.250000</td>\n",
              "      <td>0.000000</td>\n",
              "      <td>1.000000</td>\n",
              "      <td>23.000000</td>\n",
              "      <td>0.000000</td>\n",
              "      <td>0.000000</td>\n",
              "      <td>7.895800</td>\n",
              "    </tr>\n",
              "    <tr>\n",
              "      <th>50%</th>\n",
              "      <td>1100.500000</td>\n",
              "      <td>0.000000</td>\n",
              "      <td>3.000000</td>\n",
              "      <td>30.272590</td>\n",
              "      <td>0.000000</td>\n",
              "      <td>0.000000</td>\n",
              "      <td>14.454200</td>\n",
              "    </tr>\n",
              "    <tr>\n",
              "      <th>75%</th>\n",
              "      <td>1204.750000</td>\n",
              "      <td>1.000000</td>\n",
              "      <td>3.000000</td>\n",
              "      <td>35.750000</td>\n",
              "      <td>1.000000</td>\n",
              "      <td>0.000000</td>\n",
              "      <td>31.500000</td>\n",
              "    </tr>\n",
              "    <tr>\n",
              "      <th>max</th>\n",
              "      <td>1309.000000</td>\n",
              "      <td>1.000000</td>\n",
              "      <td>3.000000</td>\n",
              "      <td>76.000000</td>\n",
              "      <td>8.000000</td>\n",
              "      <td>9.000000</td>\n",
              "      <td>512.329200</td>\n",
              "    </tr>\n",
              "  </tbody>\n",
              "</table>\n",
              "</div>"
            ],
            "text/plain": [
              "       PassengerId    Survived      Pclass         Age       SibSp  \\\n",
              "count   418.000000  418.000000  418.000000  418.000000  418.000000   \n",
              "mean   1100.500000    0.363636    2.265550   30.272590    0.447368   \n",
              "std     120.810458    0.481622    0.841838   12.634534    0.896760   \n",
              "min     892.000000    0.000000    1.000000    0.170000    0.000000   \n",
              "25%     996.250000    0.000000    1.000000   23.000000    0.000000   \n",
              "50%    1100.500000    0.000000    3.000000   30.272590    0.000000   \n",
              "75%    1204.750000    1.000000    3.000000   35.750000    1.000000   \n",
              "max    1309.000000    1.000000    3.000000   76.000000    8.000000   \n",
              "\n",
              "            Parch        Fare  \n",
              "count  418.000000  418.000000  \n",
              "mean     0.392344   35.627188  \n",
              "std      0.981429   55.840500  \n",
              "min      0.000000    0.000000  \n",
              "25%      0.000000    7.895800  \n",
              "50%      0.000000   14.454200  \n",
              "75%      0.000000   31.500000  \n",
              "max      9.000000  512.329200  "
            ]
          },
          "execution_count": 60,
          "metadata": {},
          "output_type": "execute_result"
        }
      ],
      "source": [
        "df_titanic.describe()"
      ]
    },
    {
      "cell_type": "markdown",
      "id": "58fbfd17-6cb3-4272-a5ac-c75bd6ded700",
      "metadata": {
        "id": "58fbfd17-6cb3-4272-a5ac-c75bd6ded700"
      },
      "source": [
        "8. Видалити стовпчик Cabin - вже був відсутній"
      ]
    },
    {
      "cell_type": "markdown",
      "id": "df786a6a-bcdb-44fa-83e5-db4ae56890b7",
      "metadata": {
        "id": "df786a6a-bcdb-44fa-83e5-db4ae56890b7"
      },
      "source": [
        "9. Сформувати датасет з обраними стовпцями: ['Survived', 'Pclass', 'Sex', 'Age', 'Fare']"
      ]
    },
    {
      "cell_type": "code",
      "execution_count": null,
      "id": "336ba138-e500-4a20-adcc-8a0e34dd48f3",
      "metadata": {
        "id": "336ba138-e500-4a20-adcc-8a0e34dd48f3",
        "outputId": "69652f46-a4b9-4158-df44-5244b31738e3"
      },
      "outputs": [
        {
          "data": {
            "text/html": [
              "<div>\n",
              "<style scoped>\n",
              "    .dataframe tbody tr th:only-of-type {\n",
              "        vertical-align: middle;\n",
              "    }\n",
              "\n",
              "    .dataframe tbody tr th {\n",
              "        vertical-align: top;\n",
              "    }\n",
              "\n",
              "    .dataframe thead th {\n",
              "        text-align: right;\n",
              "    }\n",
              "</style>\n",
              "<table border=\"1\" class=\"dataframe\">\n",
              "  <thead>\n",
              "    <tr style=\"text-align: right;\">\n",
              "      <th></th>\n",
              "      <th>Survived</th>\n",
              "      <th>Pclass</th>\n",
              "      <th>Sex</th>\n",
              "      <th>Age</th>\n",
              "      <th>Fare</th>\n",
              "    </tr>\n",
              "  </thead>\n",
              "  <tbody>\n",
              "    <tr>\n",
              "      <th>0</th>\n",
              "      <td>0</td>\n",
              "      <td>3</td>\n",
              "      <td>male</td>\n",
              "      <td>34.5</td>\n",
              "      <td>7.8292</td>\n",
              "    </tr>\n",
              "    <tr>\n",
              "      <th>1</th>\n",
              "      <td>1</td>\n",
              "      <td>3</td>\n",
              "      <td>female</td>\n",
              "      <td>47.0</td>\n",
              "      <td>7.0000</td>\n",
              "    </tr>\n",
              "    <tr>\n",
              "      <th>2</th>\n",
              "      <td>0</td>\n",
              "      <td>2</td>\n",
              "      <td>male</td>\n",
              "      <td>62.0</td>\n",
              "      <td>9.6875</td>\n",
              "    </tr>\n",
              "    <tr>\n",
              "      <th>3</th>\n",
              "      <td>0</td>\n",
              "      <td>3</td>\n",
              "      <td>male</td>\n",
              "      <td>27.0</td>\n",
              "      <td>8.6625</td>\n",
              "    </tr>\n",
              "    <tr>\n",
              "      <th>4</th>\n",
              "      <td>1</td>\n",
              "      <td>3</td>\n",
              "      <td>female</td>\n",
              "      <td>22.0</td>\n",
              "      <td>12.2875</td>\n",
              "    </tr>\n",
              "  </tbody>\n",
              "</table>\n",
              "</div>"
            ],
            "text/plain": [
              "   Survived  Pclass     Sex   Age     Fare\n",
              "0         0       3    male  34.5   7.8292\n",
              "1         1       3  female  47.0   7.0000\n",
              "2         0       2    male  62.0   9.6875\n",
              "3         0       3    male  27.0   8.6625\n",
              "4         1       3  female  22.0  12.2875"
            ]
          },
          "execution_count": 61,
          "metadata": {},
          "output_type": "execute_result"
        }
      ],
      "source": [
        "cols_to_use = ['Survived', 'Pclass', 'Sex', 'Age', 'Fare']\n",
        "df_titanic_to_use = df_titanic[cols_to_use]\n",
        "df_titanic_to_use.head()"
      ]
    },
    {
      "cell_type": "markdown",
      "id": "f7b8ed88-2905-4eaf-ad0f-37c25d04caa1",
      "metadata": {
        "id": "f7b8ed88-2905-4eaf-ad0f-37c25d04caa1"
      },
      "source": [
        "10. Замінити бінарні ознаки (Стать) на 0 і 1 (але перевірте унікальні значення даного стовпчика)"
      ]
    },
    {
      "cell_type": "code",
      "execution_count": null,
      "id": "093b4af2-c313-4af3-886b-f11d3bd959b1",
      "metadata": {
        "id": "093b4af2-c313-4af3-886b-f11d3bd959b1",
        "outputId": "cb6fbf18-e12f-4c8f-d1e5-6b44ac72c1e3"
      },
      "outputs": [
        {
          "name": "stderr",
          "output_type": "stream",
          "text": [
            "C:\\Users\\prplct\\AppData\\Local\\Temp\\ipykernel_11804\\4267319936.py:2: SettingWithCopyWarning:\n",
            "\n",
            "\n",
            "A value is trying to be set on a copy of a slice from a DataFrame.\n",
            "Try using .loc[row_indexer,col_indexer] = value instead\n",
            "\n",
            "See the caveats in the documentation: https://pandas.pydata.org/pandas-docs/stable/user_guide/indexing.html#returning-a-view-versus-a-copy\n",
            "\n"
          ]
        }
      ],
      "source": [
        "df_titanic_to_use.Sex.unique()\n",
        "df_titanic_to_use['Sex'] = df_titanic_to_use['Sex'].map({'male' : 0, 'female': 1})"
      ]
    },
    {
      "cell_type": "code",
      "execution_count": null,
      "id": "5759a4c1-464f-4ac4-bc2d-74031e2d78ff",
      "metadata": {
        "id": "5759a4c1-464f-4ac4-bc2d-74031e2d78ff",
        "outputId": "8de662f5-80fc-49f4-8dbb-2ef2d306c25d"
      },
      "outputs": [
        {
          "data": {
            "text/html": [
              "<div>\n",
              "<style scoped>\n",
              "    .dataframe tbody tr th:only-of-type {\n",
              "        vertical-align: middle;\n",
              "    }\n",
              "\n",
              "    .dataframe tbody tr th {\n",
              "        vertical-align: top;\n",
              "    }\n",
              "\n",
              "    .dataframe thead th {\n",
              "        text-align: right;\n",
              "    }\n",
              "</style>\n",
              "<table border=\"1\" class=\"dataframe\">\n",
              "  <thead>\n",
              "    <tr style=\"text-align: right;\">\n",
              "      <th></th>\n",
              "      <th>Survived</th>\n",
              "      <th>Pclass</th>\n",
              "      <th>Sex</th>\n",
              "      <th>Age</th>\n",
              "      <th>Fare</th>\n",
              "    </tr>\n",
              "  </thead>\n",
              "  <tbody>\n",
              "    <tr>\n",
              "      <th>0</th>\n",
              "      <td>0</td>\n",
              "      <td>3</td>\n",
              "      <td>0</td>\n",
              "      <td>34.5</td>\n",
              "      <td>7.8292</td>\n",
              "    </tr>\n",
              "    <tr>\n",
              "      <th>1</th>\n",
              "      <td>1</td>\n",
              "      <td>3</td>\n",
              "      <td>1</td>\n",
              "      <td>47.0</td>\n",
              "      <td>7.0000</td>\n",
              "    </tr>\n",
              "    <tr>\n",
              "      <th>2</th>\n",
              "      <td>0</td>\n",
              "      <td>2</td>\n",
              "      <td>0</td>\n",
              "      <td>62.0</td>\n",
              "      <td>9.6875</td>\n",
              "    </tr>\n",
              "    <tr>\n",
              "      <th>3</th>\n",
              "      <td>0</td>\n",
              "      <td>3</td>\n",
              "      <td>0</td>\n",
              "      <td>27.0</td>\n",
              "      <td>8.6625</td>\n",
              "    </tr>\n",
              "    <tr>\n",
              "      <th>4</th>\n",
              "      <td>1</td>\n",
              "      <td>3</td>\n",
              "      <td>1</td>\n",
              "      <td>22.0</td>\n",
              "      <td>12.2875</td>\n",
              "    </tr>\n",
              "  </tbody>\n",
              "</table>\n",
              "</div>"
            ],
            "text/plain": [
              "   Survived  Pclass  Sex   Age     Fare\n",
              "0         0       3    0  34.5   7.8292\n",
              "1         1       3    1  47.0   7.0000\n",
              "2         0       2    0  62.0   9.6875\n",
              "3         0       3    0  27.0   8.6625\n",
              "4         1       3    1  22.0  12.2875"
            ]
          },
          "execution_count": 67,
          "metadata": {},
          "output_type": "execute_result"
        }
      ],
      "source": [
        "df_titanic_to_use.head()"
      ]
    },
    {
      "cell_type": "markdown",
      "id": "33a1be01-674b-4d4e-8ead-e03f8431b024",
      "metadata": {
        "id": "33a1be01-674b-4d4e-8ead-e03f8431b024"
      },
      "source": [
        "11.  Ще раз перевірити кількість пропущених даних (впевнитись, що їх немає)"
      ]
    },
    {
      "cell_type": "code",
      "execution_count": null,
      "id": "9f96c4ca-67d8-413b-bf42-07a89ea21944",
      "metadata": {
        "id": "9f96c4ca-67d8-413b-bf42-07a89ea21944",
        "outputId": "a265c326-92a1-456a-857a-3ece18d0240a"
      },
      "outputs": [
        {
          "data": {
            "text/plain": [
              "Survived    0\n",
              "Pclass      0\n",
              "Sex         0\n",
              "Age         0\n",
              "Fare        0\n",
              "dtype: int64"
            ]
          },
          "execution_count": 68,
          "metadata": {},
          "output_type": "execute_result"
        }
      ],
      "source": [
        "df_titanic_to_use.isna().sum()"
      ]
    },
    {
      "cell_type": "markdown",
      "id": "ca714b55-40ce-4aad-9a5b-a6f0e744991d",
      "metadata": {
        "id": "ca714b55-40ce-4aad-9a5b-a6f0e744991d"
      },
      "source": [
        "12. Вивести 5 перших рядків датасету"
      ]
    },
    {
      "cell_type": "code",
      "execution_count": null,
      "id": "1b0baaec-aa20-474c-9b01-6a1be588f645",
      "metadata": {
        "id": "1b0baaec-aa20-474c-9b01-6a1be588f645",
        "outputId": "0477daee-4316-4edc-9513-6c8909fca1b0"
      },
      "outputs": [
        {
          "data": {
            "text/html": [
              "<div>\n",
              "<style scoped>\n",
              "    .dataframe tbody tr th:only-of-type {\n",
              "        vertical-align: middle;\n",
              "    }\n",
              "\n",
              "    .dataframe tbody tr th {\n",
              "        vertical-align: top;\n",
              "    }\n",
              "\n",
              "    .dataframe thead th {\n",
              "        text-align: right;\n",
              "    }\n",
              "</style>\n",
              "<table border=\"1\" class=\"dataframe\">\n",
              "  <thead>\n",
              "    <tr style=\"text-align: right;\">\n",
              "      <th></th>\n",
              "      <th>Survived</th>\n",
              "      <th>Pclass</th>\n",
              "      <th>Sex</th>\n",
              "      <th>Age</th>\n",
              "      <th>Fare</th>\n",
              "    </tr>\n",
              "  </thead>\n",
              "  <tbody>\n",
              "    <tr>\n",
              "      <th>0</th>\n",
              "      <td>0</td>\n",
              "      <td>3</td>\n",
              "      <td>0</td>\n",
              "      <td>34.5</td>\n",
              "      <td>7.8292</td>\n",
              "    </tr>\n",
              "    <tr>\n",
              "      <th>1</th>\n",
              "      <td>1</td>\n",
              "      <td>3</td>\n",
              "      <td>1</td>\n",
              "      <td>47.0</td>\n",
              "      <td>7.0000</td>\n",
              "    </tr>\n",
              "    <tr>\n",
              "      <th>2</th>\n",
              "      <td>0</td>\n",
              "      <td>2</td>\n",
              "      <td>0</td>\n",
              "      <td>62.0</td>\n",
              "      <td>9.6875</td>\n",
              "    </tr>\n",
              "    <tr>\n",
              "      <th>3</th>\n",
              "      <td>0</td>\n",
              "      <td>3</td>\n",
              "      <td>0</td>\n",
              "      <td>27.0</td>\n",
              "      <td>8.6625</td>\n",
              "    </tr>\n",
              "    <tr>\n",
              "      <th>4</th>\n",
              "      <td>1</td>\n",
              "      <td>3</td>\n",
              "      <td>1</td>\n",
              "      <td>22.0</td>\n",
              "      <td>12.2875</td>\n",
              "    </tr>\n",
              "  </tbody>\n",
              "</table>\n",
              "</div>"
            ],
            "text/plain": [
              "   Survived  Pclass  Sex   Age     Fare\n",
              "0         0       3    0  34.5   7.8292\n",
              "1         1       3    1  47.0   7.0000\n",
              "2         0       2    0  62.0   9.6875\n",
              "3         0       3    0  27.0   8.6625\n",
              "4         1       3    1  22.0  12.2875"
            ]
          },
          "execution_count": 69,
          "metadata": {},
          "output_type": "execute_result"
        }
      ],
      "source": [
        "df_titanic_to_use.head()"
      ]
    },
    {
      "cell_type": "markdown",
      "id": "ef68a582-d1d2-4089-9014-420b22cb7258",
      "metadata": {
        "id": "ef68a582-d1d2-4089-9014-420b22cb7258"
      },
      "source": [
        "13. Вивести 5 останніх рядків датасету"
      ]
    },
    {
      "cell_type": "code",
      "execution_count": null,
      "id": "3dea7cdc-a3e1-4ba0-a031-088082a9a347",
      "metadata": {
        "id": "3dea7cdc-a3e1-4ba0-a031-088082a9a347",
        "outputId": "c96f5986-aaf1-437f-bf87-c744287d5a4e"
      },
      "outputs": [
        {
          "data": {
            "text/html": [
              "<div>\n",
              "<style scoped>\n",
              "    .dataframe tbody tr th:only-of-type {\n",
              "        vertical-align: middle;\n",
              "    }\n",
              "\n",
              "    .dataframe tbody tr th {\n",
              "        vertical-align: top;\n",
              "    }\n",
              "\n",
              "    .dataframe thead th {\n",
              "        text-align: right;\n",
              "    }\n",
              "</style>\n",
              "<table border=\"1\" class=\"dataframe\">\n",
              "  <thead>\n",
              "    <tr style=\"text-align: right;\">\n",
              "      <th></th>\n",
              "      <th>Survived</th>\n",
              "      <th>Pclass</th>\n",
              "      <th>Sex</th>\n",
              "      <th>Age</th>\n",
              "      <th>Fare</th>\n",
              "    </tr>\n",
              "  </thead>\n",
              "  <tbody>\n",
              "    <tr>\n",
              "      <th>413</th>\n",
              "      <td>0</td>\n",
              "      <td>3</td>\n",
              "      <td>0</td>\n",
              "      <td>30.27259</td>\n",
              "      <td>8.0500</td>\n",
              "    </tr>\n",
              "    <tr>\n",
              "      <th>414</th>\n",
              "      <td>1</td>\n",
              "      <td>1</td>\n",
              "      <td>1</td>\n",
              "      <td>39.00000</td>\n",
              "      <td>108.9000</td>\n",
              "    </tr>\n",
              "    <tr>\n",
              "      <th>415</th>\n",
              "      <td>0</td>\n",
              "      <td>3</td>\n",
              "      <td>0</td>\n",
              "      <td>38.50000</td>\n",
              "      <td>7.2500</td>\n",
              "    </tr>\n",
              "    <tr>\n",
              "      <th>416</th>\n",
              "      <td>0</td>\n",
              "      <td>3</td>\n",
              "      <td>0</td>\n",
              "      <td>30.27259</td>\n",
              "      <td>8.0500</td>\n",
              "    </tr>\n",
              "    <tr>\n",
              "      <th>417</th>\n",
              "      <td>0</td>\n",
              "      <td>3</td>\n",
              "      <td>0</td>\n",
              "      <td>30.27259</td>\n",
              "      <td>22.3583</td>\n",
              "    </tr>\n",
              "  </tbody>\n",
              "</table>\n",
              "</div>"
            ],
            "text/plain": [
              "     Survived  Pclass  Sex       Age      Fare\n",
              "413         0       3    0  30.27259    8.0500\n",
              "414         1       1    1  39.00000  108.9000\n",
              "415         0       3    0  38.50000    7.2500\n",
              "416         0       3    0  30.27259    8.0500\n",
              "417         0       3    0  30.27259   22.3583"
            ]
          },
          "execution_count": 70,
          "metadata": {},
          "output_type": "execute_result"
        }
      ],
      "source": [
        "df_titanic_to_use.tail()"
      ]
    },
    {
      "cell_type": "markdown",
      "id": "5c75b45b-9cca-4919-95cd-dd16640bffe6",
      "metadata": {
        "id": "5c75b45b-9cca-4919-95cd-dd16640bffe6"
      },
      "source": [
        "14. Аналіз виживання залежно від статі: Обчисліть відсоток виживання для кожної статі. Чи була різниця у виживанні між чоловіками та жінками?"
      ]
    },
    {
      "cell_type": "code",
      "execution_count": null,
      "id": "9df18a2b-32ff-4f34-ba95-0e5598f6c20b",
      "metadata": {
        "id": "9df18a2b-32ff-4f34-ba95-0e5598f6c20b",
        "outputId": "e22ed9d6-0007-4109-d8ac-a7a2e05e0aac"
      },
      "outputs": [
        {
          "name": "stdout",
          "output_type": "stream",
          "text": [
            "Відсоток виживання серед жінок: 36.36363636363637 %\n",
            "Відсоток виживання серед чоловіків: 0.0 %\n"
          ]
        }
      ],
      "source": [
        "survived_female = df_titanic_to_use.query('Survived == 1 and Sex == 1')\n",
        "survived_female_perc = survived_female['Survived'].sum() / len(df_titanic_to_use['Survived']) * 100\n",
        "\n",
        "survived_male = df_titanic_to_use.query('Survived == 1 and Sex == 0')\n",
        "survived_male_perc = survived_male['Survived'].sum() / len(df_titanic_to_use['Survived']) * 100\n",
        "\n",
        "print(f'Відсоток виживання серед жінок: {survived_female_perc} %')\n",
        "print(f'Відсоток виживання серед чоловіків: {survived_male_perc} %')"
      ]
    },
    {
      "cell_type": "markdown",
      "id": "1398d031-be3c-45b0-b73d-81179ba38ba3",
      "metadata": {
        "id": "1398d031-be3c-45b0-b73d-81179ba38ba3"
      },
      "source": [
        "15. Обчисліть відсоток виживання для кожного класу (Pclass). Який клас мав найвищий рівень виживання (дати відповідь)?"
      ]
    },
    {
      "cell_type": "code",
      "execution_count": null,
      "id": "6ae6e7ed-d7b2-45a6-be24-111acaffe7c5",
      "metadata": {
        "id": "6ae6e7ed-d7b2-45a6-be24-111acaffe7c5",
        "outputId": "17e781ba-e4a8-490a-adcd-b063595ab858"
      },
      "outputs": [
        {
          "data": {
            "text/plain": [
              "array([3, 2, 1], dtype=int64)"
            ]
          },
          "execution_count": 73,
          "metadata": {},
          "output_type": "execute_result"
        }
      ],
      "source": [
        "df_titanic_to_use.Pclass.unique()"
      ]
    },
    {
      "cell_type": "code",
      "execution_count": null,
      "id": "7fda90a7-5ae3-40b6-926a-53f33eca9f02",
      "metadata": {
        "id": "7fda90a7-5ae3-40b6-926a-53f33eca9f02",
        "outputId": "fae515a3-a6ae-4f33-c95a-24030fa962c0"
      },
      "outputs": [
        {
          "name": "stdout",
          "output_type": "stream",
          "text": [
            "Відсоток виживання серед класу 1: 11.961722488038278 %\n",
            "Відсоток виживання серед класу 2: 7.177033492822966 %\n",
            "Відсоток виживання серед класу 3: 17.22488038277512 %\n"
          ]
        }
      ],
      "source": [
        "survived_pclass_1 = df_titanic_to_use.query('Survived == 1 and Pclass == 1')\n",
        "survived_pclass_1_perc = survived_pclass_1['Survived'].sum() / len(df_titanic_to_use['Survived']) * 100\n",
        "survived_pclass_2 = df_titanic_to_use.query('Survived == 1 and Pclass == 2')\n",
        "survived_pclass_2_perc = survived_pclass_2['Survived'].sum() / len(df_titanic_to_use['Survived']) * 100\n",
        "survived_pclass_3 = df_titanic_to_use.query('Survived == 1 and Pclass == 3')\n",
        "survived_pclass_3_perc = survived_pclass_3['Survived'].sum() / len(df_titanic_to_use['Survived']) * 100\n",
        "\n",
        "print(f'Відсоток виживання серед класу 1: {survived_pclass_1_perc} %')\n",
        "print(f'Відсоток виживання серед класу 2: {survived_pclass_2_perc} %')\n",
        "print(f'Відсоток виживання серед класу 3: {survived_pclass_3_perc} %')"
      ]
    },
    {
      "cell_type": "markdown",
      "id": "8ad735e8-449e-4985-a185-142d2cce83fc",
      "metadata": {
        "id": "8ad735e8-449e-4985-a185-142d2cce83fc"
      },
      "source": [
        "Третій клас має найвищий рівень виживання"
      ]
    },
    {
      "cell_type": "markdown",
      "id": "92199296-c3eb-4c97-814b-51737fee1e1c",
      "metadata": {
        "id": "92199296-c3eb-4c97-814b-51737fee1e1c"
      },
      "source": [
        "16. Визначте середній вік тих, хто вижив, і тих, хто не вижив. Чи впливає вік на виживання (дати відповідь)?"
      ]
    },
    {
      "cell_type": "code",
      "execution_count": null,
      "id": "4686a181-4d0b-48a9-a4a6-e03b085b4a76",
      "metadata": {
        "id": "4686a181-4d0b-48a9-a4a6-e03b085b4a76",
        "outputId": "625c0133-7e03-40f1-b7ec-44683cfff8be"
      },
      "outputs": [
        {
          "name": "stdout",
          "output_type": "stream",
          "text": [
            "Середній вік людей, які вижили: 30.27239973050095\n",
            "Середній вік людей, які не вижили: 30.272699293414263\n"
          ]
        }
      ],
      "source": [
        "df_titanic_to_use[df_titanic_to_use['Survived'] == 1]\n",
        "df_titanic_to_use[df_titanic_to_use['Survived'] == 0]\n",
        "\n",
        "mean_age_survived = df_titanic_to_use[df_titanic_to_use['Survived'] == 1].Age.mean()\n",
        "mean_age_not_survived = df_titanic_to_use[df_titanic_to_use['Survived'] == 0].Age.mean()\n",
        "\n",
        "print(f'Середній вік людей, які вижили: {mean_age_survived}')\n",
        "print(f'Середній вік людей, які не вижили: {mean_age_not_survived}')"
      ]
    },
    {
      "cell_type": "markdown",
      "id": "9757979e-d923-44a2-adb8-211620d8b655",
      "metadata": {
        "id": "9757979e-d923-44a2-adb8-211620d8b655"
      },
      "source": [
        "Тут можна було б додати тест на стат.значимість, мабуть :)\n",
        "\n",
        "Проте наразі не можу сказати, що вік впливає"
      ]
    },
    {
      "cell_type": "markdown",
      "id": "2c785fa1-39a9-41b0-b0ed-c5b9a34e2e61",
      "metadata": {
        "id": "2c785fa1-39a9-41b0-b0ed-c5b9a34e2e61"
      },
      "source": [
        "17. Розподіліть пасажирів на групи за рівнями тарифів (Fare) і обчисліть рівень виживання для кожної групи. Як тариф впливав на шанси виживання (дати відповідь)?"
      ]
    },
    {
      "cell_type": "code",
      "execution_count": null,
      "id": "af6206d1-7348-4183-9d76-f4881efd0970",
      "metadata": {
        "id": "af6206d1-7348-4183-9d76-f4881efd0970",
        "outputId": "e3fe494e-6f3c-43ab-8445-ddb971409c58"
      },
      "outputs": [
        {
          "data": {
            "text/plain": [
              "count    418.000000\n",
              "mean      35.627188\n",
              "std       55.840500\n",
              "min        0.000000\n",
              "25%        7.895800\n",
              "50%       14.454200\n",
              "75%       31.500000\n",
              "max      512.329200\n",
              "Name: Fare, dtype: float64"
            ]
          },
          "execution_count": 78,
          "metadata": {},
          "output_type": "execute_result"
        }
      ],
      "source": [
        "df_titanic_to_use.Fare.describe()"
      ]
    },
    {
      "cell_type": "code",
      "execution_count": null,
      "id": "4c6ae196-71a2-472e-a66e-01f9650f1d59",
      "metadata": {
        "id": "4c6ae196-71a2-472e-a66e-01f9650f1d59",
        "outputId": "905fe9c6-d856-478e-efa6-c962cd8b4329"
      },
      "outputs": [
        {
          "name": "stderr",
          "output_type": "stream",
          "text": [
            "C:\\Users\\prplct\\AppData\\Local\\Temp\\ipykernel_11804\\2078008878.py:1: SettingWithCopyWarning:\n",
            "\n",
            "\n",
            "A value is trying to be set on a copy of a slice from a DataFrame.\n",
            "Try using .loc[row_indexer,col_indexer] = value instead\n",
            "\n",
            "See the caveats in the documentation: https://pandas.pydata.org/pandas-docs/stable/user_guide/indexing.html#returning-a-view-versus-a-copy\n",
            "\n"
          ]
        }
      ],
      "source": [
        "df_titanic_to_use['Fare_group'] = pd.qcut(df_titanic_to_use['Fare'],\n",
        "                                          q = 4,\n",
        "                                          labels = ['Low', 'Medium-Low', 'Medium-High', 'High'])"
      ]
    },
    {
      "cell_type": "code",
      "execution_count": null,
      "id": "545239a4-bfe5-4eb8-9717-f05c4a4550be",
      "metadata": {
        "id": "545239a4-bfe5-4eb8-9717-f05c4a4550be",
        "outputId": "bc3579e5-921e-49a1-e910-fde4e39a660c"
      },
      "outputs": [
        {
          "data": {
            "text/plain": [
              "Fare_group\n",
              "Low            114\n",
              "Medium-High    105\n",
              "High           103\n",
              "Medium-Low      96\n",
              "Name: count, dtype: int64"
            ]
          },
          "execution_count": 81,
          "metadata": {},
          "output_type": "execute_result"
        }
      ],
      "source": [
        "df_titanic_to_use.Fare_group.value_counts()"
      ]
    },
    {
      "cell_type": "code",
      "execution_count": null,
      "id": "a5bf1b8e-ef09-4970-a792-335b85865669",
      "metadata": {
        "id": "a5bf1b8e-ef09-4970-a792-335b85865669",
        "outputId": "46cc474d-9ff0-4c38-fc6a-61f73a081e95"
      },
      "outputs": [
        {
          "name": "stdout",
          "output_type": "stream",
          "text": [
            "Відсоток виживання серед групи Low: 7.177033492822966 %\n",
            "Відсоток виживання серед групи Medium-Low: 6.220095693779904 %\n",
            "Відсоток виживання серед групи Medium-High: 9.808612440191387 %\n",
            "Відсоток виживання серед групи High: 13.157894736842104 %\n"
          ]
        }
      ],
      "source": [
        "survived_fare_low      = df_titanic_to_use.query('Fare_group == \"Low\" and Survived == 1')\n",
        "survived_fare_low_perc = survived_fare_low['Survived'].sum() / len(df_titanic_to_use['Survived']) * 100\n",
        "survived_fare_medium_low      = df_titanic_to_use.query('Fare_group == \"Medium-Low\" and Survived == 1')\n",
        "survived_fare_medium_low_perc = survived_fare_medium_low['Survived'].sum() / len(df_titanic_to_use['Survived']) * 100\n",
        "survived_fare_medium_high      = df_titanic_to_use.query('Fare_group == \"Medium-High\" and Survived == 1')\n",
        "survived_fare_medium_high_perc = survived_fare_medium_high['Survived'].sum() / len(df_titanic_to_use['Survived']) * 100\n",
        "survived_fare_high      = df_titanic_to_use.query('Fare_group == \"High\" and Survived == 1')\n",
        "survived_fare_high_perc = survived_fare_high['Survived'].sum() / len(df_titanic_to_use['Survived']) * 100\n",
        "\n",
        "print(f'Відсоток виживання серед групи Low: {survived_fare_low_perc} %')\n",
        "print(f'Відсоток виживання серед групи Medium-Low: {survived_fare_medium_low_perc} %')\n",
        "print(f'Відсоток виживання серед групи Medium-High: {survived_fare_medium_high_perc} %')\n",
        "print(f'Відсоток виживання серед групи High: {survived_fare_high_perc} %')"
      ]
    },
    {
      "cell_type": "markdown",
      "id": "7022034a-9056-4451-870f-f3eef9310f8c",
      "metadata": {
        "id": "7022034a-9056-4451-870f-f3eef9310f8c"
      },
      "source": [
        "Висновок: чим дорожчий тариф, тим більше було шансів  на виживання."
      ]
    },
    {
      "cell_type": "markdown",
      "id": "ae9ef80c-3b97-4656-8284-983560f71685",
      "metadata": {
        "id": "ae9ef80c-3b97-4656-8284-983560f71685"
      },
      "source": [
        "18. Аналіз класу та тарифу: Визначте середній тариф (Fare) для кожного класу (Pclass). Чи існує значна різниця у тарифах між класами (дати відповідь)?"
      ]
    },
    {
      "cell_type": "code",
      "execution_count": null,
      "id": "01cf4269-fb53-41d7-bf05-a1e7e9db86cf",
      "metadata": {
        "id": "01cf4269-fb53-41d7-bf05-a1e7e9db86cf",
        "outputId": "f6dc822a-4e0d-42e1-d519-61bbb731aac9"
      },
      "outputs": [
        {
          "name": "stdout",
          "output_type": "stream",
          "text": [
            "Середнє значення тарифу для класу 1: 94.28\n",
            "Середнє значення тарифу для класу 2: 22.2\n",
            "Середнє значення тарифу для класу 3: 12.57\n"
          ]
        }
      ],
      "source": [
        "df_titanic_to_use.Pclass.unique()\n",
        "mean_fare_class_1 = df_titanic_to_use.query('Pclass == 1')['Fare'].mean()\n",
        "mean_fare_class_2 = df_titanic_to_use.query('Pclass == 2')['Fare'].mean()\n",
        "mean_fare_class_3 = df_titanic_to_use.query('Pclass == 3')['Fare'].mean()\n",
        "\n",
        "print(f'Середнє значення тарифу для класу 1: {mean_fare_class_1.round(2)}')\n",
        "print(f'Середнє значення тарифу для класу 2: {mean_fare_class_2.round(2)}')\n",
        "print(f'Середнє значення тарифу для класу 3: {mean_fare_class_3.round(2)}')"
      ]
    },
    {
      "cell_type": "markdown",
      "id": "b72aec8e-078d-40b2-8b92-775df36241de",
      "metadata": {
        "id": "b72aec8e-078d-40b2-8b92-775df36241de"
      },
      "source": [
        "##### Чим нижчий клас тим дешевший тариф"
      ]
    },
    {
      "cell_type": "markdown",
      "id": "a2aaa9f2-0c28-4999-a83e-0c25562b396f",
      "metadata": {
        "id": "a2aaa9f2-0c28-4999-a83e-0c25562b396f"
      },
      "source": [
        "19. Обчисліть середній вік пасажирів для кожного класу (Pclass). Як вік пасажирів розподіляється за класами (дати відповідь)?"
      ]
    },
    {
      "cell_type": "code",
      "execution_count": null,
      "id": "06139f2d-b859-49c2-bb84-8422ad4c3b73",
      "metadata": {
        "id": "06139f2d-b859-49c2-bb84-8422ad4c3b73",
        "outputId": "7296d81e-1766-41a1-95af-03aaf523c869"
      },
      "outputs": [
        {
          "name": "stdout",
          "output_type": "stream",
          "text": [
            "Середнє значення віку для класу 1: 40.02\n",
            "Середнє значення віку для класу 2: 28.86\n",
            "Середнє значення віку для класу 3: 26.09\n"
          ]
        }
      ],
      "source": [
        "mean_age_class_1 = df_titanic_to_use.query('Pclass == 1')['Age'].mean()\n",
        "mean_age_class_2 = df_titanic_to_use.query('Pclass == 2')['Age'].mean()\n",
        "mean_age_class_3 = df_titanic_to_use.query('Pclass == 3')['Age'].mean()\n",
        "\n",
        "print(f'Середнє значення віку для класу 1: {mean_age_class_1.round(2)}')\n",
        "print(f'Середнє значення віку для класу 2: {mean_age_class_2.round(2)}')\n",
        "print(f'Середнє значення віку для класу 3: {mean_age_class_3.round(2)}')"
      ]
    },
    {
      "cell_type": "markdown",
      "id": "4b05c410-e57f-44ad-a5e4-0f465e8cbd7e",
      "metadata": {
        "id": "4b05c410-e57f-44ad-a5e4-0f465e8cbd7e"
      },
      "source": [
        "##### Висновок: чим старша людина, тим вищий клас вона вибирає. Це може бути пов’язано з тим, що з віком доходи зазвичай зростають, що дозволяє придбати квитки більш високого класу."
      ]
    },
    {
      "cell_type": "markdown",
      "id": "3de46ed8-a928-4331-97ca-b4fe82681a17",
      "metadata": {
        "id": "3de46ed8-a928-4331-97ca-b4fe82681a17"
      },
      "source": [
        "20. Побудуйте гістограму розподілу віку для тих, хто вижив, і тих, хто не вижив. Чи є видимі відмінності у вікових групах (дати відповідь)?"
      ]
    },
    {
      "cell_type": "code",
      "execution_count": null,
      "id": "9c495dae-0e81-445c-a0fe-7726a4eb4692",
      "metadata": {
        "id": "9c495dae-0e81-445c-a0fe-7726a4eb4692",
        "outputId": "cfb34ed6-d151-4a8c-b221-2c8c68048391"
      },
      "outputs": [
        {
          "data": {
            "application/vnd.plotly.v1+json": {
              "config": {
                "plotlyServerURL": "https://plot.ly"
              },
              "data": [
                {
                  "alignmentgroup": "True",
                  "bingroup": "x",
                  "hovertemplate": "Age=%{x}<br>count=%{y}<extra></extra>",
                  "legendgroup": "",
                  "marker": {
                    "color": "#636efa",
                    "pattern": {
                      "shape": ""
                    }
                  },
                  "name": "",
                  "offsetgroup": "",
                  "orientation": "v",
                  "showlegend": false,
                  "type": "histogram",
                  "x": [
                    47,
                    22,
                    30,
                    18,
                    23,
                    47,
                    24,
                    27,
                    45,
                    30.272590361445783,
                    48,
                    22,
                    33,
                    30.272590361445783,
                    30.272590361445783,
                    21,
                    30,
                    45,
                    60,
                    36,
                    20,
                    28,
                    36,
                    22,
                    30.272590361445783,
                    18,
                    60,
                    24,
                    29,
                    35,
                    55,
                    24,
                    27,
                    18,
                    30.272590361445783,
                    22,
                    27,
                    76,
                    20,
                    43,
                    16,
                    30.272590361445783,
                    36,
                    18.5,
                    63,
                    1,
                    29,
                    12,
                    35,
                    17,
                    30.272590361445783,
                    30.272590361445783,
                    23,
                    10,
                    33,
                    23,
                    36,
                    29,
                    23,
                    26,
                    30.272590361445783,
                    26,
                    26,
                    30.272590361445783,
                    22,
                    15,
                    20,
                    36,
                    64,
                    18,
                    27,
                    21,
                    30.272590361445783,
                    18,
                    30.272590361445783,
                    30.272590361445783,
                    8,
                    35,
                    33,
                    60,
                    38,
                    30.272590361445783,
                    50,
                    30,
                    22,
                    53,
                    30.272590361445783,
                    30.272590361445783,
                    21,
                    18,
                    48,
                    55,
                    45,
                    22,
                    29,
                    30.272590361445783,
                    0.92,
                    19,
                    29,
                    1,
                    30.272590361445783,
                    26,
                    30.272590361445783,
                    20,
                    23,
                    30.272590361445783,
                    9,
                    2,
                    30,
                    1,
                    30.272590361445783,
                    64,
                    45,
                    37,
                    55,
                    17,
                    39,
                    12,
                    48,
                    19,
                    58,
                    16,
                    38,
                    31,
                    45,
                    0.17,
                    59,
                    30,
                    24,
                    31,
                    25,
                    30.272590361445783,
                    22,
                    45,
                    31,
                    54,
                    45,
                    22,
                    30.272590361445783,
                    19,
                    24,
                    51,
                    18,
                    48,
                    30,
                    22,
                    30.272590361445783,
                    3,
                    30.272590361445783,
                    37,
                    28,
                    39
                  ],
                  "xaxis": "x",
                  "yaxis": "y"
                },
                {
                  "alignmentgroup": "True",
                  "hovertemplate": "Age=%{x}<extra></extra>",
                  "legendgroup": "",
                  "marker": {
                    "color": "#636efa"
                  },
                  "name": "",
                  "notched": true,
                  "offsetgroup": "",
                  "showlegend": false,
                  "type": "box",
                  "x": [
                    47,
                    22,
                    30,
                    18,
                    23,
                    47,
                    24,
                    27,
                    45,
                    30.272590361445783,
                    48,
                    22,
                    33,
                    30.272590361445783,
                    30.272590361445783,
                    21,
                    30,
                    45,
                    60,
                    36,
                    20,
                    28,
                    36,
                    22,
                    30.272590361445783,
                    18,
                    60,
                    24,
                    29,
                    35,
                    55,
                    24,
                    27,
                    18,
                    30.272590361445783,
                    22,
                    27,
                    76,
                    20,
                    43,
                    16,
                    30.272590361445783,
                    36,
                    18.5,
                    63,
                    1,
                    29,
                    12,
                    35,
                    17,
                    30.272590361445783,
                    30.272590361445783,
                    23,
                    10,
                    33,
                    23,
                    36,
                    29,
                    23,
                    26,
                    30.272590361445783,
                    26,
                    26,
                    30.272590361445783,
                    22,
                    15,
                    20,
                    36,
                    64,
                    18,
                    27,
                    21,
                    30.272590361445783,
                    18,
                    30.272590361445783,
                    30.272590361445783,
                    8,
                    35,
                    33,
                    60,
                    38,
                    30.272590361445783,
                    50,
                    30,
                    22,
                    53,
                    30.272590361445783,
                    30.272590361445783,
                    21,
                    18,
                    48,
                    55,
                    45,
                    22,
                    29,
                    30.272590361445783,
                    0.92,
                    19,
                    29,
                    1,
                    30.272590361445783,
                    26,
                    30.272590361445783,
                    20,
                    23,
                    30.272590361445783,
                    9,
                    2,
                    30,
                    1,
                    30.272590361445783,
                    64,
                    45,
                    37,
                    55,
                    17,
                    39,
                    12,
                    48,
                    19,
                    58,
                    16,
                    38,
                    31,
                    45,
                    0.17,
                    59,
                    30,
                    24,
                    31,
                    25,
                    30.272590361445783,
                    22,
                    45,
                    31,
                    54,
                    45,
                    22,
                    30.272590361445783,
                    19,
                    24,
                    51,
                    18,
                    48,
                    30,
                    22,
                    30.272590361445783,
                    3,
                    30.272590361445783,
                    37,
                    28,
                    39
                  ],
                  "xaxis": "x2",
                  "yaxis": "y2"
                }
              ],
              "layout": {
                "autosize": true,
                "bargap": 0.1,
                "barmode": "relative",
                "legend": {
                  "tracegroupgap": 0
                },
                "template": {
                  "data": {
                    "bar": [
                      {
                        "error_x": {
                          "color": "#2a3f5f"
                        },
                        "error_y": {
                          "color": "#2a3f5f"
                        },
                        "marker": {
                          "line": {
                            "color": "#E5ECF6",
                            "width": 0.5
                          },
                          "pattern": {
                            "fillmode": "overlay",
                            "size": 10,
                            "solidity": 0.2
                          }
                        },
                        "type": "bar"
                      }
                    ],
                    "barpolar": [
                      {
                        "marker": {
                          "line": {
                            "color": "#E5ECF6",
                            "width": 0.5
                          },
                          "pattern": {
                            "fillmode": "overlay",
                            "size": 10,
                            "solidity": 0.2
                          }
                        },
                        "type": "barpolar"
                      }
                    ],
                    "carpet": [
                      {
                        "aaxis": {
                          "endlinecolor": "#2a3f5f",
                          "gridcolor": "white",
                          "linecolor": "white",
                          "minorgridcolor": "white",
                          "startlinecolor": "#2a3f5f"
                        },
                        "baxis": {
                          "endlinecolor": "#2a3f5f",
                          "gridcolor": "white",
                          "linecolor": "white",
                          "minorgridcolor": "white",
                          "startlinecolor": "#2a3f5f"
                        },
                        "type": "carpet"
                      }
                    ],
                    "choropleth": [
                      {
                        "colorbar": {
                          "outlinewidth": 0,
                          "ticks": ""
                        },
                        "type": "choropleth"
                      }
                    ],
                    "contour": [
                      {
                        "colorbar": {
                          "outlinewidth": 0,
                          "ticks": ""
                        },
                        "colorscale": [
                          [
                            0,
                            "#0d0887"
                          ],
                          [
                            0.1111111111111111,
                            "#46039f"
                          ],
                          [
                            0.2222222222222222,
                            "#7201a8"
                          ],
                          [
                            0.3333333333333333,
                            "#9c179e"
                          ],
                          [
                            0.4444444444444444,
                            "#bd3786"
                          ],
                          [
                            0.5555555555555556,
                            "#d8576b"
                          ],
                          [
                            0.6666666666666666,
                            "#ed7953"
                          ],
                          [
                            0.7777777777777778,
                            "#fb9f3a"
                          ],
                          [
                            0.8888888888888888,
                            "#fdca26"
                          ],
                          [
                            1,
                            "#f0f921"
                          ]
                        ],
                        "type": "contour"
                      }
                    ],
                    "contourcarpet": [
                      {
                        "colorbar": {
                          "outlinewidth": 0,
                          "ticks": ""
                        },
                        "type": "contourcarpet"
                      }
                    ],
                    "heatmap": [
                      {
                        "colorbar": {
                          "outlinewidth": 0,
                          "ticks": ""
                        },
                        "colorscale": [
                          [
                            0,
                            "#0d0887"
                          ],
                          [
                            0.1111111111111111,
                            "#46039f"
                          ],
                          [
                            0.2222222222222222,
                            "#7201a8"
                          ],
                          [
                            0.3333333333333333,
                            "#9c179e"
                          ],
                          [
                            0.4444444444444444,
                            "#bd3786"
                          ],
                          [
                            0.5555555555555556,
                            "#d8576b"
                          ],
                          [
                            0.6666666666666666,
                            "#ed7953"
                          ],
                          [
                            0.7777777777777778,
                            "#fb9f3a"
                          ],
                          [
                            0.8888888888888888,
                            "#fdca26"
                          ],
                          [
                            1,
                            "#f0f921"
                          ]
                        ],
                        "type": "heatmap"
                      }
                    ],
                    "heatmapgl": [
                      {
                        "colorbar": {
                          "outlinewidth": 0,
                          "ticks": ""
                        },
                        "colorscale": [
                          [
                            0,
                            "#0d0887"
                          ],
                          [
                            0.1111111111111111,
                            "#46039f"
                          ],
                          [
                            0.2222222222222222,
                            "#7201a8"
                          ],
                          [
                            0.3333333333333333,
                            "#9c179e"
                          ],
                          [
                            0.4444444444444444,
                            "#bd3786"
                          ],
                          [
                            0.5555555555555556,
                            "#d8576b"
                          ],
                          [
                            0.6666666666666666,
                            "#ed7953"
                          ],
                          [
                            0.7777777777777778,
                            "#fb9f3a"
                          ],
                          [
                            0.8888888888888888,
                            "#fdca26"
                          ],
                          [
                            1,
                            "#f0f921"
                          ]
                        ],
                        "type": "heatmapgl"
                      }
                    ],
                    "histogram": [
                      {
                        "marker": {
                          "pattern": {
                            "fillmode": "overlay",
                            "size": 10,
                            "solidity": 0.2
                          }
                        },
                        "type": "histogram"
                      }
                    ],
                    "histogram2d": [
                      {
                        "colorbar": {
                          "outlinewidth": 0,
                          "ticks": ""
                        },
                        "colorscale": [
                          [
                            0,
                            "#0d0887"
                          ],
                          [
                            0.1111111111111111,
                            "#46039f"
                          ],
                          [
                            0.2222222222222222,
                            "#7201a8"
                          ],
                          [
                            0.3333333333333333,
                            "#9c179e"
                          ],
                          [
                            0.4444444444444444,
                            "#bd3786"
                          ],
                          [
                            0.5555555555555556,
                            "#d8576b"
                          ],
                          [
                            0.6666666666666666,
                            "#ed7953"
                          ],
                          [
                            0.7777777777777778,
                            "#fb9f3a"
                          ],
                          [
                            0.8888888888888888,
                            "#fdca26"
                          ],
                          [
                            1,
                            "#f0f921"
                          ]
                        ],
                        "type": "histogram2d"
                      }
                    ],
                    "histogram2dcontour": [
                      {
                        "colorbar": {
                          "outlinewidth": 0,
                          "ticks": ""
                        },
                        "colorscale": [
                          [
                            0,
                            "#0d0887"
                          ],
                          [
                            0.1111111111111111,
                            "#46039f"
                          ],
                          [
                            0.2222222222222222,
                            "#7201a8"
                          ],
                          [
                            0.3333333333333333,
                            "#9c179e"
                          ],
                          [
                            0.4444444444444444,
                            "#bd3786"
                          ],
                          [
                            0.5555555555555556,
                            "#d8576b"
                          ],
                          [
                            0.6666666666666666,
                            "#ed7953"
                          ],
                          [
                            0.7777777777777778,
                            "#fb9f3a"
                          ],
                          [
                            0.8888888888888888,
                            "#fdca26"
                          ],
                          [
                            1,
                            "#f0f921"
                          ]
                        ],
                        "type": "histogram2dcontour"
                      }
                    ],
                    "mesh3d": [
                      {
                        "colorbar": {
                          "outlinewidth": 0,
                          "ticks": ""
                        },
                        "type": "mesh3d"
                      }
                    ],
                    "parcoords": [
                      {
                        "line": {
                          "colorbar": {
                            "outlinewidth": 0,
                            "ticks": ""
                          }
                        },
                        "type": "parcoords"
                      }
                    ],
                    "pie": [
                      {
                        "automargin": true,
                        "type": "pie"
                      }
                    ],
                    "scatter": [
                      {
                        "fillpattern": {
                          "fillmode": "overlay",
                          "size": 10,
                          "solidity": 0.2
                        },
                        "type": "scatter"
                      }
                    ],
                    "scatter3d": [
                      {
                        "line": {
                          "colorbar": {
                            "outlinewidth": 0,
                            "ticks": ""
                          }
                        },
                        "marker": {
                          "colorbar": {
                            "outlinewidth": 0,
                            "ticks": ""
                          }
                        },
                        "type": "scatter3d"
                      }
                    ],
                    "scattercarpet": [
                      {
                        "marker": {
                          "colorbar": {
                            "outlinewidth": 0,
                            "ticks": ""
                          }
                        },
                        "type": "scattercarpet"
                      }
                    ],
                    "scattergeo": [
                      {
                        "marker": {
                          "colorbar": {
                            "outlinewidth": 0,
                            "ticks": ""
                          }
                        },
                        "type": "scattergeo"
                      }
                    ],
                    "scattergl": [
                      {
                        "marker": {
                          "colorbar": {
                            "outlinewidth": 0,
                            "ticks": ""
                          }
                        },
                        "type": "scattergl"
                      }
                    ],
                    "scattermapbox": [
                      {
                        "marker": {
                          "colorbar": {
                            "outlinewidth": 0,
                            "ticks": ""
                          }
                        },
                        "type": "scattermapbox"
                      }
                    ],
                    "scatterpolar": [
                      {
                        "marker": {
                          "colorbar": {
                            "outlinewidth": 0,
                            "ticks": ""
                          }
                        },
                        "type": "scatterpolar"
                      }
                    ],
                    "scatterpolargl": [
                      {
                        "marker": {
                          "colorbar": {
                            "outlinewidth": 0,
                            "ticks": ""
                          }
                        },
                        "type": "scatterpolargl"
                      }
                    ],
                    "scatterternary": [
                      {
                        "marker": {
                          "colorbar": {
                            "outlinewidth": 0,
                            "ticks": ""
                          }
                        },
                        "type": "scatterternary"
                      }
                    ],
                    "surface": [
                      {
                        "colorbar": {
                          "outlinewidth": 0,
                          "ticks": ""
                        },
                        "colorscale": [
                          [
                            0,
                            "#0d0887"
                          ],
                          [
                            0.1111111111111111,
                            "#46039f"
                          ],
                          [
                            0.2222222222222222,
                            "#7201a8"
                          ],
                          [
                            0.3333333333333333,
                            "#9c179e"
                          ],
                          [
                            0.4444444444444444,
                            "#bd3786"
                          ],
                          [
                            0.5555555555555556,
                            "#d8576b"
                          ],
                          [
                            0.6666666666666666,
                            "#ed7953"
                          ],
                          [
                            0.7777777777777778,
                            "#fb9f3a"
                          ],
                          [
                            0.8888888888888888,
                            "#fdca26"
                          ],
                          [
                            1,
                            "#f0f921"
                          ]
                        ],
                        "type": "surface"
                      }
                    ],
                    "table": [
                      {
                        "cells": {
                          "fill": {
                            "color": "#EBF0F8"
                          },
                          "line": {
                            "color": "white"
                          }
                        },
                        "header": {
                          "fill": {
                            "color": "#C8D4E3"
                          },
                          "line": {
                            "color": "white"
                          }
                        },
                        "type": "table"
                      }
                    ]
                  },
                  "layout": {
                    "annotationdefaults": {
                      "arrowcolor": "#2a3f5f",
                      "arrowhead": 0,
                      "arrowwidth": 1
                    },
                    "autotypenumbers": "strict",
                    "coloraxis": {
                      "colorbar": {
                        "outlinewidth": 0,
                        "ticks": ""
                      }
                    },
                    "colorscale": {
                      "diverging": [
                        [
                          0,
                          "#8e0152"
                        ],
                        [
                          0.1,
                          "#c51b7d"
                        ],
                        [
                          0.2,
                          "#de77ae"
                        ],
                        [
                          0.3,
                          "#f1b6da"
                        ],
                        [
                          0.4,
                          "#fde0ef"
                        ],
                        [
                          0.5,
                          "#f7f7f7"
                        ],
                        [
                          0.6,
                          "#e6f5d0"
                        ],
                        [
                          0.7,
                          "#b8e186"
                        ],
                        [
                          0.8,
                          "#7fbc41"
                        ],
                        [
                          0.9,
                          "#4d9221"
                        ],
                        [
                          1,
                          "#276419"
                        ]
                      ],
                      "sequential": [
                        [
                          0,
                          "#0d0887"
                        ],
                        [
                          0.1111111111111111,
                          "#46039f"
                        ],
                        [
                          0.2222222222222222,
                          "#7201a8"
                        ],
                        [
                          0.3333333333333333,
                          "#9c179e"
                        ],
                        [
                          0.4444444444444444,
                          "#bd3786"
                        ],
                        [
                          0.5555555555555556,
                          "#d8576b"
                        ],
                        [
                          0.6666666666666666,
                          "#ed7953"
                        ],
                        [
                          0.7777777777777778,
                          "#fb9f3a"
                        ],
                        [
                          0.8888888888888888,
                          "#fdca26"
                        ],
                        [
                          1,
                          "#f0f921"
                        ]
                      ],
                      "sequentialminus": [
                        [
                          0,
                          "#0d0887"
                        ],
                        [
                          0.1111111111111111,
                          "#46039f"
                        ],
                        [
                          0.2222222222222222,
                          "#7201a8"
                        ],
                        [
                          0.3333333333333333,
                          "#9c179e"
                        ],
                        [
                          0.4444444444444444,
                          "#bd3786"
                        ],
                        [
                          0.5555555555555556,
                          "#d8576b"
                        ],
                        [
                          0.6666666666666666,
                          "#ed7953"
                        ],
                        [
                          0.7777777777777778,
                          "#fb9f3a"
                        ],
                        [
                          0.8888888888888888,
                          "#fdca26"
                        ],
                        [
                          1,
                          "#f0f921"
                        ]
                      ]
                    },
                    "colorway": [
                      "#636efa",
                      "#EF553B",
                      "#00cc96",
                      "#ab63fa",
                      "#FFA15A",
                      "#19d3f3",
                      "#FF6692",
                      "#B6E880",
                      "#FF97FF",
                      "#FECB52"
                    ],
                    "font": {
                      "color": "#2a3f5f"
                    },
                    "geo": {
                      "bgcolor": "white",
                      "lakecolor": "white",
                      "landcolor": "#E5ECF6",
                      "showlakes": true,
                      "showland": true,
                      "subunitcolor": "white"
                    },
                    "hoverlabel": {
                      "align": "left"
                    },
                    "hovermode": "closest",
                    "mapbox": {
                      "style": "light"
                    },
                    "paper_bgcolor": "white",
                    "plot_bgcolor": "#E5ECF6",
                    "polar": {
                      "angularaxis": {
                        "gridcolor": "white",
                        "linecolor": "white",
                        "ticks": ""
                      },
                      "bgcolor": "#E5ECF6",
                      "radialaxis": {
                        "gridcolor": "white",
                        "linecolor": "white",
                        "ticks": ""
                      }
                    },
                    "scene": {
                      "xaxis": {
                        "backgroundcolor": "#E5ECF6",
                        "gridcolor": "white",
                        "gridwidth": 2,
                        "linecolor": "white",
                        "showbackground": true,
                        "ticks": "",
                        "zerolinecolor": "white"
                      },
                      "yaxis": {
                        "backgroundcolor": "#E5ECF6",
                        "gridcolor": "white",
                        "gridwidth": 2,
                        "linecolor": "white",
                        "showbackground": true,
                        "ticks": "",
                        "zerolinecolor": "white"
                      },
                      "zaxis": {
                        "backgroundcolor": "#E5ECF6",
                        "gridcolor": "white",
                        "gridwidth": 2,
                        "linecolor": "white",
                        "showbackground": true,
                        "ticks": "",
                        "zerolinecolor": "white"
                      }
                    },
                    "shapedefaults": {
                      "line": {
                        "color": "#2a3f5f"
                      }
                    },
                    "ternary": {
                      "aaxis": {
                        "gridcolor": "white",
                        "linecolor": "white",
                        "ticks": ""
                      },
                      "baxis": {
                        "gridcolor": "white",
                        "linecolor": "white",
                        "ticks": ""
                      },
                      "bgcolor": "#E5ECF6",
                      "caxis": {
                        "gridcolor": "white",
                        "linecolor": "white",
                        "ticks": ""
                      }
                    },
                    "title": {
                      "x": 0.05
                    },
                    "xaxis": {
                      "automargin": true,
                      "gridcolor": "white",
                      "linecolor": "white",
                      "ticks": "",
                      "title": {
                        "standoff": 15
                      },
                      "zerolinecolor": "white",
                      "zerolinewidth": 2
                    },
                    "yaxis": {
                      "automargin": true,
                      "gridcolor": "white",
                      "linecolor": "white",
                      "ticks": "",
                      "title": {
                        "standoff": 15
                      },
                      "zerolinecolor": "white",
                      "zerolinewidth": 2
                    }
                  }
                },
                "title": {
                  "text": "Гістограма розподілу віку для тих, хто вижив"
                },
                "xaxis": {
                  "anchor": "y",
                  "autorange": true,
                  "domain": [
                    0,
                    1
                  ],
                  "range": [
                    -4.042777777777777,
                    80.21277777777777
                  ],
                  "title": {
                    "text": "Age"
                  },
                  "type": "linear"
                },
                "xaxis2": {
                  "anchor": "y2",
                  "autorange": true,
                  "domain": [
                    0,
                    1
                  ],
                  "matches": "x",
                  "range": [
                    -4.042777777777777,
                    80.21277777777777
                  ],
                  "showgrid": true,
                  "showticklabels": false,
                  "type": "linear"
                },
                "yaxis": {
                  "anchor": "x",
                  "autorange": true,
                  "domain": [
                    0,
                    0.8316
                  ],
                  "range": [
                    0,
                    38.94736842105263
                  ],
                  "title": {
                    "text": "count"
                  }
                },
                "yaxis2": {
                  "anchor": "x2",
                  "autorange": true,
                  "domain": [
                    0.8416,
                    1
                  ],
                  "matches": "y2",
                  "range": [
                    -0.5,
                    0.5
                  ],
                  "showgrid": false,
                  "showline": false,
                  "showticklabels": false,
                  "ticks": "",
                  "type": "category"
                }
              }
            },
            "image/png": "[encoded data removed]",
            "text/html": [
              "<div>                            <div id=\"2410121a-46bd-4354-8b1c-2decf7d8e8d5\" class=\"plotly-graph-div\" style=\"height:525px; width:100%;\"></div>            <script type=\"text/javascript\">                require([\"plotly\"], function(Plotly) {                    window.PLOTLYENV=window.PLOTLYENV || {};                                    if (document.getElementById(\"2410121a-46bd-4354-8b1c-2decf7d8e8d5\")) {                    Plotly.newPlot(                        \"2410121a-46bd-4354-8b1c-2decf7d8e8d5\",                        [{\"alignmentgroup\":\"True\",\"bingroup\":\"x\",\"hovertemplate\":\"Age=%{x}\\u003cbr\\u003ecount=%{y}\\u003cextra\\u003e\\u003c\\u002fextra\\u003e\",\"legendgroup\":\"\",\"marker\":{\"color\":\"#636efa\",\"pattern\":{\"shape\":\"\"}},\"name\":\"\",\"offsetgroup\":\"\",\"orientation\":\"v\",\"showlegend\":false,\"x\":[47.0,22.0,30.0,18.0,23.0,47.0,24.0,27.0,45.0,30.272590361445783,48.0,22.0,33.0,30.272590361445783,30.272590361445783,21.0,30.0,45.0,60.0,36.0,20.0,28.0,36.0,22.0,30.272590361445783,18.0,60.0,24.0,29.0,35.0,55.0,24.0,27.0,18.0,30.272590361445783,22.0,27.0,76.0,20.0,43.0,16.0,30.272590361445783,36.0,18.5,63.0,1.0,29.0,12.0,35.0,17.0,30.272590361445783,30.272590361445783,23.0,10.0,33.0,23.0,36.0,29.0,23.0,26.0,30.272590361445783,26.0,26.0,30.272590361445783,22.0,15.0,20.0,36.0,64.0,18.0,27.0,21.0,30.272590361445783,18.0,30.272590361445783,30.272590361445783,8.0,35.0,33.0,60.0,38.0,30.272590361445783,50.0,30.0,22.0,53.0,30.272590361445783,30.272590361445783,21.0,18.0,48.0,55.0,45.0,22.0,29.0,30.272590361445783,0.92,19.0,29.0,1.0,30.272590361445783,26.0,30.272590361445783,20.0,23.0,30.272590361445783,9.0,2.0,30.0,1.0,30.272590361445783,64.0,45.0,37.0,55.0,17.0,39.0,12.0,48.0,19.0,58.0,16.0,38.0,31.0,45.0,0.17,59.0,30.0,24.0,31.0,25.0,30.272590361445783,22.0,45.0,31.0,54.0,45.0,22.0,30.272590361445783,19.0,24.0,51.0,18.0,48.0,30.0,22.0,30.272590361445783,3.0,30.272590361445783,37.0,28.0,39.0],\"xaxis\":\"x\",\"yaxis\":\"y\",\"type\":\"histogram\"},{\"alignmentgroup\":\"True\",\"hovertemplate\":\"Age=%{x}\\u003cextra\\u003e\\u003c\\u002fextra\\u003e\",\"legendgroup\":\"\",\"marker\":{\"color\":\"#636efa\"},\"name\":\"\",\"notched\":true,\"offsetgroup\":\"\",\"showlegend\":false,\"x\":[47.0,22.0,30.0,18.0,23.0,47.0,24.0,27.0,45.0,30.272590361445783,48.0,22.0,33.0,30.272590361445783,30.272590361445783,21.0,30.0,45.0,60.0,36.0,20.0,28.0,36.0,22.0,30.272590361445783,18.0,60.0,24.0,29.0,35.0,55.0,24.0,27.0,18.0,30.272590361445783,22.0,27.0,76.0,20.0,43.0,16.0,30.272590361445783,36.0,18.5,63.0,1.0,29.0,12.0,35.0,17.0,30.272590361445783,30.272590361445783,23.0,10.0,33.0,23.0,36.0,29.0,23.0,26.0,30.272590361445783,26.0,26.0,30.272590361445783,22.0,15.0,20.0,36.0,64.0,18.0,27.0,21.0,30.272590361445783,18.0,30.272590361445783,30.272590361445783,8.0,35.0,33.0,60.0,38.0,30.272590361445783,50.0,30.0,22.0,53.0,30.272590361445783,30.272590361445783,21.0,18.0,48.0,55.0,45.0,22.0,29.0,30.272590361445783,0.92,19.0,29.0,1.0,30.272590361445783,26.0,30.272590361445783,20.0,23.0,30.272590361445783,9.0,2.0,30.0,1.0,30.272590361445783,64.0,45.0,37.0,55.0,17.0,39.0,12.0,48.0,19.0,58.0,16.0,38.0,31.0,45.0,0.17,59.0,30.0,24.0,31.0,25.0,30.272590361445783,22.0,45.0,31.0,54.0,45.0,22.0,30.272590361445783,19.0,24.0,51.0,18.0,48.0,30.0,22.0,30.272590361445783,3.0,30.272590361445783,37.0,28.0,39.0],\"xaxis\":\"x2\",\"yaxis\":\"y2\",\"type\":\"box\"}],                        {\"template\":{\"data\":{\"histogram2dcontour\":[{\"type\":\"histogram2dcontour\",\"colorbar\":{\"outlinewidth\":0,\"ticks\":\"\"},\"colorscale\":[[0.0,\"#0d0887\"],[0.1111111111111111,\"#46039f\"],[0.2222222222222222,\"#7201a8\"],[0.3333333333333333,\"#9c179e\"],[0.4444444444444444,\"#bd3786\"],[0.5555555555555556,\"#d8576b\"],[0.6666666666666666,\"#ed7953\"],[0.7777777777777778,\"#fb9f3a\"],[0.8888888888888888,\"#fdca26\"],[1.0,\"#f0f921\"]]}],\"choropleth\":[{\"type\":\"choropleth\",\"colorbar\":{\"outlinewidth\":0,\"ticks\":\"\"}}],\"histogram2d\":[{\"type\":\"histogram2d\",\"colorbar\":{\"outlinewidth\":0,\"ticks\":\"\"},\"colorscale\":[[0.0,\"#0d0887\"],[0.1111111111111111,\"#46039f\"],[0.2222222222222222,\"#7201a8\"],[0.3333333333333333,\"#9c179e\"],[0.4444444444444444,\"#bd3786\"],[0.5555555555555556,\"#d8576b\"],[0.6666666666666666,\"#ed7953\"],[0.7777777777777778,\"#fb9f3a\"],[0.8888888888888888,\"#fdca26\"],[1.0,\"#f0f921\"]]}],\"heatmap\":[{\"type\":\"heatmap\",\"colorbar\":{\"outlinewidth\":0,\"ticks\":\"\"},\"colorscale\":[[0.0,\"#0d0887\"],[0.1111111111111111,\"#46039f\"],[0.2222222222222222,\"#7201a8\"],[0.3333333333333333,\"#9c179e\"],[0.4444444444444444,\"#bd3786\"],[0.5555555555555556,\"#d8576b\"],[0.6666666666666666,\"#ed7953\"],[0.7777777777777778,\"#fb9f3a\"],[0.8888888888888888,\"#fdca26\"],[1.0,\"#f0f921\"]]}],\"heatmapgl\":[{\"type\":\"heatmapgl\",\"colorbar\":{\"outlinewidth\":0,\"ticks\":\"\"},\"colorscale\":[[0.0,\"#0d0887\"],[0.1111111111111111,\"#46039f\"],[0.2222222222222222,\"#7201a8\"],[0.3333333333333333,\"#9c179e\"],[0.4444444444444444,\"#bd3786\"],[0.5555555555555556,\"#d8576b\"],[0.6666666666666666,\"#ed7953\"],[0.7777777777777778,\"#fb9f3a\"],[0.8888888888888888,\"#fdca26\"],[1.0,\"#f0f921\"]]}],\"contourcarpet\":[{\"type\":\"contourcarpet\",\"colorbar\":{\"outlinewidth\":0,\"ticks\":\"\"}}],\"contour\":[{\"type\":\"contour\",\"colorbar\":{\"outlinewidth\":0,\"ticks\":\"\"},\"colorscale\":[[0.0,\"#0d0887\"],[0.1111111111111111,\"#46039f\"],[0.2222222222222222,\"#7201a8\"],[0.3333333333333333,\"#9c179e\"],[0.4444444444444444,\"#bd3786\"],[0.5555555555555556,\"#d8576b\"],[0.6666666666666666,\"#ed7953\"],[0.7777777777777778,\"#fb9f3a\"],[0.8888888888888888,\"#fdca26\"],[1.0,\"#f0f921\"]]}],\"surface\":[{\"type\":\"surface\",\"colorbar\":{\"outlinewidth\":0,\"ticks\":\"\"},\"colorscale\":[[0.0,\"#0d0887\"],[0.1111111111111111,\"#46039f\"],[0.2222222222222222,\"#7201a8\"],[0.3333333333333333,\"#9c179e\"],[0.4444444444444444,\"#bd3786\"],[0.5555555555555556,\"#d8576b\"],[0.6666666666666666,\"#ed7953\"],[0.7777777777777778,\"#fb9f3a\"],[0.8888888888888888,\"#fdca26\"],[1.0,\"#f0f921\"]]}],\"mesh3d\":[{\"type\":\"mesh3d\",\"colorbar\":{\"outlinewidth\":0,\"ticks\":\"\"}}],\"scatter\":[{\"fillpattern\":{\"fillmode\":\"overlay\",\"size\":10,\"solidity\":0.2},\"type\":\"scatter\"}],\"parcoords\":[{\"type\":\"parcoords\",\"line\":{\"colorbar\":{\"outlinewidth\":0,\"ticks\":\"\"}}}],\"scatterpolargl\":[{\"type\":\"scatterpolargl\",\"marker\":{\"colorbar\":{\"outlinewidth\":0,\"ticks\":\"\"}}}],\"bar\":[{\"error_x\":{\"color\":\"#2a3f5f\"},\"error_y\":{\"color\":\"#2a3f5f\"},\"marker\":{\"line\":{\"color\":\"#E5ECF6\",\"width\":0.5},\"pattern\":{\"fillmode\":\"overlay\",\"size\":10,\"solidity\":0.2}},\"type\":\"bar\"}],\"scattergeo\":[{\"type\":\"scattergeo\",\"marker\":{\"colorbar\":{\"outlinewidth\":0,\"ticks\":\"\"}}}],\"scatterpolar\":[{\"type\":\"scatterpolar\",\"marker\":{\"colorbar\":{\"outlinewidth\":0,\"ticks\":\"\"}}}],\"histogram\":[{\"marker\":{\"pattern\":{\"fillmode\":\"overlay\",\"size\":10,\"solidity\":0.2}},\"type\":\"histogram\"}],\"scattergl\":[{\"type\":\"scattergl\",\"marker\":{\"colorbar\":{\"outlinewidth\":0,\"ticks\":\"\"}}}],\"scatter3d\":[{\"type\":\"scatter3d\",\"line\":{\"colorbar\":{\"outlinewidth\":0,\"ticks\":\"\"}},\"marker\":{\"colorbar\":{\"outlinewidth\":0,\"ticks\":\"\"}}}],\"scattermapbox\":[{\"type\":\"scattermapbox\",\"marker\":{\"colorbar\":{\"outlinewidth\":0,\"ticks\":\"\"}}}],\"scatterternary\":[{\"type\":\"scatterternary\",\"marker\":{\"colorbar\":{\"outlinewidth\":0,\"ticks\":\"\"}}}],\"scattercarpet\":[{\"type\":\"scattercarpet\",\"marker\":{\"colorbar\":{\"outlinewidth\":0,\"ticks\":\"\"}}}],\"carpet\":[{\"aaxis\":{\"endlinecolor\":\"#2a3f5f\",\"gridcolor\":\"white\",\"linecolor\":\"white\",\"minorgridcolor\":\"white\",\"startlinecolor\":\"#2a3f5f\"},\"baxis\":{\"endlinecolor\":\"#2a3f5f\",\"gridcolor\":\"white\",\"linecolor\":\"white\",\"minorgridcolor\":\"white\",\"startlinecolor\":\"#2a3f5f\"},\"type\":\"carpet\"}],\"table\":[{\"cells\":{\"fill\":{\"color\":\"#EBF0F8\"},\"line\":{\"color\":\"white\"}},\"header\":{\"fill\":{\"color\":\"#C8D4E3\"},\"line\":{\"color\":\"white\"}},\"type\":\"table\"}],\"barpolar\":[{\"marker\":{\"line\":{\"color\":\"#E5ECF6\",\"width\":0.5},\"pattern\":{\"fillmode\":\"overlay\",\"size\":10,\"solidity\":0.2}},\"type\":\"barpolar\"}],\"pie\":[{\"automargin\":true,\"type\":\"pie\"}]},\"layout\":{\"autotypenumbers\":\"strict\",\"colorway\":[\"#636efa\",\"#EF553B\",\"#00cc96\",\"#ab63fa\",\"#FFA15A\",\"#19d3f3\",\"#FF6692\",\"#B6E880\",\"#FF97FF\",\"#FECB52\"],\"font\":{\"color\":\"#2a3f5f\"},\"hovermode\":\"closest\",\"hoverlabel\":{\"align\":\"left\"},\"paper_bgcolor\":\"white\",\"plot_bgcolor\":\"#E5ECF6\",\"polar\":{\"bgcolor\":\"#E5ECF6\",\"angularaxis\":{\"gridcolor\":\"white\",\"linecolor\":\"white\",\"ticks\":\"\"},\"radialaxis\":{\"gridcolor\":\"white\",\"linecolor\":\"white\",\"ticks\":\"\"}},\"ternary\":{\"bgcolor\":\"#E5ECF6\",\"aaxis\":{\"gridcolor\":\"white\",\"linecolor\":\"white\",\"ticks\":\"\"},\"baxis\":{\"gridcolor\":\"white\",\"linecolor\":\"white\",\"ticks\":\"\"},\"caxis\":{\"gridcolor\":\"white\",\"linecolor\":\"white\",\"ticks\":\"\"}},\"coloraxis\":{\"colorbar\":{\"outlinewidth\":0,\"ticks\":\"\"}},\"colorscale\":{\"sequential\":[[0.0,\"#0d0887\"],[0.1111111111111111,\"#46039f\"],[0.2222222222222222,\"#7201a8\"],[0.3333333333333333,\"#9c179e\"],[0.4444444444444444,\"#bd3786\"],[0.5555555555555556,\"#d8576b\"],[0.6666666666666666,\"#ed7953\"],[0.7777777777777778,\"#fb9f3a\"],[0.8888888888888888,\"#fdca26\"],[1.0,\"#f0f921\"]],\"sequentialminus\":[[0.0,\"#0d0887\"],[0.1111111111111111,\"#46039f\"],[0.2222222222222222,\"#7201a8\"],[0.3333333333333333,\"#9c179e\"],[0.4444444444444444,\"#bd3786\"],[0.5555555555555556,\"#d8576b\"],[0.6666666666666666,\"#ed7953\"],[0.7777777777777778,\"#fb9f3a\"],[0.8888888888888888,\"#fdca26\"],[1.0,\"#f0f921\"]],\"diverging\":[[0,\"#8e0152\"],[0.1,\"#c51b7d\"],[0.2,\"#de77ae\"],[0.3,\"#f1b6da\"],[0.4,\"#fde0ef\"],[0.5,\"#f7f7f7\"],[0.6,\"#e6f5d0\"],[0.7,\"#b8e186\"],[0.8,\"#7fbc41\"],[0.9,\"#4d9221\"],[1,\"#276419\"]]},\"xaxis\":{\"gridcolor\":\"white\",\"linecolor\":\"white\",\"ticks\":\"\",\"title\":{\"standoff\":15},\"zerolinecolor\":\"white\",\"automargin\":true,\"zerolinewidth\":2},\"yaxis\":{\"gridcolor\":\"white\",\"linecolor\":\"white\",\"ticks\":\"\",\"title\":{\"standoff\":15},\"zerolinecolor\":\"white\",\"automargin\":true,\"zerolinewidth\":2},\"scene\":{\"xaxis\":{\"backgroundcolor\":\"#E5ECF6\",\"gridcolor\":\"white\",\"linecolor\":\"white\",\"showbackground\":true,\"ticks\":\"\",\"zerolinecolor\":\"white\",\"gridwidth\":2},\"yaxis\":{\"backgroundcolor\":\"#E5ECF6\",\"gridcolor\":\"white\",\"linecolor\":\"white\",\"showbackground\":true,\"ticks\":\"\",\"zerolinecolor\":\"white\",\"gridwidth\":2},\"zaxis\":{\"backgroundcolor\":\"#E5ECF6\",\"gridcolor\":\"white\",\"linecolor\":\"white\",\"showbackground\":true,\"ticks\":\"\",\"zerolinecolor\":\"white\",\"gridwidth\":2}},\"shapedefaults\":{\"line\":{\"color\":\"#2a3f5f\"}},\"annotationdefaults\":{\"arrowcolor\":\"#2a3f5f\",\"arrowhead\":0,\"arrowwidth\":1},\"geo\":{\"bgcolor\":\"white\",\"landcolor\":\"#E5ECF6\",\"subunitcolor\":\"white\",\"showland\":true,\"showlakes\":true,\"lakecolor\":\"white\"},\"title\":{\"x\":0.05},\"mapbox\":{\"style\":\"light\"}}},\"xaxis\":{\"anchor\":\"y\",\"domain\":[0.0,1.0],\"title\":{\"text\":\"Age\"}},\"yaxis\":{\"anchor\":\"x\",\"domain\":[0.0,0.8316],\"title\":{\"text\":\"count\"}},\"xaxis2\":{\"anchor\":\"y2\",\"domain\":[0.0,1.0],\"matches\":\"x\",\"showticklabels\":false,\"showgrid\":true},\"yaxis2\":{\"anchor\":\"x2\",\"domain\":[0.8416,1.0],\"matches\":\"y2\",\"showticklabels\":false,\"showline\":false,\"ticks\":\"\",\"showgrid\":false},\"legend\":{\"tracegroupgap\":0},\"title\":{\"text\":\"\\u0413\\u0456\\u0441\\u0442\\u043e\\u0433\\u0440\\u0430\\u043c\\u0430 \\u0440\\u043e\\u0437\\u043f\\u043e\\u0434\\u0456\\u043b\\u0443 \\u0432\\u0456\\u043a\\u0443 \\u0434\\u043b\\u044f \\u0442\\u0438\\u0445, \\u0445\\u0442\\u043e \\u0432\\u0438\\u0436\\u0438\\u0432\"},\"barmode\":\"relative\",\"bargap\":0.1},                        {\"responsive\": true}                    ).then(function(){\n",
              "                            \n",
              "var gd = document.getElementById('2410121a-46bd-4354-8b1c-2decf7d8e8d5');\n",
              "var x = new MutationObserver(function (mutations, observer) {{\n",
              "        var display = window.getComputedStyle(gd).display;\n",
              "        if (!display || display === 'none') {{\n",
              "            console.log([gd, 'removed!']);\n",
              "            Plotly.purge(gd);\n",
              "            observer.disconnect();\n",
              "        }}\n",
              "}});\n",
              "\n",
              "// Listen for the removal of the full notebook cells\n",
              "var notebookContainer = gd.closest('#notebook-container');\n",
              "if (notebookContainer) {{\n",
              "    x.observe(notebookContainer, {childList: true});\n",
              "}}\n",
              "\n",
              "// Listen for the clearing of the current output cell\n",
              "var outputEl = gd.closest('.output');\n",
              "if (outputEl) {{\n",
              "    x.observe(outputEl, {childList: true});\n",
              "}}\n",
              "\n",
              "                        })                };                });            </script>        </div>"
            ]
          },
          "metadata": {},
          "output_type": "display_data"
        }
      ],
      "source": [
        "fig = px.histogram(df_titanic_to_use[df_titanic_to_use['Survived'] == 1],\n",
        "                   x = 'Age',\n",
        "                   marginal = 'box',\n",
        "                   title = 'Гістограма розподілу віку для тих, хто вижив')\n",
        "\n",
        "fig.update_layout(bargap=0.1)\n",
        "\n",
        "fig.show()"
      ]
    },
    {
      "cell_type": "markdown",
      "id": "1cf954d5-7b69-48bc-8475-d2423fa4b7c7",
      "metadata": {
        "id": "1cf954d5-7b69-48bc-8475-d2423fa4b7c7"
      },
      "source": [
        "##### Найбільше людей які вижили мали вік 30-34 роки, а найменше 40-44 та 75-79"
      ]
    },
    {
      "cell_type": "markdown",
      "id": "39c9091c-f630-43d2-85a2-5a56b5547aa1",
      "metadata": {
        "id": "39c9091c-f630-43d2-85a2-5a56b5547aa1"
      },
      "source": [
        "21. Обчисліть відсоток виживання для кожної комбінації статі та класу (наприклад, жінки в 1-му класі, чоловіки в 3-му класі). Яка група мала найвищий рівень виживання (дати відповідь)?"
      ]
    },
    {
      "cell_type": "code",
      "execution_count": null,
      "id": "28217168-d592-4028-a77f-a97eefeae25c",
      "metadata": {
        "id": "28217168-d592-4028-a77f-a97eefeae25c",
        "outputId": "2f777940-eadb-4a06-8cad-75c4188e257e"
      },
      "outputs": [
        {
          "name": "stdout",
          "output_type": "stream",
          "text": [
            "Відсоток виживання серед жінок класу 1: 11.961722488038278 %\n",
            "Відсоток виживання серед жінок класу 2: 7.177033492822966 %\n",
            "Відсоток виживання серед жінок класу 3: 17.22488038277512 %\n",
            "Відсоток виживання серед чоловіків класу 1: 0.0 %\n",
            "Відсоток виживання серед чоловіків класу 2: 0.0 %\n",
            "Відсоток виживання серед чоловіків класу 3: 0.0 %\n"
          ]
        }
      ],
      "source": [
        "survived = df_titanic_to_use[df_titanic_to_use['Survived'] == 1]\n",
        "\n",
        "female_class_1      = survived.query('Sex == 1 and Pclass == 1')\n",
        "female_class_1_perc = female_class_1['Survived'].sum() / len(df_titanic_to_use['Survived']) * 100\n",
        "female_class_2      = survived.query('Sex == 1 and Pclass == 2')\n",
        "female_class_2_perc = female_class_2['Survived'].sum() / len(df_titanic_to_use['Survived']) * 100\n",
        "female_class_3      = survived.query('Sex == 1 and Pclass == 3')\n",
        "female_class_3_perc = female_class_3['Survived'].sum() / len(df_titanic_to_use['Survived']) * 100\n",
        "\n",
        "male_class_1      = survived.query('Sex == 0 and Pclass == 1')\n",
        "male_class_1_perc = male_class_1['Survived'].sum() / len(df_titanic_to_use['Survived']) * 100\n",
        "male_class_2      = survived.query('Sex == 0 and Pclass == 2')\n",
        "male_class_2_perc = male_class_2['Survived'].sum() / len(df_titanic_to_use['Survived']) * 100\n",
        "male_class_3      = survived.query('Sex == 0 and Pclass == 3')\n",
        "male_class_3_perc = male_class_3['Survived'].sum() / len(df_titanic_to_use['Survived']) * 100\n",
        "\n",
        "\n",
        "print(f'Відсоток виживання серед жінок класу 1: {female_class_1_perc} %')\n",
        "print(f'Відсоток виживання серед жінок класу 2: {female_class_2_perc} %')\n",
        "print(f'Відсоток виживання серед жінок класу 3: {female_class_3_perc} %')\n",
        "\n",
        "print(f'Відсоток виживання серед чоловіків класу 1: {male_class_1_perc} %')\n",
        "print(f'Відсоток виживання серед чоловіків класу 2: {male_class_2_perc} %')\n",
        "print(f'Відсоток виживання серед чоловіків класу 3: {male_class_3_perc} %')"
      ]
    },
    {
      "cell_type": "markdown",
      "id": "52fc5d31-4927-476f-903c-01f1b2d5e345",
      "metadata": {
        "id": "52fc5d31-4927-476f-903c-01f1b2d5e345"
      },
      "source": [
        "##### Серед жінок найбільше виживших у найнижчому (3) класі. Серед чоловіків виживших немає взагалі"
      ]
    },
    {
      "cell_type": "markdown",
      "id": "27ce18c0-3387-45be-9d2b-90ac7d00cd77",
      "metadata": {
        "id": "27ce18c0-3387-45be-9d2b-90ac7d00cd77"
      },
      "source": [
        "22. Обчисліть кореляцію між усіма числовими змінними (Survived, Pclass, Age, Fare). Які змінні найбільш сильно корелюють з виживанням (дати відповідь)?"
      ]
    },
    {
      "cell_type": "code",
      "execution_count": null,
      "id": "3e84e919-cc1b-4b87-9f7b-e8c29867ecf5",
      "metadata": {
        "id": "3e84e919-cc1b-4b87-9f7b-e8c29867ecf5",
        "outputId": "f805d4be-b6d2-4245-8344-a18530fc41a1"
      },
      "outputs": [
        {
          "data": {
            "image/png": "[encoded data removed]",
            "text/plain": [
              "<Figure size 1000x500 with 2 Axes>"
            ]
          },
          "metadata": {},
          "output_type": "display_data"
        }
      ],
      "source": [
        "cols_for_corr = ['Survived', 'Pclass', 'Sex', 'Age', 'Fare']\n",
        "corr_data_titanic = df_titanic_to_use[cols_for_corr].corr()\n",
        "\n",
        "plt.figure(figsize = (10, 5))\n",
        "sns.heatmap(data = corr_data_titanic, annot = True, cmap = \"RdYlGn\", cbar = True, fmt='.4f')\n",
        "plt.show()"
      ]
    },
    {
      "cell_type": "code",
      "execution_count": null,
      "id": "9232e6e1-dfdb-4965-90bf-b350b62c505e",
      "metadata": {
        "id": "9232e6e1-dfdb-4965-90bf-b350b62c505e",
        "outputId": "4cd59bf9-e139-45dd-fd3c-4a10fce71a12"
      },
      "outputs": [
        {
          "name": "stdout",
          "output_type": "stream",
          "text": [
            "Пара з найвищою кореляцією:\n",
            "Fare      Age         0.326800\n",
            "Age       Fare        0.326800\n",
            "Sex       Fare        0.191382\n",
            "Fare      Sex         0.191382\n",
            "          Survived    0.191382\n",
            "Survived  Fare        0.191382\n",
            "Age       Sex        -0.000011\n",
            "          Survived   -0.000011\n",
            "Sex       Age        -0.000011\n",
            "Survived  Age        -0.000011\n",
            "          Pclass     -0.108615\n",
            "Pclass    Survived   -0.108615\n",
            "Sex       Pclass     -0.108615\n",
            "Pclass    Sex        -0.108615\n",
            "Age       Pclass     -0.440782\n",
            "Pclass    Age        -0.440782\n",
            "          Fare       -0.576619\n",
            "Fare      Pclass     -0.576619\n",
            "dtype: float64\n"
          ]
        }
      ],
      "source": [
        "highest_correlation = corr_data_titanic.unstack().sort_values(ascending = False)\n",
        "highest_correlation = highest_correlation[highest_correlation < 1].head(20)\n",
        "\n",
        "print(f\"Пара з найвищою кореляцією:\\n{highest_correlation}\")"
      ]
    },
    {
      "cell_type": "markdown",
      "id": "42566b83-4ce5-4a7a-bbdb-73917e23b8c6",
      "metadata": {
        "id": "42566b83-4ce5-4a7a-bbdb-73917e23b8c6"
      },
      "source": [
        "#### Із стовпцем Survived найбільше корелюють Pclass та Fare"
      ]
    },
    {
      "cell_type": "markdown",
      "id": "98add48e-3fab-4a6c-b4f3-f45b05142edf",
      "metadata": {
        "id": "98add48e-3fab-4a6c-b4f3-f45b05142edf"
      },
      "source": [
        "Висновки:"
      ]
    },
    {
      "cell_type": "markdown",
      "id": "537185e1-dc8d-4f11-84c7-f67f16259732",
      "metadata": {
        "id": "537185e1-dc8d-4f11-84c7-f67f16259732"
      },
      "source": [
        "- Чоловіки не вижили\n",
        "- Третій клас показав найвищий відсоток виживших."
      ]
    },
    {
      "cell_type": "code",
      "execution_count": null,
      "id": "05c3b99a-7b0c-4d38-b4ca-8c72d6a288ec",
      "metadata": {
        "id": "05c3b99a-7b0c-4d38-b4ca-8c72d6a288ec"
      },
      "outputs": [],
      "source": []
    }
  ],
  "metadata": {
    "kernelspec": {
      "display_name": "Python 3 (ipykernel)",
      "language": "python",
      "name": "python3"
    },
    "language_info": {
      "codemirror_mode": {
        "name": "ipython",
        "version": 3
      },
      "file_extension": ".py",
      "mimetype": "text/x-python",
      "name": "python",
      "nbconvert_exporter": "python",
      "pygments_lexer": "ipython3",
      "version": "3.11.6"
    },
    "colab": {
      "provenance": [],
      "include_colab_link": true
    }
  },
  "nbformat": 4,
  "nbformat_minor": 5
}