{
  "metadata": {
    "kernelspec": {
      "language": "python",
      "display_name": "Python 3",
      "name": "python3"
    },
    "language_info": {
      "name": "python",
      "version": "3.10.14",
      "mimetype": "text/x-python",
      "codemirror_mode": {
        "name": "ipython",
        "version": 3
      },
      "pygments_lexer": "ipython3",
      "nbconvert_exporter": "python",
      "file_extension": ".py"
    },
    "kaggle": {
      "accelerator": "none",
      "dataSources": [
        {
          "sourceId": 1733506,
          "sourceType": "datasetVersion",
          "datasetId": 6012
        }
      ],
      "dockerImageVersionId": 30775,
      "isInternetEnabled": false,
      "language": "python",
      "sourceType": "notebook",
      "isGpuEnabled": false
    },
    "colab": {
      "provenance": [],
      "include_colab_link": true
    }
  },
  "nbformat_minor": 0,
  "nbformat": 4,
  "cells": [
    {
      "cell_type": "markdown",
      "metadata": {
        "id": "view-in-github",
        "colab_type": "text"
      },
      "source": [
        "<a href=\"https://colab.research.google.com/github/anastasiia-vsk/Start-into-ML/blob/main/%D0%92%D0%B0%D1%81%D1%8C%D0%BA%D0%BE_%D0%9F%D0%A0_24_09.ipynb\" target=\"_parent\"><img src=\"https://colab.research.google.com/assets/colab-badge.svg\" alt=\"Open In Colab\"/></a>"
      ]
    },
    {
      "source": [
        "# IMPORTANT: RUN THIS CELL IN ORDER TO IMPORT YOUR KAGGLE DATA SOURCES\n",
        "# TO THE CORRECT LOCATION (/kaggle/input) IN YOUR NOTEBOOK,\n",
        "# THEN FEEL FREE TO DELETE THIS CELL.\n",
        "# NOTE: THIS NOTEBOOK ENVIRONMENT DIFFERS FROM KAGGLE'S PYTHON\n",
        "# ENVIRONMENT SO THERE MAY BE MISSING LIBRARIES USED BY YOUR\n",
        "# NOTEBOOK.\n",
        "\n",
        "import os\n",
        "import sys\n",
        "from tempfile import NamedTemporaryFile\n",
        "from urllib.request import urlopen\n",
        "from urllib.parse import unquote, urlparse\n",
        "from urllib.error import HTTPError\n",
        "from zipfile import ZipFile\n",
        "import tarfile\n",
        "import shutil\n",
        "\n",
        "CHUNK_SIZE = 40960\n",
        "DATA_SOURCE_MAPPING = 'weather-dataset-rattle-package:https%3A%2F%2Fstorage.googleapis.com%2Fkaggle-data-sets%2F6012%2F1733506%2Fbundle%2Farchive.zip%3FX-Goog-Algorithm%3DGOOG4-RSA-SHA256%26X-Goog-Credential%3Dgcp-kaggle-com%2540kaggle-161607.iam.gserviceaccount.com%252F20240924%252Fauto%252Fstorage%252Fgoog4_request%26X-Goog-Date%3D20240924T110127Z%26X-Goog-Expires%3D259200%26X-Goog-SignedHeaders%3Dhost%26X-Goog-Signature%3Db004f58264b45f77652c3a8b664dd011ffa10485ca565d8a5649f66ba5e06c5bf496a67029a55cb72aec7a7069292178fb617da89d9a38c549008c08edbbf19c29d1d71ce7043ade4cb3a1355796aaf3f52faf6f47f2ade0d34368d070c1347aee03522f074b6aaf7e523fec675b0a1b28a8028f2e193844aabcadaa37377b1e698daaf1ec85192862d5064fd51cbd42619a994eef16c5a636208635783283bb05dcf54736cc8c970552d4541a0d57929044499f0b4a24fcc7fdac4ead15e7c7b5959d1fcbf60117d3894dd0d183b00a7cd095e31327e4bd412f44328722cade0e6608fa0ca0c7a604c846b9ee7316483704e3ef98d79b50f4b06fafc16f139a'\n",
        "\n",
        "KAGGLE_INPUT_PATH='/kaggle/input'\n",
        "KAGGLE_WORKING_PATH='/kaggle/working'\n",
        "KAGGLE_SYMLINK='kaggle'\n",
        "\n",
        "!umount /kaggle/input/ 2> /dev/null\n",
        "shutil.rmtree('/kaggle/input', ignore_errors=True)\n",
        "os.makedirs(KAGGLE_INPUT_PATH, 0o777, exist_ok=True)\n",
        "os.makedirs(KAGGLE_WORKING_PATH, 0o777, exist_ok=True)\n",
        "\n",
        "try:\n",
        "  os.symlink(KAGGLE_INPUT_PATH, os.path.join(\"..\", 'input'), target_is_directory=True)\n",
        "except FileExistsError:\n",
        "  pass\n",
        "try:\n",
        "  os.symlink(KAGGLE_WORKING_PATH, os.path.join(\"..\", 'working'), target_is_directory=True)\n",
        "except FileExistsError:\n",
        "  pass\n",
        "\n",
        "for data_source_mapping in DATA_SOURCE_MAPPING.split(','):\n",
        "    directory, download_url_encoded = data_source_mapping.split(':')\n",
        "    download_url = unquote(download_url_encoded)\n",
        "    filename = urlparse(download_url).path\n",
        "    destination_path = os.path.join(KAGGLE_INPUT_PATH, directory)\n",
        "    try:\n",
        "        with urlopen(download_url) as fileres, NamedTemporaryFile() as tfile:\n",
        "            total_length = fileres.headers['content-length']\n",
        "            print(f'Downloading {directory}, {total_length} bytes compressed')\n",
        "            dl = 0\n",
        "            data = fileres.read(CHUNK_SIZE)\n",
        "            while len(data) > 0:\n",
        "                dl += len(data)\n",
        "                tfile.write(data)\n",
        "                done = int(50 * dl / int(total_length))\n",
        "                sys.stdout.write(f\"\\r[{'=' * done}{' ' * (50-done)}] {dl} bytes downloaded\")\n",
        "                sys.stdout.flush()\n",
        "                data = fileres.read(CHUNK_SIZE)\n",
        "            if filename.endswith('.zip'):\n",
        "              with ZipFile(tfile) as zfile:\n",
        "                zfile.extractall(destination_path)\n",
        "            else:\n",
        "              with tarfile.open(tfile.name) as tarfile:\n",
        "                tarfile.extractall(destination_path)\n",
        "            print(f'\\nDownloaded and uncompressed: {directory}')\n",
        "    except HTTPError as e:\n",
        "        print(f'Failed to load (likely expired) {download_url} to path {destination_path}')\n",
        "        continue\n",
        "    except OSError as e:\n",
        "        print(f'Failed to load {download_url} to path {destination_path}')\n",
        "        continue\n",
        "\n",
        "print('Data source import complete.')\n"
      ],
      "metadata": {
        "id": "m6Y9RXCusYZi"
      },
      "cell_type": "code",
      "outputs": [],
      "execution_count": null
    },
    {
      "cell_type": "code",
      "source": [
        "# This Python 3 environment comes with many helpful analytics libraries installed\n",
        "# It is defined by the kaggle/python Docker image: https://github.com/kaggle/docker-python\n",
        "# For example, here's several helpful packages to load\n",
        "\n",
        "import numpy as np # linear algebra\n",
        "import pandas as pd # data processing, CSV file I/O (e.g. pd.read_csv)\n",
        "\n",
        "# Input data files are available in the read-only \"../input/\" directory\n",
        "# For example, running this (by clicking run or pressing Shift+Enter) will list all files under the input directory\n",
        "\n",
        "import os\n",
        "for dirname, _, filenames in os.walk('/kaggle/input'):\n",
        "    for filename in filenames:\n",
        "        print(os.path.join(dirname, filename))\n",
        "\n",
        "# You can write up to 20GB to the current directory (/kaggle/working/) that gets preserved as output when you create a version using \"Save & Run All\"\n",
        "# You can also write temporary files to /kaggle/temp/, but they won't be saved outside of the current session"
      ],
      "metadata": {
        "_uuid": "8f2839f25d086af736a60e9eeb907d3b93b6e0e5",
        "_cell_guid": "b1076dfc-b9ad-4769-8c92-a6c4dae69d19",
        "execution": {
          "iopub.status.busy": "2024-09-24T09:45:55.577417Z",
          "iopub.execute_input": "2024-09-24T09:45:55.578367Z",
          "iopub.status.idle": "2024-09-24T09:45:56.693881Z",
          "shell.execute_reply.started": "2024-09-24T09:45:55.578306Z",
          "shell.execute_reply": "2024-09-24T09:45:56.692685Z"
        },
        "trusted": true,
        "id": "MZ3xAQmwsYZj",
        "outputId": "a42fb45a-1754-478f-8246-77dbef378ac7"
      },
      "execution_count": null,
      "outputs": [
        {
          "name": "stdout",
          "text": "/kaggle/input/weather-dataset-rattle-package/weatherAUS.csv\n",
          "output_type": "stream"
        }
      ]
    },
    {
      "cell_type": "markdown",
      "source": [
        "## Завантаження даних"
      ],
      "metadata": {
        "id": "8c8IniwSsYZk"
      }
    },
    {
      "cell_type": "code",
      "source": [
        "df = pd.read_csv(\"/kaggle/input/weather-dataset-rattle-package/weatherAUS.csv\")\n",
        "df.head()"
      ],
      "metadata": {
        "execution": {
          "iopub.status.busy": "2024-09-24T09:46:18.795686Z",
          "iopub.execute_input": "2024-09-24T09:46:18.796316Z",
          "iopub.status.idle": "2024-09-24T09:46:19.653095Z",
          "shell.execute_reply.started": "2024-09-24T09:46:18.796268Z",
          "shell.execute_reply": "2024-09-24T09:46:19.651992Z"
        },
        "trusted": true,
        "id": "TPt6So0asYZl",
        "outputId": "5302e1d8-7b21-4ee3-a40d-1c4e3dd744c0"
      },
      "execution_count": null,
      "outputs": [
        {
          "execution_count": 2,
          "output_type": "execute_result",
          "data": {
            "text/plain": "         Date Location  MinTemp  MaxTemp  Rainfall  Evaporation  Sunshine  \\\n0  2008-12-01   Albury     13.4     22.9       0.6          NaN       NaN   \n1  2008-12-02   Albury      7.4     25.1       0.0          NaN       NaN   \n2  2008-12-03   Albury     12.9     25.7       0.0          NaN       NaN   \n3  2008-12-04   Albury      9.2     28.0       0.0          NaN       NaN   \n4  2008-12-05   Albury     17.5     32.3       1.0          NaN       NaN   \n\n  WindGustDir  WindGustSpeed WindDir9am  ... Humidity9am  Humidity3pm  \\\n0           W           44.0          W  ...        71.0         22.0   \n1         WNW           44.0        NNW  ...        44.0         25.0   \n2         WSW           46.0          W  ...        38.0         30.0   \n3          NE           24.0         SE  ...        45.0         16.0   \n4           W           41.0        ENE  ...        82.0         33.0   \n\n   Pressure9am  Pressure3pm  Cloud9am  Cloud3pm  Temp9am  Temp3pm  RainToday  \\\n0       1007.7       1007.1       8.0       NaN     16.9     21.8         No   \n1       1010.6       1007.8       NaN       NaN     17.2     24.3         No   \n2       1007.6       1008.7       NaN       2.0     21.0     23.2         No   \n3       1017.6       1012.8       NaN       NaN     18.1     26.5         No   \n4       1010.8       1006.0       7.0       8.0     17.8     29.7         No   \n\n   RainTomorrow  \n0            No  \n1            No  \n2            No  \n3            No  \n4            No  \n\n[5 rows x 23 columns]",
            "text/html": "<div>\n<style scoped>\n    .dataframe tbody tr th:only-of-type {\n        vertical-align: middle;\n    }\n\n    .dataframe tbody tr th {\n        vertical-align: top;\n    }\n\n    .dataframe thead th {\n        text-align: right;\n    }\n</style>\n<table border=\"1\" class=\"dataframe\">\n  <thead>\n    <tr style=\"text-align: right;\">\n      <th></th>\n      <th>Date</th>\n      <th>Location</th>\n      <th>MinTemp</th>\n      <th>MaxTemp</th>\n      <th>Rainfall</th>\n      <th>Evaporation</th>\n      <th>Sunshine</th>\n      <th>WindGustDir</th>\n      <th>WindGustSpeed</th>\n      <th>WindDir9am</th>\n      <th>...</th>\n      <th>Humidity9am</th>\n      <th>Humidity3pm</th>\n      <th>Pressure9am</th>\n      <th>Pressure3pm</th>\n      <th>Cloud9am</th>\n      <th>Cloud3pm</th>\n      <th>Temp9am</th>\n      <th>Temp3pm</th>\n      <th>RainToday</th>\n      <th>RainTomorrow</th>\n    </tr>\n  </thead>\n  <tbody>\n    <tr>\n      <th>0</th>\n      <td>2008-12-01</td>\n      <td>Albury</td>\n      <td>13.4</td>\n      <td>22.9</td>\n      <td>0.6</td>\n      <td>NaN</td>\n      <td>NaN</td>\n      <td>W</td>\n      <td>44.0</td>\n      <td>W</td>\n      <td>...</td>\n      <td>71.0</td>\n      <td>22.0</td>\n      <td>1007.7</td>\n      <td>1007.1</td>\n      <td>8.0</td>\n      <td>NaN</td>\n      <td>16.9</td>\n      <td>21.8</td>\n      <td>No</td>\n      <td>No</td>\n    </tr>\n    <tr>\n      <th>1</th>\n      <td>2008-12-02</td>\n      <td>Albury</td>\n      <td>7.4</td>\n      <td>25.1</td>\n      <td>0.0</td>\n      <td>NaN</td>\n      <td>NaN</td>\n      <td>WNW</td>\n      <td>44.0</td>\n      <td>NNW</td>\n      <td>...</td>\n      <td>44.0</td>\n      <td>25.0</td>\n      <td>1010.6</td>\n      <td>1007.8</td>\n      <td>NaN</td>\n      <td>NaN</td>\n      <td>17.2</td>\n      <td>24.3</td>\n      <td>No</td>\n      <td>No</td>\n    </tr>\n    <tr>\n      <th>2</th>\n      <td>2008-12-03</td>\n      <td>Albury</td>\n      <td>12.9</td>\n      <td>25.7</td>\n      <td>0.0</td>\n      <td>NaN</td>\n      <td>NaN</td>\n      <td>WSW</td>\n      <td>46.0</td>\n      <td>W</td>\n      <td>...</td>\n      <td>38.0</td>\n      <td>30.0</td>\n      <td>1007.6</td>\n      <td>1008.7</td>\n      <td>NaN</td>\n      <td>2.0</td>\n      <td>21.0</td>\n      <td>23.2</td>\n      <td>No</td>\n      <td>No</td>\n    </tr>\n    <tr>\n      <th>3</th>\n      <td>2008-12-04</td>\n      <td>Albury</td>\n      <td>9.2</td>\n      <td>28.0</td>\n      <td>0.0</td>\n      <td>NaN</td>\n      <td>NaN</td>\n      <td>NE</td>\n      <td>24.0</td>\n      <td>SE</td>\n      <td>...</td>\n      <td>45.0</td>\n      <td>16.0</td>\n      <td>1017.6</td>\n      <td>1012.8</td>\n      <td>NaN</td>\n      <td>NaN</td>\n      <td>18.1</td>\n      <td>26.5</td>\n      <td>No</td>\n      <td>No</td>\n    </tr>\n    <tr>\n      <th>4</th>\n      <td>2008-12-05</td>\n      <td>Albury</td>\n      <td>17.5</td>\n      <td>32.3</td>\n      <td>1.0</td>\n      <td>NaN</td>\n      <td>NaN</td>\n      <td>W</td>\n      <td>41.0</td>\n      <td>ENE</td>\n      <td>...</td>\n      <td>82.0</td>\n      <td>33.0</td>\n      <td>1010.8</td>\n      <td>1006.0</td>\n      <td>7.0</td>\n      <td>8.0</td>\n      <td>17.8</td>\n      <td>29.7</td>\n      <td>No</td>\n      <td>No</td>\n    </tr>\n  </tbody>\n</table>\n<p>5 rows × 23 columns</p>\n</div>"
          },
          "metadata": {}
        }
      ]
    },
    {
      "cell_type": "code",
      "source": [
        "df.isna().sum()"
      ],
      "metadata": {
        "execution": {
          "iopub.status.busy": "2024-09-24T09:46:53.166166Z",
          "iopub.execute_input": "2024-09-24T09:46:53.166736Z",
          "iopub.status.idle": "2024-09-24T09:46:53.288895Z",
          "shell.execute_reply.started": "2024-09-24T09:46:53.166677Z",
          "shell.execute_reply": "2024-09-24T09:46:53.287556Z"
        },
        "trusted": true,
        "id": "3o64C26usYZl",
        "outputId": "f7b2f013-f857-4dcd-c429-f42706c1829c"
      },
      "execution_count": null,
      "outputs": [
        {
          "execution_count": 3,
          "output_type": "execute_result",
          "data": {
            "text/plain": "Date                 0\nLocation             0\nMinTemp           1485\nMaxTemp           1261\nRainfall          3261\nEvaporation      62790\nSunshine         69835\nWindGustDir      10326\nWindGustSpeed    10263\nWindDir9am       10566\nWindDir3pm        4228\nWindSpeed9am      1767\nWindSpeed3pm      3062\nHumidity9am       2654\nHumidity3pm       4507\nPressure9am      15065\nPressure3pm      15028\nCloud9am         55888\nCloud3pm         59358\nTemp9am           1767\nTemp3pm           3609\nRainToday         3261\nRainTomorrow      3267\ndtype: int64"
          },
          "metadata": {}
        }
      ]
    },
    {
      "cell_type": "code",
      "source": [
        "df.info()"
      ],
      "metadata": {
        "execution": {
          "iopub.status.busy": "2024-09-24T09:47:06.292805Z",
          "iopub.execute_input": "2024-09-24T09:47:06.293924Z",
          "iopub.status.idle": "2024-09-24T09:47:06.427845Z",
          "shell.execute_reply.started": "2024-09-24T09:47:06.29386Z",
          "shell.execute_reply": "2024-09-24T09:47:06.426469Z"
        },
        "trusted": true,
        "id": "1-POHOEDsYZl",
        "outputId": "8a916d77-eb27-470e-fb64-086057849b52"
      },
      "execution_count": null,
      "outputs": [
        {
          "name": "stdout",
          "text": "<class 'pandas.core.frame.DataFrame'>\nRangeIndex: 145460 entries, 0 to 145459\nData columns (total 23 columns):\n #   Column         Non-Null Count   Dtype  \n---  ------         --------------   -----  \n 0   Date           145460 non-null  object \n 1   Location       145460 non-null  object \n 2   MinTemp        143975 non-null  float64\n 3   MaxTemp        144199 non-null  float64\n 4   Rainfall       142199 non-null  float64\n 5   Evaporation    82670 non-null   float64\n 6   Sunshine       75625 non-null   float64\n 7   WindGustDir    135134 non-null  object \n 8   WindGustSpeed  135197 non-null  float64\n 9   WindDir9am     134894 non-null  object \n 10  WindDir3pm     141232 non-null  object \n 11  WindSpeed9am   143693 non-null  float64\n 12  WindSpeed3pm   142398 non-null  float64\n 13  Humidity9am    142806 non-null  float64\n 14  Humidity3pm    140953 non-null  float64\n 15  Pressure9am    130395 non-null  float64\n 16  Pressure3pm    130432 non-null  float64\n 17  Cloud9am       89572 non-null   float64\n 18  Cloud3pm       86102 non-null   float64\n 19  Temp9am        143693 non-null  float64\n 20  Temp3pm        141851 non-null  float64\n 21  RainToday      142199 non-null  object \n 22  RainTomorrow   142193 non-null  object \ndtypes: float64(16), object(7)\nmemory usage: 25.5+ MB\n",
          "output_type": "stream"
        }
      ]
    },
    {
      "cell_type": "markdown",
      "source": [
        "Варто відкинути рядки, де значення `RainTomorrow` або `RainToday` відсутні, щоб зробити наш аналіз і моделювання простішими (оскільки одне з них є цільовою змінною, а інше, ймовірно, дуже тісно пов'язане з цільовою змінною)."
      ],
      "metadata": {
        "id": "yLRE4wSksYZl"
      }
    },
    {
      "cell_type": "code",
      "source": [
        "df.dropna(subset=['RainToday', 'RainTomorrow'], inplace=True)"
      ],
      "metadata": {
        "execution": {
          "iopub.status.busy": "2024-09-24T10:00:06.491539Z",
          "iopub.execute_input": "2024-09-24T10:00:06.492035Z",
          "iopub.status.idle": "2024-09-24T10:00:06.555734Z",
          "shell.execute_reply.started": "2024-09-24T10:00:06.491981Z",
          "shell.execute_reply": "2024-09-24T10:00:06.554636Z"
        },
        "trusted": true,
        "id": "NeyvCijesYZl"
      },
      "execution_count": null,
      "outputs": []
    },
    {
      "cell_type": "code",
      "source": [
        "df.shape"
      ],
      "metadata": {
        "execution": {
          "iopub.status.busy": "2024-09-24T10:00:09.930973Z",
          "iopub.execute_input": "2024-09-24T10:00:09.931419Z",
          "iopub.status.idle": "2024-09-24T10:00:09.939698Z",
          "shell.execute_reply.started": "2024-09-24T10:00:09.931378Z",
          "shell.execute_reply": "2024-09-24T10:00:09.938127Z"
        },
        "trusted": true,
        "id": "fe_0y_rjsYZl",
        "outputId": "33de5656-a893-45b0-cee6-fa350b753dd1"
      },
      "execution_count": null,
      "outputs": [
        {
          "execution_count": 7,
          "output_type": "execute_result",
          "data": {
            "text/plain": "(140787, 23)"
          },
          "metadata": {}
        }
      ]
    },
    {
      "cell_type": "code",
      "source": [
        "df.columns"
      ],
      "metadata": {
        "execution": {
          "iopub.status.busy": "2024-09-24T10:00:13.102482Z",
          "iopub.execute_input": "2024-09-24T10:00:13.102948Z",
          "iopub.status.idle": "2024-09-24T10:00:13.113687Z",
          "shell.execute_reply.started": "2024-09-24T10:00:13.102904Z",
          "shell.execute_reply": "2024-09-24T10:00:13.112011Z"
        },
        "trusted": true,
        "id": "3nlhnw0esYZm",
        "outputId": "594dbf9d-e03d-482b-da58-6998e0cb014b"
      },
      "execution_count": null,
      "outputs": [
        {
          "execution_count": 8,
          "output_type": "execute_result",
          "data": {
            "text/plain": "Index(['Date', 'Location', 'MinTemp', 'MaxTemp', 'Rainfall', 'Evaporation',\n       'Sunshine', 'WindGustDir', 'WindGustSpeed', 'WindDir9am', 'WindDir3pm',\n       'WindSpeed9am', 'WindSpeed3pm', 'Humidity9am', 'Humidity3pm',\n       'Pressure9am', 'Pressure3pm', 'Cloud9am', 'Cloud3pm', 'Temp9am',\n       'Temp3pm', 'RainToday', 'RainTomorrow'],\n      dtype='object')"
          },
          "metadata": {}
        }
      ]
    },
    {
      "cell_type": "markdown",
      "source": [
        "## Розділення на тренувальну та тестову вибірку"
      ],
      "metadata": {
        "id": "3XcXrrxFsYZm"
      }
    },
    {
      "cell_type": "code",
      "source": [
        "from sklearn.model_selection import train_test_split"
      ],
      "metadata": {
        "execution": {
          "iopub.status.busy": "2024-09-24T10:03:35.733164Z",
          "iopub.execute_input": "2024-09-24T10:03:35.733601Z",
          "iopub.status.idle": "2024-09-24T10:03:36.743093Z",
          "shell.execute_reply.started": "2024-09-24T10:03:35.733562Z",
          "shell.execute_reply": "2024-09-24T10:03:36.741841Z"
        },
        "trusted": true,
        "id": "FF3YGErVsYZm"
      },
      "execution_count": null,
      "outputs": []
    },
    {
      "cell_type": "code",
      "source": [
        "train_val_df, test_df = train_test_split(df, test_size=0.2, random_state=42)\n",
        "train_df, val_df = train_test_split(df, test_size=0.25, random_state=42)"
      ],
      "metadata": {
        "execution": {
          "iopub.status.busy": "2024-09-24T10:03:55.943373Z",
          "iopub.execute_input": "2024-09-24T10:03:55.944128Z",
          "iopub.status.idle": "2024-09-24T10:03:56.105096Z",
          "shell.execute_reply.started": "2024-09-24T10:03:55.944081Z",
          "shell.execute_reply": "2024-09-24T10:03:56.103681Z"
        },
        "trusted": true,
        "id": "yoBEH0ulsYZm"
      },
      "execution_count": null,
      "outputs": []
    },
    {
      "cell_type": "code",
      "source": [
        "print('train_df.shape :', train_df.shape)\n",
        "print('val_df.shape :', val_df.shape)\n",
        "print('test_df.shape :', test_df.shape)"
      ],
      "metadata": {
        "execution": {
          "iopub.status.busy": "2024-09-24T10:05:16.738373Z",
          "iopub.execute_input": "2024-09-24T10:05:16.738845Z",
          "iopub.status.idle": "2024-09-24T10:05:16.746139Z",
          "shell.execute_reply.started": "2024-09-24T10:05:16.738801Z",
          "shell.execute_reply": "2024-09-24T10:05:16.744852Z"
        },
        "trusted": true,
        "id": "ceV_0T7asYZn",
        "outputId": "c1889a5c-9c3b-40b4-8723-f937c4277e08"
      },
      "execution_count": null,
      "outputs": [
        {
          "name": "stdout",
          "text": "train_df.shape : (105590, 23)\nval_df.shape : (35197, 23)\ntest_df.shape : (28158, 23)\n",
          "output_type": "stream"
        }
      ]
    },
    {
      "cell_type": "code",
      "source": [
        "year = pd.to_datetime(df.Date).dt.year\n",
        "\n",
        "train_df = df[year < 2015]\n",
        "val_df = df[year == 2015]\n",
        "test_df = df[year > 2015]"
      ],
      "metadata": {
        "execution": {
          "iopub.status.busy": "2024-09-24T10:07:03.377994Z",
          "iopub.execute_input": "2024-09-24T10:07:03.378419Z",
          "iopub.status.idle": "2024-09-24T10:07:03.45385Z",
          "shell.execute_reply.started": "2024-09-24T10:07:03.378378Z",
          "shell.execute_reply": "2024-09-24T10:07:03.452794Z"
        },
        "trusted": true,
        "id": "VMpI1bfosYZn"
      },
      "execution_count": null,
      "outputs": []
    },
    {
      "cell_type": "code",
      "source": [
        "print('train_df.shape :', train_df.shape)\n",
        "print('val_df.shape :', val_df.shape)\n",
        "print('test_df.shape :', test_df.shape)"
      ],
      "metadata": {
        "execution": {
          "iopub.status.busy": "2024-09-24T10:07:07.496053Z",
          "iopub.execute_input": "2024-09-24T10:07:07.497006Z",
          "iopub.status.idle": "2024-09-24T10:07:07.502867Z",
          "shell.execute_reply.started": "2024-09-24T10:07:07.496959Z",
          "shell.execute_reply": "2024-09-24T10:07:07.501663Z"
        },
        "trusted": true,
        "id": "MdqaH2OgsYZn",
        "outputId": "06031e21-7b50-4ae1-b0e4-d0c7dc6fff81"
      },
      "execution_count": null,
      "outputs": [
        {
          "name": "stdout",
          "text": "train_df.shape : (97988, 23)\nval_df.shape : (17089, 23)\ntest_df.shape : (25710, 23)\n",
          "output_type": "stream"
        }
      ]
    },
    {
      "cell_type": "code",
      "source": [
        "# лишаю цільові стовпці\n",
        "train_df.columns"
      ],
      "metadata": {
        "execution": {
          "iopub.status.busy": "2024-09-24T10:08:10.229362Z",
          "iopub.execute_input": "2024-09-24T10:08:10.229853Z",
          "iopub.status.idle": "2024-09-24T10:08:10.237903Z",
          "shell.execute_reply.started": "2024-09-24T10:08:10.229811Z",
          "shell.execute_reply": "2024-09-24T10:08:10.236707Z"
        },
        "trusted": true,
        "id": "6mTbWcR6sYZn",
        "outputId": "38bd1ac2-05b5-4db1-c67f-2124dcf89614"
      },
      "execution_count": null,
      "outputs": [
        {
          "execution_count": 15,
          "output_type": "execute_result",
          "data": {
            "text/plain": "Index(['Date', 'Location', 'MinTemp', 'MaxTemp', 'Rainfall', 'Evaporation',\n       'Sunshine', 'WindGustDir', 'WindGustSpeed', 'WindDir9am', 'WindDir3pm',\n       'WindSpeed9am', 'WindSpeed3pm', 'Humidity9am', 'Humidity3pm',\n       'Pressure9am', 'Pressure3pm', 'Cloud9am', 'Cloud3pm', 'Temp9am',\n       'Temp3pm', 'RainToday', 'RainTomorrow'],\n      dtype='object')"
          },
          "metadata": {}
        }
      ]
    },
    {
      "cell_type": "code",
      "source": [
        "input_cols = list(train_df.columns)[1:-1]\n",
        "target_col = 'RainTomorrow'"
      ],
      "metadata": {
        "execution": {
          "iopub.status.busy": "2024-09-24T10:08:15.319335Z",
          "iopub.execute_input": "2024-09-24T10:08:15.320091Z",
          "iopub.status.idle": "2024-09-24T10:08:15.3251Z",
          "shell.execute_reply.started": "2024-09-24T10:08:15.320044Z",
          "shell.execute_reply": "2024-09-24T10:08:15.323963Z"
        },
        "trusted": true,
        "id": "IUkgq7LYsYZo"
      },
      "execution_count": null,
      "outputs": []
    },
    {
      "cell_type": "code",
      "source": [
        "print(input_cols)"
      ],
      "metadata": {
        "execution": {
          "iopub.status.busy": "2024-09-24T10:08:24.307556Z",
          "iopub.execute_input": "2024-09-24T10:08:24.308009Z",
          "iopub.status.idle": "2024-09-24T10:08:24.31403Z",
          "shell.execute_reply.started": "2024-09-24T10:08:24.307966Z",
          "shell.execute_reply": "2024-09-24T10:08:24.312651Z"
        },
        "trusted": true,
        "id": "6T9oe1kDsYZo",
        "outputId": "e501f676-9d5e-43ec-8d0d-c6507c8a1836"
      },
      "execution_count": null,
      "outputs": [
        {
          "name": "stdout",
          "text": "['Location', 'MinTemp', 'MaxTemp', 'Rainfall', 'Evaporation', 'Sunshine', 'WindGustDir', 'WindGustSpeed', 'WindDir9am', 'WindDir3pm', 'WindSpeed9am', 'WindSpeed3pm', 'Humidity9am', 'Humidity3pm', 'Pressure9am', 'Pressure3pm', 'Cloud9am', 'Cloud3pm', 'Temp9am', 'Temp3pm', 'RainToday']\n",
          "output_type": "stream"
        }
      ]
    },
    {
      "cell_type": "code",
      "source": [
        "target_col"
      ],
      "metadata": {
        "execution": {
          "iopub.status.busy": "2024-09-24T10:08:34.21881Z",
          "iopub.execute_input": "2024-09-24T10:08:34.220137Z",
          "iopub.status.idle": "2024-09-24T10:08:34.226962Z",
          "shell.execute_reply.started": "2024-09-24T10:08:34.220081Z",
          "shell.execute_reply": "2024-09-24T10:08:34.225642Z"
        },
        "trusted": true,
        "id": "7m--SpATsYZo",
        "outputId": "e5ccf910-f596-48a4-ce91-4c981a576cbb"
      },
      "execution_count": null,
      "outputs": [
        {
          "execution_count": 19,
          "output_type": "execute_result",
          "data": {
            "text/plain": "'RainTomorrow'"
          },
          "metadata": {}
        }
      ]
    },
    {
      "cell_type": "markdown",
      "source": [
        "вхідні дані, цільові значення для навчальних, валідаційних та тестових наборів"
      ],
      "metadata": {
        "id": "Y6nb_mA3sYZo"
      }
    },
    {
      "cell_type": "code",
      "source": [
        "train_inputs = train_df[input_cols].copy()\n",
        "train_targets = train_df[target_col].copy()"
      ],
      "metadata": {
        "execution": {
          "iopub.status.busy": "2024-09-24T10:14:57.007702Z",
          "iopub.execute_input": "2024-09-24T10:14:57.008318Z",
          "iopub.status.idle": "2024-09-24T10:14:57.037426Z",
          "shell.execute_reply.started": "2024-09-24T10:14:57.00826Z",
          "shell.execute_reply": "2024-09-24T10:14:57.036084Z"
        },
        "trusted": true,
        "id": "7f69f99nsYZo"
      },
      "execution_count": null,
      "outputs": []
    },
    {
      "cell_type": "code",
      "source": [
        "val_inputs = val_df[input_cols].copy()\n",
        "val_targets = val_df[target_col].copy()"
      ],
      "metadata": {
        "execution": {
          "iopub.status.busy": "2024-09-24T10:15:01.062194Z",
          "iopub.execute_input": "2024-09-24T10:15:01.062624Z",
          "iopub.status.idle": "2024-09-24T10:15:01.073545Z",
          "shell.execute_reply.started": "2024-09-24T10:15:01.062584Z",
          "shell.execute_reply": "2024-09-24T10:15:01.071684Z"
        },
        "trusted": true,
        "id": "N_LUHv9HsYZo"
      },
      "execution_count": null,
      "outputs": []
    },
    {
      "cell_type": "code",
      "source": [
        "test_inputs = test_df[input_cols].copy()\n",
        "test_targets = test_df[target_col].copy()"
      ],
      "metadata": {
        "execution": {
          "iopub.status.busy": "2024-09-24T10:15:03.3528Z",
          "iopub.execute_input": "2024-09-24T10:15:03.353267Z",
          "iopub.status.idle": "2024-09-24T10:15:03.364298Z",
          "shell.execute_reply.started": "2024-09-24T10:15:03.353223Z",
          "shell.execute_reply": "2024-09-24T10:15:03.362751Z"
        },
        "trusted": true,
        "id": "bzWB2-3wsYZo"
      },
      "execution_count": null,
      "outputs": []
    },
    {
      "cell_type": "markdown",
      "source": [
        "Визначення категоріальних та числових змінних"
      ],
      "metadata": {
        "id": "_oB1bpeNsYZo"
      }
    },
    {
      "cell_type": "code",
      "source": [
        "numeric_cols = train_inputs.select_dtypes('number').columns.tolist()\n",
        "categorical_cols = train_inputs.select_dtypes('object').columns.tolist()"
      ],
      "metadata": {
        "execution": {
          "iopub.status.busy": "2024-09-24T10:15:54.004269Z",
          "iopub.execute_input": "2024-09-24T10:15:54.004959Z",
          "iopub.status.idle": "2024-09-24T10:15:54.029876Z",
          "shell.execute_reply.started": "2024-09-24T10:15:54.004892Z",
          "shell.execute_reply": "2024-09-24T10:15:54.028551Z"
        },
        "trusted": true,
        "id": "z7ZedeQXsYZo"
      },
      "execution_count": null,
      "outputs": []
    },
    {
      "cell_type": "code",
      "source": [
        "train_inputs[numeric_cols].describe().round(2)"
      ],
      "metadata": {
        "execution": {
          "iopub.status.busy": "2024-09-24T10:16:02.996099Z",
          "iopub.execute_input": "2024-09-24T10:16:02.996542Z",
          "iopub.status.idle": "2024-09-24T10:16:03.163978Z",
          "shell.execute_reply.started": "2024-09-24T10:16:02.996498Z",
          "shell.execute_reply": "2024-09-24T10:16:03.162635Z"
        },
        "trusted": true,
        "id": "yeC39_X_sYZo",
        "outputId": "1ef11c4e-d3cd-42a4-ac56-5171b755f8f0"
      },
      "execution_count": null,
      "outputs": [
        {
          "execution_count": 25,
          "output_type": "execute_result",
          "data": {
            "text/plain": "        MinTemp   MaxTemp  Rainfall  Evaporation  Sunshine  WindGustSpeed  \\\ncount  97674.00  97801.00  97988.00     61657.00  57942.00       91160.00   \nmean      12.01     23.02      2.37         5.29      7.61          40.22   \nstd        6.35      6.98      8.52         3.95      3.79          13.70   \nmin       -8.50     -4.10      0.00         0.00      0.00           6.00   \n25%        7.50     17.90      0.00         2.60      4.80          31.00   \n50%       11.80     22.40      0.00         4.60      8.50          39.00   \n75%       16.60     27.90      0.80         7.20     10.60          48.00   \nmax       33.90     48.10    371.00        82.40     14.30         135.00   \n\n       WindSpeed9am  WindSpeed3pm  Humidity9am  Humidity3pm  Pressure9am  \\\ncount      97114.00      96919.00     96936.00     96872.00     88876.00   \nmean          14.09         18.76        68.63        51.47      1017.51   \nstd            8.98          8.87        19.00        20.76         7.07   \nmin            0.00          0.00         0.00         0.00       980.50   \n25%            7.00         13.00        57.00        37.00      1012.80   \n50%           13.00         19.00        70.00        52.00      1017.50   \n75%           19.00         24.00        83.00        66.00      1022.30   \nmax           87.00         87.00       100.00       100.00      1041.00   \n\n       Pressure3pm  Cloud9am  Cloud3pm   Temp9am   Temp3pm  \ncount     88857.00  63000.00  61966.00  97414.00  97392.00  \nmean       1015.13      4.30      4.41     16.84     21.54  \nstd           7.00      2.87      2.69      6.40      6.83  \nmin         979.00      0.00      0.00     -5.90     -5.10  \n25%        1010.40      1.00      2.00     12.20     16.60  \n50%        1015.10      5.00      5.00     16.60     20.90  \n75%        1019.90      7.00      7.00     21.40     26.20  \nmax        1039.60      9.00      9.00     40.20     46.10  ",
            "text/html": "<div>\n<style scoped>\n    .dataframe tbody tr th:only-of-type {\n        vertical-align: middle;\n    }\n\n    .dataframe tbody tr th {\n        vertical-align: top;\n    }\n\n    .dataframe thead th {\n        text-align: right;\n    }\n</style>\n<table border=\"1\" class=\"dataframe\">\n  <thead>\n    <tr style=\"text-align: right;\">\n      <th></th>\n      <th>MinTemp</th>\n      <th>MaxTemp</th>\n      <th>Rainfall</th>\n      <th>Evaporation</th>\n      <th>Sunshine</th>\n      <th>WindGustSpeed</th>\n      <th>WindSpeed9am</th>\n      <th>WindSpeed3pm</th>\n      <th>Humidity9am</th>\n      <th>Humidity3pm</th>\n      <th>Pressure9am</th>\n      <th>Pressure3pm</th>\n      <th>Cloud9am</th>\n      <th>Cloud3pm</th>\n      <th>Temp9am</th>\n      <th>Temp3pm</th>\n    </tr>\n  </thead>\n  <tbody>\n    <tr>\n      <th>count</th>\n      <td>97674.00</td>\n      <td>97801.00</td>\n      <td>97988.00</td>\n      <td>61657.00</td>\n      <td>57942.00</td>\n      <td>91160.00</td>\n      <td>97114.00</td>\n      <td>96919.00</td>\n      <td>96936.00</td>\n      <td>96872.00</td>\n      <td>88876.00</td>\n      <td>88857.00</td>\n      <td>63000.00</td>\n      <td>61966.00</td>\n      <td>97414.00</td>\n      <td>97392.00</td>\n    </tr>\n    <tr>\n      <th>mean</th>\n      <td>12.01</td>\n      <td>23.02</td>\n      <td>2.37</td>\n      <td>5.29</td>\n      <td>7.61</td>\n      <td>40.22</td>\n      <td>14.09</td>\n      <td>18.76</td>\n      <td>68.63</td>\n      <td>51.47</td>\n      <td>1017.51</td>\n      <td>1015.13</td>\n      <td>4.30</td>\n      <td>4.41</td>\n      <td>16.84</td>\n      <td>21.54</td>\n    </tr>\n    <tr>\n      <th>std</th>\n      <td>6.35</td>\n      <td>6.98</td>\n      <td>8.52</td>\n      <td>3.95</td>\n      <td>3.79</td>\n      <td>13.70</td>\n      <td>8.98</td>\n      <td>8.87</td>\n      <td>19.00</td>\n      <td>20.76</td>\n      <td>7.07</td>\n      <td>7.00</td>\n      <td>2.87</td>\n      <td>2.69</td>\n      <td>6.40</td>\n      <td>6.83</td>\n    </tr>\n    <tr>\n      <th>min</th>\n      <td>-8.50</td>\n      <td>-4.10</td>\n      <td>0.00</td>\n      <td>0.00</td>\n      <td>0.00</td>\n      <td>6.00</td>\n      <td>0.00</td>\n      <td>0.00</td>\n      <td>0.00</td>\n      <td>0.00</td>\n      <td>980.50</td>\n      <td>979.00</td>\n      <td>0.00</td>\n      <td>0.00</td>\n      <td>-5.90</td>\n      <td>-5.10</td>\n    </tr>\n    <tr>\n      <th>25%</th>\n      <td>7.50</td>\n      <td>17.90</td>\n      <td>0.00</td>\n      <td>2.60</td>\n      <td>4.80</td>\n      <td>31.00</td>\n      <td>7.00</td>\n      <td>13.00</td>\n      <td>57.00</td>\n      <td>37.00</td>\n      <td>1012.80</td>\n      <td>1010.40</td>\n      <td>1.00</td>\n      <td>2.00</td>\n      <td>12.20</td>\n      <td>16.60</td>\n    </tr>\n    <tr>\n      <th>50%</th>\n      <td>11.80</td>\n      <td>22.40</td>\n      <td>0.00</td>\n      <td>4.60</td>\n      <td>8.50</td>\n      <td>39.00</td>\n      <td>13.00</td>\n      <td>19.00</td>\n      <td>70.00</td>\n      <td>52.00</td>\n      <td>1017.50</td>\n      <td>1015.10</td>\n      <td>5.00</td>\n      <td>5.00</td>\n      <td>16.60</td>\n      <td>20.90</td>\n    </tr>\n    <tr>\n      <th>75%</th>\n      <td>16.60</td>\n      <td>27.90</td>\n      <td>0.80</td>\n      <td>7.20</td>\n      <td>10.60</td>\n      <td>48.00</td>\n      <td>19.00</td>\n      <td>24.00</td>\n      <td>83.00</td>\n      <td>66.00</td>\n      <td>1022.30</td>\n      <td>1019.90</td>\n      <td>7.00</td>\n      <td>7.00</td>\n      <td>21.40</td>\n      <td>26.20</td>\n    </tr>\n    <tr>\n      <th>max</th>\n      <td>33.90</td>\n      <td>48.10</td>\n      <td>371.00</td>\n      <td>82.40</td>\n      <td>14.30</td>\n      <td>135.00</td>\n      <td>87.00</td>\n      <td>87.00</td>\n      <td>100.00</td>\n      <td>100.00</td>\n      <td>1041.00</td>\n      <td>1039.60</td>\n      <td>9.00</td>\n      <td>9.00</td>\n      <td>40.20</td>\n      <td>46.10</td>\n    </tr>\n  </tbody>\n</table>\n</div>"
          },
          "metadata": {}
        }
      ]
    },
    {
      "cell_type": "code",
      "source": [
        "train_inputs[categorical_cols].nunique()"
      ],
      "metadata": {
        "execution": {
          "iopub.status.busy": "2024-09-24T10:16:20.842698Z",
          "iopub.execute_input": "2024-09-24T10:16:20.843169Z",
          "iopub.status.idle": "2024-09-24T10:16:20.899137Z",
          "shell.execute_reply.started": "2024-09-24T10:16:20.843127Z",
          "shell.execute_reply": "2024-09-24T10:16:20.897932Z"
        },
        "trusted": true,
        "id": "bbYBajdCsYZp",
        "outputId": "1c17e246-fb1b-4a2c-94d8-d0bdab34ccd5"
      },
      "execution_count": null,
      "outputs": [
        {
          "execution_count": 26,
          "output_type": "execute_result",
          "data": {
            "text/plain": "Location       49\nWindGustDir    16\nWindDir9am     16\nWindDir3pm     16\nRainToday       2\ndtype: int64"
          },
          "metadata": {}
        }
      ]
    },
    {
      "cell_type": "markdown",
      "source": [
        "## Заповнення Відсутніх Числових Даних"
      ],
      "metadata": {
        "id": "9GxNK8CDsYZp"
      }
    },
    {
      "cell_type": "code",
      "source": [
        "from sklearn.impute import SimpleImputer"
      ],
      "metadata": {
        "execution": {
          "iopub.status.busy": "2024-09-24T10:17:40.603145Z",
          "iopub.execute_input": "2024-09-24T10:17:40.603593Z",
          "iopub.status.idle": "2024-09-24T10:17:40.772382Z",
          "shell.execute_reply.started": "2024-09-24T10:17:40.603554Z",
          "shell.execute_reply": "2024-09-24T10:17:40.770834Z"
        },
        "trusted": true,
        "id": "Mm4teKqasYZp"
      },
      "execution_count": null,
      "outputs": []
    },
    {
      "cell_type": "code",
      "source": [
        "imputer = SimpleImputer(strategy = 'mean')"
      ],
      "metadata": {
        "execution": {
          "iopub.status.busy": "2024-09-24T10:17:43.50572Z",
          "iopub.execute_input": "2024-09-24T10:17:43.506535Z",
          "iopub.status.idle": "2024-09-24T10:17:43.512462Z",
          "shell.execute_reply.started": "2024-09-24T10:17:43.506466Z",
          "shell.execute_reply": "2024-09-24T10:17:43.511105Z"
        },
        "trusted": true,
        "id": "pwsNCLVosYZp"
      },
      "execution_count": null,
      "outputs": []
    },
    {
      "cell_type": "code",
      "source": [
        "imputer.fit(train_inputs[numeric_cols])"
      ],
      "metadata": {
        "execution": {
          "iopub.status.busy": "2024-09-24T10:17:44.955861Z",
          "iopub.execute_input": "2024-09-24T10:17:44.95629Z",
          "iopub.status.idle": "2024-09-24T10:17:44.991186Z",
          "shell.execute_reply.started": "2024-09-24T10:17:44.956247Z",
          "shell.execute_reply": "2024-09-24T10:17:44.990141Z"
        },
        "trusted": true,
        "id": "C0YHJ_K4sYZp",
        "outputId": "81931bcf-719a-4a0f-f852-8afef8ad0737"
      },
      "execution_count": null,
      "outputs": [
        {
          "execution_count": 30,
          "output_type": "execute_result",
          "data": {
            "text/plain": "SimpleImputer()",
            "text/html": "<style>#sk-container-id-1 {color: black;background-color: white;}#sk-container-id-1 pre{padding: 0;}#sk-container-id-1 div.sk-toggleable {background-color: white;}#sk-container-id-1 label.sk-toggleable__label {cursor: pointer;display: block;width: 100%;margin-bottom: 0;padding: 0.3em;box-sizing: border-box;text-align: center;}#sk-container-id-1 label.sk-toggleable__label-arrow:before {content: \"▸\";float: left;margin-right: 0.25em;color: #696969;}#sk-container-id-1 label.sk-toggleable__label-arrow:hover:before {color: black;}#sk-container-id-1 div.sk-estimator:hover label.sk-toggleable__label-arrow:before {color: black;}#sk-container-id-1 div.sk-toggleable__content {max-height: 0;max-width: 0;overflow: hidden;text-align: left;background-color: #f0f8ff;}#sk-container-id-1 div.sk-toggleable__content pre {margin: 0.2em;color: black;border-radius: 0.25em;background-color: #f0f8ff;}#sk-container-id-1 input.sk-toggleable__control:checked~div.sk-toggleable__content {max-height: 200px;max-width: 100%;overflow: auto;}#sk-container-id-1 input.sk-toggleable__control:checked~label.sk-toggleable__label-arrow:before {content: \"▾\";}#sk-container-id-1 div.sk-estimator input.sk-toggleable__control:checked~label.sk-toggleable__label {background-color: #d4ebff;}#sk-container-id-1 div.sk-label input.sk-toggleable__control:checked~label.sk-toggleable__label {background-color: #d4ebff;}#sk-container-id-1 input.sk-hidden--visually {border: 0;clip: rect(1px 1px 1px 1px);clip: rect(1px, 1px, 1px, 1px);height: 1px;margin: -1px;overflow: hidden;padding: 0;position: absolute;width: 1px;}#sk-container-id-1 div.sk-estimator {font-family: monospace;background-color: #f0f8ff;border: 1px dotted black;border-radius: 0.25em;box-sizing: border-box;margin-bottom: 0.5em;}#sk-container-id-1 div.sk-estimator:hover {background-color: #d4ebff;}#sk-container-id-1 div.sk-parallel-item::after {content: \"\";width: 100%;border-bottom: 1px solid gray;flex-grow: 1;}#sk-container-id-1 div.sk-label:hover label.sk-toggleable__label {background-color: #d4ebff;}#sk-container-id-1 div.sk-serial::before {content: \"\";position: absolute;border-left: 1px solid gray;box-sizing: border-box;top: 0;bottom: 0;left: 50%;z-index: 0;}#sk-container-id-1 div.sk-serial {display: flex;flex-direction: column;align-items: center;background-color: white;padding-right: 0.2em;padding-left: 0.2em;position: relative;}#sk-container-id-1 div.sk-item {position: relative;z-index: 1;}#sk-container-id-1 div.sk-parallel {display: flex;align-items: stretch;justify-content: center;background-color: white;position: relative;}#sk-container-id-1 div.sk-item::before, #sk-container-id-1 div.sk-parallel-item::before {content: \"\";position: absolute;border-left: 1px solid gray;box-sizing: border-box;top: 0;bottom: 0;left: 50%;z-index: -1;}#sk-container-id-1 div.sk-parallel-item {display: flex;flex-direction: column;z-index: 1;position: relative;background-color: white;}#sk-container-id-1 div.sk-parallel-item:first-child::after {align-self: flex-end;width: 50%;}#sk-container-id-1 div.sk-parallel-item:last-child::after {align-self: flex-start;width: 50%;}#sk-container-id-1 div.sk-parallel-item:only-child::after {width: 0;}#sk-container-id-1 div.sk-dashed-wrapped {border: 1px dashed gray;margin: 0 0.4em 0.5em 0.4em;box-sizing: border-box;padding-bottom: 0.4em;background-color: white;}#sk-container-id-1 div.sk-label label {font-family: monospace;font-weight: bold;display: inline-block;line-height: 1.2em;}#sk-container-id-1 div.sk-label-container {text-align: center;}#sk-container-id-1 div.sk-container {/* jupyter's `normalize.less` sets `[hidden] { display: none; }` but bootstrap.min.css set `[hidden] { display: none !important; }` so we also need the `!important` here to be able to override the default hidden behavior on the sphinx rendered scikit-learn.org. See: https://github.com/scikit-learn/scikit-learn/issues/21755 */display: inline-block !important;position: relative;}#sk-container-id-1 div.sk-text-repr-fallback {display: none;}</style><div id=\"sk-container-id-1\" class=\"sk-top-container\"><div class=\"sk-text-repr-fallback\"><pre>SimpleImputer()</pre><b>In a Jupyter environment, please rerun this cell to show the HTML representation or trust the notebook. <br />On GitHub, the HTML representation is unable to render, please try loading this page with nbviewer.org.</b></div><div class=\"sk-container\" hidden><div class=\"sk-item\"><div class=\"sk-estimator sk-toggleable\"><input class=\"sk-toggleable__control sk-hidden--visually\" id=\"sk-estimator-id-1\" type=\"checkbox\" checked><label for=\"sk-estimator-id-1\" class=\"sk-toggleable__label sk-toggleable__label-arrow\">SimpleImputer</label><div class=\"sk-toggleable__content\"><pre>SimpleImputer()</pre></div></div></div></div></div>"
          },
          "metadata": {}
        }
      ]
    },
    {
      "cell_type": "code",
      "source": [
        "train_inputs[numeric_cols] = imputer.transform(train_inputs[numeric_cols])\n",
        "val_inputs[numeric_cols] = imputer.transform(val_inputs[numeric_cols])\n",
        "test_inputs[numeric_cols] = imputer.transform(test_inputs[numeric_cols])"
      ],
      "metadata": {
        "execution": {
          "iopub.status.busy": "2024-09-24T10:17:46.734053Z",
          "iopub.execute_input": "2024-09-24T10:17:46.734459Z",
          "iopub.status.idle": "2024-09-24T10:17:46.790017Z",
          "shell.execute_reply.started": "2024-09-24T10:17:46.734421Z",
          "shell.execute_reply": "2024-09-24T10:17:46.788841Z"
        },
        "trusted": true,
        "id": "TI1Vyd6esYZp"
      },
      "execution_count": null,
      "outputs": []
    },
    {
      "cell_type": "code",
      "source": [
        "train_inputs[numeric_cols].isna().sum()"
      ],
      "metadata": {
        "execution": {
          "iopub.status.busy": "2024-09-24T10:17:48.80768Z",
          "iopub.execute_input": "2024-09-24T10:17:48.808155Z",
          "iopub.status.idle": "2024-09-24T10:17:48.828529Z",
          "shell.execute_reply.started": "2024-09-24T10:17:48.808111Z",
          "shell.execute_reply": "2024-09-24T10:17:48.827445Z"
        },
        "trusted": true,
        "id": "jj359y8IsYZp",
        "outputId": "55565680-b04d-4c9b-dee9-909d1ac92186"
      },
      "execution_count": null,
      "outputs": [
        {
          "execution_count": 32,
          "output_type": "execute_result",
          "data": {
            "text/plain": "MinTemp          0\nMaxTemp          0\nRainfall         0\nEvaporation      0\nSunshine         0\nWindGustSpeed    0\nWindSpeed9am     0\nWindSpeed3pm     0\nHumidity9am      0\nHumidity3pm      0\nPressure9am      0\nPressure3pm      0\nCloud9am         0\nCloud3pm         0\nTemp9am          0\nTemp3pm          0\ndtype: int64"
          },
          "metadata": {}
        }
      ]
    },
    {
      "cell_type": "markdown",
      "source": [
        "## Масштабування числових ознак"
      ],
      "metadata": {
        "id": "oKnHjKPSsYZp"
      }
    },
    {
      "cell_type": "code",
      "source": [
        "from sklearn.preprocessing import MinMaxScaler"
      ],
      "metadata": {
        "execution": {
          "iopub.status.busy": "2024-09-24T10:19:22.160947Z",
          "iopub.execute_input": "2024-09-24T10:19:22.161445Z",
          "iopub.status.idle": "2024-09-24T10:19:22.167253Z",
          "shell.execute_reply.started": "2024-09-24T10:19:22.161405Z",
          "shell.execute_reply": "2024-09-24T10:19:22.16595Z"
        },
        "trusted": true,
        "id": "S3Yr0TvVsYZp"
      },
      "execution_count": null,
      "outputs": []
    },
    {
      "cell_type": "code",
      "source": [
        "scaler = MinMaxScaler()"
      ],
      "metadata": {
        "execution": {
          "iopub.status.busy": "2024-09-24T10:19:25.352958Z",
          "iopub.execute_input": "2024-09-24T10:19:25.353373Z",
          "iopub.status.idle": "2024-09-24T10:19:25.358845Z",
          "shell.execute_reply.started": "2024-09-24T10:19:25.353334Z",
          "shell.execute_reply": "2024-09-24T10:19:25.35755Z"
        },
        "trusted": true,
        "id": "jygh8ObYsYZp"
      },
      "execution_count": null,
      "outputs": []
    },
    {
      "cell_type": "code",
      "source": [
        "scaler.fit(train_df[numeric_cols])"
      ],
      "metadata": {
        "execution": {
          "iopub.status.busy": "2024-09-24T10:19:26.900905Z",
          "iopub.execute_input": "2024-09-24T10:19:26.901347Z",
          "iopub.status.idle": "2024-09-24T10:19:26.919757Z",
          "shell.execute_reply.started": "2024-09-24T10:19:26.901304Z",
          "shell.execute_reply": "2024-09-24T10:19:26.918627Z"
        },
        "trusted": true,
        "id": "QlU_hio2sYZt",
        "outputId": "db0fa141-cba8-4565-c349-310a6c87958a"
      },
      "execution_count": null,
      "outputs": [
        {
          "execution_count": 41,
          "output_type": "execute_result",
          "data": {
            "text/plain": "MinMaxScaler()",
            "text/html": "<style>#sk-container-id-3 {color: black;background-color: white;}#sk-container-id-3 pre{padding: 0;}#sk-container-id-3 div.sk-toggleable {background-color: white;}#sk-container-id-3 label.sk-toggleable__label {cursor: pointer;display: block;width: 100%;margin-bottom: 0;padding: 0.3em;box-sizing: border-box;text-align: center;}#sk-container-id-3 label.sk-toggleable__label-arrow:before {content: \"▸\";float: left;margin-right: 0.25em;color: #696969;}#sk-container-id-3 label.sk-toggleable__label-arrow:hover:before {color: black;}#sk-container-id-3 div.sk-estimator:hover label.sk-toggleable__label-arrow:before {color: black;}#sk-container-id-3 div.sk-toggleable__content {max-height: 0;max-width: 0;overflow: hidden;text-align: left;background-color: #f0f8ff;}#sk-container-id-3 div.sk-toggleable__content pre {margin: 0.2em;color: black;border-radius: 0.25em;background-color: #f0f8ff;}#sk-container-id-3 input.sk-toggleable__control:checked~div.sk-toggleable__content {max-height: 200px;max-width: 100%;overflow: auto;}#sk-container-id-3 input.sk-toggleable__control:checked~label.sk-toggleable__label-arrow:before {content: \"▾\";}#sk-container-id-3 div.sk-estimator input.sk-toggleable__control:checked~label.sk-toggleable__label {background-color: #d4ebff;}#sk-container-id-3 div.sk-label input.sk-toggleable__control:checked~label.sk-toggleable__label {background-color: #d4ebff;}#sk-container-id-3 input.sk-hidden--visually {border: 0;clip: rect(1px 1px 1px 1px);clip: rect(1px, 1px, 1px, 1px);height: 1px;margin: -1px;overflow: hidden;padding: 0;position: absolute;width: 1px;}#sk-container-id-3 div.sk-estimator {font-family: monospace;background-color: #f0f8ff;border: 1px dotted black;border-radius: 0.25em;box-sizing: border-box;margin-bottom: 0.5em;}#sk-container-id-3 div.sk-estimator:hover {background-color: #d4ebff;}#sk-container-id-3 div.sk-parallel-item::after {content: \"\";width: 100%;border-bottom: 1px solid gray;flex-grow: 1;}#sk-container-id-3 div.sk-label:hover label.sk-toggleable__label {background-color: #d4ebff;}#sk-container-id-3 div.sk-serial::before {content: \"\";position: absolute;border-left: 1px solid gray;box-sizing: border-box;top: 0;bottom: 0;left: 50%;z-index: 0;}#sk-container-id-3 div.sk-serial {display: flex;flex-direction: column;align-items: center;background-color: white;padding-right: 0.2em;padding-left: 0.2em;position: relative;}#sk-container-id-3 div.sk-item {position: relative;z-index: 1;}#sk-container-id-3 div.sk-parallel {display: flex;align-items: stretch;justify-content: center;background-color: white;position: relative;}#sk-container-id-3 div.sk-item::before, #sk-container-id-3 div.sk-parallel-item::before {content: \"\";position: absolute;border-left: 1px solid gray;box-sizing: border-box;top: 0;bottom: 0;left: 50%;z-index: -1;}#sk-container-id-3 div.sk-parallel-item {display: flex;flex-direction: column;z-index: 1;position: relative;background-color: white;}#sk-container-id-3 div.sk-parallel-item:first-child::after {align-self: flex-end;width: 50%;}#sk-container-id-3 div.sk-parallel-item:last-child::after {align-self: flex-start;width: 50%;}#sk-container-id-3 div.sk-parallel-item:only-child::after {width: 0;}#sk-container-id-3 div.sk-dashed-wrapped {border: 1px dashed gray;margin: 0 0.4em 0.5em 0.4em;box-sizing: border-box;padding-bottom: 0.4em;background-color: white;}#sk-container-id-3 div.sk-label label {font-family: monospace;font-weight: bold;display: inline-block;line-height: 1.2em;}#sk-container-id-3 div.sk-label-container {text-align: center;}#sk-container-id-3 div.sk-container {/* jupyter's `normalize.less` sets `[hidden] { display: none; }` but bootstrap.min.css set `[hidden] { display: none !important; }` so we also need the `!important` here to be able to override the default hidden behavior on the sphinx rendered scikit-learn.org. See: https://github.com/scikit-learn/scikit-learn/issues/21755 */display: inline-block !important;position: relative;}#sk-container-id-3 div.sk-text-repr-fallback {display: none;}</style><div id=\"sk-container-id-3\" class=\"sk-top-container\"><div class=\"sk-text-repr-fallback\"><pre>MinMaxScaler()</pre><b>In a Jupyter environment, please rerun this cell to show the HTML representation or trust the notebook. <br />On GitHub, the HTML representation is unable to render, please try loading this page with nbviewer.org.</b></div><div class=\"sk-container\" hidden><div class=\"sk-item\"><div class=\"sk-estimator sk-toggleable\"><input class=\"sk-toggleable__control sk-hidden--visually\" id=\"sk-estimator-id-3\" type=\"checkbox\" checked><label for=\"sk-estimator-id-3\" class=\"sk-toggleable__label sk-toggleable__label-arrow\">MinMaxScaler</label><div class=\"sk-toggleable__content\"><pre>MinMaxScaler()</pre></div></div></div></div></div>"
          },
          "metadata": {}
        }
      ]
    },
    {
      "cell_type": "markdown",
      "source": [
        "Тепер ми можемо окремо масштабувати навчальні, валідаційні та тестові набори, використовуючи метод `transform` класу `scaler`."
      ],
      "metadata": {
        "id": "8zU4FgvOsYZt"
      }
    },
    {
      "cell_type": "code",
      "source": [
        "train_inputs[numeric_cols] = scaler.transform(train_inputs[numeric_cols])\n",
        "val_inputs[numeric_cols] = scaler.transform(val_inputs[numeric_cols])\n",
        "test_inputs[numeric_cols] = scaler.transform(test_inputs[numeric_cols])"
      ],
      "metadata": {
        "execution": {
          "iopub.status.busy": "2024-09-24T10:19:58.210618Z",
          "iopub.execute_input": "2024-09-24T10:19:58.211517Z",
          "iopub.status.idle": "2024-09-24T10:19:58.259422Z",
          "shell.execute_reply.started": "2024-09-24T10:19:58.211469Z",
          "shell.execute_reply": "2024-09-24T10:19:58.257948Z"
        },
        "trusted": true,
        "id": "pyUqU_j6sYZt"
      },
      "execution_count": null,
      "outputs": []
    },
    {
      "cell_type": "code",
      "source": [
        "train_inputs[numeric_cols].describe()"
      ],
      "metadata": {
        "execution": {
          "iopub.status.busy": "2024-09-24T10:20:07.245651Z",
          "iopub.execute_input": "2024-09-24T10:20:07.246107Z",
          "iopub.status.idle": "2024-09-24T10:20:07.383991Z",
          "shell.execute_reply.started": "2024-09-24T10:20:07.246066Z",
          "shell.execute_reply": "2024-09-24T10:20:07.382639Z"
        },
        "trusted": true,
        "id": "gk3F5Le-sYZt",
        "outputId": "ace3596c-21e8-4543-8401-a5ac5c8d48a2"
      },
      "execution_count": null,
      "outputs": [
        {
          "execution_count": 43,
          "output_type": "execute_result",
          "data": {
            "text/plain": "            MinTemp       MaxTemp      Rainfall   Evaporation      Sunshine  \\\ncount  97988.000000  97988.000000  97988.000000  97988.000000  97988.000000   \nmean       0.483675      0.519582      0.006396      0.064199      0.532098   \nstd        0.149457      0.133673      0.022962      0.038045      0.203740   \nmin        0.000000      0.000000      0.000000      0.000000      0.000000   \n25%        0.377358      0.421456      0.000000      0.046117      0.524476   \n50%        0.478774      0.507663      0.000000      0.064199      0.532098   \n75%        0.591981      0.613027      0.002156      0.067961      0.643357   \nmax        1.000000      1.000000      1.000000      1.000000      1.000000   \n\n       WindGustSpeed  WindSpeed9am  WindSpeed3pm   Humidity9am   Humidity3pm  \\\ncount   97988.000000  97988.000000  97988.000000  97988.000000  97988.000000   \nmean        0.265239      0.161980      0.215685      0.686287      0.514695   \nstd         0.102419      0.102805      0.101424      0.189008      0.206376   \nmin         0.000000      0.000000      0.000000      0.000000      0.000000   \n25%         0.193798      0.080460      0.149425      0.570000      0.370000   \n50%         0.255814      0.149425      0.218391      0.690000      0.520000   \n75%         0.310078      0.218391      0.275862      0.830000      0.650000   \nmax         1.000000      1.000000      1.000000      1.000000      1.000000   \n\n        Pressure9am   Pressure3pm      Cloud9am      Cloud3pm       Temp9am  \\\ncount  97988.000000  97988.000000  97988.000000  97988.000000  97988.000000   \nmean       0.611797      0.596243      0.478106      0.490075      0.493170   \nstd        0.111333      0.109952      0.255395      0.237981      0.138521   \nmin        0.000000      0.000000      0.000000      0.000000      0.000000   \n25%        0.543802      0.526403      0.333333      0.333333      0.392625   \n50%        0.611797      0.596243      0.478106      0.490075      0.488069   \n75%        0.682645      0.665017      0.666667      0.666667      0.590022   \nmax        1.000000      1.000000      1.000000      1.000000      1.000000   \n\n            Temp3pm  \ncount  97988.000000  \nmean       0.520315  \nstd        0.133024  \nmin        0.000000  \n25%        0.423828  \n50%        0.509766  \n75%        0.609375  \nmax        1.000000  ",
            "text/html": "<div>\n<style scoped>\n    .dataframe tbody tr th:only-of-type {\n        vertical-align: middle;\n    }\n\n    .dataframe tbody tr th {\n        vertical-align: top;\n    }\n\n    .dataframe thead th {\n        text-align: right;\n    }\n</style>\n<table border=\"1\" class=\"dataframe\">\n  <thead>\n    <tr style=\"text-align: right;\">\n      <th></th>\n      <th>MinTemp</th>\n      <th>MaxTemp</th>\n      <th>Rainfall</th>\n      <th>Evaporation</th>\n      <th>Sunshine</th>\n      <th>WindGustSpeed</th>\n      <th>WindSpeed9am</th>\n      <th>WindSpeed3pm</th>\n      <th>Humidity9am</th>\n      <th>Humidity3pm</th>\n      <th>Pressure9am</th>\n      <th>Pressure3pm</th>\n      <th>Cloud9am</th>\n      <th>Cloud3pm</th>\n      <th>Temp9am</th>\n      <th>Temp3pm</th>\n    </tr>\n  </thead>\n  <tbody>\n    <tr>\n      <th>count</th>\n      <td>97988.000000</td>\n      <td>97988.000000</td>\n      <td>97988.000000</td>\n      <td>97988.000000</td>\n      <td>97988.000000</td>\n      <td>97988.000000</td>\n      <td>97988.000000</td>\n      <td>97988.000000</td>\n      <td>97988.000000</td>\n      <td>97988.000000</td>\n      <td>97988.000000</td>\n      <td>97988.000000</td>\n      <td>97988.000000</td>\n      <td>97988.000000</td>\n      <td>97988.000000</td>\n      <td>97988.000000</td>\n    </tr>\n    <tr>\n      <th>mean</th>\n      <td>0.483675</td>\n      <td>0.519582</td>\n      <td>0.006396</td>\n      <td>0.064199</td>\n      <td>0.532098</td>\n      <td>0.265239</td>\n      <td>0.161980</td>\n      <td>0.215685</td>\n      <td>0.686287</td>\n      <td>0.514695</td>\n      <td>0.611797</td>\n      <td>0.596243</td>\n      <td>0.478106</td>\n      <td>0.490075</td>\n      <td>0.493170</td>\n      <td>0.520315</td>\n    </tr>\n    <tr>\n      <th>std</th>\n      <td>0.149457</td>\n      <td>0.133673</td>\n      <td>0.022962</td>\n      <td>0.038045</td>\n      <td>0.203740</td>\n      <td>0.102419</td>\n      <td>0.102805</td>\n      <td>0.101424</td>\n      <td>0.189008</td>\n      <td>0.206376</td>\n      <td>0.111333</td>\n      <td>0.109952</td>\n      <td>0.255395</td>\n      <td>0.237981</td>\n      <td>0.138521</td>\n      <td>0.133024</td>\n    </tr>\n    <tr>\n      <th>min</th>\n      <td>0.000000</td>\n      <td>0.000000</td>\n      <td>0.000000</td>\n      <td>0.000000</td>\n      <td>0.000000</td>\n      <td>0.000000</td>\n      <td>0.000000</td>\n      <td>0.000000</td>\n      <td>0.000000</td>\n      <td>0.000000</td>\n      <td>0.000000</td>\n      <td>0.000000</td>\n      <td>0.000000</td>\n      <td>0.000000</td>\n      <td>0.000000</td>\n      <td>0.000000</td>\n    </tr>\n    <tr>\n      <th>25%</th>\n      <td>0.377358</td>\n      <td>0.421456</td>\n      <td>0.000000</td>\n      <td>0.046117</td>\n      <td>0.524476</td>\n      <td>0.193798</td>\n      <td>0.080460</td>\n      <td>0.149425</td>\n      <td>0.570000</td>\n      <td>0.370000</td>\n      <td>0.543802</td>\n      <td>0.526403</td>\n      <td>0.333333</td>\n      <td>0.333333</td>\n      <td>0.392625</td>\n      <td>0.423828</td>\n    </tr>\n    <tr>\n      <th>50%</th>\n      <td>0.478774</td>\n      <td>0.507663</td>\n      <td>0.000000</td>\n      <td>0.064199</td>\n      <td>0.532098</td>\n      <td>0.255814</td>\n      <td>0.149425</td>\n      <td>0.218391</td>\n      <td>0.690000</td>\n      <td>0.520000</td>\n      <td>0.611797</td>\n      <td>0.596243</td>\n      <td>0.478106</td>\n      <td>0.490075</td>\n      <td>0.488069</td>\n      <td>0.509766</td>\n    </tr>\n    <tr>\n      <th>75%</th>\n      <td>0.591981</td>\n      <td>0.613027</td>\n      <td>0.002156</td>\n      <td>0.067961</td>\n      <td>0.643357</td>\n      <td>0.310078</td>\n      <td>0.218391</td>\n      <td>0.275862</td>\n      <td>0.830000</td>\n      <td>0.650000</td>\n      <td>0.682645</td>\n      <td>0.665017</td>\n      <td>0.666667</td>\n      <td>0.666667</td>\n      <td>0.590022</td>\n      <td>0.609375</td>\n    </tr>\n    <tr>\n      <th>max</th>\n      <td>1.000000</td>\n      <td>1.000000</td>\n      <td>1.000000</td>\n      <td>1.000000</td>\n      <td>1.000000</td>\n      <td>1.000000</td>\n      <td>1.000000</td>\n      <td>1.000000</td>\n      <td>1.000000</td>\n      <td>1.000000</td>\n      <td>1.000000</td>\n      <td>1.000000</td>\n      <td>1.000000</td>\n      <td>1.000000</td>\n      <td>1.000000</td>\n      <td>1.000000</td>\n    </tr>\n  </tbody>\n</table>\n</div>"
          },
          "metadata": {}
        }
      ]
    },
    {
      "cell_type": "markdown",
      "source": [
        "Бачимо, що усі значення від 0 до 1"
      ],
      "metadata": {
        "id": "40Am7mJVsYZt"
      }
    },
    {
      "cell_type": "markdown",
      "source": [
        "## Кодування категоріальних даних"
      ],
      "metadata": {
        "id": "pDyZJteFsYZt"
      }
    },
    {
      "cell_type": "code",
      "source": [
        "from sklearn.preprocessing import OneHotEncoder"
      ],
      "metadata": {
        "execution": {
          "iopub.status.busy": "2024-09-24T10:22:56.562763Z",
          "iopub.execute_input": "2024-09-24T10:22:56.563507Z",
          "iopub.status.idle": "2024-09-24T10:22:56.56835Z",
          "shell.execute_reply.started": "2024-09-24T10:22:56.563464Z",
          "shell.execute_reply": "2024-09-24T10:22:56.567269Z"
        },
        "trusted": true,
        "id": "BGzFo2IssYZu"
      },
      "execution_count": null,
      "outputs": []
    },
    {
      "cell_type": "code",
      "source": [
        "encoder = OneHotEncoder(sparse_output=False, handle_unknown='ignore')"
      ],
      "metadata": {
        "execution": {
          "iopub.status.busy": "2024-09-24T10:23:01.413115Z",
          "iopub.execute_input": "2024-09-24T10:23:01.413846Z",
          "iopub.status.idle": "2024-09-24T10:23:01.418861Z",
          "shell.execute_reply.started": "2024-09-24T10:23:01.413793Z",
          "shell.execute_reply": "2024-09-24T10:23:01.417561Z"
        },
        "trusted": true,
        "id": "6eq4-dursYZu"
      },
      "execution_count": null,
      "outputs": []
    },
    {
      "cell_type": "code",
      "source": [
        "encoder.fit(train_inputs[categorical_cols])"
      ],
      "metadata": {
        "execution": {
          "iopub.status.busy": "2024-09-24T10:23:04.065804Z",
          "iopub.execute_input": "2024-09-24T10:23:04.066218Z",
          "iopub.status.idle": "2024-09-24T10:23:04.10897Z",
          "shell.execute_reply.started": "2024-09-24T10:23:04.06618Z",
          "shell.execute_reply": "2024-09-24T10:23:04.107811Z"
        },
        "trusted": true,
        "id": "RgOl4sVgsYZu",
        "outputId": "4b6bcb14-35d0-4047-b97a-2fcb27032b87"
      },
      "execution_count": null,
      "outputs": [
        {
          "execution_count": 54,
          "output_type": "execute_result",
          "data": {
            "text/plain": "OneHotEncoder(handle_unknown='ignore', sparse_output=False)",
            "text/html": "<style>#sk-container-id-5 {color: black;background-color: white;}#sk-container-id-5 pre{padding: 0;}#sk-container-id-5 div.sk-toggleable {background-color: white;}#sk-container-id-5 label.sk-toggleable__label {cursor: pointer;display: block;width: 100%;margin-bottom: 0;padding: 0.3em;box-sizing: border-box;text-align: center;}#sk-container-id-5 label.sk-toggleable__label-arrow:before {content: \"▸\";float: left;margin-right: 0.25em;color: #696969;}#sk-container-id-5 label.sk-toggleable__label-arrow:hover:before {color: black;}#sk-container-id-5 div.sk-estimator:hover label.sk-toggleable__label-arrow:before {color: black;}#sk-container-id-5 div.sk-toggleable__content {max-height: 0;max-width: 0;overflow: hidden;text-align: left;background-color: #f0f8ff;}#sk-container-id-5 div.sk-toggleable__content pre {margin: 0.2em;color: black;border-radius: 0.25em;background-color: #f0f8ff;}#sk-container-id-5 input.sk-toggleable__control:checked~div.sk-toggleable__content {max-height: 200px;max-width: 100%;overflow: auto;}#sk-container-id-5 input.sk-toggleable__control:checked~label.sk-toggleable__label-arrow:before {content: \"▾\";}#sk-container-id-5 div.sk-estimator input.sk-toggleable__control:checked~label.sk-toggleable__label {background-color: #d4ebff;}#sk-container-id-5 div.sk-label input.sk-toggleable__control:checked~label.sk-toggleable__label {background-color: #d4ebff;}#sk-container-id-5 input.sk-hidden--visually {border: 0;clip: rect(1px 1px 1px 1px);clip: rect(1px, 1px, 1px, 1px);height: 1px;margin: -1px;overflow: hidden;padding: 0;position: absolute;width: 1px;}#sk-container-id-5 div.sk-estimator {font-family: monospace;background-color: #f0f8ff;border: 1px dotted black;border-radius: 0.25em;box-sizing: border-box;margin-bottom: 0.5em;}#sk-container-id-5 div.sk-estimator:hover {background-color: #d4ebff;}#sk-container-id-5 div.sk-parallel-item::after {content: \"\";width: 100%;border-bottom: 1px solid gray;flex-grow: 1;}#sk-container-id-5 div.sk-label:hover label.sk-toggleable__label {background-color: #d4ebff;}#sk-container-id-5 div.sk-serial::before {content: \"\";position: absolute;border-left: 1px solid gray;box-sizing: border-box;top: 0;bottom: 0;left: 50%;z-index: 0;}#sk-container-id-5 div.sk-serial {display: flex;flex-direction: column;align-items: center;background-color: white;padding-right: 0.2em;padding-left: 0.2em;position: relative;}#sk-container-id-5 div.sk-item {position: relative;z-index: 1;}#sk-container-id-5 div.sk-parallel {display: flex;align-items: stretch;justify-content: center;background-color: white;position: relative;}#sk-container-id-5 div.sk-item::before, #sk-container-id-5 div.sk-parallel-item::before {content: \"\";position: absolute;border-left: 1px solid gray;box-sizing: border-box;top: 0;bottom: 0;left: 50%;z-index: -1;}#sk-container-id-5 div.sk-parallel-item {display: flex;flex-direction: column;z-index: 1;position: relative;background-color: white;}#sk-container-id-5 div.sk-parallel-item:first-child::after {align-self: flex-end;width: 50%;}#sk-container-id-5 div.sk-parallel-item:last-child::after {align-self: flex-start;width: 50%;}#sk-container-id-5 div.sk-parallel-item:only-child::after {width: 0;}#sk-container-id-5 div.sk-dashed-wrapped {border: 1px dashed gray;margin: 0 0.4em 0.5em 0.4em;box-sizing: border-box;padding-bottom: 0.4em;background-color: white;}#sk-container-id-5 div.sk-label label {font-family: monospace;font-weight: bold;display: inline-block;line-height: 1.2em;}#sk-container-id-5 div.sk-label-container {text-align: center;}#sk-container-id-5 div.sk-container {/* jupyter's `normalize.less` sets `[hidden] { display: none; }` but bootstrap.min.css set `[hidden] { display: none !important; }` so we also need the `!important` here to be able to override the default hidden behavior on the sphinx rendered scikit-learn.org. See: https://github.com/scikit-learn/scikit-learn/issues/21755 */display: inline-block !important;position: relative;}#sk-container-id-5 div.sk-text-repr-fallback {display: none;}</style><div id=\"sk-container-id-5\" class=\"sk-top-container\"><div class=\"sk-text-repr-fallback\"><pre>OneHotEncoder(handle_unknown=&#x27;ignore&#x27;, sparse_output=False)</pre><b>In a Jupyter environment, please rerun this cell to show the HTML representation or trust the notebook. <br />On GitHub, the HTML representation is unable to render, please try loading this page with nbviewer.org.</b></div><div class=\"sk-container\" hidden><div class=\"sk-item\"><div class=\"sk-estimator sk-toggleable\"><input class=\"sk-toggleable__control sk-hidden--visually\" id=\"sk-estimator-id-5\" type=\"checkbox\" checked><label for=\"sk-estimator-id-5\" class=\"sk-toggleable__label sk-toggleable__label-arrow\">OneHotEncoder</label><div class=\"sk-toggleable__content\"><pre>OneHotEncoder(handle_unknown=&#x27;ignore&#x27;, sparse_output=False)</pre></div></div></div></div></div>"
          },
          "metadata": {}
        }
      ]
    },
    {
      "cell_type": "code",
      "source": [
        "encoder.categories_"
      ],
      "metadata": {
        "execution": {
          "iopub.status.busy": "2024-09-24T10:23:06.291667Z",
          "iopub.execute_input": "2024-09-24T10:23:06.29266Z",
          "iopub.status.idle": "2024-09-24T10:23:06.300465Z",
          "shell.execute_reply.started": "2024-09-24T10:23:06.292612Z",
          "shell.execute_reply": "2024-09-24T10:23:06.299256Z"
        },
        "trusted": true,
        "id": "1H_TS2HMsYZu",
        "outputId": "69490b73-b6e7-4892-cdf6-1a6ebce54df1"
      },
      "execution_count": null,
      "outputs": [
        {
          "execution_count": 55,
          "output_type": "execute_result",
          "data": {
            "text/plain": "[array(['Adelaide', 'Albany', 'Albury', 'AliceSprings', 'BadgerysCreek',\n        'Ballarat', 'Bendigo', 'Brisbane', 'Cairns', 'Canberra', 'Cobar',\n        'CoffsHarbour', 'Dartmoor', 'Darwin', 'GoldCoast', 'Hobart',\n        'Katherine', 'Launceston', 'Melbourne', 'MelbourneAirport',\n        'Mildura', 'Moree', 'MountGambier', 'MountGinini', 'Newcastle',\n        'Nhil', 'NorahHead', 'NorfolkIsland', 'Nuriootpa', 'PearceRAAF',\n        'Penrith', 'Perth', 'PerthAirport', 'Portland', 'Richmond', 'Sale',\n        'SalmonGums', 'Sydney', 'SydneyAirport', 'Townsville',\n        'Tuggeranong', 'Uluru', 'WaggaWagga', 'Walpole', 'Watsonia',\n        'Williamtown', 'Witchcliffe', 'Wollongong', 'Woomera'],\n       dtype=object),\n array(['E', 'ENE', 'ESE', 'N', 'NE', 'NNE', 'NNW', 'NW', 'S', 'SE', 'SSE',\n        'SSW', 'SW', 'W', 'WNW', 'WSW', nan], dtype=object),\n array(['E', 'ENE', 'ESE', 'N', 'NE', 'NNE', 'NNW', 'NW', 'S', 'SE', 'SSE',\n        'SSW', 'SW', 'W', 'WNW', 'WSW', nan], dtype=object),\n array(['E', 'ENE', 'ESE', 'N', 'NE', 'NNE', 'NNW', 'NW', 'S', 'SE', 'SSE',\n        'SSW', 'SW', 'W', 'WNW', 'WSW', nan], dtype=object),\n array(['No', 'Yes'], dtype=object)]"
          },
          "metadata": {}
        }
      ]
    },
    {
      "cell_type": "code",
      "source": [
        "encoded_cols = list(encoder.get_feature_names_out(categorical_cols))\n",
        "print(encoded_cols)"
      ],
      "metadata": {
        "execution": {
          "iopub.status.busy": "2024-09-24T10:23:09.272064Z",
          "iopub.execute_input": "2024-09-24T10:23:09.272479Z",
          "iopub.status.idle": "2024-09-24T10:23:09.278877Z",
          "shell.execute_reply.started": "2024-09-24T10:23:09.272441Z",
          "shell.execute_reply": "2024-09-24T10:23:09.277512Z"
        },
        "trusted": true,
        "id": "lQmgMvF0sYZu",
        "outputId": "53c6929f-f829-4e0c-9b04-da15aba0b11a"
      },
      "execution_count": null,
      "outputs": [
        {
          "name": "stdout",
          "text": "['Location_Adelaide', 'Location_Albany', 'Location_Albury', 'Location_AliceSprings', 'Location_BadgerysCreek', 'Location_Ballarat', 'Location_Bendigo', 'Location_Brisbane', 'Location_Cairns', 'Location_Canberra', 'Location_Cobar', 'Location_CoffsHarbour', 'Location_Dartmoor', 'Location_Darwin', 'Location_GoldCoast', 'Location_Hobart', 'Location_Katherine', 'Location_Launceston', 'Location_Melbourne', 'Location_MelbourneAirport', 'Location_Mildura', 'Location_Moree', 'Location_MountGambier', 'Location_MountGinini', 'Location_Newcastle', 'Location_Nhil', 'Location_NorahHead', 'Location_NorfolkIsland', 'Location_Nuriootpa', 'Location_PearceRAAF', 'Location_Penrith', 'Location_Perth', 'Location_PerthAirport', 'Location_Portland', 'Location_Richmond', 'Location_Sale', 'Location_SalmonGums', 'Location_Sydney', 'Location_SydneyAirport', 'Location_Townsville', 'Location_Tuggeranong', 'Location_Uluru', 'Location_WaggaWagga', 'Location_Walpole', 'Location_Watsonia', 'Location_Williamtown', 'Location_Witchcliffe', 'Location_Wollongong', 'Location_Woomera', 'WindGustDir_E', 'WindGustDir_ENE', 'WindGustDir_ESE', 'WindGustDir_N', 'WindGustDir_NE', 'WindGustDir_NNE', 'WindGustDir_NNW', 'WindGustDir_NW', 'WindGustDir_S', 'WindGustDir_SE', 'WindGustDir_SSE', 'WindGustDir_SSW', 'WindGustDir_SW', 'WindGustDir_W', 'WindGustDir_WNW', 'WindGustDir_WSW', 'WindGustDir_nan', 'WindDir9am_E', 'WindDir9am_ENE', 'WindDir9am_ESE', 'WindDir9am_N', 'WindDir9am_NE', 'WindDir9am_NNE', 'WindDir9am_NNW', 'WindDir9am_NW', 'WindDir9am_S', 'WindDir9am_SE', 'WindDir9am_SSE', 'WindDir9am_SSW', 'WindDir9am_SW', 'WindDir9am_W', 'WindDir9am_WNW', 'WindDir9am_WSW', 'WindDir9am_nan', 'WindDir3pm_E', 'WindDir3pm_ENE', 'WindDir3pm_ESE', 'WindDir3pm_N', 'WindDir3pm_NE', 'WindDir3pm_NNE', 'WindDir3pm_NNW', 'WindDir3pm_NW', 'WindDir3pm_S', 'WindDir3pm_SE', 'WindDir3pm_SSE', 'WindDir3pm_SSW', 'WindDir3pm_SW', 'WindDir3pm_W', 'WindDir3pm_WNW', 'WindDir3pm_WSW', 'WindDir3pm_nan', 'RainToday_No', 'RainToday_Yes']\n",
          "output_type": "stream"
        }
      ]
    },
    {
      "cell_type": "code",
      "source": [
        "train_inputs[encoded_cols] = encoder.transform(train_inputs[categorical_cols])\n",
        "val_inputs[encoded_cols] = encoder.transform(val_inputs[categorical_cols])\n",
        "test_inputs[encoded_cols] = encoder.transform(test_inputs[categorical_cols])"
      ],
      "metadata": {
        "execution": {
          "iopub.status.busy": "2024-09-24T10:23:12.338303Z",
          "iopub.execute_input": "2024-09-24T10:23:12.338751Z",
          "iopub.status.idle": "2024-09-24T10:23:13.148168Z",
          "shell.execute_reply.started": "2024-09-24T10:23:12.338693Z",
          "shell.execute_reply": "2024-09-24T10:23:13.147099Z"
        },
        "trusted": true,
        "id": "XuUiOQ_5sYZu",
        "outputId": "bbe7bbae-18e8-465e-ae95-3c77610bb71d"
      },
      "execution_count": null,
      "outputs": [
        {
          "name": "stderr",
          "text": "/tmp/ipykernel_30/1584174743.py:1: PerformanceWarning: DataFrame is highly fragmented.  This is usually the result of calling `frame.insert` many times, which has poor performance.  Consider joining all columns at once using pd.concat(axis=1) instead. To get a de-fragmented frame, use `newframe = frame.copy()`\n  train_inputs[encoded_cols] = encoder.transform(train_inputs[categorical_cols])\n/tmp/ipykernel_30/1584174743.py:1: PerformanceWarning: DataFrame is highly fragmented.  This is usually the result of calling `frame.insert` many times, which has poor performance.  Consider joining all columns at once using pd.concat(axis=1) instead. To get a de-fragmented frame, use `newframe = frame.copy()`\n  train_inputs[encoded_cols] = encoder.transform(train_inputs[categorical_cols])\n/tmp/ipykernel_30/1584174743.py:1: PerformanceWarning: DataFrame is highly fragmented.  This is usually the result of calling `frame.insert` many times, which has poor performance.  Consider joining all columns at once using pd.concat(axis=1) instead. To get a de-fragmented frame, use `newframe = frame.copy()`\n  train_inputs[encoded_cols] = encoder.transform(train_inputs[categorical_cols])\n/tmp/ipykernel_30/1584174743.py:1: PerformanceWarning: DataFrame is highly fragmented.  This is usually the result of calling `frame.insert` many times, which has poor performance.  Consider joining all columns at once using pd.concat(axis=1) instead. To get a de-fragmented frame, use `newframe = frame.copy()`\n  train_inputs[encoded_cols] = encoder.transform(train_inputs[categorical_cols])\n/tmp/ipykernel_30/1584174743.py:1: PerformanceWarning: DataFrame is highly fragmented.  This is usually the result of calling `frame.insert` many times, which has poor performance.  Consider joining all columns at once using pd.concat(axis=1) instead. To get a de-fragmented frame, use `newframe = frame.copy()`\n  train_inputs[encoded_cols] = encoder.transform(train_inputs[categorical_cols])\n/tmp/ipykernel_30/1584174743.py:1: PerformanceWarning: DataFrame is highly fragmented.  This is usually the result of calling `frame.insert` many times, which has poor performance.  Consider joining all columns at once using pd.concat(axis=1) instead. To get a de-fragmented frame, use `newframe = frame.copy()`\n  train_inputs[encoded_cols] = encoder.transform(train_inputs[categorical_cols])\n/tmp/ipykernel_30/1584174743.py:1: PerformanceWarning: DataFrame is highly fragmented.  This is usually the result of calling `frame.insert` many times, which has poor performance.  Consider joining all columns at once using pd.concat(axis=1) instead. To get a de-fragmented frame, use `newframe = frame.copy()`\n  train_inputs[encoded_cols] = encoder.transform(train_inputs[categorical_cols])\n/tmp/ipykernel_30/1584174743.py:1: PerformanceWarning: DataFrame is highly fragmented.  This is usually the result of calling `frame.insert` many times, which has poor performance.  Consider joining all columns at once using pd.concat(axis=1) instead. To get a de-fragmented frame, use `newframe = frame.copy()`\n  train_inputs[encoded_cols] = encoder.transform(train_inputs[categorical_cols])\n/tmp/ipykernel_30/1584174743.py:1: PerformanceWarning: DataFrame is highly fragmented.  This is usually the result of calling `frame.insert` many times, which has poor performance.  Consider joining all columns at once using pd.concat(axis=1) instead. To get a de-fragmented frame, use `newframe = frame.copy()`\n  train_inputs[encoded_cols] = encoder.transform(train_inputs[categorical_cols])\n/tmp/ipykernel_30/1584174743.py:1: PerformanceWarning: DataFrame is highly fragmented.  This is usually the result of calling `frame.insert` many times, which has poor performance.  Consider joining all columns at once using pd.concat(axis=1) instead. To get a de-fragmented frame, use `newframe = frame.copy()`\n  train_inputs[encoded_cols] = encoder.transform(train_inputs[categorical_cols])\n/tmp/ipykernel_30/1584174743.py:1: PerformanceWarning: DataFrame is highly fragmented.  This is usually the result of calling `frame.insert` many times, which has poor performance.  Consider joining all columns at once using pd.concat(axis=1) instead. To get a de-fragmented frame, use `newframe = frame.copy()`\n  train_inputs[encoded_cols] = encoder.transform(train_inputs[categorical_cols])\n/tmp/ipykernel_30/1584174743.py:1: PerformanceWarning: DataFrame is highly fragmented.  This is usually the result of calling `frame.insert` many times, which has poor performance.  Consider joining all columns at once using pd.concat(axis=1) instead. To get a de-fragmented frame, use `newframe = frame.copy()`\n  train_inputs[encoded_cols] = encoder.transform(train_inputs[categorical_cols])\n/tmp/ipykernel_30/1584174743.py:1: PerformanceWarning: DataFrame is highly fragmented.  This is usually the result of calling `frame.insert` many times, which has poor performance.  Consider joining all columns at once using pd.concat(axis=1) instead. To get a de-fragmented frame, use `newframe = frame.copy()`\n  train_inputs[encoded_cols] = encoder.transform(train_inputs[categorical_cols])\n/tmp/ipykernel_30/1584174743.py:1: PerformanceWarning: DataFrame is highly fragmented.  This is usually the result of calling `frame.insert` many times, which has poor performance.  Consider joining all columns at once using pd.concat(axis=1) instead. To get a de-fragmented frame, use `newframe = frame.copy()`\n  train_inputs[encoded_cols] = encoder.transform(train_inputs[categorical_cols])\n/tmp/ipykernel_30/1584174743.py:1: PerformanceWarning: DataFrame is highly fragmented.  This is usually the result of calling `frame.insert` many times, which has poor performance.  Consider joining all columns at once using pd.concat(axis=1) instead. To get a de-fragmented frame, use `newframe = frame.copy()`\n  train_inputs[encoded_cols] = encoder.transform(train_inputs[categorical_cols])\n/tmp/ipykernel_30/1584174743.py:1: PerformanceWarning: DataFrame is highly fragmented.  This is usually the result of calling `frame.insert` many times, which has poor performance.  Consider joining all columns at once using pd.concat(axis=1) instead. To get a de-fragmented frame, use `newframe = frame.copy()`\n  train_inputs[encoded_cols] = encoder.transform(train_inputs[categorical_cols])\n/tmp/ipykernel_30/1584174743.py:1: PerformanceWarning: DataFrame is highly fragmented.  This is usually the result of calling `frame.insert` many times, which has poor performance.  Consider joining all columns at once using pd.concat(axis=1) instead. To get a de-fragmented frame, use `newframe = frame.copy()`\n  train_inputs[encoded_cols] = encoder.transform(train_inputs[categorical_cols])\n/tmp/ipykernel_30/1584174743.py:1: PerformanceWarning: DataFrame is highly fragmented.  This is usually the result of calling `frame.insert` many times, which has poor performance.  Consider joining all columns at once using pd.concat(axis=1) instead. To get a de-fragmented frame, use `newframe = frame.copy()`\n  train_inputs[encoded_cols] = encoder.transform(train_inputs[categorical_cols])\n/tmp/ipykernel_30/1584174743.py:1: PerformanceWarning: DataFrame is highly fragmented.  This is usually the result of calling `frame.insert` many times, which has poor performance.  Consider joining all columns at once using pd.concat(axis=1) instead. To get a de-fragmented frame, use `newframe = frame.copy()`\n  train_inputs[encoded_cols] = encoder.transform(train_inputs[categorical_cols])\n/tmp/ipykernel_30/1584174743.py:2: PerformanceWarning: DataFrame is highly fragmented.  This is usually the result of calling `frame.insert` many times, which has poor performance.  Consider joining all columns at once using pd.concat(axis=1) instead. To get a de-fragmented frame, use `newframe = frame.copy()`\n  val_inputs[encoded_cols] = encoder.transform(val_inputs[categorical_cols])\n/tmp/ipykernel_30/1584174743.py:2: PerformanceWarning: DataFrame is highly fragmented.  This is usually the result of calling `frame.insert` many times, which has poor performance.  Consider joining all columns at once using pd.concat(axis=1) instead. To get a de-fragmented frame, use `newframe = frame.copy()`\n  val_inputs[encoded_cols] = encoder.transform(val_inputs[categorical_cols])\n/tmp/ipykernel_30/1584174743.py:2: PerformanceWarning: DataFrame is highly fragmented.  This is usually the result of calling `frame.insert` many times, which has poor performance.  Consider joining all columns at once using pd.concat(axis=1) instead. To get a de-fragmented frame, use `newframe = frame.copy()`\n  val_inputs[encoded_cols] = encoder.transform(val_inputs[categorical_cols])\n/tmp/ipykernel_30/1584174743.py:2: PerformanceWarning: DataFrame is highly fragmented.  This is usually the result of calling `frame.insert` many times, which has poor performance.  Consider joining all columns at once using pd.concat(axis=1) instead. To get a de-fragmented frame, use `newframe = frame.copy()`\n  val_inputs[encoded_cols] = encoder.transform(val_inputs[categorical_cols])\n/tmp/ipykernel_30/1584174743.py:2: PerformanceWarning: DataFrame is highly fragmented.  This is usually the result of calling `frame.insert` many times, which has poor performance.  Consider joining all columns at once using pd.concat(axis=1) instead. To get a de-fragmented frame, use `newframe = frame.copy()`\n  val_inputs[encoded_cols] = encoder.transform(val_inputs[categorical_cols])\n/tmp/ipykernel_30/1584174743.py:2: PerformanceWarning: DataFrame is highly fragmented.  This is usually the result of calling `frame.insert` many times, which has poor performance.  Consider joining all columns at once using pd.concat(axis=1) instead. To get a de-fragmented frame, use `newframe = frame.copy()`\n  val_inputs[encoded_cols] = encoder.transform(val_inputs[categorical_cols])\n/tmp/ipykernel_30/1584174743.py:2: PerformanceWarning: DataFrame is highly fragmented.  This is usually the result of calling `frame.insert` many times, which has poor performance.  Consider joining all columns at once using pd.concat(axis=1) instead. To get a de-fragmented frame, use `newframe = frame.copy()`\n  val_inputs[encoded_cols] = encoder.transform(val_inputs[categorical_cols])\n/tmp/ipykernel_30/1584174743.py:2: PerformanceWarning: DataFrame is highly fragmented.  This is usually the result of calling `frame.insert` many times, which has poor performance.  Consider joining all columns at once using pd.concat(axis=1) instead. To get a de-fragmented frame, use `newframe = frame.copy()`\n  val_inputs[encoded_cols] = encoder.transform(val_inputs[categorical_cols])\n/tmp/ipykernel_30/1584174743.py:2: PerformanceWarning: DataFrame is highly fragmented.  This is usually the result of calling `frame.insert` many times, which has poor performance.  Consider joining all columns at once using pd.concat(axis=1) instead. To get a de-fragmented frame, use `newframe = frame.copy()`\n  val_inputs[encoded_cols] = encoder.transform(val_inputs[categorical_cols])\n/tmp/ipykernel_30/1584174743.py:2: PerformanceWarning: DataFrame is highly fragmented.  This is usually the result of calling `frame.insert` many times, which has poor performance.  Consider joining all columns at once using pd.concat(axis=1) instead. To get a de-fragmented frame, use `newframe = frame.copy()`\n  val_inputs[encoded_cols] = encoder.transform(val_inputs[categorical_cols])\n/tmp/ipykernel_30/1584174743.py:2: PerformanceWarning: DataFrame is highly fragmented.  This is usually the result of calling `frame.insert` many times, which has poor performance.  Consider joining all columns at once using pd.concat(axis=1) instead. To get a de-fragmented frame, use `newframe = frame.copy()`\n  val_inputs[encoded_cols] = encoder.transform(val_inputs[categorical_cols])\n/tmp/ipykernel_30/1584174743.py:2: PerformanceWarning: DataFrame is highly fragmented.  This is usually the result of calling `frame.insert` many times, which has poor performance.  Consider joining all columns at once using pd.concat(axis=1) instead. To get a de-fragmented frame, use `newframe = frame.copy()`\n  val_inputs[encoded_cols] = encoder.transform(val_inputs[categorical_cols])\n/tmp/ipykernel_30/1584174743.py:2: PerformanceWarning: DataFrame is highly fragmented.  This is usually the result of calling `frame.insert` many times, which has poor performance.  Consider joining all columns at once using pd.concat(axis=1) instead. To get a de-fragmented frame, use `newframe = frame.copy()`\n  val_inputs[encoded_cols] = encoder.transform(val_inputs[categorical_cols])\n/tmp/ipykernel_30/1584174743.py:2: PerformanceWarning: DataFrame is highly fragmented.  This is usually the result of calling `frame.insert` many times, which has poor performance.  Consider joining all columns at once using pd.concat(axis=1) instead. To get a de-fragmented frame, use `newframe = frame.copy()`\n  val_inputs[encoded_cols] = encoder.transform(val_inputs[categorical_cols])\n/tmp/ipykernel_30/1584174743.py:2: PerformanceWarning: DataFrame is highly fragmented.  This is usually the result of calling `frame.insert` many times, which has poor performance.  Consider joining all columns at once using pd.concat(axis=1) instead. To get a de-fragmented frame, use `newframe = frame.copy()`\n  val_inputs[encoded_cols] = encoder.transform(val_inputs[categorical_cols])\n/tmp/ipykernel_30/1584174743.py:2: PerformanceWarning: DataFrame is highly fragmented.  This is usually the result of calling `frame.insert` many times, which has poor performance.  Consider joining all columns at once using pd.concat(axis=1) instead. To get a de-fragmented frame, use `newframe = frame.copy()`\n  val_inputs[encoded_cols] = encoder.transform(val_inputs[categorical_cols])\n/tmp/ipykernel_30/1584174743.py:2: PerformanceWarning: DataFrame is highly fragmented.  This is usually the result of calling `frame.insert` many times, which has poor performance.  Consider joining all columns at once using pd.concat(axis=1) instead. To get a de-fragmented frame, use `newframe = frame.copy()`\n  val_inputs[encoded_cols] = encoder.transform(val_inputs[categorical_cols])\n/tmp/ipykernel_30/1584174743.py:2: PerformanceWarning: DataFrame is highly fragmented.  This is usually the result of calling `frame.insert` many times, which has poor performance.  Consider joining all columns at once using pd.concat(axis=1) instead. To get a de-fragmented frame, use `newframe = frame.copy()`\n  val_inputs[encoded_cols] = encoder.transform(val_inputs[categorical_cols])\n/tmp/ipykernel_30/1584174743.py:2: PerformanceWarning: DataFrame is highly fragmented.  This is usually the result of calling `frame.insert` many times, which has poor performance.  Consider joining all columns at once using pd.concat(axis=1) instead. To get a de-fragmented frame, use `newframe = frame.copy()`\n  val_inputs[encoded_cols] = encoder.transform(val_inputs[categorical_cols])\n/tmp/ipykernel_30/1584174743.py:3: PerformanceWarning: DataFrame is highly fragmented.  This is usually the result of calling `frame.insert` many times, which has poor performance.  Consider joining all columns at once using pd.concat(axis=1) instead. To get a de-fragmented frame, use `newframe = frame.copy()`\n  test_inputs[encoded_cols] = encoder.transform(test_inputs[categorical_cols])\n/tmp/ipykernel_30/1584174743.py:3: PerformanceWarning: DataFrame is highly fragmented.  This is usually the result of calling `frame.insert` many times, which has poor performance.  Consider joining all columns at once using pd.concat(axis=1) instead. To get a de-fragmented frame, use `newframe = frame.copy()`\n  test_inputs[encoded_cols] = encoder.transform(test_inputs[categorical_cols])\n/tmp/ipykernel_30/1584174743.py:3: PerformanceWarning: DataFrame is highly fragmented.  This is usually the result of calling `frame.insert` many times, which has poor performance.  Consider joining all columns at once using pd.concat(axis=1) instead. To get a de-fragmented frame, use `newframe = frame.copy()`\n  test_inputs[encoded_cols] = encoder.transform(test_inputs[categorical_cols])\n/tmp/ipykernel_30/1584174743.py:3: PerformanceWarning: DataFrame is highly fragmented.  This is usually the result of calling `frame.insert` many times, which has poor performance.  Consider joining all columns at once using pd.concat(axis=1) instead. To get a de-fragmented frame, use `newframe = frame.copy()`\n  test_inputs[encoded_cols] = encoder.transform(test_inputs[categorical_cols])\n/tmp/ipykernel_30/1584174743.py:3: PerformanceWarning: DataFrame is highly fragmented.  This is usually the result of calling `frame.insert` many times, which has poor performance.  Consider joining all columns at once using pd.concat(axis=1) instead. To get a de-fragmented frame, use `newframe = frame.copy()`\n  test_inputs[encoded_cols] = encoder.transform(test_inputs[categorical_cols])\n/tmp/ipykernel_30/1584174743.py:3: PerformanceWarning: DataFrame is highly fragmented.  This is usually the result of calling `frame.insert` many times, which has poor performance.  Consider joining all columns at once using pd.concat(axis=1) instead. To get a de-fragmented frame, use `newframe = frame.copy()`\n  test_inputs[encoded_cols] = encoder.transform(test_inputs[categorical_cols])\n/tmp/ipykernel_30/1584174743.py:3: PerformanceWarning: DataFrame is highly fragmented.  This is usually the result of calling `frame.insert` many times, which has poor performance.  Consider joining all columns at once using pd.concat(axis=1) instead. To get a de-fragmented frame, use `newframe = frame.copy()`\n  test_inputs[encoded_cols] = encoder.transform(test_inputs[categorical_cols])\n/tmp/ipykernel_30/1584174743.py:3: PerformanceWarning: DataFrame is highly fragmented.  This is usually the result of calling `frame.insert` many times, which has poor performance.  Consider joining all columns at once using pd.concat(axis=1) instead. To get a de-fragmented frame, use `newframe = frame.copy()`\n  test_inputs[encoded_cols] = encoder.transform(test_inputs[categorical_cols])\n/tmp/ipykernel_30/1584174743.py:3: PerformanceWarning: DataFrame is highly fragmented.  This is usually the result of calling `frame.insert` many times, which has poor performance.  Consider joining all columns at once using pd.concat(axis=1) instead. To get a de-fragmented frame, use `newframe = frame.copy()`\n  test_inputs[encoded_cols] = encoder.transform(test_inputs[categorical_cols])\n/tmp/ipykernel_30/1584174743.py:3: PerformanceWarning: DataFrame is highly fragmented.  This is usually the result of calling `frame.insert` many times, which has poor performance.  Consider joining all columns at once using pd.concat(axis=1) instead. To get a de-fragmented frame, use `newframe = frame.copy()`\n  test_inputs[encoded_cols] = encoder.transform(test_inputs[categorical_cols])\n/tmp/ipykernel_30/1584174743.py:3: PerformanceWarning: DataFrame is highly fragmented.  This is usually the result of calling `frame.insert` many times, which has poor performance.  Consider joining all columns at once using pd.concat(axis=1) instead. To get a de-fragmented frame, use `newframe = frame.copy()`\n  test_inputs[encoded_cols] = encoder.transform(test_inputs[categorical_cols])\n/tmp/ipykernel_30/1584174743.py:3: PerformanceWarning: DataFrame is highly fragmented.  This is usually the result of calling `frame.insert` many times, which has poor performance.  Consider joining all columns at once using pd.concat(axis=1) instead. To get a de-fragmented frame, use `newframe = frame.copy()`\n  test_inputs[encoded_cols] = encoder.transform(test_inputs[categorical_cols])\n/tmp/ipykernel_30/1584174743.py:3: PerformanceWarning: DataFrame is highly fragmented.  This is usually the result of calling `frame.insert` many times, which has poor performance.  Consider joining all columns at once using pd.concat(axis=1) instead. To get a de-fragmented frame, use `newframe = frame.copy()`\n  test_inputs[encoded_cols] = encoder.transform(test_inputs[categorical_cols])\n/tmp/ipykernel_30/1584174743.py:3: PerformanceWarning: DataFrame is highly fragmented.  This is usually the result of calling `frame.insert` many times, which has poor performance.  Consider joining all columns at once using pd.concat(axis=1) instead. To get a de-fragmented frame, use `newframe = frame.copy()`\n  test_inputs[encoded_cols] = encoder.transform(test_inputs[categorical_cols])\n/tmp/ipykernel_30/1584174743.py:3: PerformanceWarning: DataFrame is highly fragmented.  This is usually the result of calling `frame.insert` many times, which has poor performance.  Consider joining all columns at once using pd.concat(axis=1) instead. To get a de-fragmented frame, use `newframe = frame.copy()`\n  test_inputs[encoded_cols] = encoder.transform(test_inputs[categorical_cols])\n/tmp/ipykernel_30/1584174743.py:3: PerformanceWarning: DataFrame is highly fragmented.  This is usually the result of calling `frame.insert` many times, which has poor performance.  Consider joining all columns at once using pd.concat(axis=1) instead. To get a de-fragmented frame, use `newframe = frame.copy()`\n  test_inputs[encoded_cols] = encoder.transform(test_inputs[categorical_cols])\n/tmp/ipykernel_30/1584174743.py:3: PerformanceWarning: DataFrame is highly fragmented.  This is usually the result of calling `frame.insert` many times, which has poor performance.  Consider joining all columns at once using pd.concat(axis=1) instead. To get a de-fragmented frame, use `newframe = frame.copy()`\n  test_inputs[encoded_cols] = encoder.transform(test_inputs[categorical_cols])\n/tmp/ipykernel_30/1584174743.py:3: PerformanceWarning: DataFrame is highly fragmented.  This is usually the result of calling `frame.insert` many times, which has poor performance.  Consider joining all columns at once using pd.concat(axis=1) instead. To get a de-fragmented frame, use `newframe = frame.copy()`\n  test_inputs[encoded_cols] = encoder.transform(test_inputs[categorical_cols])\n/tmp/ipykernel_30/1584174743.py:3: PerformanceWarning: DataFrame is highly fragmented.  This is usually the result of calling `frame.insert` many times, which has poor performance.  Consider joining all columns at once using pd.concat(axis=1) instead. To get a de-fragmented frame, use `newframe = frame.copy()`\n  test_inputs[encoded_cols] = encoder.transform(test_inputs[categorical_cols])\n",
          "output_type": "stream"
        }
      ]
    },
    {
      "cell_type": "code",
      "source": [
        "pd.set_option('display.max_columns', None)"
      ],
      "metadata": {
        "execution": {
          "iopub.status.busy": "2024-09-24T10:23:19.048824Z",
          "iopub.execute_input": "2024-09-24T10:23:19.049247Z",
          "iopub.status.idle": "2024-09-24T10:23:19.054469Z",
          "shell.execute_reply.started": "2024-09-24T10:23:19.049207Z",
          "shell.execute_reply": "2024-09-24T10:23:19.053337Z"
        },
        "trusted": true,
        "id": "y5IM9GvHsYZu"
      },
      "execution_count": null,
      "outputs": []
    },
    {
      "cell_type": "code",
      "source": [
        "test_inputs"
      ],
      "metadata": {
        "execution": {
          "iopub.status.busy": "2024-09-24T10:23:22.010441Z",
          "iopub.execute_input": "2024-09-24T10:23:22.010926Z",
          "iopub.status.idle": "2024-09-24T10:23:22.22264Z",
          "shell.execute_reply.started": "2024-09-24T10:23:22.010879Z",
          "shell.execute_reply": "2024-09-24T10:23:22.221542Z"
        },
        "trusted": true,
        "id": "DLwmM-1GsYZu",
        "outputId": "63b0ba29-f8f3-4002-bc68-975cb0601ca0"
      },
      "execution_count": null,
      "outputs": [
        {
          "execution_count": 59,
          "output_type": "execute_result",
          "data": {
            "text/plain": "       Location   MinTemp   MaxTemp  Rainfall  Evaporation  Sunshine  \\\n2498     Albury  0.681604  0.798851  0.000000     0.064199  0.532098   \n2499     Albury  0.693396  0.722222  0.001078     0.064199  0.532098   \n2500     Albury  0.634434  0.521073  0.005930     0.064199  0.532098   \n2501     Albury  0.608491  0.532567  0.042049     0.064199  0.532098   \n2502     Albury  0.566038  0.517241  0.018329     0.064199  0.532098   \n...         ...       ...       ...       ...          ...       ...   \n145454    Uluru  0.283019  0.496169  0.000000     0.064199  0.532098   \n145455    Uluru  0.266509  0.526820  0.000000     0.064199  0.532098   \n145456    Uluru  0.285377  0.563218  0.000000     0.064199  0.532098   \n145457    Uluru  0.327830  0.593870  0.000000     0.064199  0.532098   \n145458    Uluru  0.384434  0.595785  0.000000     0.064199  0.532098   \n\n       WindGustDir  WindGustSpeed WindDir9am WindDir3pm  WindSpeed9am  \\\n2498           ENE       0.372093        NaN        ESE      0.000000   \n2499           SSE       0.341085        SSE         SE      0.103448   \n2500           ENE       0.325581        ESE        ENE      0.126437   \n2501           SSE       0.255814         SE        SSE      0.103448   \n2502           ENE       0.193798         SE        SSE      0.068966   \n...            ...            ...        ...        ...           ...   \n145454           E       0.193798        ESE          E      0.172414   \n145455           E       0.193798         SE        ENE      0.149425   \n145456         NNW       0.124031         SE          N      0.149425   \n145457           N       0.240310         SE        WNW      0.103448   \n145458          SE       0.170543        SSE          N      0.149425   \n\n        WindSpeed3pm  Humidity9am  Humidity3pm  Pressure9am  Pressure3pm  \\\n2498        0.080460         0.46         0.17     0.543802     0.498350   \n2499        0.195402         0.54         0.30     0.505785     0.485149   \n2500        0.448276         0.62         0.67     0.553719     0.590759   \n2501        0.195402         0.74         0.65     0.618182     0.618812   \n2502        0.103448         0.92         0.63     0.591736     0.575908   \n...              ...          ...          ...          ...          ...   \n145454      0.149425         0.59         0.27     0.730579     0.696370   \n145455      0.126437         0.51         0.24     0.728926     0.681518   \n145456      0.103448         0.56         0.21     0.710744     0.661716   \n145457      0.103448         0.53         0.24     0.669421     0.623762   \n145458      0.080460         0.51         0.24     0.642975     0.618812   \n\n        Cloud9am  Cloud3pm   Temp9am   Temp3pm RainToday  Location_Adelaide  \\\n2498    0.777778  0.333333  0.694143  0.816406        No                0.0   \n2499    0.888889  0.888889  0.665944  0.718750        No                0.0   \n2500    0.888889  0.888889  0.600868  0.480469       Yes                0.0   \n2501    0.888889  0.888889  0.544469  0.521484       Yes                0.0   \n2502    0.888889  0.888889  0.501085  0.533203       Yes                0.0   \n...          ...       ...       ...       ...       ...                ...   \n145454  0.478106  0.490075  0.331887  0.507812        No                0.0   \n145455  0.478106  0.490075  0.347072  0.537109        No                0.0   \n145456  0.478106  0.490075  0.364425  0.578125        No                0.0   \n145457  0.478106  0.490075  0.399132  0.609375        No                0.0   \n145458  0.333333  0.222222  0.455531  0.607422        No                0.0   \n\n        Location_Albany  Location_Albury  Location_AliceSprings  \\\n2498                0.0              1.0                    0.0   \n2499                0.0              1.0                    0.0   \n2500                0.0              1.0                    0.0   \n2501                0.0              1.0                    0.0   \n2502                0.0              1.0                    0.0   \n...                 ...              ...                    ...   \n145454              0.0              0.0                    0.0   \n145455              0.0              0.0                    0.0   \n145456              0.0              0.0                    0.0   \n145457              0.0              0.0                    0.0   \n145458              0.0              0.0                    0.0   \n\n        Location_BadgerysCreek  Location_Ballarat  Location_Bendigo  \\\n2498                       0.0                0.0               0.0   \n2499                       0.0                0.0               0.0   \n2500                       0.0                0.0               0.0   \n2501                       0.0                0.0               0.0   \n2502                       0.0                0.0               0.0   \n...                        ...                ...               ...   \n145454                     0.0                0.0               0.0   \n145455                     0.0                0.0               0.0   \n145456                     0.0                0.0               0.0   \n145457                     0.0                0.0               0.0   \n145458                     0.0                0.0               0.0   \n\n        Location_Brisbane  Location_Cairns  Location_Canberra  Location_Cobar  \\\n2498                  0.0              0.0                0.0             0.0   \n2499                  0.0              0.0                0.0             0.0   \n2500                  0.0              0.0                0.0             0.0   \n2501                  0.0              0.0                0.0             0.0   \n2502                  0.0              0.0                0.0             0.0   \n...                   ...              ...                ...             ...   \n145454                0.0              0.0                0.0             0.0   \n145455                0.0              0.0                0.0             0.0   \n145456                0.0              0.0                0.0             0.0   \n145457                0.0              0.0                0.0             0.0   \n145458                0.0              0.0                0.0             0.0   \n\n        Location_CoffsHarbour  Location_Dartmoor  Location_Darwin  \\\n2498                      0.0                0.0              0.0   \n2499                      0.0                0.0              0.0   \n2500                      0.0                0.0              0.0   \n2501                      0.0                0.0              0.0   \n2502                      0.0                0.0              0.0   \n...                       ...                ...              ...   \n145454                    0.0                0.0              0.0   \n145455                    0.0                0.0              0.0   \n145456                    0.0                0.0              0.0   \n145457                    0.0                0.0              0.0   \n145458                    0.0                0.0              0.0   \n\n        Location_GoldCoast  Location_Hobart  Location_Katherine  \\\n2498                   0.0              0.0                 0.0   \n2499                   0.0              0.0                 0.0   \n2500                   0.0              0.0                 0.0   \n2501                   0.0              0.0                 0.0   \n2502                   0.0              0.0                 0.0   \n...                    ...              ...                 ...   \n145454                 0.0              0.0                 0.0   \n145455                 0.0              0.0                 0.0   \n145456                 0.0              0.0                 0.0   \n145457                 0.0              0.0                 0.0   \n145458                 0.0              0.0                 0.0   \n\n        Location_Launceston  Location_Melbourne  Location_MelbourneAirport  \\\n2498                    0.0                 0.0                        0.0   \n2499                    0.0                 0.0                        0.0   \n2500                    0.0                 0.0                        0.0   \n2501                    0.0                 0.0                        0.0   \n2502                    0.0                 0.0                        0.0   \n...                     ...                 ...                        ...   \n145454                  0.0                 0.0                        0.0   \n145455                  0.0                 0.0                        0.0   \n145456                  0.0                 0.0                        0.0   \n145457                  0.0                 0.0                        0.0   \n145458                  0.0                 0.0                        0.0   \n\n        Location_Mildura  Location_Moree  Location_MountGambier  \\\n2498                 0.0             0.0                    0.0   \n2499                 0.0             0.0                    0.0   \n2500                 0.0             0.0                    0.0   \n2501                 0.0             0.0                    0.0   \n2502                 0.0             0.0                    0.0   \n...                  ...             ...                    ...   \n145454               0.0             0.0                    0.0   \n145455               0.0             0.0                    0.0   \n145456               0.0             0.0                    0.0   \n145457               0.0             0.0                    0.0   \n145458               0.0             0.0                    0.0   \n\n        Location_MountGinini  Location_Newcastle  Location_Nhil  \\\n2498                     0.0                 0.0            0.0   \n2499                     0.0                 0.0            0.0   \n2500                     0.0                 0.0            0.0   \n2501                     0.0                 0.0            0.0   \n2502                     0.0                 0.0            0.0   \n...                      ...                 ...            ...   \n145454                   0.0                 0.0            0.0   \n145455                   0.0                 0.0            0.0   \n145456                   0.0                 0.0            0.0   \n145457                   0.0                 0.0            0.0   \n145458                   0.0                 0.0            0.0   \n\n        Location_NorahHead  Location_NorfolkIsland  Location_Nuriootpa  \\\n2498                   0.0                     0.0                 0.0   \n2499                   0.0                     0.0                 0.0   \n2500                   0.0                     0.0                 0.0   \n2501                   0.0                     0.0                 0.0   \n2502                   0.0                     0.0                 0.0   \n...                    ...                     ...                 ...   \n145454                 0.0                     0.0                 0.0   \n145455                 0.0                     0.0                 0.0   \n145456                 0.0                     0.0                 0.0   \n145457                 0.0                     0.0                 0.0   \n145458                 0.0                     0.0                 0.0   \n\n        Location_PearceRAAF  Location_Penrith  Location_Perth  \\\n2498                    0.0               0.0             0.0   \n2499                    0.0               0.0             0.0   \n2500                    0.0               0.0             0.0   \n2501                    0.0               0.0             0.0   \n2502                    0.0               0.0             0.0   \n...                     ...               ...             ...   \n145454                  0.0               0.0             0.0   \n145455                  0.0               0.0             0.0   \n145456                  0.0               0.0             0.0   \n145457                  0.0               0.0             0.0   \n145458                  0.0               0.0             0.0   \n\n        Location_PerthAirport  Location_Portland  Location_Richmond  \\\n2498                      0.0                0.0                0.0   \n2499                      0.0                0.0                0.0   \n2500                      0.0                0.0                0.0   \n2501                      0.0                0.0                0.0   \n2502                      0.0                0.0                0.0   \n...                       ...                ...                ...   \n145454                    0.0                0.0                0.0   \n145455                    0.0                0.0                0.0   \n145456                    0.0                0.0                0.0   \n145457                    0.0                0.0                0.0   \n145458                    0.0                0.0                0.0   \n\n        Location_Sale  Location_SalmonGums  Location_Sydney  \\\n2498              0.0                  0.0              0.0   \n2499              0.0                  0.0              0.0   \n2500              0.0                  0.0              0.0   \n2501              0.0                  0.0              0.0   \n2502              0.0                  0.0              0.0   \n...               ...                  ...              ...   \n145454            0.0                  0.0              0.0   \n145455            0.0                  0.0              0.0   \n145456            0.0                  0.0              0.0   \n145457            0.0                  0.0              0.0   \n145458            0.0                  0.0              0.0   \n\n        Location_SydneyAirport  Location_Townsville  Location_Tuggeranong  \\\n2498                       0.0                  0.0                   0.0   \n2499                       0.0                  0.0                   0.0   \n2500                       0.0                  0.0                   0.0   \n2501                       0.0                  0.0                   0.0   \n2502                       0.0                  0.0                   0.0   \n...                        ...                  ...                   ...   \n145454                     0.0                  0.0                   0.0   \n145455                     0.0                  0.0                   0.0   \n145456                     0.0                  0.0                   0.0   \n145457                     0.0                  0.0                   0.0   \n145458                     0.0                  0.0                   0.0   \n\n        Location_Uluru  Location_WaggaWagga  Location_Walpole  \\\n2498               0.0                  0.0               0.0   \n2499               0.0                  0.0               0.0   \n2500               0.0                  0.0               0.0   \n2501               0.0                  0.0               0.0   \n2502               0.0                  0.0               0.0   \n...                ...                  ...               ...   \n145454             1.0                  0.0               0.0   \n145455             1.0                  0.0               0.0   \n145456             1.0                  0.0               0.0   \n145457             1.0                  0.0               0.0   \n145458             1.0                  0.0               0.0   \n\n        Location_Watsonia  Location_Williamtown  Location_Witchcliffe  \\\n2498                  0.0                   0.0                   0.0   \n2499                  0.0                   0.0                   0.0   \n2500                  0.0                   0.0                   0.0   \n2501                  0.0                   0.0                   0.0   \n2502                  0.0                   0.0                   0.0   \n...                   ...                   ...                   ...   \n145454                0.0                   0.0                   0.0   \n145455                0.0                   0.0                   0.0   \n145456                0.0                   0.0                   0.0   \n145457                0.0                   0.0                   0.0   \n145458                0.0                   0.0                   0.0   \n\n        Location_Wollongong  Location_Woomera  WindGustDir_E  WindGustDir_ENE  \\\n2498                    0.0               0.0            0.0              1.0   \n2499                    0.0               0.0            0.0              0.0   \n2500                    0.0               0.0            0.0              1.0   \n2501                    0.0               0.0            0.0              0.0   \n2502                    0.0               0.0            0.0              1.0   \n...                     ...               ...            ...              ...   \n145454                  0.0               0.0            1.0              0.0   \n145455                  0.0               0.0            1.0              0.0   \n145456                  0.0               0.0            0.0              0.0   \n145457                  0.0               0.0            0.0              0.0   \n145458                  0.0               0.0            0.0              0.0   \n\n        WindGustDir_ESE  WindGustDir_N  WindGustDir_NE  WindGustDir_NNE  \\\n2498                0.0            0.0             0.0              0.0   \n2499                0.0            0.0             0.0              0.0   \n2500                0.0            0.0             0.0              0.0   \n2501                0.0            0.0             0.0              0.0   \n2502                0.0            0.0             0.0              0.0   \n...                 ...            ...             ...              ...   \n145454              0.0            0.0             0.0              0.0   \n145455              0.0            0.0             0.0              0.0   \n145456              0.0            0.0             0.0              0.0   \n145457              0.0            1.0             0.0              0.0   \n145458              0.0            0.0             0.0              0.0   \n\n        WindGustDir_NNW  WindGustDir_NW  WindGustDir_S  WindGustDir_SE  \\\n2498                0.0             0.0            0.0             0.0   \n2499                0.0             0.0            0.0             0.0   \n2500                0.0             0.0            0.0             0.0   \n2501                0.0             0.0            0.0             0.0   \n2502                0.0             0.0            0.0             0.0   \n...                 ...             ...            ...             ...   \n145454              0.0             0.0            0.0             0.0   \n145455              0.0             0.0            0.0             0.0   \n145456              1.0             0.0            0.0             0.0   \n145457              0.0             0.0            0.0             0.0   \n145458              0.0             0.0            0.0             1.0   \n\n        WindGustDir_SSE  WindGustDir_SSW  WindGustDir_SW  WindGustDir_W  \\\n2498                0.0              0.0             0.0            0.0   \n2499                1.0              0.0             0.0            0.0   \n2500                0.0              0.0             0.0            0.0   \n2501                1.0              0.0             0.0            0.0   \n2502                0.0              0.0             0.0            0.0   \n...                 ...              ...             ...            ...   \n145454              0.0              0.0             0.0            0.0   \n145455              0.0              0.0             0.0            0.0   \n145456              0.0              0.0             0.0            0.0   \n145457              0.0              0.0             0.0            0.0   \n145458              0.0              0.0             0.0            0.0   \n\n        WindGustDir_WNW  WindGustDir_WSW  WindGustDir_nan  WindDir9am_E  \\\n2498                0.0              0.0              0.0           0.0   \n2499                0.0              0.0              0.0           0.0   \n2500                0.0              0.0              0.0           0.0   \n2501                0.0              0.0              0.0           0.0   \n2502                0.0              0.0              0.0           0.0   \n...                 ...              ...              ...           ...   \n145454              0.0              0.0              0.0           0.0   \n145455              0.0              0.0              0.0           0.0   \n145456              0.0              0.0              0.0           0.0   \n145457              0.0              0.0              0.0           0.0   \n145458              0.0              0.0              0.0           0.0   \n\n        WindDir9am_ENE  WindDir9am_ESE  WindDir9am_N  WindDir9am_NE  \\\n2498               0.0             0.0           0.0            0.0   \n2499               0.0             0.0           0.0            0.0   \n2500               0.0             1.0           0.0            0.0   \n2501               0.0             0.0           0.0            0.0   \n2502               0.0             0.0           0.0            0.0   \n...                ...             ...           ...            ...   \n145454             0.0             1.0           0.0            0.0   \n145455             0.0             0.0           0.0            0.0   \n145456             0.0             0.0           0.0            0.0   \n145457             0.0             0.0           0.0            0.0   \n145458             0.0             0.0           0.0            0.0   \n\n        WindDir9am_NNE  WindDir9am_NNW  WindDir9am_NW  WindDir9am_S  \\\n2498               0.0             0.0            0.0           0.0   \n2499               0.0             0.0            0.0           0.0   \n2500               0.0             0.0            0.0           0.0   \n2501               0.0             0.0            0.0           0.0   \n2502               0.0             0.0            0.0           0.0   \n...                ...             ...            ...           ...   \n145454             0.0             0.0            0.0           0.0   \n145455             0.0             0.0            0.0           0.0   \n145456             0.0             0.0            0.0           0.0   \n145457             0.0             0.0            0.0           0.0   \n145458             0.0             0.0            0.0           0.0   \n\n        WindDir9am_SE  WindDir9am_SSE  WindDir9am_SSW  WindDir9am_SW  \\\n2498              0.0             0.0             0.0            0.0   \n2499              0.0             1.0             0.0            0.0   \n2500              0.0             0.0             0.0            0.0   \n2501              1.0             0.0             0.0            0.0   \n2502              1.0             0.0             0.0            0.0   \n...               ...             ...             ...            ...   \n145454            0.0             0.0             0.0            0.0   \n145455            1.0             0.0             0.0            0.0   \n145456            1.0             0.0             0.0            0.0   \n145457            1.0             0.0             0.0            0.0   \n145458            0.0             1.0             0.0            0.0   \n\n        WindDir9am_W  WindDir9am_WNW  WindDir9am_WSW  WindDir9am_nan  \\\n2498             0.0             0.0             0.0             1.0   \n2499             0.0             0.0             0.0             0.0   \n2500             0.0             0.0             0.0             0.0   \n2501             0.0             0.0             0.0             0.0   \n2502             0.0             0.0             0.0             0.0   \n...              ...             ...             ...             ...   \n145454           0.0             0.0             0.0             0.0   \n145455           0.0             0.0             0.0             0.0   \n145456           0.0             0.0             0.0             0.0   \n145457           0.0             0.0             0.0             0.0   \n145458           0.0             0.0             0.0             0.0   \n\n        WindDir3pm_E  WindDir3pm_ENE  WindDir3pm_ESE  WindDir3pm_N  \\\n2498             0.0             0.0             1.0           0.0   \n2499             0.0             0.0             0.0           0.0   \n2500             0.0             1.0             0.0           0.0   \n2501             0.0             0.0             0.0           0.0   \n2502             0.0             0.0             0.0           0.0   \n...              ...             ...             ...           ...   \n145454           1.0             0.0             0.0           0.0   \n145455           0.0             1.0             0.0           0.0   \n145456           0.0             0.0             0.0           1.0   \n145457           0.0             0.0             0.0           0.0   \n145458           0.0             0.0             0.0           1.0   \n\n        WindDir3pm_NE  WindDir3pm_NNE  WindDir3pm_NNW  WindDir3pm_NW  \\\n2498              0.0             0.0             0.0            0.0   \n2499              0.0             0.0             0.0            0.0   \n2500              0.0             0.0             0.0            0.0   \n2501              0.0             0.0             0.0            0.0   \n2502              0.0             0.0             0.0            0.0   \n...               ...             ...             ...            ...   \n145454            0.0             0.0             0.0            0.0   \n145455            0.0             0.0             0.0            0.0   \n145456            0.0             0.0             0.0            0.0   \n145457            0.0             0.0             0.0            0.0   \n145458            0.0             0.0             0.0            0.0   \n\n        WindDir3pm_S  WindDir3pm_SE  WindDir3pm_SSE  WindDir3pm_SSW  \\\n2498             0.0            0.0             0.0             0.0   \n2499             0.0            1.0             0.0             0.0   \n2500             0.0            0.0             0.0             0.0   \n2501             0.0            0.0             1.0             0.0   \n2502             0.0            0.0             1.0             0.0   \n...              ...            ...             ...             ...   \n145454           0.0            0.0             0.0             0.0   \n145455           0.0            0.0             0.0             0.0   \n145456           0.0            0.0             0.0             0.0   \n145457           0.0            0.0             0.0             0.0   \n145458           0.0            0.0             0.0             0.0   \n\n        WindDir3pm_SW  WindDir3pm_W  WindDir3pm_WNW  WindDir3pm_WSW  \\\n2498              0.0           0.0             0.0             0.0   \n2499              0.0           0.0             0.0             0.0   \n2500              0.0           0.0             0.0             0.0   \n2501              0.0           0.0             0.0             0.0   \n2502              0.0           0.0             0.0             0.0   \n...               ...           ...             ...             ...   \n145454            0.0           0.0             0.0             0.0   \n145455            0.0           0.0             0.0             0.0   \n145456            0.0           0.0             0.0             0.0   \n145457            0.0           0.0             1.0             0.0   \n145458            0.0           0.0             0.0             0.0   \n\n        WindDir3pm_nan  RainToday_No  RainToday_Yes  \n2498               0.0           1.0            0.0  \n2499               0.0           1.0            0.0  \n2500               0.0           0.0            1.0  \n2501               0.0           0.0            1.0  \n2502               0.0           0.0            1.0  \n...                ...           ...            ...  \n145454             0.0           1.0            0.0  \n145455             0.0           1.0            0.0  \n145456             0.0           1.0            0.0  \n145457             0.0           1.0            0.0  \n145458             0.0           1.0            0.0  \n\n[25710 rows x 123 columns]",
            "text/html": "<div>\n<style scoped>\n    .dataframe tbody tr th:only-of-type {\n        vertical-align: middle;\n    }\n\n    .dataframe tbody tr th {\n        vertical-align: top;\n    }\n\n    .dataframe thead th {\n        text-align: right;\n    }\n</style>\n<table border=\"1\" class=\"dataframe\">\n  <thead>\n    <tr style=\"text-align: right;\">\n      <th></th>\n      <th>Location</th>\n      <th>MinTemp</th>\n      <th>MaxTemp</th>\n      <th>Rainfall</th>\n      <th>Evaporation</th>\n      <th>Sunshine</th>\n      <th>WindGustDir</th>\n      <th>WindGustSpeed</th>\n      <th>WindDir9am</th>\n      <th>WindDir3pm</th>\n      <th>WindSpeed9am</th>\n      <th>WindSpeed3pm</th>\n      <th>Humidity9am</th>\n      <th>Humidity3pm</th>\n      <th>Pressure9am</th>\n      <th>Pressure3pm</th>\n      <th>Cloud9am</th>\n      <th>Cloud3pm</th>\n      <th>Temp9am</th>\n      <th>Temp3pm</th>\n      <th>RainToday</th>\n      <th>Location_Adelaide</th>\n      <th>Location_Albany</th>\n      <th>Location_Albury</th>\n      <th>Location_AliceSprings</th>\n      <th>Location_BadgerysCreek</th>\n      <th>Location_Ballarat</th>\n      <th>Location_Bendigo</th>\n      <th>Location_Brisbane</th>\n      <th>Location_Cairns</th>\n      <th>Location_Canberra</th>\n      <th>Location_Cobar</th>\n      <th>Location_CoffsHarbour</th>\n      <th>Location_Dartmoor</th>\n      <th>Location_Darwin</th>\n      <th>Location_GoldCoast</th>\n      <th>Location_Hobart</th>\n      <th>Location_Katherine</th>\n      <th>Location_Launceston</th>\n      <th>Location_Melbourne</th>\n      <th>Location_MelbourneAirport</th>\n      <th>Location_Mildura</th>\n      <th>Location_Moree</th>\n      <th>Location_MountGambier</th>\n      <th>Location_MountGinini</th>\n      <th>Location_Newcastle</th>\n      <th>Location_Nhil</th>\n      <th>Location_NorahHead</th>\n      <th>Location_NorfolkIsland</th>\n      <th>Location_Nuriootpa</th>\n      <th>Location_PearceRAAF</th>\n      <th>Location_Penrith</th>\n      <th>Location_Perth</th>\n      <th>Location_PerthAirport</th>\n      <th>Location_Portland</th>\n      <th>Location_Richmond</th>\n      <th>Location_Sale</th>\n      <th>Location_SalmonGums</th>\n      <th>Location_Sydney</th>\n      <th>Location_SydneyAirport</th>\n      <th>Location_Townsville</th>\n      <th>Location_Tuggeranong</th>\n      <th>Location_Uluru</th>\n      <th>Location_WaggaWagga</th>\n      <th>Location_Walpole</th>\n      <th>Location_Watsonia</th>\n      <th>Location_Williamtown</th>\n      <th>Location_Witchcliffe</th>\n      <th>Location_Wollongong</th>\n      <th>Location_Woomera</th>\n      <th>WindGustDir_E</th>\n      <th>WindGustDir_ENE</th>\n      <th>WindGustDir_ESE</th>\n      <th>WindGustDir_N</th>\n      <th>WindGustDir_NE</th>\n      <th>WindGustDir_NNE</th>\n      <th>WindGustDir_NNW</th>\n      <th>WindGustDir_NW</th>\n      <th>WindGustDir_S</th>\n      <th>WindGustDir_SE</th>\n      <th>WindGustDir_SSE</th>\n      <th>WindGustDir_SSW</th>\n      <th>WindGustDir_SW</th>\n      <th>WindGustDir_W</th>\n      <th>WindGustDir_WNW</th>\n      <th>WindGustDir_WSW</th>\n      <th>WindGustDir_nan</th>\n      <th>WindDir9am_E</th>\n      <th>WindDir9am_ENE</th>\n      <th>WindDir9am_ESE</th>\n      <th>WindDir9am_N</th>\n      <th>WindDir9am_NE</th>\n      <th>WindDir9am_NNE</th>\n      <th>WindDir9am_NNW</th>\n      <th>WindDir9am_NW</th>\n      <th>WindDir9am_S</th>\n      <th>WindDir9am_SE</th>\n      <th>WindDir9am_SSE</th>\n      <th>WindDir9am_SSW</th>\n      <th>WindDir9am_SW</th>\n      <th>WindDir9am_W</th>\n      <th>WindDir9am_WNW</th>\n      <th>WindDir9am_WSW</th>\n      <th>WindDir9am_nan</th>\n      <th>WindDir3pm_E</th>\n      <th>WindDir3pm_ENE</th>\n      <th>WindDir3pm_ESE</th>\n      <th>WindDir3pm_N</th>\n      <th>WindDir3pm_NE</th>\n      <th>WindDir3pm_NNE</th>\n      <th>WindDir3pm_NNW</th>\n      <th>WindDir3pm_NW</th>\n      <th>WindDir3pm_S</th>\n      <th>WindDir3pm_SE</th>\n      <th>WindDir3pm_SSE</th>\n      <th>WindDir3pm_SSW</th>\n      <th>WindDir3pm_SW</th>\n      <th>WindDir3pm_W</th>\n      <th>WindDir3pm_WNW</th>\n      <th>WindDir3pm_WSW</th>\n      <th>WindDir3pm_nan</th>\n      <th>RainToday_No</th>\n      <th>RainToday_Yes</th>\n    </tr>\n  </thead>\n  <tbody>\n    <tr>\n      <th>2498</th>\n      <td>Albury</td>\n      <td>0.681604</td>\n      <td>0.798851</td>\n      <td>0.000000</td>\n      <td>0.064199</td>\n      <td>0.532098</td>\n      <td>ENE</td>\n      <td>0.372093</td>\n      <td>NaN</td>\n      <td>ESE</td>\n      <td>0.000000</td>\n      <td>0.080460</td>\n      <td>0.46</td>\n      <td>0.17</td>\n      <td>0.543802</td>\n      <td>0.498350</td>\n      <td>0.777778</td>\n      <td>0.333333</td>\n      <td>0.694143</td>\n      <td>0.816406</td>\n      <td>No</td>\n      <td>0.0</td>\n      <td>0.0</td>\n      <td>1.0</td>\n      <td>0.0</td>\n      <td>0.0</td>\n      <td>0.0</td>\n      <td>0.0</td>\n      <td>0.0</td>\n      <td>0.0</td>\n      <td>0.0</td>\n      <td>0.0</td>\n      <td>0.0</td>\n      <td>0.0</td>\n      <td>0.0</td>\n      <td>0.0</td>\n      <td>0.0</td>\n      <td>0.0</td>\n      <td>0.0</td>\n      <td>0.0</td>\n      <td>0.0</td>\n      <td>0.0</td>\n      <td>0.0</td>\n      <td>0.0</td>\n      <td>0.0</td>\n      <td>0.0</td>\n      <td>0.0</td>\n      <td>0.0</td>\n      <td>0.0</td>\n      <td>0.0</td>\n      <td>0.0</td>\n      <td>0.0</td>\n      <td>0.0</td>\n      <td>0.0</td>\n      <td>0.0</td>\n      <td>0.0</td>\n      <td>0.0</td>\n      <td>0.0</td>\n      <td>0.0</td>\n      <td>0.0</td>\n      <td>0.0</td>\n      <td>0.0</td>\n      <td>0.0</td>\n      <td>0.0</td>\n      <td>0.0</td>\n      <td>0.0</td>\n      <td>0.0</td>\n      <td>0.0</td>\n      <td>0.0</td>\n      <td>0.0</td>\n      <td>0.0</td>\n      <td>1.0</td>\n      <td>0.0</td>\n      <td>0.0</td>\n      <td>0.0</td>\n      <td>0.0</td>\n      <td>0.0</td>\n      <td>0.0</td>\n      <td>0.0</td>\n      <td>0.0</td>\n      <td>0.0</td>\n      <td>0.0</td>\n      <td>0.0</td>\n      <td>0.0</td>\n      <td>0.0</td>\n      <td>0.0</td>\n      <td>0.0</td>\n      <td>0.0</td>\n      <td>0.0</td>\n      <td>0.0</td>\n      <td>0.0</td>\n      <td>0.0</td>\n      <td>0.0</td>\n      <td>0.0</td>\n      <td>0.0</td>\n      <td>0.0</td>\n      <td>0.0</td>\n      <td>0.0</td>\n      <td>0.0</td>\n      <td>0.0</td>\n      <td>0.0</td>\n      <td>0.0</td>\n      <td>0.0</td>\n      <td>1.0</td>\n      <td>0.0</td>\n      <td>0.0</td>\n      <td>1.0</td>\n      <td>0.0</td>\n      <td>0.0</td>\n      <td>0.0</td>\n      <td>0.0</td>\n      <td>0.0</td>\n      <td>0.0</td>\n      <td>0.0</td>\n      <td>0.0</td>\n      <td>0.0</td>\n      <td>0.0</td>\n      <td>0.0</td>\n      <td>0.0</td>\n      <td>0.0</td>\n      <td>0.0</td>\n      <td>1.0</td>\n      <td>0.0</td>\n    </tr>\n    <tr>\n      <th>2499</th>\n      <td>Albury</td>\n      <td>0.693396</td>\n      <td>0.722222</td>\n      <td>0.001078</td>\n      <td>0.064199</td>\n      <td>0.532098</td>\n      <td>SSE</td>\n      <td>0.341085</td>\n      <td>SSE</td>\n      <td>SE</td>\n      <td>0.103448</td>\n      <td>0.195402</td>\n      <td>0.54</td>\n      <td>0.30</td>\n      <td>0.505785</td>\n      <td>0.485149</td>\n      <td>0.888889</td>\n      <td>0.888889</td>\n      <td>0.665944</td>\n      <td>0.718750</td>\n      <td>No</td>\n      <td>0.0</td>\n      <td>0.0</td>\n      <td>1.0</td>\n      <td>0.0</td>\n      <td>0.0</td>\n      <td>0.0</td>\n      <td>0.0</td>\n      <td>0.0</td>\n      <td>0.0</td>\n      <td>0.0</td>\n      <td>0.0</td>\n      <td>0.0</td>\n      <td>0.0</td>\n      <td>0.0</td>\n      <td>0.0</td>\n      <td>0.0</td>\n      <td>0.0</td>\n      <td>0.0</td>\n      <td>0.0</td>\n      <td>0.0</td>\n      <td>0.0</td>\n      <td>0.0</td>\n      <td>0.0</td>\n      <td>0.0</td>\n      <td>0.0</td>\n      <td>0.0</td>\n      <td>0.0</td>\n      <td>0.0</td>\n      <td>0.0</td>\n      <td>0.0</td>\n      <td>0.0</td>\n      <td>0.0</td>\n      <td>0.0</td>\n      <td>0.0</td>\n      <td>0.0</td>\n      <td>0.0</td>\n      <td>0.0</td>\n      <td>0.0</td>\n      <td>0.0</td>\n      <td>0.0</td>\n      <td>0.0</td>\n      <td>0.0</td>\n      <td>0.0</td>\n      <td>0.0</td>\n      <td>0.0</td>\n      <td>0.0</td>\n      <td>0.0</td>\n      <td>0.0</td>\n      <td>0.0</td>\n      <td>0.0</td>\n      <td>0.0</td>\n      <td>0.0</td>\n      <td>0.0</td>\n      <td>0.0</td>\n      <td>0.0</td>\n      <td>0.0</td>\n      <td>0.0</td>\n      <td>0.0</td>\n      <td>0.0</td>\n      <td>1.0</td>\n      <td>0.0</td>\n      <td>0.0</td>\n      <td>0.0</td>\n      <td>0.0</td>\n      <td>0.0</td>\n      <td>0.0</td>\n      <td>0.0</td>\n      <td>0.0</td>\n      <td>0.0</td>\n      <td>0.0</td>\n      <td>0.0</td>\n      <td>0.0</td>\n      <td>0.0</td>\n      <td>0.0</td>\n      <td>0.0</td>\n      <td>0.0</td>\n      <td>1.0</td>\n      <td>0.0</td>\n      <td>0.0</td>\n      <td>0.0</td>\n      <td>0.0</td>\n      <td>0.0</td>\n      <td>0.0</td>\n      <td>0.0</td>\n      <td>0.0</td>\n      <td>0.0</td>\n      <td>0.0</td>\n      <td>0.0</td>\n      <td>0.0</td>\n      <td>0.0</td>\n      <td>0.0</td>\n      <td>0.0</td>\n      <td>1.0</td>\n      <td>0.0</td>\n      <td>0.0</td>\n      <td>0.0</td>\n      <td>0.0</td>\n      <td>0.0</td>\n      <td>0.0</td>\n      <td>0.0</td>\n      <td>1.0</td>\n      <td>0.0</td>\n    </tr>\n    <tr>\n      <th>2500</th>\n      <td>Albury</td>\n      <td>0.634434</td>\n      <td>0.521073</td>\n      <td>0.005930</td>\n      <td>0.064199</td>\n      <td>0.532098</td>\n      <td>ENE</td>\n      <td>0.325581</td>\n      <td>ESE</td>\n      <td>ENE</td>\n      <td>0.126437</td>\n      <td>0.448276</td>\n      <td>0.62</td>\n      <td>0.67</td>\n      <td>0.553719</td>\n      <td>0.590759</td>\n      <td>0.888889</td>\n      <td>0.888889</td>\n      <td>0.600868</td>\n      <td>0.480469</td>\n      <td>Yes</td>\n      <td>0.0</td>\n      <td>0.0</td>\n      <td>1.0</td>\n      <td>0.0</td>\n      <td>0.0</td>\n      <td>0.0</td>\n      <td>0.0</td>\n      <td>0.0</td>\n      <td>0.0</td>\n      <td>0.0</td>\n      <td>0.0</td>\n      <td>0.0</td>\n      <td>0.0</td>\n      <td>0.0</td>\n      <td>0.0</td>\n      <td>0.0</td>\n      <td>0.0</td>\n      <td>0.0</td>\n      <td>0.0</td>\n      <td>0.0</td>\n      <td>0.0</td>\n      <td>0.0</td>\n      <td>0.0</td>\n      <td>0.0</td>\n      <td>0.0</td>\n      <td>0.0</td>\n      <td>0.0</td>\n      <td>0.0</td>\n      <td>0.0</td>\n      <td>0.0</td>\n      <td>0.0</td>\n      <td>0.0</td>\n      <td>0.0</td>\n      <td>0.0</td>\n      <td>0.0</td>\n      <td>0.0</td>\n      <td>0.0</td>\n      <td>0.0</td>\n      <td>0.0</td>\n      <td>0.0</td>\n      <td>0.0</td>\n      <td>0.0</td>\n      <td>0.0</td>\n      <td>0.0</td>\n      <td>0.0</td>\n      <td>0.0</td>\n      <td>0.0</td>\n      <td>0.0</td>\n      <td>0.0</td>\n      <td>0.0</td>\n      <td>1.0</td>\n      <td>0.0</td>\n      <td>0.0</td>\n      <td>0.0</td>\n      <td>0.0</td>\n      <td>0.0</td>\n      <td>0.0</td>\n      <td>0.0</td>\n      <td>0.0</td>\n      <td>0.0</td>\n      <td>0.0</td>\n      <td>0.0</td>\n      <td>0.0</td>\n      <td>0.0</td>\n      <td>0.0</td>\n      <td>0.0</td>\n      <td>0.0</td>\n      <td>0.0</td>\n      <td>1.0</td>\n      <td>0.0</td>\n      <td>0.0</td>\n      <td>0.0</td>\n      <td>0.0</td>\n      <td>0.0</td>\n      <td>0.0</td>\n      <td>0.0</td>\n      <td>0.0</td>\n      <td>0.0</td>\n      <td>0.0</td>\n      <td>0.0</td>\n      <td>0.0</td>\n      <td>0.0</td>\n      <td>0.0</td>\n      <td>0.0</td>\n      <td>1.0</td>\n      <td>0.0</td>\n      <td>0.0</td>\n      <td>0.0</td>\n      <td>0.0</td>\n      <td>0.0</td>\n      <td>0.0</td>\n      <td>0.0</td>\n      <td>0.0</td>\n      <td>0.0</td>\n      <td>0.0</td>\n      <td>0.0</td>\n      <td>0.0</td>\n      <td>0.0</td>\n      <td>0.0</td>\n      <td>0.0</td>\n      <td>0.0</td>\n      <td>1.0</td>\n    </tr>\n    <tr>\n      <th>2501</th>\n      <td>Albury</td>\n      <td>0.608491</td>\n      <td>0.532567</td>\n      <td>0.042049</td>\n      <td>0.064199</td>\n      <td>0.532098</td>\n      <td>SSE</td>\n      <td>0.255814</td>\n      <td>SE</td>\n      <td>SSE</td>\n      <td>0.103448</td>\n      <td>0.195402</td>\n      <td>0.74</td>\n      <td>0.65</td>\n      <td>0.618182</td>\n      <td>0.618812</td>\n      <td>0.888889</td>\n      <td>0.888889</td>\n      <td>0.544469</td>\n      <td>0.521484</td>\n      <td>Yes</td>\n      <td>0.0</td>\n      <td>0.0</td>\n      <td>1.0</td>\n      <td>0.0</td>\n      <td>0.0</td>\n      <td>0.0</td>\n      <td>0.0</td>\n      <td>0.0</td>\n      <td>0.0</td>\n      <td>0.0</td>\n      <td>0.0</td>\n      <td>0.0</td>\n      <td>0.0</td>\n      <td>0.0</td>\n      <td>0.0</td>\n      <td>0.0</td>\n      <td>0.0</td>\n      <td>0.0</td>\n      <td>0.0</td>\n      <td>0.0</td>\n      <td>0.0</td>\n      <td>0.0</td>\n      <td>0.0</td>\n      <td>0.0</td>\n      <td>0.0</td>\n      <td>0.0</td>\n      <td>0.0</td>\n      <td>0.0</td>\n      <td>0.0</td>\n      <td>0.0</td>\n      <td>0.0</td>\n      <td>0.0</td>\n      <td>0.0</td>\n      <td>0.0</td>\n      <td>0.0</td>\n      <td>0.0</td>\n      <td>0.0</td>\n      <td>0.0</td>\n      <td>0.0</td>\n      <td>0.0</td>\n      <td>0.0</td>\n      <td>0.0</td>\n      <td>0.0</td>\n      <td>0.0</td>\n      <td>0.0</td>\n      <td>0.0</td>\n      <td>0.0</td>\n      <td>0.0</td>\n      <td>0.0</td>\n      <td>0.0</td>\n      <td>0.0</td>\n      <td>0.0</td>\n      <td>0.0</td>\n      <td>0.0</td>\n      <td>0.0</td>\n      <td>0.0</td>\n      <td>0.0</td>\n      <td>0.0</td>\n      <td>0.0</td>\n      <td>1.0</td>\n      <td>0.0</td>\n      <td>0.0</td>\n      <td>0.0</td>\n      <td>0.0</td>\n      <td>0.0</td>\n      <td>0.0</td>\n      <td>0.0</td>\n      <td>0.0</td>\n      <td>0.0</td>\n      <td>0.0</td>\n      <td>0.0</td>\n      <td>0.0</td>\n      <td>0.0</td>\n      <td>0.0</td>\n      <td>0.0</td>\n      <td>1.0</td>\n      <td>0.0</td>\n      <td>0.0</td>\n      <td>0.0</td>\n      <td>0.0</td>\n      <td>0.0</td>\n      <td>0.0</td>\n      <td>0.0</td>\n      <td>0.0</td>\n      <td>0.0</td>\n      <td>0.0</td>\n      <td>0.0</td>\n      <td>0.0</td>\n      <td>0.0</td>\n      <td>0.0</td>\n      <td>0.0</td>\n      <td>0.0</td>\n      <td>0.0</td>\n      <td>1.0</td>\n      <td>0.0</td>\n      <td>0.0</td>\n      <td>0.0</td>\n      <td>0.0</td>\n      <td>0.0</td>\n      <td>0.0</td>\n      <td>0.0</td>\n      <td>1.0</td>\n    </tr>\n    <tr>\n      <th>2502</th>\n      <td>Albury</td>\n      <td>0.566038</td>\n      <td>0.517241</td>\n      <td>0.018329</td>\n      <td>0.064199</td>\n      <td>0.532098</td>\n      <td>ENE</td>\n      <td>0.193798</td>\n      <td>SE</td>\n      <td>SSE</td>\n      <td>0.068966</td>\n      <td>0.103448</td>\n      <td>0.92</td>\n      <td>0.63</td>\n      <td>0.591736</td>\n      <td>0.575908</td>\n      <td>0.888889</td>\n      <td>0.888889</td>\n      <td>0.501085</td>\n      <td>0.533203</td>\n      <td>Yes</td>\n      <td>0.0</td>\n      <td>0.0</td>\n      <td>1.0</td>\n      <td>0.0</td>\n      <td>0.0</td>\n      <td>0.0</td>\n      <td>0.0</td>\n      <td>0.0</td>\n      <td>0.0</td>\n      <td>0.0</td>\n      <td>0.0</td>\n      <td>0.0</td>\n      <td>0.0</td>\n      <td>0.0</td>\n      <td>0.0</td>\n      <td>0.0</td>\n      <td>0.0</td>\n      <td>0.0</td>\n      <td>0.0</td>\n      <td>0.0</td>\n      <td>0.0</td>\n      <td>0.0</td>\n      <td>0.0</td>\n      <td>0.0</td>\n      <td>0.0</td>\n      <td>0.0</td>\n      <td>0.0</td>\n      <td>0.0</td>\n      <td>0.0</td>\n      <td>0.0</td>\n      <td>0.0</td>\n      <td>0.0</td>\n      <td>0.0</td>\n      <td>0.0</td>\n      <td>0.0</td>\n      <td>0.0</td>\n      <td>0.0</td>\n      <td>0.0</td>\n      <td>0.0</td>\n      <td>0.0</td>\n      <td>0.0</td>\n      <td>0.0</td>\n      <td>0.0</td>\n      <td>0.0</td>\n      <td>0.0</td>\n      <td>0.0</td>\n      <td>0.0</td>\n      <td>0.0</td>\n      <td>0.0</td>\n      <td>0.0</td>\n      <td>1.0</td>\n      <td>0.0</td>\n      <td>0.0</td>\n      <td>0.0</td>\n      <td>0.0</td>\n      <td>0.0</td>\n      <td>0.0</td>\n      <td>0.0</td>\n      <td>0.0</td>\n      <td>0.0</td>\n      <td>0.0</td>\n      <td>0.0</td>\n      <td>0.0</td>\n      <td>0.0</td>\n      <td>0.0</td>\n      <td>0.0</td>\n      <td>0.0</td>\n      <td>0.0</td>\n      <td>0.0</td>\n      <td>0.0</td>\n      <td>0.0</td>\n      <td>0.0</td>\n      <td>0.0</td>\n      <td>0.0</td>\n      <td>0.0</td>\n      <td>1.0</td>\n      <td>0.0</td>\n      <td>0.0</td>\n      <td>0.0</td>\n      <td>0.0</td>\n      <td>0.0</td>\n      <td>0.0</td>\n      <td>0.0</td>\n      <td>0.0</td>\n      <td>0.0</td>\n      <td>0.0</td>\n      <td>0.0</td>\n      <td>0.0</td>\n      <td>0.0</td>\n      <td>0.0</td>\n      <td>0.0</td>\n      <td>0.0</td>\n      <td>0.0</td>\n      <td>1.0</td>\n      <td>0.0</td>\n      <td>0.0</td>\n      <td>0.0</td>\n      <td>0.0</td>\n      <td>0.0</td>\n      <td>0.0</td>\n      <td>0.0</td>\n      <td>1.0</td>\n    </tr>\n    <tr>\n      <th>...</th>\n      <td>...</td>\n      <td>...</td>\n      <td>...</td>\n      <td>...</td>\n      <td>...</td>\n      <td>...</td>\n      <td>...</td>\n      <td>...</td>\n      <td>...</td>\n      <td>...</td>\n      <td>...</td>\n      <td>...</td>\n      <td>...</td>\n      <td>...</td>\n      <td>...</td>\n      <td>...</td>\n      <td>...</td>\n      <td>...</td>\n      <td>...</td>\n      <td>...</td>\n      <td>...</td>\n      <td>...</td>\n      <td>...</td>\n      <td>...</td>\n      <td>...</td>\n      <td>...</td>\n      <td>...</td>\n      <td>...</td>\n      <td>...</td>\n      <td>...</td>\n      <td>...</td>\n      <td>...</td>\n      <td>...</td>\n      <td>...</td>\n      <td>...</td>\n      <td>...</td>\n      <td>...</td>\n      <td>...</td>\n      <td>...</td>\n      <td>...</td>\n      <td>...</td>\n      <td>...</td>\n      <td>...</td>\n      <td>...</td>\n      <td>...</td>\n      <td>...</td>\n      <td>...</td>\n      <td>...</td>\n      <td>...</td>\n      <td>...</td>\n      <td>...</td>\n      <td>...</td>\n      <td>...</td>\n      <td>...</td>\n      <td>...</td>\n      <td>...</td>\n      <td>...</td>\n      <td>...</td>\n      <td>...</td>\n      <td>...</td>\n      <td>...</td>\n      <td>...</td>\n      <td>...</td>\n      <td>...</td>\n      <td>...</td>\n      <td>...</td>\n      <td>...</td>\n      <td>...</td>\n      <td>...</td>\n      <td>...</td>\n      <td>...</td>\n      <td>...</td>\n      <td>...</td>\n      <td>...</td>\n      <td>...</td>\n      <td>...</td>\n      <td>...</td>\n      <td>...</td>\n      <td>...</td>\n      <td>...</td>\n      <td>...</td>\n      <td>...</td>\n      <td>...</td>\n      <td>...</td>\n      <td>...</td>\n      <td>...</td>\n      <td>...</td>\n      <td>...</td>\n      <td>...</td>\n      <td>...</td>\n      <td>...</td>\n      <td>...</td>\n      <td>...</td>\n      <td>...</td>\n      <td>...</td>\n      <td>...</td>\n      <td>...</td>\n      <td>...</td>\n      <td>...</td>\n      <td>...</td>\n      <td>...</td>\n      <td>...</td>\n      <td>...</td>\n      <td>...</td>\n      <td>...</td>\n      <td>...</td>\n      <td>...</td>\n      <td>...</td>\n      <td>...</td>\n      <td>...</td>\n      <td>...</td>\n      <td>...</td>\n      <td>...</td>\n      <td>...</td>\n      <td>...</td>\n      <td>...</td>\n      <td>...</td>\n      <td>...</td>\n      <td>...</td>\n      <td>...</td>\n      <td>...</td>\n      <td>...</td>\n      <td>...</td>\n    </tr>\n    <tr>\n      <th>145454</th>\n      <td>Uluru</td>\n      <td>0.283019</td>\n      <td>0.496169</td>\n      <td>0.000000</td>\n      <td>0.064199</td>\n      <td>0.532098</td>\n      <td>E</td>\n      <td>0.193798</td>\n      <td>ESE</td>\n      <td>E</td>\n      <td>0.172414</td>\n      <td>0.149425</td>\n      <td>0.59</td>\n      <td>0.27</td>\n      <td>0.730579</td>\n      <td>0.696370</td>\n      <td>0.478106</td>\n      <td>0.490075</td>\n      <td>0.331887</td>\n      <td>0.507812</td>\n      <td>No</td>\n      <td>0.0</td>\n      <td>0.0</td>\n      <td>0.0</td>\n      <td>0.0</td>\n      <td>0.0</td>\n      <td>0.0</td>\n      <td>0.0</td>\n      <td>0.0</td>\n      <td>0.0</td>\n      <td>0.0</td>\n      <td>0.0</td>\n      <td>0.0</td>\n      <td>0.0</td>\n      <td>0.0</td>\n      <td>0.0</td>\n      <td>0.0</td>\n      <td>0.0</td>\n      <td>0.0</td>\n      <td>0.0</td>\n      <td>0.0</td>\n      <td>0.0</td>\n      <td>0.0</td>\n      <td>0.0</td>\n      <td>0.0</td>\n      <td>0.0</td>\n      <td>0.0</td>\n      <td>0.0</td>\n      <td>0.0</td>\n      <td>0.0</td>\n      <td>0.0</td>\n      <td>0.0</td>\n      <td>0.0</td>\n      <td>0.0</td>\n      <td>0.0</td>\n      <td>0.0</td>\n      <td>0.0</td>\n      <td>0.0</td>\n      <td>0.0</td>\n      <td>0.0</td>\n      <td>0.0</td>\n      <td>0.0</td>\n      <td>1.0</td>\n      <td>0.0</td>\n      <td>0.0</td>\n      <td>0.0</td>\n      <td>0.0</td>\n      <td>0.0</td>\n      <td>0.0</td>\n      <td>0.0</td>\n      <td>1.0</td>\n      <td>0.0</td>\n      <td>0.0</td>\n      <td>0.0</td>\n      <td>0.0</td>\n      <td>0.0</td>\n      <td>0.0</td>\n      <td>0.0</td>\n      <td>0.0</td>\n      <td>0.0</td>\n      <td>0.0</td>\n      <td>0.0</td>\n      <td>0.0</td>\n      <td>0.0</td>\n      <td>0.0</td>\n      <td>0.0</td>\n      <td>0.0</td>\n      <td>0.0</td>\n      <td>0.0</td>\n      <td>1.0</td>\n      <td>0.0</td>\n      <td>0.0</td>\n      <td>0.0</td>\n      <td>0.0</td>\n      <td>0.0</td>\n      <td>0.0</td>\n      <td>0.0</td>\n      <td>0.0</td>\n      <td>0.0</td>\n      <td>0.0</td>\n      <td>0.0</td>\n      <td>0.0</td>\n      <td>0.0</td>\n      <td>0.0</td>\n      <td>1.0</td>\n      <td>0.0</td>\n      <td>0.0</td>\n      <td>0.0</td>\n      <td>0.0</td>\n      <td>0.0</td>\n      <td>0.0</td>\n      <td>0.0</td>\n      <td>0.0</td>\n      <td>0.0</td>\n      <td>0.0</td>\n      <td>0.0</td>\n      <td>0.0</td>\n      <td>0.0</td>\n      <td>0.0</td>\n      <td>0.0</td>\n      <td>0.0</td>\n      <td>1.0</td>\n      <td>0.0</td>\n    </tr>\n    <tr>\n      <th>145455</th>\n      <td>Uluru</td>\n      <td>0.266509</td>\n      <td>0.526820</td>\n      <td>0.000000</td>\n      <td>0.064199</td>\n      <td>0.532098</td>\n      <td>E</td>\n      <td>0.193798</td>\n      <td>SE</td>\n      <td>ENE</td>\n      <td>0.149425</td>\n      <td>0.126437</td>\n      <td>0.51</td>\n      <td>0.24</td>\n      <td>0.728926</td>\n      <td>0.681518</td>\n      <td>0.478106</td>\n      <td>0.490075</td>\n      <td>0.347072</td>\n      <td>0.537109</td>\n      <td>No</td>\n      <td>0.0</td>\n      <td>0.0</td>\n      <td>0.0</td>\n      <td>0.0</td>\n      <td>0.0</td>\n      <td>0.0</td>\n      <td>0.0</td>\n      <td>0.0</td>\n      <td>0.0</td>\n      <td>0.0</td>\n      <td>0.0</td>\n      <td>0.0</td>\n      <td>0.0</td>\n      <td>0.0</td>\n      <td>0.0</td>\n      <td>0.0</td>\n      <td>0.0</td>\n      <td>0.0</td>\n      <td>0.0</td>\n      <td>0.0</td>\n      <td>0.0</td>\n      <td>0.0</td>\n      <td>0.0</td>\n      <td>0.0</td>\n      <td>0.0</td>\n      <td>0.0</td>\n      <td>0.0</td>\n      <td>0.0</td>\n      <td>0.0</td>\n      <td>0.0</td>\n      <td>0.0</td>\n      <td>0.0</td>\n      <td>0.0</td>\n      <td>0.0</td>\n      <td>0.0</td>\n      <td>0.0</td>\n      <td>0.0</td>\n      <td>0.0</td>\n      <td>0.0</td>\n      <td>0.0</td>\n      <td>0.0</td>\n      <td>1.0</td>\n      <td>0.0</td>\n      <td>0.0</td>\n      <td>0.0</td>\n      <td>0.0</td>\n      <td>0.0</td>\n      <td>0.0</td>\n      <td>0.0</td>\n      <td>1.0</td>\n      <td>0.0</td>\n      <td>0.0</td>\n      <td>0.0</td>\n      <td>0.0</td>\n      <td>0.0</td>\n      <td>0.0</td>\n      <td>0.0</td>\n      <td>0.0</td>\n      <td>0.0</td>\n      <td>0.0</td>\n      <td>0.0</td>\n      <td>0.0</td>\n      <td>0.0</td>\n      <td>0.0</td>\n      <td>0.0</td>\n      <td>0.0</td>\n      <td>0.0</td>\n      <td>0.0</td>\n      <td>0.0</td>\n      <td>0.0</td>\n      <td>0.0</td>\n      <td>0.0</td>\n      <td>0.0</td>\n      <td>0.0</td>\n      <td>0.0</td>\n      <td>1.0</td>\n      <td>0.0</td>\n      <td>0.0</td>\n      <td>0.0</td>\n      <td>0.0</td>\n      <td>0.0</td>\n      <td>0.0</td>\n      <td>0.0</td>\n      <td>0.0</td>\n      <td>1.0</td>\n      <td>0.0</td>\n      <td>0.0</td>\n      <td>0.0</td>\n      <td>0.0</td>\n      <td>0.0</td>\n      <td>0.0</td>\n      <td>0.0</td>\n      <td>0.0</td>\n      <td>0.0</td>\n      <td>0.0</td>\n      <td>0.0</td>\n      <td>0.0</td>\n      <td>0.0</td>\n      <td>0.0</td>\n      <td>0.0</td>\n      <td>1.0</td>\n      <td>0.0</td>\n    </tr>\n    <tr>\n      <th>145456</th>\n      <td>Uluru</td>\n      <td>0.285377</td>\n      <td>0.563218</td>\n      <td>0.000000</td>\n      <td>0.064199</td>\n      <td>0.532098</td>\n      <td>NNW</td>\n      <td>0.124031</td>\n      <td>SE</td>\n      <td>N</td>\n      <td>0.149425</td>\n      <td>0.103448</td>\n      <td>0.56</td>\n      <td>0.21</td>\n      <td>0.710744</td>\n      <td>0.661716</td>\n      <td>0.478106</td>\n      <td>0.490075</td>\n      <td>0.364425</td>\n      <td>0.578125</td>\n      <td>No</td>\n      <td>0.0</td>\n      <td>0.0</td>\n      <td>0.0</td>\n      <td>0.0</td>\n      <td>0.0</td>\n      <td>0.0</td>\n      <td>0.0</td>\n      <td>0.0</td>\n      <td>0.0</td>\n      <td>0.0</td>\n      <td>0.0</td>\n      <td>0.0</td>\n      <td>0.0</td>\n      <td>0.0</td>\n      <td>0.0</td>\n      <td>0.0</td>\n      <td>0.0</td>\n      <td>0.0</td>\n      <td>0.0</td>\n      <td>0.0</td>\n      <td>0.0</td>\n      <td>0.0</td>\n      <td>0.0</td>\n      <td>0.0</td>\n      <td>0.0</td>\n      <td>0.0</td>\n      <td>0.0</td>\n      <td>0.0</td>\n      <td>0.0</td>\n      <td>0.0</td>\n      <td>0.0</td>\n      <td>0.0</td>\n      <td>0.0</td>\n      <td>0.0</td>\n      <td>0.0</td>\n      <td>0.0</td>\n      <td>0.0</td>\n      <td>0.0</td>\n      <td>0.0</td>\n      <td>0.0</td>\n      <td>0.0</td>\n      <td>1.0</td>\n      <td>0.0</td>\n      <td>0.0</td>\n      <td>0.0</td>\n      <td>0.0</td>\n      <td>0.0</td>\n      <td>0.0</td>\n      <td>0.0</td>\n      <td>0.0</td>\n      <td>0.0</td>\n      <td>0.0</td>\n      <td>0.0</td>\n      <td>0.0</td>\n      <td>0.0</td>\n      <td>1.0</td>\n      <td>0.0</td>\n      <td>0.0</td>\n      <td>0.0</td>\n      <td>0.0</td>\n      <td>0.0</td>\n      <td>0.0</td>\n      <td>0.0</td>\n      <td>0.0</td>\n      <td>0.0</td>\n      <td>0.0</td>\n      <td>0.0</td>\n      <td>0.0</td>\n      <td>0.0</td>\n      <td>0.0</td>\n      <td>0.0</td>\n      <td>0.0</td>\n      <td>0.0</td>\n      <td>0.0</td>\n      <td>0.0</td>\n      <td>1.0</td>\n      <td>0.0</td>\n      <td>0.0</td>\n      <td>0.0</td>\n      <td>0.0</td>\n      <td>0.0</td>\n      <td>0.0</td>\n      <td>0.0</td>\n      <td>0.0</td>\n      <td>0.0</td>\n      <td>0.0</td>\n      <td>1.0</td>\n      <td>0.0</td>\n      <td>0.0</td>\n      <td>0.0</td>\n      <td>0.0</td>\n      <td>0.0</td>\n      <td>0.0</td>\n      <td>0.0</td>\n      <td>0.0</td>\n      <td>0.0</td>\n      <td>0.0</td>\n      <td>0.0</td>\n      <td>0.0</td>\n      <td>0.0</td>\n      <td>1.0</td>\n      <td>0.0</td>\n    </tr>\n    <tr>\n      <th>145457</th>\n      <td>Uluru</td>\n      <td>0.327830</td>\n      <td>0.593870</td>\n      <td>0.000000</td>\n      <td>0.064199</td>\n      <td>0.532098</td>\n      <td>N</td>\n      <td>0.240310</td>\n      <td>SE</td>\n      <td>WNW</td>\n      <td>0.103448</td>\n      <td>0.103448</td>\n      <td>0.53</td>\n      <td>0.24</td>\n      <td>0.669421</td>\n      <td>0.623762</td>\n      <td>0.478106</td>\n      <td>0.490075</td>\n      <td>0.399132</td>\n      <td>0.609375</td>\n      <td>No</td>\n      <td>0.0</td>\n      <td>0.0</td>\n      <td>0.0</td>\n      <td>0.0</td>\n      <td>0.0</td>\n      <td>0.0</td>\n      <td>0.0</td>\n      <td>0.0</td>\n      <td>0.0</td>\n      <td>0.0</td>\n      <td>0.0</td>\n      <td>0.0</td>\n      <td>0.0</td>\n      <td>0.0</td>\n      <td>0.0</td>\n      <td>0.0</td>\n      <td>0.0</td>\n      <td>0.0</td>\n      <td>0.0</td>\n      <td>0.0</td>\n      <td>0.0</td>\n      <td>0.0</td>\n      <td>0.0</td>\n      <td>0.0</td>\n      <td>0.0</td>\n      <td>0.0</td>\n      <td>0.0</td>\n      <td>0.0</td>\n      <td>0.0</td>\n      <td>0.0</td>\n      <td>0.0</td>\n      <td>0.0</td>\n      <td>0.0</td>\n      <td>0.0</td>\n      <td>0.0</td>\n      <td>0.0</td>\n      <td>0.0</td>\n      <td>0.0</td>\n      <td>0.0</td>\n      <td>0.0</td>\n      <td>0.0</td>\n      <td>1.0</td>\n      <td>0.0</td>\n      <td>0.0</td>\n      <td>0.0</td>\n      <td>0.0</td>\n      <td>0.0</td>\n      <td>0.0</td>\n      <td>0.0</td>\n      <td>0.0</td>\n      <td>0.0</td>\n      <td>0.0</td>\n      <td>1.0</td>\n      <td>0.0</td>\n      <td>0.0</td>\n      <td>0.0</td>\n      <td>0.0</td>\n      <td>0.0</td>\n      <td>0.0</td>\n      <td>0.0</td>\n      <td>0.0</td>\n      <td>0.0</td>\n      <td>0.0</td>\n      <td>0.0</td>\n      <td>0.0</td>\n      <td>0.0</td>\n      <td>0.0</td>\n      <td>0.0</td>\n      <td>0.0</td>\n      <td>0.0</td>\n      <td>0.0</td>\n      <td>0.0</td>\n      <td>0.0</td>\n      <td>0.0</td>\n      <td>0.0</td>\n      <td>1.0</td>\n      <td>0.0</td>\n      <td>0.0</td>\n      <td>0.0</td>\n      <td>0.0</td>\n      <td>0.0</td>\n      <td>0.0</td>\n      <td>0.0</td>\n      <td>0.0</td>\n      <td>0.0</td>\n      <td>0.0</td>\n      <td>0.0</td>\n      <td>0.0</td>\n      <td>0.0</td>\n      <td>0.0</td>\n      <td>0.0</td>\n      <td>0.0</td>\n      <td>0.0</td>\n      <td>0.0</td>\n      <td>0.0</td>\n      <td>0.0</td>\n      <td>0.0</td>\n      <td>1.0</td>\n      <td>0.0</td>\n      <td>0.0</td>\n      <td>1.0</td>\n      <td>0.0</td>\n    </tr>\n    <tr>\n      <th>145458</th>\n      <td>Uluru</td>\n      <td>0.384434</td>\n      <td>0.595785</td>\n      <td>0.000000</td>\n      <td>0.064199</td>\n      <td>0.532098</td>\n      <td>SE</td>\n      <td>0.170543</td>\n      <td>SSE</td>\n      <td>N</td>\n      <td>0.149425</td>\n      <td>0.080460</td>\n      <td>0.51</td>\n      <td>0.24</td>\n      <td>0.642975</td>\n      <td>0.618812</td>\n      <td>0.333333</td>\n      <td>0.222222</td>\n      <td>0.455531</td>\n      <td>0.607422</td>\n      <td>No</td>\n      <td>0.0</td>\n      <td>0.0</td>\n      <td>0.0</td>\n      <td>0.0</td>\n      <td>0.0</td>\n      <td>0.0</td>\n      <td>0.0</td>\n      <td>0.0</td>\n      <td>0.0</td>\n      <td>0.0</td>\n      <td>0.0</td>\n      <td>0.0</td>\n      <td>0.0</td>\n      <td>0.0</td>\n      <td>0.0</td>\n      <td>0.0</td>\n      <td>0.0</td>\n      <td>0.0</td>\n      <td>0.0</td>\n      <td>0.0</td>\n      <td>0.0</td>\n      <td>0.0</td>\n      <td>0.0</td>\n      <td>0.0</td>\n      <td>0.0</td>\n      <td>0.0</td>\n      <td>0.0</td>\n      <td>0.0</td>\n      <td>0.0</td>\n      <td>0.0</td>\n      <td>0.0</td>\n      <td>0.0</td>\n      <td>0.0</td>\n      <td>0.0</td>\n      <td>0.0</td>\n      <td>0.0</td>\n      <td>0.0</td>\n      <td>0.0</td>\n      <td>0.0</td>\n      <td>0.0</td>\n      <td>0.0</td>\n      <td>1.0</td>\n      <td>0.0</td>\n      <td>0.0</td>\n      <td>0.0</td>\n      <td>0.0</td>\n      <td>0.0</td>\n      <td>0.0</td>\n      <td>0.0</td>\n      <td>0.0</td>\n      <td>0.0</td>\n      <td>0.0</td>\n      <td>0.0</td>\n      <td>0.0</td>\n      <td>0.0</td>\n      <td>0.0</td>\n      <td>0.0</td>\n      <td>0.0</td>\n      <td>1.0</td>\n      <td>0.0</td>\n      <td>0.0</td>\n      <td>0.0</td>\n      <td>0.0</td>\n      <td>0.0</td>\n      <td>0.0</td>\n      <td>0.0</td>\n      <td>0.0</td>\n      <td>0.0</td>\n      <td>0.0</td>\n      <td>0.0</td>\n      <td>0.0</td>\n      <td>0.0</td>\n      <td>0.0</td>\n      <td>0.0</td>\n      <td>0.0</td>\n      <td>0.0</td>\n      <td>1.0</td>\n      <td>0.0</td>\n      <td>0.0</td>\n      <td>0.0</td>\n      <td>0.0</td>\n      <td>0.0</td>\n      <td>0.0</td>\n      <td>0.0</td>\n      <td>0.0</td>\n      <td>0.0</td>\n      <td>1.0</td>\n      <td>0.0</td>\n      <td>0.0</td>\n      <td>0.0</td>\n      <td>0.0</td>\n      <td>0.0</td>\n      <td>0.0</td>\n      <td>0.0</td>\n      <td>0.0</td>\n      <td>0.0</td>\n      <td>0.0</td>\n      <td>0.0</td>\n      <td>0.0</td>\n      <td>0.0</td>\n      <td>1.0</td>\n      <td>0.0</td>\n    </tr>\n  </tbody>\n</table>\n<p>25710 rows × 123 columns</p>\n</div>"
          },
          "metadata": {}
        }
      ]
    },
    {
      "cell_type": "markdown",
      "source": [
        "Бачимо, що всі нові колонки додались"
      ],
      "metadata": {
        "id": "iFlTOrS8sYZv"
      }
    },
    {
      "cell_type": "markdown",
      "source": [
        "## Навчання логістичної регресії"
      ],
      "metadata": {
        "id": "W1eTceaqsYZv"
      }
    },
    {
      "cell_type": "code",
      "source": [
        "from sklearn.linear_model import LogisticRegression"
      ],
      "metadata": {
        "execution": {
          "iopub.status.busy": "2024-09-24T10:24:41.432129Z",
          "iopub.execute_input": "2024-09-24T10:24:41.433186Z",
          "iopub.status.idle": "2024-09-24T10:24:41.438049Z",
          "shell.execute_reply.started": "2024-09-24T10:24:41.433137Z",
          "shell.execute_reply": "2024-09-24T10:24:41.436711Z"
        },
        "trusted": true,
        "id": "sn0xROLVsYZv"
      },
      "execution_count": null,
      "outputs": []
    },
    {
      "cell_type": "code",
      "source": [
        "model = LogisticRegression(solver='liblinear')"
      ],
      "metadata": {
        "execution": {
          "iopub.status.busy": "2024-09-24T10:24:43.596149Z",
          "iopub.execute_input": "2024-09-24T10:24:43.596577Z",
          "iopub.status.idle": "2024-09-24T10:24:43.603221Z",
          "shell.execute_reply.started": "2024-09-24T10:24:43.596537Z",
          "shell.execute_reply": "2024-09-24T10:24:43.60202Z"
        },
        "trusted": true,
        "id": "LQO-wr8asYZv"
      },
      "execution_count": null,
      "outputs": []
    },
    {
      "cell_type": "code",
      "source": [
        "model.fit(train_inputs[numeric_cols + encoded_cols], train_targets)"
      ],
      "metadata": {
        "execution": {
          "iopub.status.busy": "2024-09-24T10:24:45.930144Z",
          "iopub.execute_input": "2024-09-24T10:24:45.930897Z",
          "iopub.status.idle": "2024-09-24T10:24:48.553104Z",
          "shell.execute_reply.started": "2024-09-24T10:24:45.930852Z",
          "shell.execute_reply": "2024-09-24T10:24:48.551861Z"
        },
        "trusted": true,
        "id": "po0d01CIsYZv",
        "outputId": "cc3fbbaf-4460-461c-e5a7-e56fbdba0dfa"
      },
      "execution_count": null,
      "outputs": [
        {
          "execution_count": 63,
          "output_type": "execute_result",
          "data": {
            "text/plain": "LogisticRegression(solver='liblinear')",
            "text/html": "<style>#sk-container-id-6 {color: black;background-color: white;}#sk-container-id-6 pre{padding: 0;}#sk-container-id-6 div.sk-toggleable {background-color: white;}#sk-container-id-6 label.sk-toggleable__label {cursor: pointer;display: block;width: 100%;margin-bottom: 0;padding: 0.3em;box-sizing: border-box;text-align: center;}#sk-container-id-6 label.sk-toggleable__label-arrow:before {content: \"▸\";float: left;margin-right: 0.25em;color: #696969;}#sk-container-id-6 label.sk-toggleable__label-arrow:hover:before {color: black;}#sk-container-id-6 div.sk-estimator:hover label.sk-toggleable__label-arrow:before {color: black;}#sk-container-id-6 div.sk-toggleable__content {max-height: 0;max-width: 0;overflow: hidden;text-align: left;background-color: #f0f8ff;}#sk-container-id-6 div.sk-toggleable__content pre {margin: 0.2em;color: black;border-radius: 0.25em;background-color: #f0f8ff;}#sk-container-id-6 input.sk-toggleable__control:checked~div.sk-toggleable__content {max-height: 200px;max-width: 100%;overflow: auto;}#sk-container-id-6 input.sk-toggleable__control:checked~label.sk-toggleable__label-arrow:before {content: \"▾\";}#sk-container-id-6 div.sk-estimator input.sk-toggleable__control:checked~label.sk-toggleable__label {background-color: #d4ebff;}#sk-container-id-6 div.sk-label input.sk-toggleable__control:checked~label.sk-toggleable__label {background-color: #d4ebff;}#sk-container-id-6 input.sk-hidden--visually {border: 0;clip: rect(1px 1px 1px 1px);clip: rect(1px, 1px, 1px, 1px);height: 1px;margin: -1px;overflow: hidden;padding: 0;position: absolute;width: 1px;}#sk-container-id-6 div.sk-estimator {font-family: monospace;background-color: #f0f8ff;border: 1px dotted black;border-radius: 0.25em;box-sizing: border-box;margin-bottom: 0.5em;}#sk-container-id-6 div.sk-estimator:hover {background-color: #d4ebff;}#sk-container-id-6 div.sk-parallel-item::after {content: \"\";width: 100%;border-bottom: 1px solid gray;flex-grow: 1;}#sk-container-id-6 div.sk-label:hover label.sk-toggleable__label {background-color: #d4ebff;}#sk-container-id-6 div.sk-serial::before {content: \"\";position: absolute;border-left: 1px solid gray;box-sizing: border-box;top: 0;bottom: 0;left: 50%;z-index: 0;}#sk-container-id-6 div.sk-serial {display: flex;flex-direction: column;align-items: center;background-color: white;padding-right: 0.2em;padding-left: 0.2em;position: relative;}#sk-container-id-6 div.sk-item {position: relative;z-index: 1;}#sk-container-id-6 div.sk-parallel {display: flex;align-items: stretch;justify-content: center;background-color: white;position: relative;}#sk-container-id-6 div.sk-item::before, #sk-container-id-6 div.sk-parallel-item::before {content: \"\";position: absolute;border-left: 1px solid gray;box-sizing: border-box;top: 0;bottom: 0;left: 50%;z-index: -1;}#sk-container-id-6 div.sk-parallel-item {display: flex;flex-direction: column;z-index: 1;position: relative;background-color: white;}#sk-container-id-6 div.sk-parallel-item:first-child::after {align-self: flex-end;width: 50%;}#sk-container-id-6 div.sk-parallel-item:last-child::after {align-self: flex-start;width: 50%;}#sk-container-id-6 div.sk-parallel-item:only-child::after {width: 0;}#sk-container-id-6 div.sk-dashed-wrapped {border: 1px dashed gray;margin: 0 0.4em 0.5em 0.4em;box-sizing: border-box;padding-bottom: 0.4em;background-color: white;}#sk-container-id-6 div.sk-label label {font-family: monospace;font-weight: bold;display: inline-block;line-height: 1.2em;}#sk-container-id-6 div.sk-label-container {text-align: center;}#sk-container-id-6 div.sk-container {/* jupyter's `normalize.less` sets `[hidden] { display: none; }` but bootstrap.min.css set `[hidden] { display: none !important; }` so we also need the `!important` here to be able to override the default hidden behavior on the sphinx rendered scikit-learn.org. See: https://github.com/scikit-learn/scikit-learn/issues/21755 */display: inline-block !important;position: relative;}#sk-container-id-6 div.sk-text-repr-fallback {display: none;}</style><div id=\"sk-container-id-6\" class=\"sk-top-container\"><div class=\"sk-text-repr-fallback\"><pre>LogisticRegression(solver=&#x27;liblinear&#x27;)</pre><b>In a Jupyter environment, please rerun this cell to show the HTML representation or trust the notebook. <br />On GitHub, the HTML representation is unable to render, please try loading this page with nbviewer.org.</b></div><div class=\"sk-container\" hidden><div class=\"sk-item\"><div class=\"sk-estimator sk-toggleable\"><input class=\"sk-toggleable__control sk-hidden--visually\" id=\"sk-estimator-id-6\" type=\"checkbox\" checked><label for=\"sk-estimator-id-6\" class=\"sk-toggleable__label sk-toggleable__label-arrow\">LogisticRegression</label><div class=\"sk-toggleable__content\"><pre>LogisticRegression(solver=&#x27;liblinear&#x27;)</pre></div></div></div></div></div>"
          },
          "metadata": {}
        }
      ]
    },
    {
      "cell_type": "markdown",
      "source": [
        "## Оцінка моделі"
      ],
      "metadata": {
        "id": "eWfMlw6osYZv"
      }
    },
    {
      "cell_type": "code",
      "source": [
        "X_train = train_inputs[numeric_cols + encoded_cols]\n",
        "X_val = val_inputs[numeric_cols + encoded_cols]\n",
        "X_test = test_inputs[numeric_cols + encoded_cols]"
      ],
      "metadata": {
        "execution": {
          "iopub.status.busy": "2024-09-24T10:25:15.941809Z",
          "iopub.execute_input": "2024-09-24T10:25:15.94223Z",
          "iopub.status.idle": "2024-09-24T10:25:16.092076Z",
          "shell.execute_reply.started": "2024-09-24T10:25:15.942191Z",
          "shell.execute_reply": "2024-09-24T10:25:16.090526Z"
        },
        "trusted": true,
        "id": "jUCKPm9csYZv"
      },
      "execution_count": null,
      "outputs": []
    },
    {
      "cell_type": "code",
      "source": [
        "train_preds = model.predict(X_train)"
      ],
      "metadata": {
        "execution": {
          "iopub.status.busy": "2024-09-24T10:25:20.264925Z",
          "iopub.execute_input": "2024-09-24T10:25:20.265372Z",
          "iopub.status.idle": "2024-09-24T10:25:20.328439Z",
          "shell.execute_reply.started": "2024-09-24T10:25:20.265329Z",
          "shell.execute_reply": "2024-09-24T10:25:20.326866Z"
        },
        "trusted": true,
        "id": "DdsyIektsYZv"
      },
      "execution_count": null,
      "outputs": []
    },
    {
      "cell_type": "code",
      "source": [
        "train_preds"
      ],
      "metadata": {
        "execution": {
          "iopub.status.busy": "2024-09-24T10:25:24.594664Z",
          "iopub.execute_input": "2024-09-24T10:25:24.595652Z",
          "iopub.status.idle": "2024-09-24T10:25:24.602321Z",
          "shell.execute_reply.started": "2024-09-24T10:25:24.595603Z",
          "shell.execute_reply": "2024-09-24T10:25:24.601139Z"
        },
        "trusted": true,
        "id": "Hs86rUo3sYZv",
        "outputId": "0ca3bb61-bae4-473f-c2ad-8462642f2e35"
      },
      "execution_count": null,
      "outputs": [
        {
          "execution_count": 67,
          "output_type": "execute_result",
          "data": {
            "text/plain": "array(['No', 'No', 'No', ..., 'No', 'No', 'No'], dtype=object)"
          },
          "metadata": {}
        }
      ]
    },
    {
      "cell_type": "code",
      "source": [
        "pd.Series(train_preds).value_counts(normalize=True)"
      ],
      "metadata": {
        "execution": {
          "iopub.status.busy": "2024-09-24T10:25:33.567495Z",
          "iopub.execute_input": "2024-09-24T10:25:33.568311Z",
          "iopub.status.idle": "2024-09-24T10:25:33.592416Z",
          "shell.execute_reply.started": "2024-09-24T10:25:33.568266Z",
          "shell.execute_reply": "2024-09-24T10:25:33.591289Z"
        },
        "trusted": true,
        "id": "iizyHvNvsYZv",
        "outputId": "fcc55be3-6709-48fd-d0cc-7d4e4a64e551"
      },
      "execution_count": null,
      "outputs": [
        {
          "execution_count": 68,
          "output_type": "execute_result",
          "data": {
            "text/plain": "No     0.84193\nYes    0.15807\nName: proportion, dtype: float64"
          },
          "metadata": {}
        }
      ]
    },
    {
      "cell_type": "code",
      "source": [
        "train_probs = model.predict_proba(X_train)\n",
        "train_probs"
      ],
      "metadata": {
        "execution": {
          "iopub.status.busy": "2024-09-24T10:25:44.546204Z",
          "iopub.execute_input": "2024-09-24T10:25:44.546655Z",
          "iopub.status.idle": "2024-09-24T10:25:44.635727Z",
          "shell.execute_reply.started": "2024-09-24T10:25:44.546612Z",
          "shell.execute_reply": "2024-09-24T10:25:44.634251Z"
        },
        "trusted": true,
        "id": "9lNk5XAzsYZv",
        "outputId": "1764ac3f-446b-4561-88f6-fda6e7bb6eba"
      },
      "execution_count": null,
      "outputs": [
        {
          "execution_count": 69,
          "output_type": "execute_result",
          "data": {
            "text/plain": "array([[0.94464052, 0.05535948],\n       [0.94102303, 0.05897697],\n       [0.96092995, 0.03907005],\n       ...,\n       [0.98755547, 0.01244453],\n       [0.98341869, 0.01658131],\n       [0.8751491 , 0.1248509 ]])"
          },
          "metadata": {}
        }
      ]
    },
    {
      "cell_type": "code",
      "source": [
        "import matplotlib.pyplot as plt"
      ],
      "metadata": {
        "execution": {
          "iopub.status.busy": "2024-09-24T10:26:48.422325Z",
          "iopub.execute_input": "2024-09-24T10:26:48.422791Z",
          "iopub.status.idle": "2024-09-24T10:26:48.428385Z",
          "shell.execute_reply.started": "2024-09-24T10:26:48.422725Z",
          "shell.execute_reply": "2024-09-24T10:26:48.426745Z"
        },
        "trusted": true,
        "id": "WgVr8Y9IsYZw"
      },
      "execution_count": null,
      "outputs": []
    },
    {
      "cell_type": "code",
      "source": [
        "plt.hist(train_probs[:,1]);"
      ],
      "metadata": {
        "execution": {
          "iopub.status.busy": "2024-09-24T10:26:49.897137Z",
          "iopub.execute_input": "2024-09-24T10:26:49.897599Z",
          "iopub.status.idle": "2024-09-24T10:26:50.211952Z",
          "shell.execute_reply.started": "2024-09-24T10:26:49.897556Z",
          "shell.execute_reply": "2024-09-24T10:26:50.210631Z"
        },
        "trusted": true,
        "id": "U0nhpEbnsYZw",
        "outputId": "913d9ae1-5427-4d3f-eb1b-0d46ac36c951"
      },
      "execution_count": null,
      "outputs": [
        {
          "output_type": "display_data",
          "data": {
            "text/plain": "<Figure size 640x480 with 1 Axes>",
            "image/png": "[encoded data removed]"
          },
          "metadata": {}
        }
      ]
    },
    {
      "cell_type": "code",
      "source": [
        "from sklearn.metrics import accuracy_score"
      ],
      "metadata": {
        "execution": {
          "iopub.status.busy": "2024-09-24T10:31:48.824639Z",
          "iopub.execute_input": "2024-09-24T10:31:48.825467Z",
          "iopub.status.idle": "2024-09-24T10:31:48.830887Z",
          "shell.execute_reply.started": "2024-09-24T10:31:48.82542Z",
          "shell.execute_reply": "2024-09-24T10:31:48.829513Z"
        },
        "trusted": true,
        "id": "Uayf3ppwsYZw"
      },
      "execution_count": null,
      "outputs": []
    },
    {
      "cell_type": "code",
      "source": [
        "accuracy_score(train_targets, train_preds)"
      ],
      "metadata": {
        "execution": {
          "iopub.status.busy": "2024-09-24T10:32:07.82047Z",
          "iopub.execute_input": "2024-09-24T10:32:07.820959Z",
          "iopub.status.idle": "2024-09-24T10:32:08.333826Z",
          "shell.execute_reply.started": "2024-09-24T10:32:07.820917Z",
          "shell.execute_reply": "2024-09-24T10:32:08.332267Z"
        },
        "trusted": true,
        "id": "B_l6JgUPsYZw",
        "outputId": "75638d2b-fdd7-4d75-d42d-b9e9575a03df"
      },
      "execution_count": null,
      "outputs": [
        {
          "execution_count": 74,
          "output_type": "execute_result",
          "data": {
            "text/plain": "0.8519920806629383"
          },
          "metadata": {}
        }
      ]
    },
    {
      "cell_type": "code",
      "source": [
        "errors = pd.DataFrame({'target': train_targets, 'prediction': train_preds})\n",
        "errors"
      ],
      "metadata": {
        "execution": {
          "iopub.status.busy": "2024-09-24T10:32:18.261187Z",
          "iopub.execute_input": "2024-09-24T10:32:18.262018Z",
          "iopub.status.idle": "2024-09-24T10:32:18.277075Z",
          "shell.execute_reply.started": "2024-09-24T10:32:18.261966Z",
          "shell.execute_reply": "2024-09-24T10:32:18.275465Z"
        },
        "trusted": true,
        "id": "ANtscouwsYZw",
        "outputId": "abc9dd92-0b22-48b6-8676-fa18717aefca"
      },
      "execution_count": null,
      "outputs": [
        {
          "execution_count": 75,
          "output_type": "execute_result",
          "data": {
            "text/plain": "       target prediction\n0          No         No\n1          No         No\n2          No         No\n3          No         No\n4          No         No\n...       ...        ...\n144548     No         No\n144549     No         No\n144550     No         No\n144551     No         No\n144552     No         No\n\n[97988 rows x 2 columns]",
            "text/html": "<div>\n<style scoped>\n    .dataframe tbody tr th:only-of-type {\n        vertical-align: middle;\n    }\n\n    .dataframe tbody tr th {\n        vertical-align: top;\n    }\n\n    .dataframe thead th {\n        text-align: right;\n    }\n</style>\n<table border=\"1\" class=\"dataframe\">\n  <thead>\n    <tr style=\"text-align: right;\">\n      <th></th>\n      <th>target</th>\n      <th>prediction</th>\n    </tr>\n  </thead>\n  <tbody>\n    <tr>\n      <th>0</th>\n      <td>No</td>\n      <td>No</td>\n    </tr>\n    <tr>\n      <th>1</th>\n      <td>No</td>\n      <td>No</td>\n    </tr>\n    <tr>\n      <th>2</th>\n      <td>No</td>\n      <td>No</td>\n    </tr>\n    <tr>\n      <th>3</th>\n      <td>No</td>\n      <td>No</td>\n    </tr>\n    <tr>\n      <th>4</th>\n      <td>No</td>\n      <td>No</td>\n    </tr>\n    <tr>\n      <th>...</th>\n      <td>...</td>\n      <td>...</td>\n    </tr>\n    <tr>\n      <th>144548</th>\n      <td>No</td>\n      <td>No</td>\n    </tr>\n    <tr>\n      <th>144549</th>\n      <td>No</td>\n      <td>No</td>\n    </tr>\n    <tr>\n      <th>144550</th>\n      <td>No</td>\n      <td>No</td>\n    </tr>\n    <tr>\n      <th>144551</th>\n      <td>No</td>\n      <td>No</td>\n    </tr>\n    <tr>\n      <th>144552</th>\n      <td>No</td>\n      <td>No</td>\n    </tr>\n  </tbody>\n</table>\n<p>97988 rows × 2 columns</p>\n</div>"
          },
          "metadata": {}
        }
      ]
    },
    {
      "cell_type": "code",
      "source": [
        "from sklearn.metrics import confusion_matrix"
      ],
      "metadata": {
        "execution": {
          "iopub.status.busy": "2024-09-24T10:32:37.727815Z",
          "iopub.execute_input": "2024-09-24T10:32:37.728256Z",
          "iopub.status.idle": "2024-09-24T10:32:37.733481Z",
          "shell.execute_reply.started": "2024-09-24T10:32:37.728214Z",
          "shell.execute_reply": "2024-09-24T10:32:37.73234Z"
        },
        "trusted": true,
        "id": "irQgSzcrsYZw"
      },
      "execution_count": null,
      "outputs": []
    },
    {
      "cell_type": "code",
      "source": [
        "confusion_matrix(train_targets, train_preds)"
      ],
      "metadata": {
        "execution": {
          "iopub.status.busy": "2024-09-24T10:32:40.327613Z",
          "iopub.execute_input": "2024-09-24T10:32:40.328081Z",
          "iopub.status.idle": "2024-09-24T10:32:41.306453Z",
          "shell.execute_reply.started": "2024-09-24T10:32:40.328035Z",
          "shell.execute_reply": "2024-09-24T10:32:41.305359Z"
        },
        "trusted": true,
        "id": "V1yrEZxOsYZw",
        "outputId": "a5d5337f-c2a0-4c95-88fa-5acd4d97a476"
      },
      "execution_count": null,
      "outputs": [
        {
          "execution_count": 77,
          "output_type": "execute_result",
          "data": {
            "text/plain": "array([[72093,  4097],\n       [10406, 11392]])"
          },
          "metadata": {}
        }
      ]
    },
    {
      "cell_type": "markdown",
      "source": [
        "Давайте визначимо допоміжну функцію для генерації прогнозів, обчислення точності та побудови матриці плутанини для заданого набору вхідних даних."
      ],
      "metadata": {
        "id": "k1WSYLDusYZw"
      }
    },
    {
      "cell_type": "code",
      "source": [
        "import seaborn as sns"
      ],
      "metadata": {
        "execution": {
          "iopub.status.busy": "2024-09-24T10:33:57.102218Z",
          "iopub.execute_input": "2024-09-24T10:33:57.102664Z",
          "iopub.status.idle": "2024-09-24T10:33:57.495994Z",
          "shell.execute_reply.started": "2024-09-24T10:33:57.102623Z",
          "shell.execute_reply": "2024-09-24T10:33:57.494891Z"
        },
        "trusted": true,
        "id": "UWl8kKx0sYZw"
      },
      "execution_count": null,
      "outputs": []
    },
    {
      "cell_type": "code",
      "source": [
        "def predict_and_plot(inputs, targets, name=''):\n",
        "    preds = model.predict(inputs)\n",
        "\n",
        "    accuracy = accuracy_score(targets, preds)\n",
        "    print(\"Accuracy: {:.2f}%\".format(accuracy * 100))\n",
        "\n",
        "    cf = confusion_matrix(targets, preds, normalize='true')\n",
        "    plt.figure()\n",
        "    sns.heatmap(cf, annot=True)\n",
        "    plt.xlabel('Prediction')\n",
        "    plt.ylabel('Target')\n",
        "    plt.title('{} Confusion Matrix'.format(name));\n",
        "\n",
        "    return preds"
      ],
      "metadata": {
        "execution": {
          "iopub.status.busy": "2024-09-24T10:33:06.120237Z",
          "iopub.execute_input": "2024-09-24T10:33:06.120661Z",
          "iopub.status.idle": "2024-09-24T10:33:06.128643Z",
          "shell.execute_reply.started": "2024-09-24T10:33:06.12062Z",
          "shell.execute_reply": "2024-09-24T10:33:06.127203Z"
        },
        "trusted": true,
        "id": "fbipO2Z1sYZw"
      },
      "execution_count": null,
      "outputs": []
    },
    {
      "cell_type": "markdown",
      "source": [
        "Точність моделі на тренувальному наборі"
      ],
      "metadata": {
        "id": "RqvhOMNAsYZx"
      }
    },
    {
      "cell_type": "code",
      "source": [
        "train_preds = predict_and_plot(X_train, train_targets, 'Training')"
      ],
      "metadata": {
        "execution": {
          "iopub.status.busy": "2024-09-24T10:34:00.266593Z",
          "iopub.execute_input": "2024-09-24T10:34:00.267326Z",
          "iopub.status.idle": "2024-09-24T10:34:02.199843Z",
          "shell.execute_reply.started": "2024-09-24T10:34:00.267272Z",
          "shell.execute_reply": "2024-09-24T10:34:02.198587Z"
        },
        "trusted": true,
        "id": "fPT8B5Q4sYZx",
        "outputId": "8fe78186-6095-4160-cd9e-f99947364180"
      },
      "execution_count": null,
      "outputs": [
        {
          "name": "stdout",
          "text": "Accuracy: 85.20%\n",
          "output_type": "stream"
        },
        {
          "output_type": "display_data",
          "data": {
            "text/plain": "<Figure size 640x480 with 2 Axes>",
            "image/png": "[encoded data removed]"
          },
          "metadata": {}
        }
      ]
    },
    {
      "cell_type": "markdown",
      "source": [
        "Точність моделі на валідаційному наборі"
      ],
      "metadata": {
        "id": "SbzXaoJlsYZx"
      }
    },
    {
      "cell_type": "code",
      "source": [
        "val_preds = predict_and_plot(X_val, val_targets, 'Validation')"
      ],
      "metadata": {
        "execution": {
          "iopub.status.busy": "2024-09-24T10:35:11.651113Z",
          "iopub.execute_input": "2024-09-24T10:35:11.65157Z",
          "iopub.status.idle": "2024-09-24T10:35:12.29088Z",
          "shell.execute_reply.started": "2024-09-24T10:35:11.651526Z",
          "shell.execute_reply": "2024-09-24T10:35:12.289495Z"
        },
        "trusted": true,
        "id": "3D_34AassYZx",
        "outputId": "889509f0-3f51-4e69-84e3-f4b82f1516d0"
      },
      "execution_count": null,
      "outputs": [
        {
          "name": "stdout",
          "text": "Accuracy: 85.39%\n",
          "output_type": "stream"
        },
        {
          "output_type": "display_data",
          "data": {
            "text/plain": "<Figure size 640x480 with 2 Axes>",
            "image/png": "[encoded data removed]"
          },
          "metadata": {}
        }
      ]
    },
    {
      "cell_type": "markdown",
      "source": [
        "Й точність на тестовому наборі"
      ],
      "metadata": {
        "id": "531JMG_GsYZx"
      }
    },
    {
      "cell_type": "code",
      "source": [
        "test_preds = predict_and_plot(X_test, test_targets, 'Test')"
      ],
      "metadata": {
        "execution": {
          "iopub.status.busy": "2024-09-24T10:35:22.813297Z",
          "iopub.execute_input": "2024-09-24T10:35:22.814642Z",
          "iopub.status.idle": "2024-09-24T10:35:23.769171Z",
          "shell.execute_reply.started": "2024-09-24T10:35:22.814569Z",
          "shell.execute_reply": "2024-09-24T10:35:23.767942Z"
        },
        "trusted": true,
        "id": "ef5DXzT6sYZx",
        "outputId": "99a29c47-c9e8-4c37-ee36-4e464c6b39b3"
      },
      "execution_count": null,
      "outputs": [
        {
          "name": "stdout",
          "text": "Accuracy: 84.22%\n",
          "output_type": "stream"
        },
        {
          "output_type": "display_data",
          "data": {
            "text/plain": "<Figure size 640x480 with 2 Axes>",
            "image/png": "[encoded data removed]"
          },
          "metadata": {}
        }
      ]
    },
    {
      "cell_type": "markdown",
      "source": [
        "Побудуємо ще додатково classification_report"
      ],
      "metadata": {
        "id": "v_NuewFcsYZx"
      }
    },
    {
      "cell_type": "code",
      "source": [
        "from sklearn.metrics import classification_report\n",
        "\n",
        "# Передбачення на тестовому наборі\n",
        "test_preds = model.predict(X_test)\n",
        "\n",
        "# Виведення звіту за метриками Precision, Recall, F1-score\n",
        "print(classification_report(test_targets, test_preds))"
      ],
      "metadata": {
        "execution": {
          "iopub.status.busy": "2024-09-24T10:58:18.22936Z",
          "iopub.execute_input": "2024-09-24T10:58:18.229931Z",
          "iopub.status.idle": "2024-09-24T10:58:20.425702Z",
          "shell.execute_reply.started": "2024-09-24T10:58:18.229884Z",
          "shell.execute_reply": "2024-09-24T10:58:20.424571Z"
        },
        "trusted": true,
        "id": "6XsA39-bsYZx",
        "outputId": "98450abf-3844-4f34-fd40-bf3100d8b735"
      },
      "execution_count": null,
      "outputs": [
        {
          "name": "stdout",
          "text": "              precision    recall  f1-score   support\n\n          No       0.86      0.95      0.90     19885\n         Yes       0.73      0.48      0.58      5825\n\n    accuracy                           0.84     25710\n   macro avg       0.80      0.72      0.74     25710\nweighted avg       0.83      0.84      0.83     25710\n\n",
          "output_type": "stream"
        }
      ]
    },
    {
      "cell_type": "markdown",
      "source": [
        "## Висновок. Модель класифікації показала досить високу точність — 84.22%.\n",
        "Це свідчить про те, що модель успішно передбачає відсутність дощу у більшості випадків.\n",
        "\n",
        "Однак, спостерігається різниця в ефективності класифікації між класами: модель значно краще передбачає клас \"No\" (немає дощу), ніж клас \"Yes\" (буде дощ). Така нерівномірність, ймовірно, пов'язана з дисбалансом класів у вибірці."
      ],
      "metadata": {
        "id": "j5UXn0C9sYZx"
      }
    }
  ]
}